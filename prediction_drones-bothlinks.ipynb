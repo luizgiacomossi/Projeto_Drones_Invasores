{
 "cells": [
  {
   "cell_type": "markdown",
   "metadata": {
    "colab_type": "text",
    "id": "Yx-VxT_wzXi6"
   },
   "source": [
    "# Comitês"
   ]
  },
  {
   "cell_type": "code",
   "execution_count": 47,
   "metadata": {
    "colab": {},
    "colab_type": "code",
    "executionInfo": {
     "elapsed": 931,
     "status": "ok",
     "timestamp": 1596135531624,
     "user": {
      "displayName": "Filipe Alves Neto Verri",
      "photoUrl": "https://lh3.googleusercontent.com/a-/AOh14GiV7MMHmrkaugHXPDugQgeGecRd4s4T4ngvv5_A=s64",
      "userId": "07219587087217491568"
     },
     "user_tz": 180
    },
    "id": "F2Jj5yQMzeoB"
   },
   "outputs": [],
   "source": [
    "from sklearn.neighbors import KNeighborsClassifier\n",
    "from sklearn.tree import DecisionTreeClassifier\n",
    "from sklearn.naive_bayes import GaussianNB\n",
    "from sklearn.svm import SVC\n",
    "seed = 17\n",
    "from sklearn.pipeline import Pipeline\n",
    "\n",
    "from sklearn.impute import SimpleImputer\n",
    "from sklearn.preprocessing import MinMaxScaler, StandardScaler\n",
    "from sklearn.feature_selection import VarianceThreshold, SelectKBest\n",
    "from sklearn.decomposition import PCA\n",
    "\n",
    "from sklearn.model_selection import GridSearchCV, StratifiedKFold\n",
    "from sklearn.metrics import accuracy_score, precision_score, recall_score, f1_score\n",
    "from sklearn.metrics import make_scorer, precision_score"
   ]
  },
  {
   "cell_type": "code",
   "execution_count": 2,
   "metadata": {
    "colab": {},
    "colab_type": "code",
    "executionInfo": {
     "elapsed": 1673,
     "status": "ok",
     "timestamp": 1596135305774,
     "user": {
      "displayName": "Filipe Alves Neto Verri",
      "photoUrl": "https://lh3.googleusercontent.com/a-/AOh14GiV7MMHmrkaugHXPDugQgeGecRd4s4T4ngvv5_A=s64",
      "userId": "07219587087217491568"
     },
     "user_tz": 180
    },
    "id": "XOr-9WVsYEhE"
   },
   "outputs": [],
   "source": [
    "import numpy as np # Numpy: biblioteca para manipular vetores e matrizes\n",
    "import pandas as pd # Pandas: biblioteca para manipular tabelas\n",
    "import scipy.stats as ss\n",
    "from sklearn.metrics import confusion_matrix"
   ]
  },
  {
   "cell_type": "code",
   "execution_count": 21,
   "metadata": {},
   "outputs": [],
   "source": [
    "lista_both = [ 'uplink_size_mean',\n",
    "'uplink_size_median',\n",
    "'uplink_size_MAD',\n",
    "'uplink_size_STD',\n",
    "'uplink_size_Skewness',\n",
    "'uplink_size_Kurtosis',\n",
    "'uplink_size_MAX',\n",
    "'uplink_size_MIN',\n",
    "'uplink_size_MeanSquare',\n",
    "'downlink_size_mean',\n",
    "'downlink_size_median',\n",
    "'downlink_size_MAD',\n",
    "'downlink_size_STD',\n",
    "'downlink_size_Skewness',\n",
    "'downlink_size_Kurtosis',\n",
    "'downlink_size_MAX',\n",
    "'downlink_size_MIN',\n",
    "'downlink_size_MeanSquare',\n",
    "'both_links_size_mean',\n",
    "'both_links_size_median',\n",
    "'both_links_size_MAD',\n",
    "'both_links_size_STD',\n",
    "'both_links_size_Skewness',\n",
    "'both_links_size_Kurtosis',\n",
    "'both_links_size_MAX',\n",
    "'both_links_size_MIN',\n",
    "'both_links_size_MeanSquare',\n",
    "'uplink_interval_mean',\n",
    "'uplink_interval_median',\n",
    "'uplink_interval_MAD',\n",
    "'uplink_interval_STD',\n",
    "'uplink_interval_Skewness',\n",
    "'uplink_interval_Kurtosis',\n",
    "'uplink_interval_MAX',\n",
    "'uplink_interval_MIN',\n",
    "'uplink_interval_MeanSquare',\n",
    "'downlink_interval_mean',\n",
    "'downlink_interval_median',\n",
    "'downlink_interval_MAD',\n",
    "'downlink_interval_STD',\n",
    "'downlink_interval_Skewness',\n",
    "'downlink_interval_Kurtosis',\n",
    "'downlink_interval_MAX',\n",
    "'downlink_interval_MIN',\n",
    "'downlink_interval_MeanSquare',\n",
    "'both_links_interval_mean',\n",
    "'both_links_interval_median',\n",
    "'both_links_interval_MAD',\n",
    "'both_links_interval_STD',\n",
    "'both_links_interval_Skewness',\n",
    "'both_links_interval_Kurtosis',\n",
    "'both_links_interval_MAX',\n",
    "'both_links_interval_MIN',\n",
    "'both_links_interval_MeanSquare',\n",
    "'classe']"
   ]
  },
  {
   "cell_type": "markdown",
   "metadata": {},
   "source": [
    "#### Carregando dataset UPLINK"
   ]
  },
  {
   "cell_type": "code",
   "execution_count": 22,
   "metadata": {},
   "outputs": [
    {
     "name": "stdout",
     "output_type": "stream",
     "text": [
      "Tamanho df 1:  (19379, 55)\n",
      "Tamanho df 2:  (17255, 55)\n",
      "Tamanho df 3:  (5499, 55)\n"
     ]
    }
   ],
   "source": [
    "#lista_up = ['V1_size','V2_size','V3_size','V4_size','V5_size','V6_size','V7_size','V8_size','V9_size','V1_interval','V2_interval','V3_interval','V4_interval','V5_interval','V6_interval','V7_interval','V8_interval','V9_interval','classe']\n",
    "\n",
    "#for i in range(1,56):\n",
    "    #if i < 55:\n",
    "        #lista_both.append(f'V{i}')\n",
    "    #else:\n",
    "        #lista_both.append('label')\n",
    "#lista_both\n",
    "\n",
    "test = []\n",
    "train = []\n",
    "frame_both_links = []\n",
    "\n",
    "for i in range(1,4):\n",
    "    test.append(pd.read_excel(f'./dataset_para_predicao/pub_dataset{i}.xls',names=lista_both))\n",
    "    print(f\"Tamanho df {i}: \",test[-1].shape)\n",
    "\n",
    "frames = test\n",
    "df_train1 = pd.concat(frames)"
   ]
  },
  {
   "cell_type": "code",
   "execution_count": 23,
   "metadata": {
    "colab": {
     "base_uri": "https://localhost:8080/",
     "height": 34
    },
    "colab_type": "code",
    "executionInfo": {
     "elapsed": 4012,
     "status": "ok",
     "timestamp": 1596135309611,
     "user": {
      "displayName": "Filipe Alves Neto Verri",
      "photoUrl": "https://lh3.googleusercontent.com/a-/AOh14GiV7MMHmrkaugHXPDugQgeGecRd4s4T4ngvv5_A=s64",
      "userId": "07219587087217491568"
     },
     "user_tz": 180
    },
    "id": "16GH5n9j1T59",
    "outputId": "b9835c3e-4edb-467b-a6cd-3e76d2a08dbc"
   },
   "outputs": [
    {
     "name": "stdout",
     "output_type": "stream",
     "text": [
      "(42133, 55)\n"
     ]
    }
   ],
   "source": [
    "print(df_train1.shape)\n"
   ]
  },
  {
   "cell_type": "code",
   "execution_count": 24,
   "metadata": {},
   "outputs": [
    {
     "data": {
      "text/html": [
       "<div>\n",
       "<style scoped>\n",
       "    .dataframe tbody tr th:only-of-type {\n",
       "        vertical-align: middle;\n",
       "    }\n",
       "\n",
       "    .dataframe tbody tr th {\n",
       "        vertical-align: top;\n",
       "    }\n",
       "\n",
       "    .dataframe thead th {\n",
       "        text-align: right;\n",
       "    }\n",
       "</style>\n",
       "<table border=\"1\" class=\"dataframe\">\n",
       "  <thead>\n",
       "    <tr style=\"text-align: right;\">\n",
       "      <th></th>\n",
       "      <th>uplink_size_mean</th>\n",
       "      <th>uplink_size_median</th>\n",
       "      <th>uplink_size_MAD</th>\n",
       "      <th>uplink_size_STD</th>\n",
       "      <th>uplink_size_Skewness</th>\n",
       "      <th>uplink_size_Kurtosis</th>\n",
       "      <th>uplink_size_MAX</th>\n",
       "      <th>uplink_size_MIN</th>\n",
       "      <th>uplink_size_MeanSquare</th>\n",
       "      <th>downlink_size_mean</th>\n",
       "      <th>...</th>\n",
       "      <th>both_links_interval_mean</th>\n",
       "      <th>both_links_interval_median</th>\n",
       "      <th>both_links_interval_MAD</th>\n",
       "      <th>both_links_interval_STD</th>\n",
       "      <th>both_links_interval_Skewness</th>\n",
       "      <th>both_links_interval_Kurtosis</th>\n",
       "      <th>both_links_interval_MAX</th>\n",
       "      <th>both_links_interval_MIN</th>\n",
       "      <th>both_links_interval_MeanSquare</th>\n",
       "      <th>classe</th>\n",
       "    </tr>\n",
       "  </thead>\n",
       "  <tbody>\n",
       "    <tr>\n",
       "      <th>15972</th>\n",
       "      <td>17.149551</td>\n",
       "      <td>77.465216</td>\n",
       "      <td>0.001044</td>\n",
       "      <td>0.001294</td>\n",
       "      <td>4.097705</td>\n",
       "      <td>15.153765</td>\n",
       "      <td>359.962624</td>\n",
       "      <td>0.000128</td>\n",
       "      <td>78.435254</td>\n",
       "      <td>257.761905</td>\n",
       "      <td>...</td>\n",
       "      <td>266.18</td>\n",
       "      <td>61.984257</td>\n",
       "      <td>240.0</td>\n",
       "      <td>17.7912</td>\n",
       "      <td>2.670707</td>\n",
       "      <td>8.856985</td>\n",
       "      <td>579</td>\n",
       "      <td>204</td>\n",
       "      <td>273.231440</td>\n",
       "      <td>0</td>\n",
       "    </tr>\n",
       "    <tr>\n",
       "      <th>1825</th>\n",
       "      <td>0.006874</td>\n",
       "      <td>0.009000</td>\n",
       "      <td>0.002253</td>\n",
       "      <td>0.002789</td>\n",
       "      <td>1.227617</td>\n",
       "      <td>-0.009703</td>\n",
       "      <td>0.027504</td>\n",
       "      <td>0.000016</td>\n",
       "      <td>0.011205</td>\n",
       "      <td>96.100000</td>\n",
       "      <td>...</td>\n",
       "      <td>632.15</td>\n",
       "      <td>517.972005</td>\n",
       "      <td>1130.0</td>\n",
       "      <td>11.1195</td>\n",
       "      <td>-0.080854</td>\n",
       "      <td>-2.001854</td>\n",
       "      <td>1145</td>\n",
       "      <td>70</td>\n",
       "      <td>815.613677</td>\n",
       "      <td>1</td>\n",
       "    </tr>\n",
       "    <tr>\n",
       "      <th>8253</th>\n",
       "      <td>0.002916</td>\n",
       "      <td>0.005768</td>\n",
       "      <td>0.000900</td>\n",
       "      <td>0.000949</td>\n",
       "      <td>2.725043</td>\n",
       "      <td>6.501892</td>\n",
       "      <td>0.025344</td>\n",
       "      <td>0.000002</td>\n",
       "      <td>0.006380</td>\n",
       "      <td>98.225806</td>\n",
       "      <td>...</td>\n",
       "      <td>463.18</td>\n",
       "      <td>412.868296</td>\n",
       "      <td>147.0</td>\n",
       "      <td>105.2646</td>\n",
       "      <td>0.406192</td>\n",
       "      <td>-1.401333</td>\n",
       "      <td>1543</td>\n",
       "      <td>76</td>\n",
       "      <td>619.105274</td>\n",
       "      <td>1</td>\n",
       "    </tr>\n",
       "    <tr>\n",
       "      <th>575</th>\n",
       "      <td>0.004247</td>\n",
       "      <td>0.005648</td>\n",
       "      <td>0.002648</td>\n",
       "      <td>0.001106</td>\n",
       "      <td>2.401645</td>\n",
       "      <td>5.223501</td>\n",
       "      <td>0.026699</td>\n",
       "      <td>0.000258</td>\n",
       "      <td>0.007015</td>\n",
       "      <td>119.795455</td>\n",
       "      <td>...</td>\n",
       "      <td>527.91</td>\n",
       "      <td>498.440398</td>\n",
       "      <td>138.0</td>\n",
       "      <td>100.8168</td>\n",
       "      <td>0.367329</td>\n",
       "      <td>-1.863440</td>\n",
       "      <td>1130</td>\n",
       "      <td>70</td>\n",
       "      <td>724.325459</td>\n",
       "      <td>1</td>\n",
       "    </tr>\n",
       "    <tr>\n",
       "      <th>16948</th>\n",
       "      <td>0.055017</td>\n",
       "      <td>0.172367</td>\n",
       "      <td>0.005150</td>\n",
       "      <td>0.003971</td>\n",
       "      <td>3.626270</td>\n",
       "      <td>11.974496</td>\n",
       "      <td>0.811189</td>\n",
       "      <td>0.000236</td>\n",
       "      <td>0.178639</td>\n",
       "      <td>311.055556</td>\n",
       "      <td>...</td>\n",
       "      <td>1117.60</td>\n",
       "      <td>686.458883</td>\n",
       "      <td>1676.0</td>\n",
       "      <td>0.0000</td>\n",
       "      <td>-0.468804</td>\n",
       "      <td>-1.728987</td>\n",
       "      <td>1676</td>\n",
       "      <td>216</td>\n",
       "      <td>1309.787502</td>\n",
       "      <td>0</td>\n",
       "    </tr>\n",
       "    <tr>\n",
       "      <th>...</th>\n",
       "      <td>...</td>\n",
       "      <td>...</td>\n",
       "      <td>...</td>\n",
       "      <td>...</td>\n",
       "      <td>...</td>\n",
       "      <td>...</td>\n",
       "      <td>...</td>\n",
       "      <td>...</td>\n",
       "      <td>...</td>\n",
       "      <td>...</td>\n",
       "      <td>...</td>\n",
       "      <td>...</td>\n",
       "      <td>...</td>\n",
       "      <td>...</td>\n",
       "      <td>...</td>\n",
       "      <td>...</td>\n",
       "      <td>...</td>\n",
       "      <td>...</td>\n",
       "      <td>...</td>\n",
       "      <td>...</td>\n",
       "      <td>...</td>\n",
       "    </tr>\n",
       "    <tr>\n",
       "      <th>11665</th>\n",
       "      <td>0.016513</td>\n",
       "      <td>0.014591</td>\n",
       "      <td>0.014973</td>\n",
       "      <td>0.017683</td>\n",
       "      <td>0.551439</td>\n",
       "      <td>-0.788706</td>\n",
       "      <td>0.051614</td>\n",
       "      <td>0.000136</td>\n",
       "      <td>0.021935</td>\n",
       "      <td>845.020833</td>\n",
       "      <td>...</td>\n",
       "      <td>658.10</td>\n",
       "      <td>560.969426</td>\n",
       "      <td>259.5</td>\n",
       "      <td>64.4931</td>\n",
       "      <td>0.665996</td>\n",
       "      <td>-1.471964</td>\n",
       "      <td>1476</td>\n",
       "      <td>216</td>\n",
       "      <td>862.922615</td>\n",
       "      <td>0</td>\n",
       "    </tr>\n",
       "    <tr>\n",
       "      <th>6252</th>\n",
       "      <td>0.010899</td>\n",
       "      <td>0.012250</td>\n",
       "      <td>0.006271</td>\n",
       "      <td>0.008325</td>\n",
       "      <td>0.649439</td>\n",
       "      <td>1.630187</td>\n",
       "      <td>0.030886</td>\n",
       "      <td>0.000169</td>\n",
       "      <td>0.016140</td>\n",
       "      <td>119.111111</td>\n",
       "      <td>...</td>\n",
       "      <td>818.30</td>\n",
       "      <td>693.039762</td>\n",
       "      <td>1362.0</td>\n",
       "      <td>284.6592</td>\n",
       "      <td>-0.075125</td>\n",
       "      <td>1.043290</td>\n",
       "      <td>1554</td>\n",
       "      <td>76</td>\n",
       "      <td>1070.100911</td>\n",
       "      <td>1</td>\n",
       "    </tr>\n",
       "    <tr>\n",
       "      <th>13795</th>\n",
       "      <td>0.003386</td>\n",
       "      <td>0.004579</td>\n",
       "      <td>0.001621</td>\n",
       "      <td>0.002124</td>\n",
       "      <td>1.730244</td>\n",
       "      <td>1.996058</td>\n",
       "      <td>0.017137</td>\n",
       "      <td>0.000116</td>\n",
       "      <td>0.005649</td>\n",
       "      <td>285.150000</td>\n",
       "      <td>...</td>\n",
       "      <td>946.97</td>\n",
       "      <td>668.349400</td>\n",
       "      <td>694.0</td>\n",
       "      <td>708.6828</td>\n",
       "      <td>0.052481</td>\n",
       "      <td>-1.870799</td>\n",
       "      <td>1676</td>\n",
       "      <td>216</td>\n",
       "      <td>1157.141000</td>\n",
       "      <td>0</td>\n",
       "    </tr>\n",
       "    <tr>\n",
       "      <th>15580</th>\n",
       "      <td>0.993841</td>\n",
       "      <td>3.266904</td>\n",
       "      <td>0.001198</td>\n",
       "      <td>0.001681</td>\n",
       "      <td>3.278982</td>\n",
       "      <td>9.743158</td>\n",
       "      <td>14.906540</td>\n",
       "      <td>0.000128</td>\n",
       "      <td>3.380587</td>\n",
       "      <td>554.478300</td>\n",
       "      <td>...</td>\n",
       "      <td>407.49</td>\n",
       "      <td>415.402900</td>\n",
       "      <td>228.0</td>\n",
       "      <td>17.7912</td>\n",
       "      <td>2.365091</td>\n",
       "      <td>4.044317</td>\n",
       "      <td>1676</td>\n",
       "      <td>216</td>\n",
       "      <td>580.415400</td>\n",
       "      <td>0</td>\n",
       "    </tr>\n",
       "    <tr>\n",
       "      <th>10863</th>\n",
       "      <td>0.002305</td>\n",
       "      <td>0.003106</td>\n",
       "      <td>0.001011</td>\n",
       "      <td>0.000937</td>\n",
       "      <td>2.497774</td>\n",
       "      <td>6.698325</td>\n",
       "      <td>0.014751</td>\n",
       "      <td>0.000016</td>\n",
       "      <td>0.003823</td>\n",
       "      <td>100.000000</td>\n",
       "      <td>...</td>\n",
       "      <td>427.01</td>\n",
       "      <td>394.934172</td>\n",
       "      <td>150.5</td>\n",
       "      <td>110.4537</td>\n",
       "      <td>0.480185</td>\n",
       "      <td>-1.545689</td>\n",
       "      <td>1110</td>\n",
       "      <td>76</td>\n",
       "      <td>580.302344</td>\n",
       "      <td>1</td>\n",
       "    </tr>\n",
       "  </tbody>\n",
       "</table>\n",
       "<p>42133 rows × 55 columns</p>\n",
       "</div>"
      ],
      "text/plain": [
       "       uplink_size_mean  uplink_size_median  uplink_size_MAD  uplink_size_STD  \\\n",
       "15972         17.149551           77.465216         0.001044         0.001294   \n",
       "1825           0.006874            0.009000         0.002253         0.002789   \n",
       "8253           0.002916            0.005768         0.000900         0.000949   \n",
       "575            0.004247            0.005648         0.002648         0.001106   \n",
       "16948          0.055017            0.172367         0.005150         0.003971   \n",
       "...                 ...                 ...              ...              ...   \n",
       "11665          0.016513            0.014591         0.014973         0.017683   \n",
       "6252           0.010899            0.012250         0.006271         0.008325   \n",
       "13795          0.003386            0.004579         0.001621         0.002124   \n",
       "15580          0.993841            3.266904         0.001198         0.001681   \n",
       "10863          0.002305            0.003106         0.001011         0.000937   \n",
       "\n",
       "       uplink_size_Skewness  uplink_size_Kurtosis  uplink_size_MAX  \\\n",
       "15972              4.097705             15.153765       359.962624   \n",
       "1825               1.227617             -0.009703         0.027504   \n",
       "8253               2.725043              6.501892         0.025344   \n",
       "575                2.401645              5.223501         0.026699   \n",
       "16948              3.626270             11.974496         0.811189   \n",
       "...                     ...                   ...              ...   \n",
       "11665              0.551439             -0.788706         0.051614   \n",
       "6252               0.649439              1.630187         0.030886   \n",
       "13795              1.730244              1.996058         0.017137   \n",
       "15580              3.278982              9.743158        14.906540   \n",
       "10863              2.497774              6.698325         0.014751   \n",
       "\n",
       "       uplink_size_MIN  uplink_size_MeanSquare  downlink_size_mean  ...  \\\n",
       "15972         0.000128               78.435254          257.761905  ...   \n",
       "1825          0.000016                0.011205           96.100000  ...   \n",
       "8253          0.000002                0.006380           98.225806  ...   \n",
       "575           0.000258                0.007015          119.795455  ...   \n",
       "16948         0.000236                0.178639          311.055556  ...   \n",
       "...                ...                     ...                 ...  ...   \n",
       "11665         0.000136                0.021935          845.020833  ...   \n",
       "6252          0.000169                0.016140          119.111111  ...   \n",
       "13795         0.000116                0.005649          285.150000  ...   \n",
       "15580         0.000128                3.380587          554.478300  ...   \n",
       "10863         0.000016                0.003823          100.000000  ...   \n",
       "\n",
       "       both_links_interval_mean  both_links_interval_median  \\\n",
       "15972                    266.18                   61.984257   \n",
       "1825                     632.15                  517.972005   \n",
       "8253                     463.18                  412.868296   \n",
       "575                      527.91                  498.440398   \n",
       "16948                   1117.60                  686.458883   \n",
       "...                         ...                         ...   \n",
       "11665                    658.10                  560.969426   \n",
       "6252                     818.30                  693.039762   \n",
       "13795                    946.97                  668.349400   \n",
       "15580                    407.49                  415.402900   \n",
       "10863                    427.01                  394.934172   \n",
       "\n",
       "       both_links_interval_MAD  both_links_interval_STD  \\\n",
       "15972                    240.0                  17.7912   \n",
       "1825                    1130.0                  11.1195   \n",
       "8253                     147.0                 105.2646   \n",
       "575                      138.0                 100.8168   \n",
       "16948                   1676.0                   0.0000   \n",
       "...                        ...                      ...   \n",
       "11665                    259.5                  64.4931   \n",
       "6252                    1362.0                 284.6592   \n",
       "13795                    694.0                 708.6828   \n",
       "15580                    228.0                  17.7912   \n",
       "10863                    150.5                 110.4537   \n",
       "\n",
       "       both_links_interval_Skewness  both_links_interval_Kurtosis  \\\n",
       "15972                      2.670707                      8.856985   \n",
       "1825                      -0.080854                     -2.001854   \n",
       "8253                       0.406192                     -1.401333   \n",
       "575                        0.367329                     -1.863440   \n",
       "16948                     -0.468804                     -1.728987   \n",
       "...                             ...                           ...   \n",
       "11665                      0.665996                     -1.471964   \n",
       "6252                      -0.075125                      1.043290   \n",
       "13795                      0.052481                     -1.870799   \n",
       "15580                      2.365091                      4.044317   \n",
       "10863                      0.480185                     -1.545689   \n",
       "\n",
       "       both_links_interval_MAX  both_links_interval_MIN  \\\n",
       "15972                      579                      204   \n",
       "1825                      1145                       70   \n",
       "8253                      1543                       76   \n",
       "575                       1130                       70   \n",
       "16948                     1676                      216   \n",
       "...                        ...                      ...   \n",
       "11665                     1476                      216   \n",
       "6252                      1554                       76   \n",
       "13795                     1676                      216   \n",
       "15580                     1676                      216   \n",
       "10863                     1110                       76   \n",
       "\n",
       "       both_links_interval_MeanSquare  classe  \n",
       "15972                      273.231440       0  \n",
       "1825                       815.613677       1  \n",
       "8253                       619.105274       1  \n",
       "575                        724.325459       1  \n",
       "16948                     1309.787502       0  \n",
       "...                               ...     ...  \n",
       "11665                      862.922615       0  \n",
       "6252                      1070.100911       1  \n",
       "13795                     1157.141000       0  \n",
       "15580                      580.415400       0  \n",
       "10863                      580.302344       1  \n",
       "\n",
       "[42133 rows x 55 columns]"
      ]
     },
     "execution_count": 24,
     "metadata": {},
     "output_type": "execute_result"
    }
   ],
   "source": [
    "from sklearn.utils import shuffle\n",
    "\n",
    "df_train1 = shuffle(df_train1, random_state=17)\n",
    "df_train1"
   ]
  },
  {
   "cell_type": "code",
   "execution_count": 30,
   "metadata": {},
   "outputs": [
    {
     "data": {
      "text/plain": [
       "1    0.525\n",
       "0    0.475\n",
       "Name: classe, dtype: float64"
      ]
     },
     "execution_count": 30,
     "metadata": {},
     "output_type": "execute_result"
    }
   ],
   "source": [
    "import seaborn as sns\n",
    "df_train1.classe.value_counts(normalize=True).round(3)"
   ]
  },
  {
   "cell_type": "code",
   "execution_count": null,
   "metadata": {},
   "outputs": [],
   "source": []
  },
  {
   "cell_type": "code",
   "execution_count": 31,
   "metadata": {},
   "outputs": [],
   "source": [
    "df_train_noduplicates = df_train1.drop_duplicates()\n"
   ]
  },
  {
   "cell_type": "code",
   "execution_count": 37,
   "metadata": {},
   "outputs": [
    {
     "name": "stdout",
     "output_type": "stream",
     "text": [
      "Resultante com duplicados (42133, 55)\n",
      "Resultante sem duplicados (38166, 55)\n",
      "Total de valores duplicados: -3967\n"
     ]
    }
   ],
   "source": [
    "print(f'Resultante com duplicados {df_train1.shape}')\n",
    "print(f'Resultante sem duplicados {df_train_noduplicates.shape}')\n",
    "print(f'Total de valores duplicados: {df_train_noduplicates.shape[0]-df_train1.shape[0]}')"
   ]
  },
  {
   "cell_type": "code",
   "execution_count": 38,
   "metadata": {},
   "outputs": [],
   "source": [
    "y= df_train_noduplicates.classe.to_numpy()\n"
   ]
  },
  {
   "cell_type": "code",
   "execution_count": 39,
   "metadata": {},
   "outputs": [
    {
     "name": "stdout",
     "output_type": "stream",
     "text": [
      "Counter({1: 22113, 0: 16053})\n"
     ]
    }
   ],
   "source": [
    "from collections import Counter\n",
    "print(Counter(y))\n",
    "X = df_train_noduplicates"
   ]
  },
  {
   "cell_type": "markdown",
   "metadata": {},
   "source": [
    "### Balanceando"
   ]
  },
  {
   "cell_type": "markdown",
   "metadata": {
    "colab": {
     "base_uri": "https://localhost:8080/",
     "height": 34
    },
    "colab_type": "code",
    "executionInfo": {
     "elapsed": 576,
     "status": "ok",
     "timestamp": 1596135384458,
     "user": {
      "displayName": "Filipe Alves Neto Verri",
      "photoUrl": "https://lh3.googleusercontent.com/a-/AOh14GiV7MMHmrkaugHXPDugQgeGecRd4s4T4ngvv5_A=s64",
      "userId": "07219587087217491568"
     },
     "user_tz": 180
    },
    "id": "mB6fuQG4Wyjr",
    "outputId": "95e3f970-ccae-48cf-ae1c-16d5a5e56eda"
   },
   "source": [
    "### Normalizando por padronização\n",
    "\n"
   ]
  },
  {
   "cell_type": "code",
   "execution_count": 40,
   "metadata": {},
   "outputs": [],
   "source": [
    "from sklearn.preprocessing import MinMaxScaler, StandardScaler\n",
    "scaler = StandardScaler()\n",
    "Xstd = scaler.fit_transform(X)\n",
    "df_balanced_stand = pd.DataFrame(Xstd, columns=X.columns, index=X.index)"
   ]
  },
  {
   "cell_type": "code",
   "execution_count": 41,
   "metadata": {},
   "outputs": [
    {
     "data": {
      "text/html": [
       "<div>\n",
       "<style scoped>\n",
       "    .dataframe tbody tr th:only-of-type {\n",
       "        vertical-align: middle;\n",
       "    }\n",
       "\n",
       "    .dataframe tbody tr th {\n",
       "        vertical-align: top;\n",
       "    }\n",
       "\n",
       "    .dataframe thead th {\n",
       "        text-align: right;\n",
       "    }\n",
       "</style>\n",
       "<table border=\"1\" class=\"dataframe\">\n",
       "  <thead>\n",
       "    <tr style=\"text-align: right;\">\n",
       "      <th></th>\n",
       "      <th>uplink_size_mean</th>\n",
       "      <th>uplink_size_median</th>\n",
       "      <th>uplink_size_MAD</th>\n",
       "      <th>uplink_size_STD</th>\n",
       "      <th>uplink_size_Skewness</th>\n",
       "      <th>uplink_size_Kurtosis</th>\n",
       "      <th>uplink_size_MAX</th>\n",
       "      <th>uplink_size_MIN</th>\n",
       "      <th>uplink_size_MeanSquare</th>\n",
       "      <th>downlink_size_mean</th>\n",
       "      <th>...</th>\n",
       "      <th>both_links_interval_mean</th>\n",
       "      <th>both_links_interval_median</th>\n",
       "      <th>both_links_interval_MAD</th>\n",
       "      <th>both_links_interval_STD</th>\n",
       "      <th>both_links_interval_Skewness</th>\n",
       "      <th>both_links_interval_Kurtosis</th>\n",
       "      <th>both_links_interval_MAX</th>\n",
       "      <th>both_links_interval_MIN</th>\n",
       "      <th>both_links_interval_MeanSquare</th>\n",
       "      <th>classe</th>\n",
       "    </tr>\n",
       "  </thead>\n",
       "  <tbody>\n",
       "    <tr>\n",
       "      <th>15972</th>\n",
       "      <td>0.529206</td>\n",
       "      <td>0.853105</td>\n",
       "      <td>-0.029778</td>\n",
       "      <td>-0.025239</td>\n",
       "      <td>1.362031</td>\n",
       "      <td>0.962418</td>\n",
       "      <td>0.851089</td>\n",
       "      <td>-0.020546</td>\n",
       "      <td>0.848817</td>\n",
       "      <td>-0.017706</td>\n",
       "      <td>...</td>\n",
       "      <td>-1.236977</td>\n",
       "      <td>-2.088362</td>\n",
       "      <td>-0.509309</td>\n",
       "      <td>-0.593701</td>\n",
       "      <td>1.265511</td>\n",
       "      <td>0.813654</td>\n",
       "      <td>-2.062680</td>\n",
       "      <td>0.822200</td>\n",
       "      <td>-1.576186</td>\n",
       "      <td>-1.173669</td>\n",
       "    </tr>\n",
       "    <tr>\n",
       "      <th>1825</th>\n",
       "      <td>-0.053018</td>\n",
       "      <td>-0.066964</td>\n",
       "      <td>-0.029403</td>\n",
       "      <td>-0.024913</td>\n",
       "      <td>-0.613996</td>\n",
       "      <td>-0.760712</td>\n",
       "      <td>-0.070556</td>\n",
       "      <td>-0.020580</td>\n",
       "      <td>-0.066920</td>\n",
       "      <td>-0.608127</td>\n",
       "      <td>...</td>\n",
       "      <td>0.110984</td>\n",
       "      <td>0.196736</td>\n",
       "      <td>1.289402</td>\n",
       "      <td>-0.623662</td>\n",
       "      <td>-0.636260</td>\n",
       "      <td>-0.522690</td>\n",
       "      <td>-0.571676</td>\n",
       "      <td>-0.947337</td>\n",
       "      <td>0.126768</td>\n",
       "      <td>0.852029</td>\n",
       "    </tr>\n",
       "    <tr>\n",
       "      <th>8253</th>\n",
       "      <td>-0.053153</td>\n",
       "      <td>-0.067003</td>\n",
       "      <td>-0.029823</td>\n",
       "      <td>-0.025314</td>\n",
       "      <td>0.416967</td>\n",
       "      <td>-0.020754</td>\n",
       "      <td>-0.070561</td>\n",
       "      <td>-0.020584</td>\n",
       "      <td>-0.066977</td>\n",
       "      <td>-0.600363</td>\n",
       "      <td>...</td>\n",
       "      <td>-0.511376</td>\n",
       "      <td>-0.329972</td>\n",
       "      <td>-0.697264</td>\n",
       "      <td>-0.200870</td>\n",
       "      <td>-0.299633</td>\n",
       "      <td>-0.448787</td>\n",
       "      <td>0.476768</td>\n",
       "      <td>-0.868104</td>\n",
       "      <td>-0.490222</td>\n",
       "      <td>0.852029</td>\n",
       "    </tr>\n",
       "    <tr>\n",
       "      <th>575</th>\n",
       "      <td>-0.053107</td>\n",
       "      <td>-0.067004</td>\n",
       "      <td>-0.029281</td>\n",
       "      <td>-0.025280</td>\n",
       "      <td>0.194311</td>\n",
       "      <td>-0.166027</td>\n",
       "      <td>-0.070558</td>\n",
       "      <td>-0.020507</td>\n",
       "      <td>-0.066969</td>\n",
       "      <td>-0.521586</td>\n",
       "      <td>...</td>\n",
       "      <td>-0.272959</td>\n",
       "      <td>0.098857</td>\n",
       "      <td>-0.715454</td>\n",
       "      <td>-0.220844</td>\n",
       "      <td>-0.326493</td>\n",
       "      <td>-0.505656</td>\n",
       "      <td>-0.611190</td>\n",
       "      <td>-0.947337</td>\n",
       "      <td>-0.159855</td>\n",
       "      <td>0.852029</td>\n",
       "    </tr>\n",
       "    <tr>\n",
       "      <th>16948</th>\n",
       "      <td>-0.051383</td>\n",
       "      <td>-0.065024</td>\n",
       "      <td>-0.028505</td>\n",
       "      <td>-0.024655</td>\n",
       "      <td>1.037452</td>\n",
       "      <td>0.601136</td>\n",
       "      <td>-0.068549</td>\n",
       "      <td>-0.020514</td>\n",
       "      <td>-0.064965</td>\n",
       "      <td>0.176933</td>\n",
       "      <td>...</td>\n",
       "      <td>1.899019</td>\n",
       "      <td>1.041077</td>\n",
       "      <td>2.392880</td>\n",
       "      <td>-0.673599</td>\n",
       "      <td>-0.904396</td>\n",
       "      <td>-0.489109</td>\n",
       "      <td>0.827128</td>\n",
       "      <td>0.980666</td>\n",
       "      <td>1.678360</td>\n",
       "      <td>-1.173669</td>\n",
       "    </tr>\n",
       "    <tr>\n",
       "      <th>...</th>\n",
       "      <td>...</td>\n",
       "      <td>...</td>\n",
       "      <td>...</td>\n",
       "      <td>...</td>\n",
       "      <td>...</td>\n",
       "      <td>...</td>\n",
       "      <td>...</td>\n",
       "      <td>...</td>\n",
       "      <td>...</td>\n",
       "      <td>...</td>\n",
       "      <td>...</td>\n",
       "      <td>...</td>\n",
       "      <td>...</td>\n",
       "      <td>...</td>\n",
       "      <td>...</td>\n",
       "      <td>...</td>\n",
       "      <td>...</td>\n",
       "      <td>...</td>\n",
       "      <td>...</td>\n",
       "      <td>...</td>\n",
       "      <td>...</td>\n",
       "    </tr>\n",
       "    <tr>\n",
       "      <th>1774</th>\n",
       "      <td>-0.052938</td>\n",
       "      <td>-0.066954</td>\n",
       "      <td>-0.028820</td>\n",
       "      <td>-0.024202</td>\n",
       "      <td>-0.902754</td>\n",
       "      <td>-0.862571</td>\n",
       "      <td>-0.070554</td>\n",
       "      <td>-0.020580</td>\n",
       "      <td>-0.066896</td>\n",
       "      <td>-0.585251</td>\n",
       "      <td>...</td>\n",
       "      <td>0.484724</td>\n",
       "      <td>0.114214</td>\n",
       "      <td>1.289402</td>\n",
       "      <td>-0.673599</td>\n",
       "      <td>-0.906730</td>\n",
       "      <td>-0.494983</td>\n",
       "      <td>-0.611190</td>\n",
       "      <td>-0.947337</td>\n",
       "      <td>0.351650</td>\n",
       "      <td>0.852029</td>\n",
       "    </tr>\n",
       "    <tr>\n",
       "      <th>698</th>\n",
       "      <td>-0.052702</td>\n",
       "      <td>-0.066872</td>\n",
       "      <td>-0.027740</td>\n",
       "      <td>-0.023424</td>\n",
       "      <td>-0.896630</td>\n",
       "      <td>-0.511943</td>\n",
       "      <td>-0.070497</td>\n",
       "      <td>-0.020527</td>\n",
       "      <td>-0.066780</td>\n",
       "      <td>-0.432965</td>\n",
       "      <td>...</td>\n",
       "      <td>-1.530458</td>\n",
       "      <td>-2.005536</td>\n",
       "      <td>-0.699285</td>\n",
       "      <td>-0.587043</td>\n",
       "      <td>0.684609</td>\n",
       "      <td>0.365828</td>\n",
       "      <td>-2.381428</td>\n",
       "      <td>-0.115390</td>\n",
       "      <td>-1.799209</td>\n",
       "      <td>0.852029</td>\n",
       "    </tr>\n",
       "    <tr>\n",
       "      <th>6252</th>\n",
       "      <td>-0.052882</td>\n",
       "      <td>-0.066926</td>\n",
       "      <td>-0.028157</td>\n",
       "      <td>-0.023705</td>\n",
       "      <td>-1.012065</td>\n",
       "      <td>-0.574360</td>\n",
       "      <td>-0.070547</td>\n",
       "      <td>-0.020534</td>\n",
       "      <td>-0.066863</td>\n",
       "      <td>-0.524086</td>\n",
       "      <td>...</td>\n",
       "      <td>0.796621</td>\n",
       "      <td>1.074056</td>\n",
       "      <td>1.758279</td>\n",
       "      <td>0.604766</td>\n",
       "      <td>-0.632300</td>\n",
       "      <td>-0.147939</td>\n",
       "      <td>0.505745</td>\n",
       "      <td>-0.868104</td>\n",
       "      <td>0.925799</td>\n",
       "      <td>0.852029</td>\n",
       "    </tr>\n",
       "    <tr>\n",
       "      <th>13795</th>\n",
       "      <td>-0.053137</td>\n",
       "      <td>-0.067017</td>\n",
       "      <td>-0.029599</td>\n",
       "      <td>-0.025058</td>\n",
       "      <td>-0.267942</td>\n",
       "      <td>-0.532783</td>\n",
       "      <td>-0.070582</td>\n",
       "      <td>-0.020550</td>\n",
       "      <td>-0.066985</td>\n",
       "      <td>0.082321</td>\n",
       "      <td>...</td>\n",
       "      <td>1.270546</td>\n",
       "      <td>0.950325</td>\n",
       "      <td>0.408235</td>\n",
       "      <td>2.508997</td>\n",
       "      <td>-0.544104</td>\n",
       "      <td>-0.506561</td>\n",
       "      <td>0.827128</td>\n",
       "      <td>0.980666</td>\n",
       "      <td>1.199085</td>\n",
       "      <td>-1.173669</td>\n",
       "    </tr>\n",
       "    <tr>\n",
       "      <th>10863</th>\n",
       "      <td>-0.053173</td>\n",
       "      <td>-0.067034</td>\n",
       "      <td>-0.029789</td>\n",
       "      <td>-0.025317</td>\n",
       "      <td>0.260494</td>\n",
       "      <td>0.001568</td>\n",
       "      <td>-0.070588</td>\n",
       "      <td>-0.020580</td>\n",
       "      <td>-0.067007</td>\n",
       "      <td>-0.593883</td>\n",
       "      <td>...</td>\n",
       "      <td>-0.644599</td>\n",
       "      <td>-0.419845</td>\n",
       "      <td>-0.690191</td>\n",
       "      <td>-0.177567</td>\n",
       "      <td>-0.248491</td>\n",
       "      <td>-0.466552</td>\n",
       "      <td>-0.663876</td>\n",
       "      <td>-0.868104</td>\n",
       "      <td>-0.612054</td>\n",
       "      <td>0.852029</td>\n",
       "    </tr>\n",
       "  </tbody>\n",
       "</table>\n",
       "<p>38166 rows × 55 columns</p>\n",
       "</div>"
      ],
      "text/plain": [
       "       uplink_size_mean  uplink_size_median  uplink_size_MAD  uplink_size_STD  \\\n",
       "15972          0.529206            0.853105        -0.029778        -0.025239   \n",
       "1825          -0.053018           -0.066964        -0.029403        -0.024913   \n",
       "8253          -0.053153           -0.067003        -0.029823        -0.025314   \n",
       "575           -0.053107           -0.067004        -0.029281        -0.025280   \n",
       "16948         -0.051383           -0.065024        -0.028505        -0.024655   \n",
       "...                 ...                 ...              ...              ...   \n",
       "1774          -0.052938           -0.066954        -0.028820        -0.024202   \n",
       "698           -0.052702           -0.066872        -0.027740        -0.023424   \n",
       "6252          -0.052882           -0.066926        -0.028157        -0.023705   \n",
       "13795         -0.053137           -0.067017        -0.029599        -0.025058   \n",
       "10863         -0.053173           -0.067034        -0.029789        -0.025317   \n",
       "\n",
       "       uplink_size_Skewness  uplink_size_Kurtosis  uplink_size_MAX  \\\n",
       "15972              1.362031              0.962418         0.851089   \n",
       "1825              -0.613996             -0.760712        -0.070556   \n",
       "8253               0.416967             -0.020754        -0.070561   \n",
       "575                0.194311             -0.166027        -0.070558   \n",
       "16948              1.037452              0.601136        -0.068549   \n",
       "...                     ...                   ...              ...   \n",
       "1774              -0.902754             -0.862571        -0.070554   \n",
       "698               -0.896630             -0.511943        -0.070497   \n",
       "6252              -1.012065             -0.574360        -0.070547   \n",
       "13795             -0.267942             -0.532783        -0.070582   \n",
       "10863              0.260494              0.001568        -0.070588   \n",
       "\n",
       "       uplink_size_MIN  uplink_size_MeanSquare  downlink_size_mean  ...  \\\n",
       "15972        -0.020546                0.848817           -0.017706  ...   \n",
       "1825         -0.020580               -0.066920           -0.608127  ...   \n",
       "8253         -0.020584               -0.066977           -0.600363  ...   \n",
       "575          -0.020507               -0.066969           -0.521586  ...   \n",
       "16948        -0.020514               -0.064965            0.176933  ...   \n",
       "...                ...                     ...                 ...  ...   \n",
       "1774         -0.020580               -0.066896           -0.585251  ...   \n",
       "698          -0.020527               -0.066780           -0.432965  ...   \n",
       "6252         -0.020534               -0.066863           -0.524086  ...   \n",
       "13795        -0.020550               -0.066985            0.082321  ...   \n",
       "10863        -0.020580               -0.067007           -0.593883  ...   \n",
       "\n",
       "       both_links_interval_mean  both_links_interval_median  \\\n",
       "15972                 -1.236977                   -2.088362   \n",
       "1825                   0.110984                    0.196736   \n",
       "8253                  -0.511376                   -0.329972   \n",
       "575                   -0.272959                    0.098857   \n",
       "16948                  1.899019                    1.041077   \n",
       "...                         ...                         ...   \n",
       "1774                   0.484724                    0.114214   \n",
       "698                   -1.530458                   -2.005536   \n",
       "6252                   0.796621                    1.074056   \n",
       "13795                  1.270546                    0.950325   \n",
       "10863                 -0.644599                   -0.419845   \n",
       "\n",
       "       both_links_interval_MAD  both_links_interval_STD  \\\n",
       "15972                -0.509309                -0.593701   \n",
       "1825                  1.289402                -0.623662   \n",
       "8253                 -0.697264                -0.200870   \n",
       "575                  -0.715454                -0.220844   \n",
       "16948                 2.392880                -0.673599   \n",
       "...                        ...                      ...   \n",
       "1774                  1.289402                -0.673599   \n",
       "698                  -0.699285                -0.587043   \n",
       "6252                  1.758279                 0.604766   \n",
       "13795                 0.408235                 2.508997   \n",
       "10863                -0.690191                -0.177567   \n",
       "\n",
       "       both_links_interval_Skewness  both_links_interval_Kurtosis  \\\n",
       "15972                      1.265511                      0.813654   \n",
       "1825                      -0.636260                     -0.522690   \n",
       "8253                      -0.299633                     -0.448787   \n",
       "575                       -0.326493                     -0.505656   \n",
       "16948                     -0.904396                     -0.489109   \n",
       "...                             ...                           ...   \n",
       "1774                      -0.906730                     -0.494983   \n",
       "698                        0.684609                      0.365828   \n",
       "6252                      -0.632300                     -0.147939   \n",
       "13795                     -0.544104                     -0.506561   \n",
       "10863                     -0.248491                     -0.466552   \n",
       "\n",
       "       both_links_interval_MAX  both_links_interval_MIN  \\\n",
       "15972                -2.062680                 0.822200   \n",
       "1825                 -0.571676                -0.947337   \n",
       "8253                  0.476768                -0.868104   \n",
       "575                  -0.611190                -0.947337   \n",
       "16948                 0.827128                 0.980666   \n",
       "...                        ...                      ...   \n",
       "1774                 -0.611190                -0.947337   \n",
       "698                  -2.381428                -0.115390   \n",
       "6252                  0.505745                -0.868104   \n",
       "13795                 0.827128                 0.980666   \n",
       "10863                -0.663876                -0.868104   \n",
       "\n",
       "       both_links_interval_MeanSquare    classe  \n",
       "15972                       -1.576186 -1.173669  \n",
       "1825                         0.126768  0.852029  \n",
       "8253                        -0.490222  0.852029  \n",
       "575                         -0.159855  0.852029  \n",
       "16948                        1.678360 -1.173669  \n",
       "...                               ...       ...  \n",
       "1774                         0.351650  0.852029  \n",
       "698                         -1.799209  0.852029  \n",
       "6252                         0.925799  0.852029  \n",
       "13795                        1.199085 -1.173669  \n",
       "10863                       -0.612054  0.852029  \n",
       "\n",
       "[38166 rows x 55 columns]"
      ]
     },
     "execution_count": 41,
     "metadata": {},
     "output_type": "execute_result"
    }
   ],
   "source": [
    "df_balanced_stand"
   ]
  },
  {
   "cell_type": "markdown",
   "metadata": {},
   "source": [
    "### Retirando as features \n"
   ]
  },
  {
   "cell_type": "markdown",
   "metadata": {},
   "source": [
    "### Com heuristica"
   ]
  },
  {
   "cell_type": "code",
   "execution_count": 42,
   "metadata": {},
   "outputs": [],
   "source": [
    "# training dataset\n",
    "#df_features_selected = pd.DataFrame(Xstd, columns=X_balanced.columns, index=X_balanced.index)\n",
    "#df_features_selected = df_features_selected.drop(['V2_size','V3_size','V6_size','V7_size','V8_size','V2_interval','V4_interval','V5_interval'], axis=1)\n"
   ]
  },
  {
   "cell_type": "code",
   "execution_count": null,
   "metadata": {},
   "outputs": [],
   "source": []
  },
  {
   "cell_type": "code",
   "execution_count": 43,
   "metadata": {},
   "outputs": [],
   "source": [
    "#from sklearn.decomposition import PCA\n",
    "\n",
    "#pca = PCA(n_components= 5 )\n",
    "#df_features_selected = pca.fit_transform(df_balanced_stand)\n",
    "#print(pca)\n",
    "#print(pca.explained_variance_ratio_)\n",
    "#print(pca.singular_values_)\n"
   ]
  },
  {
   "cell_type": "code",
   "execution_count": 44,
   "metadata": {},
   "outputs": [
    {
     "name": "stdout",
     "output_type": "stream",
     "text": [
      "X:(38166, 55) y:(38166,) \n"
     ]
    }
   ],
   "source": [
    "# training dataset\n",
    "X = df_balanced_stand\n",
    "y = y\n",
    "print(f'X:{X.shape} y:{y.shape} ')"
   ]
  },
  {
   "cell_type": "code",
   "execution_count": 45,
   "metadata": {},
   "outputs": [
    {
     "name": "stdout",
     "output_type": "stream",
     "text": [
      "X_train:(19083, 55) y_train:(19083,) \n",
      "Counter({1: 11066, 0: 8017})\n",
      "X_test:(19083, 55) y_test:(19083,) \n",
      "Counter({1: 11047, 0: 8036})\n"
     ]
    }
   ],
   "source": [
    "from sklearn.model_selection import train_test_split\n",
    "# split into train test sets\n",
    "X_train, X_test, y_train, y_test = train_test_split(X, y, test_size=0.5, random_state=10)\n",
    "\n",
    "print(f'X_train:{X_train.shape} y_train:{y_train.shape} ')\n",
    "print(Counter(y_train))\n",
    "print(f'X_test:{X_test.shape} y_test:{y_test.shape} ')\n",
    "print(Counter(y_test))"
   ]
  },
  {
   "cell_type": "code",
   "execution_count": null,
   "metadata": {},
   "outputs": [],
   "source": []
  },
  {
   "cell_type": "markdown",
   "metadata": {},
   "source": [
    "### Testing with knn \n",
    "\n"
   ]
  },
  {
   "cell_type": "code",
   "execution_count": 48,
   "metadata": {},
   "outputs": [
    {
     "name": "stdout",
     "output_type": "stream",
     "text": [
      "Fitting data\n",
      "Predicting data\n",
      "19076 out of (19083,)\n"
     ]
    }
   ],
   "source": [
    "import numpy as np\n",
    "from sklearn.model_selection import StratifiedKFold\n",
    "\n",
    "knn3 = KNeighborsClassifier(n_neighbors=3) \n",
    "\n",
    "print('Fitting data')\n",
    "knn3.fit(X_train, y_train)\n",
    "print('Predicting data')\n",
    "ypredicted = knn3.predict(X_test)\n",
    "print(np.count_nonzero(y_test == ypredicted), f\"out of {ypredicted.shape}\")\n"
   ]
  },
  {
   "cell_type": "code",
   "execution_count": 49,
   "metadata": {},
   "outputs": [
    {
     "name": "stdout",
     "output_type": "stream",
     "text": [
      " KNN: acuracia: 0.9996331813656134  Precisão :0.9996379107449986\n"
     ]
    }
   ],
   "source": [
    "print(f' KNN: acuracia: {accuracy_score(ypredicted, y_test)}  Precisão :{precision_score(ypredicted, y_test)}')"
   ]
  },
  {
   "cell_type": "code",
   "execution_count": 50,
   "metadata": {},
   "outputs": [
    {
     "data": {
      "text/plain": [
       "array([[ 8033,     3],\n",
       "       [    4, 11043]])"
      ]
     },
     "execution_count": 50,
     "metadata": {},
     "output_type": "execute_result"
    }
   ],
   "source": [
    "confusion_matrix(y_test, ypredicted)"
   ]
  },
  {
   "cell_type": "markdown",
   "metadata": {
    "colab": {},
    "colab_type": "code",
    "executionInfo": {
     "elapsed": 506,
     "status": "ok",
     "timestamp": 1596135405133,
     "user": {
      "displayName": "Filipe Alves Neto Verri",
      "photoUrl": "https://lh3.googleusercontent.com/a-/AOh14GiV7MMHmrkaugHXPDugQgeGecRd4s4T4ngvv5_A=s64",
      "userId": "07219587087217491568"
     },
     "user_tz": 180
    },
    "id": "PDwOJhnVzYn5"
   },
   "source": [
    "## Semente aleatória para reproducibilidade dos experimentos (reproducão dos experimentos)\n",
    "seed = 17"
   ]
  },
  {
   "cell_type": "code",
   "execution_count": 461,
   "metadata": {
    "colab": {},
    "colab_type": "code",
    "executionInfo": {
     "elapsed": 548,
     "status": "ok",
     "timestamp": 1596137475127,
     "user": {
      "displayName": "Filipe Alves Neto Verri",
      "photoUrl": "https://lh3.googleusercontent.com/a-/AOh14GiV7MMHmrkaugHXPDugQgeGecRd4s4T4ngvv5_A=s64",
      "userId": "07219587087217491568"
     },
     "user_tz": 180
    },
    "id": "KfxgDLw00yh2"
   },
   "outputs": [],
   "source": [
    "scorer = make_scorer(precision_score) # Teste outras\n",
    "\n",
    "cv = StratifiedKFold(n_splits=10, shuffle=True, random_state=seed)\n",
    "\n",
    "gscv = StratifiedKFold(n_splits=3, shuffle=True, random_state=seed)\n",
    "\n",
    "algorithms = {\n",
    "    'tree':  GridSearchCV(\n",
    "        Pipeline([\n",
    "            #('imputer', SimpleImputer(strategy='mean')),\n",
    "            ('tree', DecisionTreeClassifier(random_state=seed))]), \n",
    "        param_grid={\n",
    "            'tree__max_depth': [2, 4, 5],\n",
    "            'tree__criterion': ['entropy', 'gini'],\n",
    "        },\n",
    "        scoring=scorer,\n",
    "        cv=gscv),\n",
    "    'bigtree':  GridSearchCV(\n",
    "        Pipeline([\n",
    "            #('imputer', SimpleImputer(strategy='mean')),\n",
    "            ('tree', DecisionTreeClassifier(max_depth=None, min_samples_split=2, random_state=seed))]), \n",
    "        param_grid={\n",
    "            'tree__criterion': ['entropy', 'gini'],\n",
    "        },\n",
    "        scoring=scorer,\n",
    "        cv=gscv),\n",
    "    'kNN':  GridSearchCV(\n",
    "        Pipeline([\n",
    "            #('imputer', SimpleImputer(strategy='mean')),\n",
    "            #('scaler', MinMaxScaler(feature_range=(0, 1))),\n",
    "            #('selector', VarianceThreshold()),\n",
    "            ('knn', KNeighborsClassifier())]), \n",
    "        param_grid={\n",
    "            #'selector__threshold': [0, 0.01, 0.02, 0.03],\n",
    "            'knn__n_neighbors': [1, 3, 5],\n",
    "            'knn__p': [1, 2],\n",
    "        },\n",
    "        scoring=scorer,\n",
    "        cv=gscv),\n",
    "    'nb': GridSearchCV(\n",
    "        Pipeline([\n",
    "            #('imputer', SimpleImputer(strategy='mean')),\n",
    "            #('selector', SelectKBest()),\n",
    "            ('nb', GaussianNB())]), \n",
    "        param_grid={\n",
    "            #'selector__k': [3, 5, 10],\n",
    "        },\n",
    "        scoring=scorer,\n",
    "        cv=gscv),\n",
    "    'svmlinear': GridSearchCV(\n",
    "        Pipeline([\n",
    "            #('imputer', SimpleImputer(strategy='mean')),\n",
    "            #('scaler', StandardScaler()),\n",
    "            ('pca', PCA()),\n",
    "            ('svm', SVC(kernel='linear', random_state=seed))]), \n",
    "        param_grid={\n",
    "            'pca__n_components': [2, 5, 10],\n",
    "            'svm__C': [1.0, 2.0],\n",
    "        },\n",
    "        scoring=scorer,\n",
    "        cv=gscv),\n",
    "    'svmrbf': GridSearchCV(\n",
    "        Pipeline([\n",
    "            #('imputer', SimpleImputer(strategy='mean')),\n",
    "            #('scaler', StandardScaler()),\n",
    "            ('pca', PCA(random_state=seed)),\n",
    "            ('svm', SVC(kernel='rbf', random_state=seed))]), \n",
    "        param_grid={\n",
    "            'pca__n_components': [2, 5, 10],\n",
    "            'svm__C': [1.0, 2.0],\n",
    "            'svm__gamma': [0.1, 1.0, 2.0],\n",
    "        },\n",
    "        scoring=scorer,\n",
    "        cv=gscv),\n",
    "}"
   ]
  },
  {
   "cell_type": "code",
   "execution_count": 379,
   "metadata": {},
   "outputs": [],
   "source": [
    "import time"
   ]
  },
  {
   "cell_type": "code",
   "execution_count": 380,
   "metadata": {},
   "outputs": [
    {
     "name": "stdout",
     "output_type": "stream",
     "text": [
      "Train with algorithm 1: tree\n",
      "acuracia:1.0 \n",
      "[0 1 1 ... 1 0 0]\n",
      "it took 5.040150165557861 seconds.\n",
      "Train with algorithm 2: bigtree\n",
      "acuracia:1.0 \n",
      "[0 1 1 ... 1 0 0]\n",
      "it took 1.1310091018676758 seconds.\n",
      "Train with algorithm 3: kNN\n",
      "acuracia:0.9992908639640704 \n",
      "[0 1 1 ... 1 0 0]\n",
      "it took 3.8097827434539795 seconds.\n",
      "Train with algorithm 4: nb\n",
      "acuracia:0.9984635385888193 \n",
      "[0 1 1 ... 1 0 0]\n",
      "it took 0.08035588264465332 seconds.\n",
      "Train with algorithm 5: svmlinear\n",
      "acuracia:1.0 \n",
      "[0 1 1 ... 1 0 0]\n",
      "it took 5.228136301040649 seconds.\n",
      "Train with algorithm 6: svmrbf\n",
      "acuracia:0.9991726746247489 \n",
      "[0 1 1 ... 1 0 0]\n",
      "it took 24.545283794403076 seconds.\n"
     ]
    }
   ],
   "source": [
    "from sklearn.model_selection import cross_val_predict, cross_val_score, cross_validate\n",
    "# df_balanced_stand, y_balanced \n",
    "result = {}\n",
    "result_score = {}\n",
    "i = 1\n",
    "# X_train, X_test, y_train, y_test\n",
    "\n",
    "for alg, clf in algorithms.items():\n",
    "    start = time.time()\n",
    "    print(f'Train with algorithm {i}: {alg}')\n",
    "    i += 1\n",
    "    result[alg] = cross_val_predict(clf, X_train, y_train, n_jobs= -1,  cv=gscv)\n",
    "    #result_score[alg] = cross_val_score(clf, X, y)\n",
    "    print(f'acuracia:{accuracy_score(y_train,result[alg]) } ')\n",
    "    print(result[alg])\n",
    "    print(f\"it took {time.time() - start} seconds.\")"
   ]
  },
  {
   "cell_type": "code",
   "execution_count": 381,
   "metadata": {},
   "outputs": [
    {
     "name": "stdout",
     "output_type": "stream",
     "text": [
      "tree:  precision:1.0, accuracy_score: 1.0  \n",
      "bigtree:  precision:1.0, accuracy_score: 1.0  \n",
      "kNN:  precision:0.9995300751879699, accuracy_score: 0.9992908639640704  \n",
      "nb:  precision:1.0, accuracy_score: 0.9984635385888193  \n",
      "svmlinear:  precision:1.0, accuracy_score: 1.0  \n",
      "svmrbf:  precision:0.999764871855161, accuracy_score: 0.9991726746247489  \n"
     ]
    }
   ],
   "source": [
    "for alg, clf in algorithms.items():\n",
    "    print(f'{alg}:  precision:{precision_score(y_train,result[alg])}, accuracy_score: {accuracy_score(y_train,result[alg])}  ')"
   ]
  },
  {
   "cell_type": "code",
   "execution_count": 174,
   "metadata": {
    "colab": {
     "base_uri": "https://localhost:8080/",
     "height": 209
    },
    "colab_type": "code",
    "executionInfo": {
     "elapsed": 15073,
     "status": "ok",
     "timestamp": 1596137490810,
     "user": {
      "displayName": "Filipe Alves Neto Verri",
      "photoUrl": "https://lh3.googleusercontent.com/a-/AOh14GiV7MMHmrkaugHXPDugQgeGecRd4s4T4ngvv5_A=s64",
      "userId": "07219587087217491568"
     },
     "user_tz": 180
    },
    "id": "KMPeyps98u-h",
    "outputId": "9d71ea7e-ab66-446f-b7a2-a4505ff1d66a"
   },
   "outputs": [
    {
     "data": {
      "text/html": [
       "<div>\n",
       "<style scoped>\n",
       "    .dataframe tbody tr th:only-of-type {\n",
       "        vertical-align: middle;\n",
       "    }\n",
       "\n",
       "    .dataframe tbody tr th {\n",
       "        vertical-align: top;\n",
       "    }\n",
       "\n",
       "    .dataframe thead th {\n",
       "        text-align: right;\n",
       "    }\n",
       "</style>\n",
       "<table border=\"1\" class=\"dataframe\">\n",
       "  <thead>\n",
       "    <tr style=\"text-align: right;\">\n",
       "      <th></th>\n",
       "      <th>tree</th>\n",
       "      <th>bigtree</th>\n",
       "      <th>kNN</th>\n",
       "      <th>nb</th>\n",
       "      <th>svmlinear</th>\n",
       "      <th>svmrbf</th>\n",
       "    </tr>\n",
       "  </thead>\n",
       "  <tbody>\n",
       "    <tr>\n",
       "      <th>0</th>\n",
       "      <td>0</td>\n",
       "      <td>1</td>\n",
       "      <td>0</td>\n",
       "      <td>1</td>\n",
       "      <td>0</td>\n",
       "      <td>0</td>\n",
       "    </tr>\n",
       "    <tr>\n",
       "      <th>1</th>\n",
       "      <td>0</td>\n",
       "      <td>0</td>\n",
       "      <td>0</td>\n",
       "      <td>1</td>\n",
       "      <td>0</td>\n",
       "      <td>0</td>\n",
       "    </tr>\n",
       "    <tr>\n",
       "      <th>2</th>\n",
       "      <td>0</td>\n",
       "      <td>0</td>\n",
       "      <td>0</td>\n",
       "      <td>1</td>\n",
       "      <td>0</td>\n",
       "      <td>0</td>\n",
       "    </tr>\n",
       "    <tr>\n",
       "      <th>3</th>\n",
       "      <td>0</td>\n",
       "      <td>1</td>\n",
       "      <td>1</td>\n",
       "      <td>1</td>\n",
       "      <td>1</td>\n",
       "      <td>1</td>\n",
       "    </tr>\n",
       "    <tr>\n",
       "      <th>4</th>\n",
       "      <td>0</td>\n",
       "      <td>0</td>\n",
       "      <td>0</td>\n",
       "      <td>0</td>\n",
       "      <td>0</td>\n",
       "      <td>0</td>\n",
       "    </tr>\n",
       "    <tr>\n",
       "      <th>...</th>\n",
       "      <td>...</td>\n",
       "      <td>...</td>\n",
       "      <td>...</td>\n",
       "      <td>...</td>\n",
       "      <td>...</td>\n",
       "      <td>...</td>\n",
       "    </tr>\n",
       "    <tr>\n",
       "      <th>9005</th>\n",
       "      <td>1</td>\n",
       "      <td>1</td>\n",
       "      <td>1</td>\n",
       "      <td>1</td>\n",
       "      <td>1</td>\n",
       "      <td>1</td>\n",
       "    </tr>\n",
       "    <tr>\n",
       "      <th>9006</th>\n",
       "      <td>0</td>\n",
       "      <td>0</td>\n",
       "      <td>0</td>\n",
       "      <td>1</td>\n",
       "      <td>0</td>\n",
       "      <td>0</td>\n",
       "    </tr>\n",
       "    <tr>\n",
       "      <th>9007</th>\n",
       "      <td>0</td>\n",
       "      <td>1</td>\n",
       "      <td>1</td>\n",
       "      <td>1</td>\n",
       "      <td>1</td>\n",
       "      <td>1</td>\n",
       "    </tr>\n",
       "    <tr>\n",
       "      <th>9008</th>\n",
       "      <td>0</td>\n",
       "      <td>0</td>\n",
       "      <td>0</td>\n",
       "      <td>1</td>\n",
       "      <td>0</td>\n",
       "      <td>0</td>\n",
       "    </tr>\n",
       "    <tr>\n",
       "      <th>9009</th>\n",
       "      <td>1</td>\n",
       "      <td>1</td>\n",
       "      <td>1</td>\n",
       "      <td>1</td>\n",
       "      <td>1</td>\n",
       "      <td>1</td>\n",
       "    </tr>\n",
       "  </tbody>\n",
       "</table>\n",
       "<p>9010 rows × 6 columns</p>\n",
       "</div>"
      ],
      "text/plain": [
       "      tree  bigtree  kNN  nb  svmlinear  svmrbf\n",
       "0        0        1    0   1          0       0\n",
       "1        0        0    0   1          0       0\n",
       "2        0        0    0   1          0       0\n",
       "3        0        1    1   1          1       1\n",
       "4        0        0    0   0          0       0\n",
       "...    ...      ...  ...  ..        ...     ...\n",
       "9005     1        1    1   1          1       1\n",
       "9006     0        0    0   1          0       0\n",
       "9007     0        1    1   1          1       1\n",
       "9008     0        0    0   1          0       0\n",
       "9009     1        1    1   1          1       1\n",
       "\n",
       "[9010 rows x 6 columns]"
      ]
     },
     "execution_count": 174,
     "metadata": {},
     "output_type": "execute_result"
    }
   ],
   "source": [
    "result = pd.DataFrame.from_dict(result)\n",
    "\n",
    "result"
   ]
  },
  {
   "cell_type": "code",
   "execution_count": 175,
   "metadata": {},
   "outputs": [
    {
     "name": "stdout",
     "output_type": "stream",
     "text": [
      "GridSearchCV(cv=StratifiedKFold(n_splits=3, random_state=17, shuffle=True),\n",
      "             estimator=Pipeline(steps=[('tree',\n",
      "                                        DecisionTreeClassifier(random_state=17))]),\n",
      "             param_grid={'tree__criterion': ['entropy', 'gini'],\n",
      "                         'tree__max_depth': [2, 4, 5]},\n",
      "             scoring=make_scorer(precision_score))\n",
      "GridSearchCV(cv=StratifiedKFold(n_splits=3, random_state=17, shuffle=True),\n",
      "             estimator=Pipeline(steps=[('tree',\n",
      "                                        DecisionTreeClassifier(random_state=17))]),\n",
      "             param_grid={'tree__criterion': ['entropy', 'gini']},\n",
      "             scoring=make_scorer(precision_score))\n",
      "GridSearchCV(cv=StratifiedKFold(n_splits=3, random_state=17, shuffle=True),\n",
      "             estimator=Pipeline(steps=[('knn', KNeighborsClassifier())]),\n",
      "             param_grid={'knn__n_neighbors': [1, 3, 5], 'knn__p': [1, 2]},\n",
      "             scoring=make_scorer(precision_score))\n",
      "GridSearchCV(cv=StratifiedKFold(n_splits=3, random_state=17, shuffle=True),\n",
      "             estimator=Pipeline(steps=[('nb', GaussianNB())]), param_grid={},\n",
      "             scoring=make_scorer(precision_score))\n",
      "GridSearchCV(cv=StratifiedKFold(n_splits=3, random_state=17, shuffle=True),\n",
      "             estimator=Pipeline(steps=[('svm',\n",
      "                                        SVC(kernel='linear',\n",
      "                                            random_state=17))]),\n",
      "             param_grid={'svm__C': [1.0, 2.0]},\n",
      "             scoring=make_scorer(precision_score))\n",
      "GridSearchCV(cv=StratifiedKFold(n_splits=3, random_state=17, shuffle=True),\n",
      "             estimator=Pipeline(steps=[('svm', SVC(random_state=17))]),\n",
      "             param_grid={'svm__C': [1.0, 2.0], 'svm__gamma': [0.1, 1.0, 2.0]},\n",
      "             scoring=make_scorer(precision_score))\n"
     ]
    }
   ],
   "source": [
    "for alg, clf in algorithms.items():\n",
    "    print(clf)"
   ]
  },
  {
   "cell_type": "code",
   "execution_count": 176,
   "metadata": {},
   "outputs": [
    {
     "name": "stdout",
     "output_type": "stream",
     "text": [
      "[[1.         0.03338068 0.01358113 0.08305248 0.01605839 0.01560178]\n",
      " [0.03338068 1.         0.17058824 0.01831729 0.08805031 0.0962963 ]\n",
      " [0.01358113 0.17058824 1.         0.01693321 0.07086614 0.16842105]\n",
      " [0.08305248 0.01831729 0.01693321 1.         0.0100471  0.00314268]\n",
      " [0.01605839 0.08805031 0.07086614 0.0100471  1.         0.26865672]\n",
      " [0.01560178 0.0962963  0.16842105 0.00314268 0.26865672 1.        ]]\n"
     ]
    }
   ],
   "source": [
    "def phi(a, b, expected):\n",
    "    errors = np.logical_or(a != expected, b != expected)\n",
    "    try:\n",
    "        return np.count_nonzero(np.logical_and(a == b, errors)) / np.count_nonzero(errors)\n",
    "    except:\n",
    "        return 0\n",
    "\n",
    "# X_balanced, y_balanced\n",
    "correrrors = np.ones((len(algorithms), len(algorithms)))\n",
    "\n",
    "for i in range(len(algorithms)):\n",
    "    for j in range(i + 1, len(algorithms)):\n",
    "        correrrors[i, j] = phi(result[result.columns[i]], result[result.columns[j]], y_train)\n",
    "        correrrors[j, i] = correrrors[i, j]    \n",
    "        \n",
    "print(correrrors)"
   ]
  },
  {
   "cell_type": "code",
   "execution_count": 177,
   "metadata": {},
   "outputs": [
    {
     "data": {
      "image/png": "[encoded data removed]",
      "text/plain": [
       "<Figure size 432x288 with 1 Axes>"
      ]
     },
     "metadata": {
      "needs_background": "light"
     },
     "output_type": "display_data"
    }
   ],
   "source": [
    "import matplotlib.pyplot as plt\n",
    "\n",
    "\n",
    "fig, ax = plt.subplots()\n",
    "im = ax.imshow(correrrors)\n",
    "\n",
    "ax.set_xticks(np.arange(len(result.columns)))\n",
    "ax.set_yticks(np.arange(len(result.columns)))\n",
    "ax.set_xticklabels(result.columns)\n",
    "ax.set_yticklabels(result.columns)\n",
    "\n",
    "plt.setp(ax.get_xticklabels(), rotation=45, ha=\"right\",\n",
    "         rotation_mode=\"anchor\")\n",
    "\n",
    "for i in range(len(result.columns)):\n",
    "    for j in range(len(result.columns)):\n",
    "        text = ax.text(j, i, round(correrrors[i, j], 1),\n",
    "                       ha=\"center\", va=\"center\", color=\"w\")\n",
    "\n",
    "ax.set_title(\"Error correlation\")\n",
    "fig.tight_layout()\n",
    "plt.show()"
   ]
  },
  {
   "cell_type": "markdown",
   "metadata": {},
   "source": [
    "## Todos são melhores que a média?"
   ]
  },
  {
   "cell_type": "code",
   "execution_count": 64,
   "metadata": {},
   "outputs": [
    {
     "name": "stdout",
     "output_type": "stream",
     "text": [
      "0.5\n"
     ]
    }
   ],
   "source": [
    "# random classifier\n",
    "mode = lambda x: ss.mode(x).mode[0]\n",
    "random = np.mean(mode(y) == y)\n",
    "print(random)"
   ]
  },
  {
   "cell_type": "code",
   "execution_count": 65,
   "metadata": {},
   "outputs": [
    {
     "data": {
      "text/plain": [
       "tree         0.995332\n",
       "bigtree      0.995332\n",
       "kNN          0.995332\n",
       "nb           0.995332\n",
       "svmlinear    0.995332\n",
       "svmrbf       0.995332\n",
       "dtype: float64"
      ]
     },
     "execution_count": 65,
     "metadata": {},
     "output_type": "execute_result"
    }
   ],
   "source": [
    "result.apply(lambda ypred: np.mean(ypredicted == y_test))"
   ]
  },
  {
   "cell_type": "markdown",
   "metadata": {},
   "source": [
    "## Combinando classificadores"
   ]
  },
  {
   "cell_type": "code",
   "execution_count": null,
   "metadata": {},
   "outputs": [],
   "source": [
    "result['kNN+tree+svmrbf'] = result.filter(['kNN', 'tree', 'svmrbf']).apply(mode, axis=1)\n",
    "result['nb+svmlinear+svmrbf'] = result.filter(['nb', 'svmlinear', 'svmrbf']).apply(mode, axis=1)\n",
    "result['kNN+bigtree+svmrbf'] = result.filter(['kNN', 'bigtree', 'svmrbf']).apply(mode, axis=1)"
   ]
  },
  {
   "cell_type": "code",
   "execution_count": null,
   "metadata": {},
   "outputs": [],
   "source": [
    "result.apply(lambda ypred: np.mean(ypred == y_balanced))"
   ]
  },
  {
   "cell_type": "markdown",
   "metadata": {},
   "source": [
    "**nota**: podem existir outros casos de melhoras/pioras."
   ]
  },
  {
   "cell_type": "markdown",
   "metadata": {},
   "source": [
    "# Bagging, boosting, etc"
   ]
  },
  {
   "cell_type": "code",
   "execution_count": null,
   "metadata": {},
   "outputs": [],
   "source": [
    "from sklearn.ensemble import RandomForestClassifier, ExtraTreesClassifier, BaggingClassifier, AdaBoostClassifier, GradientBoostingClassifier, VotingClassifier"
   ]
  },
  {
   "cell_type": "code",
   "execution_count": null,
   "metadata": {},
   "outputs": [],
   "source": [
    "algorithms = {\n",
    "    'bagging':  \n",
    "        Pipeline([\n",
    "            ('imputer', SimpleImputer(strategy='mean')),\n",
    "            ('tree', BaggingClassifier(random_state=seed))]),\n",
    "    'forest':  \n",
    "        Pipeline([\n",
    "            ('imputer', SimpleImputer(strategy='mean')),\n",
    "            ('tree', RandomForestClassifier(random_state=seed))]),\n",
    "    #'kNN+tree+svmrbf':\n",
    "    #    VotingClassifier([ ])\n",
    "    # Testar outros\n",
    "}"
   ]
  },
  {
   "cell_type": "code",
   "execution_count": null,
   "metadata": {},
   "outputs": [],
   "source": [
    "from sklearn.model_selection import cross_val_predict\n",
    "\n",
    "for alg, clf in algorithms.items():\n",
    "  result[alg] = cross_val_predict(clf, X_train, y_train, cv=cv)"
   ]
  },
  {
   "cell_type": "code",
   "execution_count": null,
   "metadata": {},
   "outputs": [],
   "source": [
    "result.apply(lambda ypred: np.mean(ypred == y_train))"
   ]
  },
  {
   "cell_type": "markdown",
   "metadata": {},
   "source": [
    "### Rede neural\n",
    "X_train, X_test, y_train, y_test\n",
    "X_balanced_both, y_balanced_both"
   ]
  },
  {
   "cell_type": "code",
   "execution_count": 52,
   "metadata": {},
   "outputs": [],
   "source": [
    "from sklearn.neural_network import MLPClassifier"
   ]
  },
  {
   "cell_type": "code",
   "execution_count": 53,
   "metadata": {},
   "outputs": [],
   "source": [
    "from sklearn.preprocessing import StandardScaler"
   ]
  },
  {
   "cell_type": "code",
   "execution_count": 99,
   "metadata": {},
   "outputs": [],
   "source": [
    "model_NN = MLPClassifier(hidden_layer_sizes=(20, 2),\n",
    "                      activation='relu',\n",
    "                      solver='adam',\n",
    "                      max_iter=200,\n",
    "                      random_state=15,\n",
    "                      early_stopping=True,\n",
    "                      #verbose= True,\n",
    "                      validation_fraction=0.9)"
   ]
  },
  {
   "cell_type": "code",
   "execution_count": 55,
   "metadata": {},
   "outputs": [
    {
     "data": {
      "text/plain": [
       "MLPClassifier(early_stopping=True, hidden_layer_sizes=(20, 2), random_state=15)"
      ]
     },
     "execution_count": 55,
     "metadata": {},
     "output_type": "execute_result"
    }
   ],
   "source": [
    "model_NN.fit(X_train, y_train)"
   ]
  },
  {
   "cell_type": "code",
   "execution_count": 56,
   "metadata": {},
   "outputs": [],
   "source": [
    "from sklearn.metrics import accuracy_score, mean_absolute_error"
   ]
  },
  {
   "cell_type": "code",
   "execution_count": 57,
   "metadata": {},
   "outputs": [],
   "source": [
    "ypredicted = model_NN.predict(X_test)"
   ]
  },
  {
   "cell_type": "code",
   "execution_count": 58,
   "metadata": {},
   "outputs": [
    {
     "name": "stdout",
     "output_type": "stream",
     "text": [
      "0.9999547408916044\n"
     ]
    }
   ],
   "source": [
    "from sklearn.metrics import f1_score\n",
    "print(f1_score(ypredicted, y_test))"
   ]
  },
  {
   "cell_type": "code",
   "execution_count": 61,
   "metadata": {},
   "outputs": [
    {
     "name": "stdout",
     "output_type": "stream",
     "text": [
      "0.9999475973379448\n"
     ]
    }
   ],
   "source": [
    "print(accuracy_score(ypredicted, y_test))"
   ]
  },
  {
   "cell_type": "code",
   "execution_count": 62,
   "metadata": {},
   "outputs": [
    {
     "data": {
      "text/plain": [
       "array([[ 8035,     1],\n",
       "       [    0, 11047]])"
      ]
     },
     "execution_count": 62,
     "metadata": {},
     "output_type": "execute_result"
    }
   ],
   "source": [
    "confusion_matrix(y_test, ypredicted)"
   ]
  },
  {
   "cell_type": "code",
   "execution_count": 63,
   "metadata": {},
   "outputs": [
    {
     "data": {
      "text/plain": [
       "(8035, 1, 0, 11047)"
      ]
     },
     "execution_count": 63,
     "metadata": {},
     "output_type": "execute_result"
    }
   ],
   "source": [
    "tn, fp, fn, tp =  confusion_matrix(y_test, ypredicted).ravel()\n",
    "(tn, fp, fn, tp)"
   ]
  },
  {
   "cell_type": "code",
   "execution_count": 64,
   "metadata": {},
   "outputs": [
    {
     "data": {
      "text/plain": [
       "0.9999094858797972"
      ]
     },
     "execution_count": 64,
     "metadata": {},
     "output_type": "execute_result"
    }
   ],
   "source": [
    "precision = (tp)/(tp+fp)\n",
    "precision"
   ]
  },
  {
   "cell_type": "code",
   "execution_count": 65,
   "metadata": {},
   "outputs": [
    {
     "data": {
      "text/plain": [
       "1.0"
      ]
     },
     "execution_count": 65,
     "metadata": {},
     "output_type": "execute_result"
    }
   ],
   "source": [
    "revocacao = tp/(tp+fn)\n",
    "revocacao"
   ]
  },
  {
   "cell_type": "code",
   "execution_count": 66,
   "metadata": {},
   "outputs": [
    {
     "data": {
      "text/plain": [
       "0.9998755599800896"
      ]
     },
     "execution_count": 66,
     "metadata": {},
     "output_type": "execute_result"
    }
   ],
   "source": [
    "especificidade = tn/(tn+fp)\n",
    "especificidade"
   ]
  },
  {
   "cell_type": "code",
   "execution_count": 521,
   "metadata": {},
   "outputs": [],
   "source": [
    "ypredicted_validation = model_NN.predict(X_validation)"
   ]
  },
  {
   "cell_type": "code",
   "execution_count": 522,
   "metadata": {},
   "outputs": [
    {
     "data": {
      "text/plain": [
       "array([[1111,    0],\n",
       "       [   9, 1270]])"
      ]
     },
     "execution_count": 522,
     "metadata": {},
     "output_type": "execute_result"
    }
   ],
   "source": [
    "confusion_matrix(y_validation, ypredicted_validation)"
   ]
  },
  {
   "cell_type": "code",
   "execution_count": 91,
   "metadata": {},
   "outputs": [
    {
     "data": {
      "text/plain": [
       "StratifiedKFold(n_splits=10, random_state=17, shuffle=True)"
      ]
     },
     "execution_count": 91,
     "metadata": {},
     "output_type": "execute_result"
    }
   ],
   "source": [
    "from sklearn.model_selection import cross_val_score, cross_validate\n",
    "from sklearn import metrics\n",
    "\n",
    "gscv = StratifiedKFold(n_splits=10, shuffle=True, random_state=seed)\n",
    "gscv"
   ]
  },
  {
   "cell_type": "code",
   "execution_count": 100,
   "metadata": {},
   "outputs": [],
   "source": [
    "scores = cross_validate(model_NN, X, y, n_jobs=-1, cv = gscv, scoring='accuracy')"
   ]
  },
  {
   "cell_type": "code",
   "execution_count": 101,
   "metadata": {},
   "outputs": [
    {
     "data": {
      "text/plain": [
       "{'fit_time': array([2.02278614, 1.98948598, 2.27331805, 1.84258795, 1.69111395,\n",
       "        1.63955903, 1.90405107, 1.91944981, 1.3499608 , 1.29238796]),\n",
       " 'score_time': array([0.00657773, 0.00807619, 0.01093102, 0.00713801, 0.00791025,\n",
       "        0.01780391, 0.00813794, 0.00865602, 0.00367808, 0.00387597]),\n",
       " 'test_score': array([1., 1., 1., 1., 1., 1., 1., 1., 1., 1.])}"
      ]
     },
     "execution_count": 101,
     "metadata": {},
     "output_type": "execute_result"
    }
   ],
   "source": [
    "scores"
   ]
  },
  {
   "cell_type": "code",
   "execution_count": 97,
   "metadata": {},
   "outputs": [
    {
     "name": "stdout",
     "output_type": "stream",
     "text": [
      "1.0000 precision with a standard deviation of 0.0000\n"
     ]
    }
   ],
   "source": [
    "print(\"%0.4f precision with a standard deviation of %0.4f\" % (scores['test_score'].mean(), scores['test_score'].std()))"
   ]
  },
  {
   "cell_type": "code",
   "execution_count": 102,
   "metadata": {},
   "outputs": [
    {
     "data": {
      "text/plain": [
       "{'fit_time': array([0.76515913, 0.44957638, 0.42739296, 0.39965892, 0.41738796,\n",
       "        0.52657628, 0.43507695, 0.49088502, 0.49367189, 0.54378104]),\n",
       " 'score_time': array([0.00735283, 0.00719476, 0.00721788, 0.00689316, 0.0086391 ,\n",
       "        0.00685382, 0.00687623, 0.00690603, 0.00963616, 0.00720406]),\n",
       " 'estimator': [MLPClassifier(early_stopping=True, hidden_layer_sizes=(20, 2), random_state=15,\n",
       "                validation_fraction=0.9),\n",
       "  MLPClassifier(early_stopping=True, hidden_layer_sizes=(20, 2), random_state=15,\n",
       "                validation_fraction=0.9),\n",
       "  MLPClassifier(early_stopping=True, hidden_layer_sizes=(20, 2), random_state=15,\n",
       "                validation_fraction=0.9),\n",
       "  MLPClassifier(early_stopping=True, hidden_layer_sizes=(20, 2), random_state=15,\n",
       "                validation_fraction=0.9),\n",
       "  MLPClassifier(early_stopping=True, hidden_layer_sizes=(20, 2), random_state=15,\n",
       "                validation_fraction=0.9),\n",
       "  MLPClassifier(early_stopping=True, hidden_layer_sizes=(20, 2), random_state=15,\n",
       "                validation_fraction=0.9),\n",
       "  MLPClassifier(early_stopping=True, hidden_layer_sizes=(20, 2), random_state=15,\n",
       "                validation_fraction=0.9),\n",
       "  MLPClassifier(early_stopping=True, hidden_layer_sizes=(20, 2), random_state=15,\n",
       "                validation_fraction=0.9),\n",
       "  MLPClassifier(early_stopping=True, hidden_layer_sizes=(20, 2), random_state=15,\n",
       "                validation_fraction=0.9),\n",
       "  MLPClassifier(early_stopping=True, hidden_layer_sizes=(20, 2), random_state=15,\n",
       "                validation_fraction=0.9)],\n",
       " 'test_score': array([0.99883133, 0.99978912, 1.        , 0.99794408, 1.        ,\n",
       "        0.99985238, 1.        , 0.99979398, 0.999641  , 0.99708819])}"
      ]
     },
     "execution_count": 102,
     "metadata": {},
     "output_type": "execute_result"
    }
   ],
   "source": [
    "from sklearn.model_selection import cross_val_score\n",
    "from sklearn.model_selection import ShuffleSplit\n",
    "\n",
    "cv = ShuffleSplit(n_splits=10, test_size=0.3, random_state=0)\n",
    "scores = cross_validate(model_NN, X_train, y_train, cv=cv,scoring='precision_macro',return_estimator=True)\n",
    "scores\n"
   ]
  },
  {
   "cell_type": "code",
   "execution_count": null,
   "metadata": {},
   "outputs": [],
   "source": []
  }
 ],
 "metadata": {
  "colab": {
   "authorship_tag": "ABX9TyMfuXOITPqRU+OfypdQG86j",
   "name": "10 - Avaliação Preditivo.ipynb",
   "provenance": []
  },
  "kernelspec": {
   "display_name": "Python 3",
   "language": "python",
   "name": "python3"
  },
  "language_info": {
   "codemirror_mode": {
    "name": "ipython",
    "version": 3
   },
   "file_extension": ".py",
   "mimetype": "text/x-python",
   "name": "python",
   "nbconvert_exporter": "python",
   "pygments_lexer": "ipython3",
   "version": "3.8.5"
  }
 },
 "nbformat": 4,
 "nbformat_minor": 4
}

{
 "cells": [
  {
   "cell_type": "markdown",
   "metadata": {
    "colab_type": "text",
    "id": "Yx-VxT_wzXi6"
   },
   "source": [
    "# Comitês"
   ]
  },
  {
   "cell_type": "code",
   "execution_count": 1,
   "metadata": {
    "colab": {},
    "colab_type": "code",
    "executionInfo": {
     "elapsed": 1673,
     "status": "ok",
     "timestamp": 1596135305774,
     "user": {
      "displayName": "Filipe Alves Neto Verri",
      "photoUrl": "https://lh3.googleusercontent.com/a-/AOh14GiV7MMHmrkaugHXPDugQgeGecRd4s4T4ngvv5_A=s64",
      "userId": "07219587087217491568"
     },
     "user_tz": 180
    },
    "id": "XOr-9WVsYEhE"
   },
   "outputs": [],
   "source": [
    "import numpy as np # Numpy: biblioteca para manipular vetores e matrizes\n",
    "import pandas as pd # Pandas: biblioteca para manipular tabelas\n",
    "import scipy.stats as ss"
   ]
  },
  {
   "cell_type": "code",
   "execution_count": 2,
   "metadata": {},
   "outputs": [
    {
     "name": "stdout",
     "output_type": "stream",
     "text": [
      "Tamanho df teste 4:  1063\n",
      "Tamanho df treino 4 :  10600\n",
      "Tamanho df teste 5:  1351\n",
      "Tamanho df treino 5 :  13513\n",
      "Tamanho df teste 6:  7\n",
      "Tamanho df treino 6 :  66\n"
     ]
    }
   ],
   "source": [
    "lista = ['V1_size','V2_size','V3_size','V4_size','V5_size','V6_size','V7_size','V8_size','V9_size','V1_interval','V2_interval','V3_interval','V4_interval','V5_interval','V6_interval','V7_interval','V8_interval','V9_interval','classe']\n",
    "\n",
    "test = []\n",
    "train = []\n",
    "\n",
    "for i in range(4,7):\n",
    "    test.append(pd.read_csv(f'./dataset/dataset{i}_teste.csv', sep = ',', names=lista)) \n",
    "    train.append(pd.read_csv(f'./dataset/dataset{i}_treino.csv', sep = ',', names=lista))\n",
    "    print(f\"Tamanho df teste {i}: \",len(test[-1]))\n",
    "    print(f\"Tamanho df treino {i} : \",len(train[-1]))\n",
    "\n",
    "frames = train + test\n",
    "df_train1 = pd.concat(frames)\n",
    " "
   ]
  },
  {
   "cell_type": "code",
   "execution_count": 3,
   "metadata": {
    "colab": {
     "base_uri": "https://localhost:8080/",
     "height": 34
    },
    "colab_type": "code",
    "executionInfo": {
     "elapsed": 4012,
     "status": "ok",
     "timestamp": 1596135309611,
     "user": {
      "displayName": "Filipe Alves Neto Verri",
      "photoUrl": "https://lh3.googleusercontent.com/a-/AOh14GiV7MMHmrkaugHXPDugQgeGecRd4s4T4ngvv5_A=s64",
      "userId": "07219587087217491568"
     },
     "user_tz": 180
    },
    "id": "16GH5n9j1T59",
    "outputId": "b9835c3e-4edb-467b-a6cd-3e76d2a08dbc"
   },
   "outputs": [
    {
     "name": "stdout",
     "output_type": "stream",
     "text": [
      "(26600, 19)\n"
     ]
    }
   ],
   "source": [
    "print(df_train1.shape)"
   ]
  },
  {
   "cell_type": "code",
   "execution_count": 4,
   "metadata": {},
   "outputs": [
    {
     "data": {
      "text/html": [
       "<div>\n",
       "<style scoped>\n",
       "    .dataframe tbody tr th:only-of-type {\n",
       "        vertical-align: middle;\n",
       "    }\n",
       "\n",
       "    .dataframe tbody tr th {\n",
       "        vertical-align: top;\n",
       "    }\n",
       "\n",
       "    .dataframe thead th {\n",
       "        text-align: right;\n",
       "    }\n",
       "</style>\n",
       "<table border=\"1\" class=\"dataframe\">\n",
       "  <thead>\n",
       "    <tr style=\"text-align: right;\">\n",
       "      <th></th>\n",
       "      <th>V1_size</th>\n",
       "      <th>V2_size</th>\n",
       "      <th>V3_size</th>\n",
       "      <th>V4_size</th>\n",
       "      <th>V5_size</th>\n",
       "      <th>V6_size</th>\n",
       "      <th>V7_size</th>\n",
       "      <th>V8_size</th>\n",
       "      <th>V9_size</th>\n",
       "      <th>V1_interval</th>\n",
       "      <th>V2_interval</th>\n",
       "      <th>V3_interval</th>\n",
       "      <th>V4_interval</th>\n",
       "      <th>V5_interval</th>\n",
       "      <th>V6_interval</th>\n",
       "      <th>V7_interval</th>\n",
       "      <th>V8_interval</th>\n",
       "      <th>V9_interval</th>\n",
       "      <th>classe</th>\n",
       "    </tr>\n",
       "  </thead>\n",
       "  <tbody>\n",
       "    <tr>\n",
       "      <th>0</th>\n",
       "      <td>0.000438</td>\n",
       "      <td>0.002101</td>\n",
       "      <td>0.000006</td>\n",
       "      <td>0.000003</td>\n",
       "      <td>6.5008</td>\n",
       "      <td>42.76100</td>\n",
       "      <td>0.016319</td>\n",
       "      <td>0.000003</td>\n",
       "      <td>0.002136</td>\n",
       "      <td>759.62</td>\n",
       "      <td>477.050</td>\n",
       "      <td>1130.0</td>\n",
       "      <td>0.000</td>\n",
       "      <td>-0.505190</td>\n",
       "      <td>-1.74200</td>\n",
       "      <td>1130</td>\n",
       "      <td>61</td>\n",
       "      <td>895.730</td>\n",
       "      <td>1</td>\n",
       "    </tr>\n",
       "    <tr>\n",
       "      <th>1</th>\n",
       "      <td>0.000388</td>\n",
       "      <td>0.000783</td>\n",
       "      <td>0.000130</td>\n",
       "      <td>0.000090</td>\n",
       "      <td>2.4140</td>\n",
       "      <td>3.95440</td>\n",
       "      <td>0.002615</td>\n",
       "      <td>0.000000</td>\n",
       "      <td>0.000870</td>\n",
       "      <td>86.32</td>\n",
       "      <td>35.631</td>\n",
       "      <td>62.0</td>\n",
       "      <td>0.000</td>\n",
       "      <td>0.760200</td>\n",
       "      <td>-1.43620</td>\n",
       "      <td>138</td>\n",
       "      <td>62</td>\n",
       "      <td>93.317</td>\n",
       "      <td>1</td>\n",
       "    </tr>\n",
       "    <tr>\n",
       "      <th>2</th>\n",
       "      <td>0.000142</td>\n",
       "      <td>0.000174</td>\n",
       "      <td>0.000100</td>\n",
       "      <td>0.000147</td>\n",
       "      <td>1.3829</td>\n",
       "      <td>0.91272</td>\n",
       "      <td>0.000585</td>\n",
       "      <td>0.000000</td>\n",
       "      <td>0.000224</td>\n",
       "      <td>103.47</td>\n",
       "      <td>40.320</td>\n",
       "      <td>138.0</td>\n",
       "      <td>22.239</td>\n",
       "      <td>-0.036313</td>\n",
       "      <td>-1.95700</td>\n",
       "      <td>153</td>\n",
       "      <td>62</td>\n",
       "      <td>110.970</td>\n",
       "      <td>1</td>\n",
       "    </tr>\n",
       "    <tr>\n",
       "      <th>3</th>\n",
       "      <td>0.000645</td>\n",
       "      <td>0.001331</td>\n",
       "      <td>0.000145</td>\n",
       "      <td>0.000073</td>\n",
       "      <td>3.9211</td>\n",
       "      <td>21.45700</td>\n",
       "      <td>0.009911</td>\n",
       "      <td>0.000007</td>\n",
       "      <td>0.001473</td>\n",
       "      <td>81.76</td>\n",
       "      <td>33.504</td>\n",
       "      <td>62.0</td>\n",
       "      <td>0.000</td>\n",
       "      <td>1.077900</td>\n",
       "      <td>-0.84623</td>\n",
       "      <td>138</td>\n",
       "      <td>62</td>\n",
       "      <td>88.295</td>\n",
       "      <td>1</td>\n",
       "    </tr>\n",
       "    <tr>\n",
       "      <th>4</th>\n",
       "      <td>0.000171</td>\n",
       "      <td>0.000218</td>\n",
       "      <td>0.000126</td>\n",
       "      <td>0.000053</td>\n",
       "      <td>2.6358</td>\n",
       "      <td>6.42960</td>\n",
       "      <td>0.000961</td>\n",
       "      <td>0.000003</td>\n",
       "      <td>0.000277</td>\n",
       "      <td>86.32</td>\n",
       "      <td>35.631</td>\n",
       "      <td>62.0</td>\n",
       "      <td>0.000</td>\n",
       "      <td>0.760200</td>\n",
       "      <td>-1.43620</td>\n",
       "      <td>138</td>\n",
       "      <td>62</td>\n",
       "      <td>93.317</td>\n",
       "      <td>1</td>\n",
       "    </tr>\n",
       "    <tr>\n",
       "      <th>...</th>\n",
       "      <td>...</td>\n",
       "      <td>...</td>\n",
       "      <td>...</td>\n",
       "      <td>...</td>\n",
       "      <td>...</td>\n",
       "      <td>...</td>\n",
       "      <td>...</td>\n",
       "      <td>...</td>\n",
       "      <td>...</td>\n",
       "      <td>...</td>\n",
       "      <td>...</td>\n",
       "      <td>...</td>\n",
       "      <td>...</td>\n",
       "      <td>...</td>\n",
       "      <td>...</td>\n",
       "      <td>...</td>\n",
       "      <td>...</td>\n",
       "      <td>...</td>\n",
       "      <td>...</td>\n",
       "    </tr>\n",
       "    <tr>\n",
       "      <th>995</th>\n",
       "      <td>0.000183</td>\n",
       "      <td>0.000288</td>\n",
       "      <td>0.000113</td>\n",
       "      <td>0.000166</td>\n",
       "      <td>2.2656</td>\n",
       "      <td>3.90820</td>\n",
       "      <td>0.001080</td>\n",
       "      <td>0.000000</td>\n",
       "      <td>0.000340</td>\n",
       "      <td>98.48</td>\n",
       "      <td>38.161</td>\n",
       "      <td>62.0</td>\n",
       "      <td>0.000</td>\n",
       "      <td>0.078866</td>\n",
       "      <td>-2.01360</td>\n",
       "      <td>138</td>\n",
       "      <td>62</td>\n",
       "      <td>105.550</td>\n",
       "      <td>1</td>\n",
       "    </tr>\n",
       "    <tr>\n",
       "      <th>996</th>\n",
       "      <td>0.000411</td>\n",
       "      <td>0.000827</td>\n",
       "      <td>0.000111</td>\n",
       "      <td>0.000153</td>\n",
       "      <td>2.2146</td>\n",
       "      <td>3.09680</td>\n",
       "      <td>0.002736</td>\n",
       "      <td>0.000003</td>\n",
       "      <td>0.000919</td>\n",
       "      <td>101.52</td>\n",
       "      <td>38.161</td>\n",
       "      <td>138.0</td>\n",
       "      <td>0.000</td>\n",
       "      <td>-0.078866</td>\n",
       "      <td>-2.01360</td>\n",
       "      <td>138</td>\n",
       "      <td>62</td>\n",
       "      <td>108.390</td>\n",
       "      <td>1</td>\n",
       "    </tr>\n",
       "    <tr>\n",
       "      <th>997</th>\n",
       "      <td>0.000273</td>\n",
       "      <td>0.001040</td>\n",
       "      <td>0.000021</td>\n",
       "      <td>0.000027</td>\n",
       "      <td>8.5203</td>\n",
       "      <td>77.42500</td>\n",
       "      <td>0.010123</td>\n",
       "      <td>0.000003</td>\n",
       "      <td>0.001070</td>\n",
       "      <td>103.80</td>\n",
       "      <td>38.000</td>\n",
       "      <td>138.0</td>\n",
       "      <td>0.000</td>\n",
       "      <td>-0.198000</td>\n",
       "      <td>-1.98030</td>\n",
       "      <td>138</td>\n",
       "      <td>62</td>\n",
       "      <td>110.470</td>\n",
       "      <td>1</td>\n",
       "    </tr>\n",
       "    <tr>\n",
       "      <th>998</th>\n",
       "      <td>0.000189</td>\n",
       "      <td>0.000273</td>\n",
       "      <td>0.000117</td>\n",
       "      <td>0.000159</td>\n",
       "      <td>2.1823</td>\n",
       "      <td>3.61670</td>\n",
       "      <td>0.001037</td>\n",
       "      <td>0.000004</td>\n",
       "      <td>0.000331</td>\n",
       "      <td>93.16</td>\n",
       "      <td>37.568</td>\n",
       "      <td>62.0</td>\n",
       "      <td>0.000</td>\n",
       "      <td>0.360500</td>\n",
       "      <td>-1.88860</td>\n",
       "      <td>138</td>\n",
       "      <td>62</td>\n",
       "      <td>100.380</td>\n",
       "      <td>1</td>\n",
       "    </tr>\n",
       "    <tr>\n",
       "      <th>999</th>\n",
       "      <td>0.000194</td>\n",
       "      <td>0.000374</td>\n",
       "      <td>0.000131</td>\n",
       "      <td>0.000128</td>\n",
       "      <td>5.4161</td>\n",
       "      <td>32.00300</td>\n",
       "      <td>0.002724</td>\n",
       "      <td>0.000003</td>\n",
       "      <td>0.000419</td>\n",
       "      <td>86.32</td>\n",
       "      <td>35.631</td>\n",
       "      <td>62.0</td>\n",
       "      <td>0.000</td>\n",
       "      <td>0.760200</td>\n",
       "      <td>-1.43620</td>\n",
       "      <td>138</td>\n",
       "      <td>62</td>\n",
       "      <td>93.317</td>\n",
       "      <td>1</td>\n",
       "    </tr>\n",
       "  </tbody>\n",
       "</table>\n",
       "<p>1000 rows × 19 columns</p>\n",
       "</div>"
      ],
      "text/plain": [
       "      V1_size   V2_size   V3_size   V4_size  V5_size   V6_size   V7_size  \\\n",
       "0    0.000438  0.002101  0.000006  0.000003   6.5008  42.76100  0.016319   \n",
       "1    0.000388  0.000783  0.000130  0.000090   2.4140   3.95440  0.002615   \n",
       "2    0.000142  0.000174  0.000100  0.000147   1.3829   0.91272  0.000585   \n",
       "3    0.000645  0.001331  0.000145  0.000073   3.9211  21.45700  0.009911   \n",
       "4    0.000171  0.000218  0.000126  0.000053   2.6358   6.42960  0.000961   \n",
       "..        ...       ...       ...       ...      ...       ...       ...   \n",
       "995  0.000183  0.000288  0.000113  0.000166   2.2656   3.90820  0.001080   \n",
       "996  0.000411  0.000827  0.000111  0.000153   2.2146   3.09680  0.002736   \n",
       "997  0.000273  0.001040  0.000021  0.000027   8.5203  77.42500  0.010123   \n",
       "998  0.000189  0.000273  0.000117  0.000159   2.1823   3.61670  0.001037   \n",
       "999  0.000194  0.000374  0.000131  0.000128   5.4161  32.00300  0.002724   \n",
       "\n",
       "      V8_size   V9_size  V1_interval  V2_interval  V3_interval  V4_interval  \\\n",
       "0    0.000003  0.002136       759.62      477.050       1130.0        0.000   \n",
       "1    0.000000  0.000870        86.32       35.631         62.0        0.000   \n",
       "2    0.000000  0.000224       103.47       40.320        138.0       22.239   \n",
       "3    0.000007  0.001473        81.76       33.504         62.0        0.000   \n",
       "4    0.000003  0.000277        86.32       35.631         62.0        0.000   \n",
       "..        ...       ...          ...          ...          ...          ...   \n",
       "995  0.000000  0.000340        98.48       38.161         62.0        0.000   \n",
       "996  0.000003  0.000919       101.52       38.161        138.0        0.000   \n",
       "997  0.000003  0.001070       103.80       38.000        138.0        0.000   \n",
       "998  0.000004  0.000331        93.16       37.568         62.0        0.000   \n",
       "999  0.000003  0.000419        86.32       35.631         62.0        0.000   \n",
       "\n",
       "     V5_interval  V6_interval  V7_interval  V8_interval  V9_interval  classe  \n",
       "0      -0.505190     -1.74200         1130           61      895.730       1  \n",
       "1       0.760200     -1.43620          138           62       93.317       1  \n",
       "2      -0.036313     -1.95700          153           62      110.970       1  \n",
       "3       1.077900     -0.84623          138           62       88.295       1  \n",
       "4       0.760200     -1.43620          138           62       93.317       1  \n",
       "..           ...          ...          ...          ...          ...     ...  \n",
       "995     0.078866     -2.01360          138           62      105.550       1  \n",
       "996    -0.078866     -2.01360          138           62      108.390       1  \n",
       "997    -0.198000     -1.98030          138           62      110.470       1  \n",
       "998     0.360500     -1.88860          138           62      100.380       1  \n",
       "999     0.760200     -1.43620          138           62       93.317       1  \n",
       "\n",
       "[1000 rows x 19 columns]"
      ]
     },
     "execution_count": 4,
     "metadata": {},
     "output_type": "execute_result"
    }
   ],
   "source": [
    "df_train1.head(1000)"
   ]
  },
  {
   "cell_type": "code",
   "execution_count": null,
   "metadata": {},
   "outputs": [],
   "source": []
  },
  {
   "cell_type": "code",
   "execution_count": 79,
   "metadata": {},
   "outputs": [
    {
     "data": {
      "text/plain": [
       "1    0.533\n",
       "0    0.467\n",
       "Name: classe, dtype: float64"
      ]
     },
     "execution_count": 79,
     "metadata": {},
     "output_type": "execute_result"
    }
   ],
   "source": [
    "import seaborn as sns\n",
    "df_train1.classe.value_counts(normalize=True).round(3)"
   ]
  },
  {
   "cell_type": "code",
   "execution_count": 90,
   "metadata": {},
   "outputs": [],
   "source": [
    "df_train_noduplicates = df_train1.drop_duplicates()"
   ]
  },
  {
   "cell_type": "code",
   "execution_count": 91,
   "metadata": {},
   "outputs": [
    {
     "name": "stdout",
     "output_type": "stream",
     "text": [
      "Resultante com duplicados (26600, 19)\n",
      "Resultante sem duplicados (23181, 19)\n",
      "Total de valores duplicados: -3419\n"
     ]
    }
   ],
   "source": [
    "print(f'Resultante com duplicados {df_train1.shape}')\n",
    "print(f'Resultante sem duplicados {df_train_noduplicates.shape}')\n",
    "print(f'Total de valores duplicados: {df_train_noduplicates.shape[0]-df_train1.shape[0]}')"
   ]
  },
  {
   "cell_type": "code",
   "execution_count": 92,
   "metadata": {},
   "outputs": [],
   "source": [
    "y= df_train_noduplicates.classe.to_numpy()"
   ]
  },
  {
   "cell_type": "code",
   "execution_count": 93,
   "metadata": {},
   "outputs": [
    {
     "data": {
      "text/plain": [
       "array([1, 1, 1, ..., 1, 1, 1])"
      ]
     },
     "execution_count": 93,
     "metadata": {},
     "output_type": "execute_result"
    }
   ],
   "source": [
    "y"
   ]
  },
  {
   "cell_type": "code",
   "execution_count": 94,
   "metadata": {},
   "outputs": [
    {
     "name": "stdout",
     "output_type": "stream",
     "text": [
      "Counter({1: 14171, 0: 9010})\n"
     ]
    }
   ],
   "source": [
    "from collections import Counter\n",
    "print(Counter(y))"
   ]
  },
  {
   "cell_type": "markdown",
   "metadata": {},
   "source": [
    "### Balanceando"
   ]
  },
  {
   "cell_type": "code",
   "execution_count": 95,
   "metadata": {},
   "outputs": [
    {
     "name": "stdout",
     "output_type": "stream",
     "text": [
      "Counter({0: 9010, 1: 9010})\n"
     ]
    }
   ],
   "source": [
    "from imblearn.under_sampling import RandomUnderSampler\n",
    "df_train_noduplicates = df_train_noduplicates.drop(['classe'], axis=1)\n",
    "\n",
    "undersample = RandomUnderSampler(sampling_strategy='majority')\n",
    "X_balanced, y_balanced = undersample.fit_resample(df_train_noduplicates, y)\n",
    "from collections import Counter\n",
    "print(Counter(y_balanced))"
   ]
  },
  {
   "cell_type": "markdown",
   "metadata": {
    "colab": {
     "base_uri": "https://localhost:8080/",
     "height": 34
    },
    "colab_type": "code",
    "executionInfo": {
     "elapsed": 576,
     "status": "ok",
     "timestamp": 1596135384458,
     "user": {
      "displayName": "Filipe Alves Neto Verri",
      "photoUrl": "https://lh3.googleusercontent.com/a-/AOh14GiV7MMHmrkaugHXPDugQgeGecRd4s4T4ngvv5_A=s64",
      "userId": "07219587087217491568"
     },
     "user_tz": 180
    },
    "id": "mB6fuQG4Wyjr",
    "outputId": "95e3f970-ccae-48cf-ae1c-16d5a5e56eda"
   },
   "source": [
    "### Normalizando por padronização\n",
    "\n"
   ]
  },
  {
   "cell_type": "code",
   "execution_count": 96,
   "metadata": {},
   "outputs": [
    {
     "data": {
      "text/html": [
       "<div>\n",
       "<style scoped>\n",
       "    .dataframe tbody tr th:only-of-type {\n",
       "        vertical-align: middle;\n",
       "    }\n",
       "\n",
       "    .dataframe tbody tr th {\n",
       "        vertical-align: top;\n",
       "    }\n",
       "\n",
       "    .dataframe thead th {\n",
       "        text-align: right;\n",
       "    }\n",
       "</style>\n",
       "<table border=\"1\" class=\"dataframe\">\n",
       "  <thead>\n",
       "    <tr style=\"text-align: right;\">\n",
       "      <th></th>\n",
       "      <th>V1_size</th>\n",
       "      <th>V2_size</th>\n",
       "      <th>V3_size</th>\n",
       "      <th>V4_size</th>\n",
       "      <th>V5_size</th>\n",
       "      <th>V6_size</th>\n",
       "      <th>V7_size</th>\n",
       "      <th>V8_size</th>\n",
       "      <th>V9_size</th>\n",
       "      <th>V1_interval</th>\n",
       "      <th>V2_interval</th>\n",
       "      <th>V3_interval</th>\n",
       "      <th>V4_interval</th>\n",
       "      <th>V5_interval</th>\n",
       "      <th>V6_interval</th>\n",
       "      <th>V7_interval</th>\n",
       "      <th>V8_interval</th>\n",
       "      <th>V9_interval</th>\n",
       "    </tr>\n",
       "  </thead>\n",
       "  <tbody>\n",
       "    <tr>\n",
       "      <th>0</th>\n",
       "      <td>-0.059404</td>\n",
       "      <td>-0.039946</td>\n",
       "      <td>-0.011682</td>\n",
       "      <td>-0.060563</td>\n",
       "      <td>-0.479512</td>\n",
       "      <td>-0.586687</td>\n",
       "      <td>-0.036366</td>\n",
       "      <td>0.263872</td>\n",
       "      <td>-0.040441</td>\n",
       "      <td>-0.822859</td>\n",
       "      <td>-0.026663</td>\n",
       "      <td>-0.996931</td>\n",
       "      <td>-0.502389</td>\n",
       "      <td>1.468100</td>\n",
       "      <td>0.094875</td>\n",
       "      <td>0.512250</td>\n",
       "      <td>0.309633</td>\n",
       "      <td>-0.685180</td>\n",
       "    </tr>\n",
       "    <tr>\n",
       "      <th>1</th>\n",
       "      <td>0.008024</td>\n",
       "      <td>-0.018652</td>\n",
       "      <td>-0.008356</td>\n",
       "      <td>-0.000668</td>\n",
       "      <td>0.283397</td>\n",
       "      <td>-0.002669</td>\n",
       "      <td>-0.021944</td>\n",
       "      <td>0.263872</td>\n",
       "      <td>-0.018019</td>\n",
       "      <td>-0.872305</td>\n",
       "      <td>-0.583603</td>\n",
       "      <td>-0.967978</td>\n",
       "      <td>-0.355385</td>\n",
       "      <td>2.014170</td>\n",
       "      <td>1.002072</td>\n",
       "      <td>0.512250</td>\n",
       "      <td>0.309633</td>\n",
       "      <td>-0.887988</td>\n",
       "    </tr>\n",
       "    <tr>\n",
       "      <th>2</th>\n",
       "      <td>-0.020344</td>\n",
       "      <td>-0.006504</td>\n",
       "      <td>-0.015292</td>\n",
       "      <td>-0.110239</td>\n",
       "      <td>2.457201</td>\n",
       "      <td>2.873197</td>\n",
       "      <td>-0.002510</td>\n",
       "      <td>0.307604</td>\n",
       "      <td>-0.006970</td>\n",
       "      <td>-0.706088</td>\n",
       "      <td>-0.299854</td>\n",
       "      <td>-0.993883</td>\n",
       "      <td>-0.486914</td>\n",
       "      <td>0.828702</td>\n",
       "      <td>-0.282914</td>\n",
       "      <td>0.025097</td>\n",
       "      <td>0.309633</td>\n",
       "      <td>-0.683720</td>\n",
       "    </tr>\n",
       "    <tr>\n",
       "      <th>3</th>\n",
       "      <td>0.226487</td>\n",
       "      <td>0.048872</td>\n",
       "      <td>-0.015549</td>\n",
       "      <td>-0.116700</td>\n",
       "      <td>0.326972</td>\n",
       "      <td>0.239244</td>\n",
       "      <td>0.033199</td>\n",
       "      <td>0.205562</td>\n",
       "      <td>0.053277</td>\n",
       "      <td>-0.785042</td>\n",
       "      <td>-0.490120</td>\n",
       "      <td>-0.935215</td>\n",
       "      <td>-0.189036</td>\n",
       "      <td>1.107908</td>\n",
       "      <td>-0.111391</td>\n",
       "      <td>-0.050443</td>\n",
       "      <td>0.309633</td>\n",
       "      <td>-0.795066</td>\n",
       "    </tr>\n",
       "    <tr>\n",
       "      <th>4</th>\n",
       "      <td>-0.045887</td>\n",
       "      <td>-0.033212</td>\n",
       "      <td>-0.013978</td>\n",
       "      <td>-0.095944</td>\n",
       "      <td>1.429261</td>\n",
       "      <td>1.453886</td>\n",
       "      <td>-0.030066</td>\n",
       "      <td>0.249295</td>\n",
       "      <td>-0.033608</td>\n",
       "      <td>0.705400</td>\n",
       "      <td>0.914149</td>\n",
       "      <td>1.084663</td>\n",
       "      <td>-0.440490</td>\n",
       "      <td>-0.025391</td>\n",
       "      <td>-0.446689</td>\n",
       "      <td>0.697245</td>\n",
       "      <td>0.348365</td>\n",
       "      <td>0.751461</td>\n",
       "    </tr>\n",
       "    <tr>\n",
       "      <th>...</th>\n",
       "      <td>...</td>\n",
       "      <td>...</td>\n",
       "      <td>...</td>\n",
       "      <td>...</td>\n",
       "      <td>...</td>\n",
       "      <td>...</td>\n",
       "      <td>...</td>\n",
       "      <td>...</td>\n",
       "      <td>...</td>\n",
       "      <td>...</td>\n",
       "      <td>...</td>\n",
       "      <td>...</td>\n",
       "      <td>...</td>\n",
       "      <td>...</td>\n",
       "      <td>...</td>\n",
       "      <td>...</td>\n",
       "      <td>...</td>\n",
       "      <td>...</td>\n",
       "    </tr>\n",
       "    <tr>\n",
       "      <th>18015</th>\n",
       "      <td>-0.062323</td>\n",
       "      <td>-0.040548</td>\n",
       "      <td>-0.015723</td>\n",
       "      <td>-0.116289</td>\n",
       "      <td>-0.506356</td>\n",
       "      <td>-0.644431</td>\n",
       "      <td>-0.036708</td>\n",
       "      <td>-0.581618</td>\n",
       "      <td>-0.041120</td>\n",
       "      <td>-1.314522</td>\n",
       "      <td>-1.214372</td>\n",
       "      <td>-1.240749</td>\n",
       "      <td>-0.502389</td>\n",
       "      <td>0.571535</td>\n",
       "      <td>-0.433304</td>\n",
       "      <td>-1.527319</td>\n",
       "      <td>-0.723220</td>\n",
       "      <td>-1.396267</td>\n",
       "    </tr>\n",
       "    <tr>\n",
       "      <th>18016</th>\n",
       "      <td>-0.062244</td>\n",
       "      <td>-0.040525</td>\n",
       "      <td>-0.015766</td>\n",
       "      <td>-0.116005</td>\n",
       "      <td>-0.559644</td>\n",
       "      <td>-0.706071</td>\n",
       "      <td>-0.036699</td>\n",
       "      <td>-0.574329</td>\n",
       "      <td>-0.041096</td>\n",
       "      <td>-1.279384</td>\n",
       "      <td>-1.211623</td>\n",
       "      <td>-1.124936</td>\n",
       "      <td>-0.502389</td>\n",
       "      <td>0.109812</td>\n",
       "      <td>-0.473780</td>\n",
       "      <td>-1.550443</td>\n",
       "      <td>-0.723220</td>\n",
       "      <td>-1.365020</td>\n",
       "    </tr>\n",
       "    <tr>\n",
       "      <th>18017</th>\n",
       "      <td>-0.062296</td>\n",
       "      <td>-0.040513</td>\n",
       "      <td>-0.015757</td>\n",
       "      <td>-0.115894</td>\n",
       "      <td>2.343383</td>\n",
       "      <td>2.731312</td>\n",
       "      <td>-0.036666</td>\n",
       "      <td>-0.574329</td>\n",
       "      <td>-0.041087</td>\n",
       "      <td>-1.311843</td>\n",
       "      <td>-1.216933</td>\n",
       "      <td>-1.240749</td>\n",
       "      <td>-0.502389</td>\n",
       "      <td>0.498765</td>\n",
       "      <td>-0.452647</td>\n",
       "      <td>-1.550443</td>\n",
       "      <td>-0.723220</td>\n",
       "      <td>-1.394408</td>\n",
       "    </tr>\n",
       "    <tr>\n",
       "      <th>18018</th>\n",
       "      <td>-0.061299</td>\n",
       "      <td>-0.040295</td>\n",
       "      <td>-0.015499</td>\n",
       "      <td>-0.111829</td>\n",
       "      <td>-0.712050</td>\n",
       "      <td>-0.648768</td>\n",
       "      <td>-0.036599</td>\n",
       "      <td>-0.579060</td>\n",
       "      <td>-0.040845</td>\n",
       "      <td>0.202846</td>\n",
       "      <td>1.466367</td>\n",
       "      <td>0.437022</td>\n",
       "      <td>2.956097</td>\n",
       "      <td>0.195744</td>\n",
       "      <td>-0.266919</td>\n",
       "      <td>0.718828</td>\n",
       "      <td>-0.632845</td>\n",
       "      <td>0.503013</td>\n",
       "    </tr>\n",
       "    <tr>\n",
       "      <th>18019</th>\n",
       "      <td>-0.061130</td>\n",
       "      <td>-0.040167</td>\n",
       "      <td>-0.015789</td>\n",
       "      <td>-0.116391</td>\n",
       "      <td>0.061279</td>\n",
       "      <td>0.037594</td>\n",
       "      <td>-0.036432</td>\n",
       "      <td>-0.588236</td>\n",
       "      <td>-0.040720</td>\n",
       "      <td>0.416315</td>\n",
       "      <td>1.157319</td>\n",
       "      <td>0.776843</td>\n",
       "      <td>0.642682</td>\n",
       "      <td>-0.029393</td>\n",
       "      <td>-0.243778</td>\n",
       "      <td>0.694162</td>\n",
       "      <td>-0.632845</td>\n",
       "      <td>0.575796</td>\n",
       "    </tr>\n",
       "  </tbody>\n",
       "</table>\n",
       "<p>18020 rows × 18 columns</p>\n",
       "</div>"
      ],
      "text/plain": [
       "        V1_size   V2_size   V3_size   V4_size   V5_size   V6_size   V7_size  \\\n",
       "0     -0.059404 -0.039946 -0.011682 -0.060563 -0.479512 -0.586687 -0.036366   \n",
       "1      0.008024 -0.018652 -0.008356 -0.000668  0.283397 -0.002669 -0.021944   \n",
       "2     -0.020344 -0.006504 -0.015292 -0.110239  2.457201  2.873197 -0.002510   \n",
       "3      0.226487  0.048872 -0.015549 -0.116700  0.326972  0.239244  0.033199   \n",
       "4     -0.045887 -0.033212 -0.013978 -0.095944  1.429261  1.453886 -0.030066   \n",
       "...         ...       ...       ...       ...       ...       ...       ...   \n",
       "18015 -0.062323 -0.040548 -0.015723 -0.116289 -0.506356 -0.644431 -0.036708   \n",
       "18016 -0.062244 -0.040525 -0.015766 -0.116005 -0.559644 -0.706071 -0.036699   \n",
       "18017 -0.062296 -0.040513 -0.015757 -0.115894  2.343383  2.731312 -0.036666   \n",
       "18018 -0.061299 -0.040295 -0.015499 -0.111829 -0.712050 -0.648768 -0.036599   \n",
       "18019 -0.061130 -0.040167 -0.015789 -0.116391  0.061279  0.037594 -0.036432   \n",
       "\n",
       "        V8_size   V9_size  V1_interval  V2_interval  V3_interval  V4_interval  \\\n",
       "0      0.263872 -0.040441    -0.822859    -0.026663    -0.996931    -0.502389   \n",
       "1      0.263872 -0.018019    -0.872305    -0.583603    -0.967978    -0.355385   \n",
       "2      0.307604 -0.006970    -0.706088    -0.299854    -0.993883    -0.486914   \n",
       "3      0.205562  0.053277    -0.785042    -0.490120    -0.935215    -0.189036   \n",
       "4      0.249295 -0.033608     0.705400     0.914149     1.084663    -0.440490   \n",
       "...         ...       ...          ...          ...          ...          ...   \n",
       "18015 -0.581618 -0.041120    -1.314522    -1.214372    -1.240749    -0.502389   \n",
       "18016 -0.574329 -0.041096    -1.279384    -1.211623    -1.124936    -0.502389   \n",
       "18017 -0.574329 -0.041087    -1.311843    -1.216933    -1.240749    -0.502389   \n",
       "18018 -0.579060 -0.040845     0.202846     1.466367     0.437022     2.956097   \n",
       "18019 -0.588236 -0.040720     0.416315     1.157319     0.776843     0.642682   \n",
       "\n",
       "       V5_interval  V6_interval  V7_interval  V8_interval  V9_interval  \n",
       "0         1.468100     0.094875     0.512250     0.309633    -0.685180  \n",
       "1         2.014170     1.002072     0.512250     0.309633    -0.887988  \n",
       "2         0.828702    -0.282914     0.025097     0.309633    -0.683720  \n",
       "3         1.107908    -0.111391    -0.050443     0.309633    -0.795066  \n",
       "4        -0.025391    -0.446689     0.697245     0.348365     0.751461  \n",
       "...            ...          ...          ...          ...          ...  \n",
       "18015     0.571535    -0.433304    -1.527319    -0.723220    -1.396267  \n",
       "18016     0.109812    -0.473780    -1.550443    -0.723220    -1.365020  \n",
       "18017     0.498765    -0.452647    -1.550443    -0.723220    -1.394408  \n",
       "18018     0.195744    -0.266919     0.718828    -0.632845     0.503013  \n",
       "18019    -0.029393    -0.243778     0.694162    -0.632845     0.575796  \n",
       "\n",
       "[18020 rows x 18 columns]"
      ]
     },
     "execution_count": 96,
     "metadata": {},
     "output_type": "execute_result"
    }
   ],
   "source": [
    "from sklearn.preprocessing import MinMaxScaler, StandardScaler\n",
    "scaler = StandardScaler()\n",
    "Xstd = scaler.fit_transform(X_balanced)\n",
    "df_balanced_stand = pd.DataFrame(Xstd, columns=X_balanced.columns, index=X_balanced.index)\n",
    "df_balanced_stand"
   ]
  },
  {
   "cell_type": "code",
   "execution_count": 98,
   "metadata": {},
   "outputs": [
    {
     "data": {
      "text/plain": [
       "array([0, 0, 0, ..., 1, 1, 1])"
      ]
     },
     "execution_count": 98,
     "metadata": {},
     "output_type": "execute_result"
    }
   ],
   "source": [
    "y_balanced"
   ]
  },
  {
   "cell_type": "markdown",
   "metadata": {
    "colab": {},
    "colab_type": "code",
    "executionInfo": {
     "elapsed": 506,
     "status": "ok",
     "timestamp": 1596135405133,
     "user": {
      "displayName": "Filipe Alves Neto Verri",
      "photoUrl": "https://lh3.googleusercontent.com/a-/AOh14GiV7MMHmrkaugHXPDugQgeGecRd4s4T4ngvv5_A=s64",
      "userId": "07219587087217491568"
     },
     "user_tz": 180
    },
    "id": "PDwOJhnVzYn5"
   },
   "source": [
    "## Semente aleatória para reproducibilidade dos experimentos (reproducão dos experimentos)\n",
    "seed = 17"
   ]
  },
  {
   "cell_type": "code",
   "execution_count": 99,
   "metadata": {
    "colab": {},
    "colab_type": "code",
    "executionInfo": {
     "elapsed": 931,
     "status": "ok",
     "timestamp": 1596135531624,
     "user": {
      "displayName": "Filipe Alves Neto Verri",
      "photoUrl": "https://lh3.googleusercontent.com/a-/AOh14GiV7MMHmrkaugHXPDugQgeGecRd4s4T4ngvv5_A=s64",
      "userId": "07219587087217491568"
     },
     "user_tz": 180
    },
    "id": "F2Jj5yQMzeoB"
   },
   "outputs": [],
   "source": [
    "from sklearn.neighbors import KNeighborsClassifier\n",
    "from sklearn.tree import DecisionTreeClassifier\n",
    "from sklearn.naive_bayes import GaussianNB\n",
    "from sklearn.svm import SVC\n",
    "\n",
    "from sklearn.pipeline import Pipeline\n",
    "\n",
    "from sklearn.impute import SimpleImputer\n",
    "from sklearn.preprocessing import MinMaxScaler, StandardScaler\n",
    "from sklearn.feature_selection import VarianceThreshold, SelectKBest\n",
    "from sklearn.decomposition import PCA\n",
    "\n",
    "from sklearn.model_selection import GridSearchCV, StratifiedKFold\n",
    "from sklearn.metrics import accuracy_score, precision_score, recall_score, f1_score\n",
    "from sklearn.metrics import make_scorer"
   ]
  },
  {
   "cell_type": "code",
   "execution_count": 53,
   "metadata": {
    "colab": {},
    "colab_type": "code",
    "executionInfo": {
     "elapsed": 548,
     "status": "ok",
     "timestamp": 1596137475127,
     "user": {
      "displayName": "Filipe Alves Neto Verri",
      "photoUrl": "https://lh3.googleusercontent.com/a-/AOh14GiV7MMHmrkaugHXPDugQgeGecRd4s4T4ngvv5_A=s64",
      "userId": "07219587087217491568"
     },
     "user_tz": 180
    },
    "id": "KfxgDLw00yh2"
   },
   "outputs": [],
   "source": [
    "scorer = make_scorer(accuracy_score) # Teste outras\n",
    "\n",
    "cv = StratifiedKFold(n_splits=10, shuffle=True, random_state=seed)\n",
    "\n",
    "gscv = StratifiedKFold(n_splits=3, shuffle=True, random_state=seed)\n",
    "\n",
    "algorithms = {\n",
    "    'tree':  GridSearchCV(\n",
    "        Pipeline([\n",
    "            #('imputer', SimpleImputer(strategy='mean')),\n",
    "            ('tree', DecisionTreeClassifier(random_state=seed))]), \n",
    "        param_grid={\n",
    "            'tree__max_depth': [3, 4, 5],\n",
    "            'tree__criterion': ['entropy', 'gini'],\n",
    "        },\n",
    "        scoring=scorer,\n",
    "        cv=gscv),\n",
    "    'bigtree':  GridSearchCV(\n",
    "        Pipeline([\n",
    "            #('imputer', SimpleImputer(strategy='mean')),\n",
    "            ('tree', DecisionTreeClassifier(max_depth=None, min_samples_split=2, random_state=seed))]), \n",
    "        param_grid={\n",
    "            'tree__criterion': ['entropy', 'gini'],\n",
    "        },\n",
    "        scoring=scorer,\n",
    "        cv=gscv),\n",
    "    'kNN':  GridSearchCV(\n",
    "        Pipeline([\n",
    "            #('imputer', SimpleImputer(strategy='mean')),\n",
    "            #('scaler', MinMaxScaler(feature_range=(0, 1))),\n",
    "            ('selector', VarianceThreshold()),\n",
    "            ('knn', KNeighborsClassifier())]), \n",
    "        param_grid={\n",
    "            'selector__threshold': [0, 0.01, 0.02, 0.03],\n",
    "            'knn__n_neighbors': [1, 3, 5],\n",
    "            'knn__p': [1, 2],\n",
    "        },\n",
    "        scoring=scorer,\n",
    "        cv=gscv),\n",
    "    'nb': GridSearchCV(\n",
    "        Pipeline([\n",
    "            #('imputer', SimpleImputer(strategy='mean')),\n",
    "            ('selector', SelectKBest()),\n",
    "            ('nb', GaussianNB())]), \n",
    "        param_grid={\n",
    "            'selector__k': [3, 5, 10],\n",
    "        },\n",
    "        scoring=scorer,\n",
    "        cv=gscv),\n",
    "    'svmlinear': GridSearchCV(\n",
    "        Pipeline([\n",
    "            #('imputer', SimpleImputer(strategy='mean')),\n",
    "            #('scaler', StandardScaler()),\n",
    "            ('pca', PCA()),\n",
    "            ('svm', SVC(kernel='linear', random_state=seed))]), \n",
    "        param_grid={\n",
    "            'pca__n_components': [2, 5, 10],\n",
    "            'svm__C': [1.0, 2.0],\n",
    "        },\n",
    "        scoring=scorer,\n",
    "        cv=gscv),\n",
    "    'svmrbf': GridSearchCV(\n",
    "        Pipeline([\n",
    "            #('imputer', SimpleImputer(strategy='mean')),\n",
    "            #('scaler', StandardScaler()),\n",
    "            ('pca', PCA(random_state=seed)),\n",
    "            ('svm', SVC(kernel='rbf', random_state=seed))]), \n",
    "        param_grid={\n",
    "            'pca__n_components': [2, 5, 10],\n",
    "            'svm__C': [1.0, 2.0],\n",
    "            'svm__gamma': [0.1, 1.0, 2.0],\n",
    "        },\n",
    "        scoring=scorer,\n",
    "        cv=gscv),\n",
    "}"
   ]
  },
  {
   "cell_type": "code",
   "execution_count": 54,
   "metadata": {},
   "outputs": [],
   "source": [
    "import time"
   ]
  },
  {
   "cell_type": "code",
   "execution_count": null,
   "metadata": {
    "colab": {},
    "colab_type": "code",
    "executionInfo": {
     "elapsed": 15742,
     "status": "ok",
     "timestamp": 1596137490809,
     "user": {
      "displayName": "Filipe Alves Neto Verri",
      "photoUrl": "https://lh3.googleusercontent.com/a-/AOh14GiV7MMHmrkaugHXPDugQgeGecRd4s4T4ngvv5_A=s64",
      "userId": "07219587087217491568"
     },
     "user_tz": 180
    },
    "id": "Xpvrx3kqyUii"
   },
   "outputs": [
    {
     "name": "stdout",
     "output_type": "stream",
     "text": [
      "Train with algorithm 1: tree\n",
      "{'tree': array([1., 1., 1., 1., 1.])}\n",
      "it took 5.731831073760986 seconds.\n",
      "Train with algorithm 2: bigtree\n",
      "{'tree': array([1., 1., 1., 1., 1.]), 'bigtree': array([1., 1., 1., 1., 1.])}\n",
      "it took 1.8847572803497314 seconds.\n",
      "Train with algorithm 3: kNN\n"
     ]
    }
   ],
   "source": [
    "from sklearn.model_selection import cross_val_predict, cross_val_score\n",
    "# df_balanced_stand, y_balanced \n",
    "result = {}\n",
    "result_score = {}\n",
    "i = 1\n",
    "\n",
    "X = df_balanced_stand[9000:]\n",
    "y = y_balanced[9000:]\n",
    "\n",
    "for alg, clf in algorithms.items():\n",
    "    start = time.time()\n",
    "    print(f'Train with algorithm {i}: {alg}')\n",
    "    i += 1\n",
    "    result[alg] = cross_val_predict(clf, X, y)\n",
    "    result_score[alg] = cross_val_score(clf, X, y)\n",
    "    print(result_score)\n",
    "    print(f\"it took {time.time() - start} seconds.\")"
   ]
  },
  {
   "cell_type": "markdown",
   "metadata": {},
   "source": [
    "### Testing with knn\n"
   ]
  },
  {
   "cell_type": "code",
   "execution_count": null,
   "metadata": {},
   "outputs": [],
   "source": [
    "import numpy as np\n",
    "from sklearn.model_selection import StratifiedKFold\n",
    "X = df_balanced_stand\n",
    "y = y_balanced\n",
    "skf = StratifiedKFold(n_splits=3)\n",
    "skf.get_n_splits(X, y)\n",
    "\n",
    "print(skf)\n",
    "\n",
    "knn3 = KNeighborsClassifier(n_neighbors=2, p=2) \n",
    "\n",
    "for train_index, test_index in skf.split(X, y):\n",
    "    print(\"TRAIN:\", train_index, f'shape {train_index.shape}' ,\"TEST:\", test_index,f'shape {test_index.shape}'  )\n",
    "    # spliting dataset\n",
    "    X_train, X_test = X[train_index], X[test_index]\n",
    "    y_train, y_test = y[train_index], y[test_index]\n",
    "    \n",
    "    print('Fitting data')\n",
    "    knn3.fit(X_train, y_train)\n",
    "    print('Predicting data')\n",
    "    ypredicted = knn3.predict(X_test)\n",
    "    print(np.count_nonzero(y_test == ypredicted), f\"out of {ypredicted.shape}\")\n",
    "\n"
   ]
  },
  {
   "cell_type": "code",
   "execution_count": null,
   "metadata": {
    "colab": {
     "base_uri": "https://localhost:8080/",
     "height": 209
    },
    "colab_type": "code",
    "executionInfo": {
     "elapsed": 15073,
     "status": "ok",
     "timestamp": 1596137490810,
     "user": {
      "displayName": "Filipe Alves Neto Verri",
      "photoUrl": "https://lh3.googleusercontent.com/a-/AOh14GiV7MMHmrkaugHXPDugQgeGecRd4s4T4ngvv5_A=s64",
      "userId": "07219587087217491568"
     },
     "user_tz": 180
    },
    "id": "KMPeyps98u-h",
    "outputId": "9d71ea7e-ab66-446f-b7a2-a4505ff1d66a"
   },
   "outputs": [],
   "source": [
    "result = pd.DataFrame.from_dict(result)\n",
    "result.sample(n=100)"
   ]
  },
  {
   "cell_type": "code",
   "execution_count": null,
   "metadata": {},
   "outputs": [],
   "source": [
    "def phi(a, b, expected):\n",
    "    errors = np.logical_or(a != expected, b != expected)\n",
    "    return np.count_nonzero(np.logical_and(a == b, errors)) / np.count_nonzero(errors)\n",
    "\n",
    "# X_balanced, y_balanced\n",
    "correrrors = np.ones((len(algorithms), len(algorithms)))\n",
    "\n",
    "for i in range(len(algorithms)):\n",
    "    for j in range(i + 1, len(algorithms)):\n",
    "        correrrors[i, j] = phi(result[result.columns[i]], result[result.columns[j]], y_balanced)\n",
    "        correrrors[j, i] = correrrors[i, j]    \n",
    "        \n",
    "print(correrrors)"
   ]
  },
  {
   "cell_type": "code",
   "execution_count": null,
   "metadata": {},
   "outputs": [],
   "source": [
    "import matplotlib.pyplot as plt\n",
    "\n",
    "\n",
    "fig, ax = plt.subplots()\n",
    "im = ax.imshow(correrrors)\n",
    "\n",
    "ax.set_xticks(np.arange(len(result.columns)))\n",
    "ax.set_yticks(np.arange(len(result.columns)))\n",
    "ax.set_xticklabels(result.columns)\n",
    "ax.set_yticklabels(result.columns)\n",
    "\n",
    "plt.setp(ax.get_xticklabels(), rotation=45, ha=\"right\",\n",
    "         rotation_mode=\"anchor\")\n",
    "\n",
    "for i in range(len(result.columns)):\n",
    "    for j in range(len(result.columns)):\n",
    "        text = ax.text(j, i, round(correrrors[i, j], 1),\n",
    "                       ha=\"center\", va=\"center\", color=\"w\")\n",
    "\n",
    "ax.set_title(\"Error correlation\")\n",
    "fig.tight_layout()\n",
    "plt.show()"
   ]
  },
  {
   "cell_type": "markdown",
   "metadata": {},
   "source": [
    "## Todos são melhores que a média?"
   ]
  },
  {
   "cell_type": "code",
   "execution_count": 137,
   "metadata": {},
   "outputs": [
    {
     "name": "stdout",
     "output_type": "stream",
     "text": [
      "0.6113196152021052\n"
     ]
    }
   ],
   "source": [
    "# random classifier\n",
    "mode = lambda x: ss.mode(x).mode[0]\n",
    "random = np.mean(mode(y) == y)\n",
    "print(random)"
   ]
  },
  {
   "cell_type": "code",
   "execution_count": 138,
   "metadata": {},
   "outputs": [
    {
     "data": {
      "text/plain": [
       "kNN                    0.999723\n",
       "tree                   1.000000\n",
       "bigtree                1.000000\n",
       "nb                     0.997614\n",
       "svmlinear              1.000000\n",
       "svmrbf                 0.999723\n",
       "kNN+tree+svmrbf        0.999834\n",
       "nb+svmlinear+svmrbf    0.999778\n",
       "kNN+bigtree+svmrbf     0.999834\n",
       "dtype: float64"
      ]
     },
     "execution_count": 138,
     "metadata": {},
     "output_type": "execute_result"
    }
   ],
   "source": [
    "result.apply(lambda ypred: np.mean(ypred == y_balanced))"
   ]
  },
  {
   "cell_type": "markdown",
   "metadata": {},
   "source": [
    "## Combinando classificadores"
   ]
  },
  {
   "cell_type": "code",
   "execution_count": 139,
   "metadata": {},
   "outputs": [],
   "source": [
    "result['kNN+tree+svmrbf'] = result.filter(['kNN', 'tree', 'svmrbf']).apply(mode, axis=1)\n",
    "result['nb+svmlinear+svmrbf'] = result.filter(['nb', 'svmlinear', 'svmrbf']).apply(mode, axis=1)\n",
    "result['kNN+bigtree+svmrbf'] = result.filter(['kNN', 'bigtree', 'svmrbf']).apply(mode, axis=1)"
   ]
  },
  {
   "cell_type": "code",
   "execution_count": 140,
   "metadata": {},
   "outputs": [
    {
     "data": {
      "text/plain": [
       "kNN                    0.999723\n",
       "tree                   1.000000\n",
       "bigtree                1.000000\n",
       "nb                     0.997614\n",
       "svmlinear              1.000000\n",
       "svmrbf                 0.999723\n",
       "kNN+tree+svmrbf        0.999834\n",
       "nb+svmlinear+svmrbf    0.999778\n",
       "kNN+bigtree+svmrbf     0.999834\n",
       "dtype: float64"
      ]
     },
     "execution_count": 140,
     "metadata": {},
     "output_type": "execute_result"
    }
   ],
   "source": [
    "result.apply(lambda ypred: np.mean(ypred == y_balanced))"
   ]
  },
  {
   "cell_type": "markdown",
   "metadata": {},
   "source": [
    "**nota**: podem existir outros casos de melhoras/pioras."
   ]
  },
  {
   "cell_type": "markdown",
   "metadata": {},
   "source": [
    "# Bagging, boosting, etc"
   ]
  },
  {
   "cell_type": "code",
   "execution_count": 15,
   "metadata": {},
   "outputs": [],
   "source": [
    "from sklearn.ensemble import RandomForestClassifier, ExtraTreesClassifier, BaggingClassifier, AdaBoostClassifier, GradientBoostingClassifier, VotingClassifier"
   ]
  },
  {
   "cell_type": "code",
   "execution_count": 16,
   "metadata": {},
   "outputs": [],
   "source": [
    "algorithms = {\n",
    "    'bagging':  \n",
    "        Pipeline([\n",
    "            ('imputer', SimpleImputer(strategy='mean')),\n",
    "            ('tree', BaggingClassifier(random_state=seed))]),\n",
    "    'forest':  \n",
    "        Pipeline([\n",
    "            ('imputer', SimpleImputer(strategy='mean')),\n",
    "            ('tree', RandomForestClassifier(random_state=seed))]),\n",
    "    #'kNN+tree+svmrbf':\n",
    "    #    VotingClassifier([ ])\n",
    "    # Testar outros\n",
    "}"
   ]
  },
  {
   "cell_type": "code",
   "execution_count": 17,
   "metadata": {},
   "outputs": [],
   "source": [
    "from sklearn.model_selection import cross_val_predict\n",
    "\n",
    "for alg, clf in algorithms.items():\n",
    "  result[alg] = cross_val_predict(clf, X, y, cv=cv)"
   ]
  },
  {
   "cell_type": "code",
   "execution_count": 18,
   "metadata": {},
   "outputs": [
    {
     "data": {
      "text/plain": [
       "kNN                    0.868293\n",
       "tree                   0.878049\n",
       "bigtree                0.917073\n",
       "nb                     0.765854\n",
       "svmlinear              0.736585\n",
       "svmrbf                 0.819512\n",
       "kNN+tree+svmrbf        0.887805\n",
       "nb+svmlinear+svmrbf    0.790244\n",
       "kNN+bigtree+svmrbf     0.892683\n",
       "bagging                0.887805\n",
       "forest                 0.921951\n",
       "dtype: float64"
      ]
     },
     "execution_count": 18,
     "metadata": {},
     "output_type": "execute_result"
    }
   ],
   "source": [
    "result.apply(lambda ypred: np.mean(ypred == y))"
   ]
  },
  {
   "cell_type": "code",
   "execution_count": null,
   "metadata": {},
   "outputs": [],
   "source": []
  }
 ],
 "metadata": {
  "colab": {
   "authorship_tag": "ABX9TyMfuXOITPqRU+OfypdQG86j",
   "name": "10 - Avaliação Preditivo.ipynb",
   "provenance": []
  },
  "kernelspec": {
   "display_name": "Python 3",
   "language": "python",
   "name": "python3"
  },
  "language_info": {
   "codemirror_mode": {
    "name": "ipython",
    "version": 3
   },
   "file_extension": ".py",
   "mimetype": "text/x-python",
   "name": "python",
   "nbconvert_exporter": "python",
   "pygments_lexer": "ipython3",
   "version": "3.8.5"
  }
 },
 "nbformat": 4,
 "nbformat_minor": 4
}

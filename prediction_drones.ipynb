{
 "cells": [
  {
   "cell_type": "markdown",
   "metadata": {
    "colab_type": "text",
    "id": "Yx-VxT_wzXi6"
   },
   "source": [
    "# Comitês"
   ]
  },
  {
   "cell_type": "code",
   "execution_count": 63,
   "metadata": {
    "colab": {},
    "colab_type": "code",
    "executionInfo": {
     "elapsed": 1673,
     "status": "ok",
     "timestamp": 1596135305774,
     "user": {
      "displayName": "Filipe Alves Neto Verri",
      "photoUrl": "https://lh3.googleusercontent.com/a-/AOh14GiV7MMHmrkaugHXPDugQgeGecRd4s4T4ngvv5_A=s64",
      "userId": "07219587087217491568"
     },
     "user_tz": 180
    },
    "id": "XOr-9WVsYEhE"
   },
   "outputs": [],
   "source": [
    "import numpy as np # Numpy: biblioteca para manipular vetores e matrizes\n",
    "import pandas as pd # Pandas: biblioteca para manipular tabelas\n",
    "import scipy.stats as ss"
   ]
  },
  {
   "cell_type": "code",
   "execution_count": 140,
   "metadata": {},
   "outputs": [
    {
     "name": "stdout",
     "output_type": "stream",
     "text": [
      "Tamanho df teste 4:  1063\n",
      "Tamanho df treino 4 :  10600\n",
      "Tamanho df teste 5:  1351\n",
      "Tamanho df treino 5 :  13513\n",
      "Tamanho df teste 6:  7\n",
      "Tamanho df treino 6 :  66\n"
     ]
    }
   ],
   "source": [
    "lista = ['V1_size','V2_size','V3_size','V4_size','V5_size','V6_size','V7_size','V8_size','V9_size','V1_interval','V2_interval','V3_interval','V4_interval','V5_interval','V6_interval','V7_interval','V8_interval','V9_interval','classe']\n",
    "\n",
    "test = []\n",
    "train = []\n",
    "\n",
    "for i in range(4,7):\n",
    "    test.append(pd.read_csv(f'./dataset/dataset{i}_teste.csv', sep = ',', names=lista)) \n",
    "    train.append(pd.read_csv(f'./dataset/dataset{i}_treino.csv', sep = ',', names=lista))\n",
    "    print(f\"Tamanho df teste {i}: \",len(test[-1]))\n",
    "    print(f\"Tamanho df treino {i} : \",len(train[-1]))\n",
    "\n",
    "frames = train + test\n",
    "df_train1 = pd.concat(frames)\n",
    " "
   ]
  },
  {
   "cell_type": "code",
   "execution_count": 141,
   "metadata": {
    "colab": {
     "base_uri": "https://localhost:8080/",
     "height": 34
    },
    "colab_type": "code",
    "executionInfo": {
     "elapsed": 4012,
     "status": "ok",
     "timestamp": 1596135309611,
     "user": {
      "displayName": "Filipe Alves Neto Verri",
      "photoUrl": "https://lh3.googleusercontent.com/a-/AOh14GiV7MMHmrkaugHXPDugQgeGecRd4s4T4ngvv5_A=s64",
      "userId": "07219587087217491568"
     },
     "user_tz": 180
    },
    "id": "16GH5n9j1T59",
    "outputId": "b9835c3e-4edb-467b-a6cd-3e76d2a08dbc"
   },
   "outputs": [
    {
     "name": "stdout",
     "output_type": "stream",
     "text": [
      "(26600, 19)\n"
     ]
    }
   ],
   "source": [
    "print(df_train1.shape)"
   ]
  },
  {
   "cell_type": "code",
   "execution_count": 142,
   "metadata": {},
   "outputs": [
    {
     "data": {
      "text/html": [
       "<div>\n",
       "<style scoped>\n",
       "    .dataframe tbody tr th:only-of-type {\n",
       "        vertical-align: middle;\n",
       "    }\n",
       "\n",
       "    .dataframe tbody tr th {\n",
       "        vertical-align: top;\n",
       "    }\n",
       "\n",
       "    .dataframe thead th {\n",
       "        text-align: right;\n",
       "    }\n",
       "</style>\n",
       "<table border=\"1\" class=\"dataframe\">\n",
       "  <thead>\n",
       "    <tr style=\"text-align: right;\">\n",
       "      <th></th>\n",
       "      <th>V1_size</th>\n",
       "      <th>V2_size</th>\n",
       "      <th>V3_size</th>\n",
       "      <th>V4_size</th>\n",
       "      <th>V5_size</th>\n",
       "      <th>V6_size</th>\n",
       "      <th>V7_size</th>\n",
       "      <th>V8_size</th>\n",
       "      <th>V9_size</th>\n",
       "      <th>V1_interval</th>\n",
       "      <th>V2_interval</th>\n",
       "      <th>V3_interval</th>\n",
       "      <th>V4_interval</th>\n",
       "      <th>V5_interval</th>\n",
       "      <th>V6_interval</th>\n",
       "      <th>V7_interval</th>\n",
       "      <th>V8_interval</th>\n",
       "      <th>V9_interval</th>\n",
       "      <th>classe</th>\n",
       "    </tr>\n",
       "  </thead>\n",
       "  <tbody>\n",
       "    <tr>\n",
       "      <th>0</th>\n",
       "      <td>0.000438</td>\n",
       "      <td>0.002101</td>\n",
       "      <td>0.000006</td>\n",
       "      <td>0.000003</td>\n",
       "      <td>6.5008</td>\n",
       "      <td>42.76100</td>\n",
       "      <td>0.016319</td>\n",
       "      <td>0.000003</td>\n",
       "      <td>0.002136</td>\n",
       "      <td>759.62</td>\n",
       "      <td>477.050</td>\n",
       "      <td>1130.0</td>\n",
       "      <td>0.000</td>\n",
       "      <td>-0.505190</td>\n",
       "      <td>-1.74200</td>\n",
       "      <td>1130</td>\n",
       "      <td>61</td>\n",
       "      <td>895.730</td>\n",
       "      <td>1</td>\n",
       "    </tr>\n",
       "    <tr>\n",
       "      <th>1</th>\n",
       "      <td>0.000388</td>\n",
       "      <td>0.000783</td>\n",
       "      <td>0.000130</td>\n",
       "      <td>0.000090</td>\n",
       "      <td>2.4140</td>\n",
       "      <td>3.95440</td>\n",
       "      <td>0.002615</td>\n",
       "      <td>0.000000</td>\n",
       "      <td>0.000870</td>\n",
       "      <td>86.32</td>\n",
       "      <td>35.631</td>\n",
       "      <td>62.0</td>\n",
       "      <td>0.000</td>\n",
       "      <td>0.760200</td>\n",
       "      <td>-1.43620</td>\n",
       "      <td>138</td>\n",
       "      <td>62</td>\n",
       "      <td>93.317</td>\n",
       "      <td>1</td>\n",
       "    </tr>\n",
       "    <tr>\n",
       "      <th>2</th>\n",
       "      <td>0.000142</td>\n",
       "      <td>0.000174</td>\n",
       "      <td>0.000100</td>\n",
       "      <td>0.000147</td>\n",
       "      <td>1.3829</td>\n",
       "      <td>0.91272</td>\n",
       "      <td>0.000585</td>\n",
       "      <td>0.000000</td>\n",
       "      <td>0.000224</td>\n",
       "      <td>103.47</td>\n",
       "      <td>40.320</td>\n",
       "      <td>138.0</td>\n",
       "      <td>22.239</td>\n",
       "      <td>-0.036313</td>\n",
       "      <td>-1.95700</td>\n",
       "      <td>153</td>\n",
       "      <td>62</td>\n",
       "      <td>110.970</td>\n",
       "      <td>1</td>\n",
       "    </tr>\n",
       "    <tr>\n",
       "      <th>3</th>\n",
       "      <td>0.000645</td>\n",
       "      <td>0.001331</td>\n",
       "      <td>0.000145</td>\n",
       "      <td>0.000073</td>\n",
       "      <td>3.9211</td>\n",
       "      <td>21.45700</td>\n",
       "      <td>0.009911</td>\n",
       "      <td>0.000007</td>\n",
       "      <td>0.001473</td>\n",
       "      <td>81.76</td>\n",
       "      <td>33.504</td>\n",
       "      <td>62.0</td>\n",
       "      <td>0.000</td>\n",
       "      <td>1.077900</td>\n",
       "      <td>-0.84623</td>\n",
       "      <td>138</td>\n",
       "      <td>62</td>\n",
       "      <td>88.295</td>\n",
       "      <td>1</td>\n",
       "    </tr>\n",
       "    <tr>\n",
       "      <th>4</th>\n",
       "      <td>0.000171</td>\n",
       "      <td>0.000218</td>\n",
       "      <td>0.000126</td>\n",
       "      <td>0.000053</td>\n",
       "      <td>2.6358</td>\n",
       "      <td>6.42960</td>\n",
       "      <td>0.000961</td>\n",
       "      <td>0.000003</td>\n",
       "      <td>0.000277</td>\n",
       "      <td>86.32</td>\n",
       "      <td>35.631</td>\n",
       "      <td>62.0</td>\n",
       "      <td>0.000</td>\n",
       "      <td>0.760200</td>\n",
       "      <td>-1.43620</td>\n",
       "      <td>138</td>\n",
       "      <td>62</td>\n",
       "      <td>93.317</td>\n",
       "      <td>1</td>\n",
       "    </tr>\n",
       "    <tr>\n",
       "      <th>...</th>\n",
       "      <td>...</td>\n",
       "      <td>...</td>\n",
       "      <td>...</td>\n",
       "      <td>...</td>\n",
       "      <td>...</td>\n",
       "      <td>...</td>\n",
       "      <td>...</td>\n",
       "      <td>...</td>\n",
       "      <td>...</td>\n",
       "      <td>...</td>\n",
       "      <td>...</td>\n",
       "      <td>...</td>\n",
       "      <td>...</td>\n",
       "      <td>...</td>\n",
       "      <td>...</td>\n",
       "      <td>...</td>\n",
       "      <td>...</td>\n",
       "      <td>...</td>\n",
       "      <td>...</td>\n",
       "    </tr>\n",
       "    <tr>\n",
       "      <th>995</th>\n",
       "      <td>0.000183</td>\n",
       "      <td>0.000288</td>\n",
       "      <td>0.000113</td>\n",
       "      <td>0.000166</td>\n",
       "      <td>2.2656</td>\n",
       "      <td>3.90820</td>\n",
       "      <td>0.001080</td>\n",
       "      <td>0.000000</td>\n",
       "      <td>0.000340</td>\n",
       "      <td>98.48</td>\n",
       "      <td>38.161</td>\n",
       "      <td>62.0</td>\n",
       "      <td>0.000</td>\n",
       "      <td>0.078866</td>\n",
       "      <td>-2.01360</td>\n",
       "      <td>138</td>\n",
       "      <td>62</td>\n",
       "      <td>105.550</td>\n",
       "      <td>1</td>\n",
       "    </tr>\n",
       "    <tr>\n",
       "      <th>996</th>\n",
       "      <td>0.000411</td>\n",
       "      <td>0.000827</td>\n",
       "      <td>0.000111</td>\n",
       "      <td>0.000153</td>\n",
       "      <td>2.2146</td>\n",
       "      <td>3.09680</td>\n",
       "      <td>0.002736</td>\n",
       "      <td>0.000003</td>\n",
       "      <td>0.000919</td>\n",
       "      <td>101.52</td>\n",
       "      <td>38.161</td>\n",
       "      <td>138.0</td>\n",
       "      <td>0.000</td>\n",
       "      <td>-0.078866</td>\n",
       "      <td>-2.01360</td>\n",
       "      <td>138</td>\n",
       "      <td>62</td>\n",
       "      <td>108.390</td>\n",
       "      <td>1</td>\n",
       "    </tr>\n",
       "    <tr>\n",
       "      <th>997</th>\n",
       "      <td>0.000273</td>\n",
       "      <td>0.001040</td>\n",
       "      <td>0.000021</td>\n",
       "      <td>0.000027</td>\n",
       "      <td>8.5203</td>\n",
       "      <td>77.42500</td>\n",
       "      <td>0.010123</td>\n",
       "      <td>0.000003</td>\n",
       "      <td>0.001070</td>\n",
       "      <td>103.80</td>\n",
       "      <td>38.000</td>\n",
       "      <td>138.0</td>\n",
       "      <td>0.000</td>\n",
       "      <td>-0.198000</td>\n",
       "      <td>-1.98030</td>\n",
       "      <td>138</td>\n",
       "      <td>62</td>\n",
       "      <td>110.470</td>\n",
       "      <td>1</td>\n",
       "    </tr>\n",
       "    <tr>\n",
       "      <th>998</th>\n",
       "      <td>0.000189</td>\n",
       "      <td>0.000273</td>\n",
       "      <td>0.000117</td>\n",
       "      <td>0.000159</td>\n",
       "      <td>2.1823</td>\n",
       "      <td>3.61670</td>\n",
       "      <td>0.001037</td>\n",
       "      <td>0.000004</td>\n",
       "      <td>0.000331</td>\n",
       "      <td>93.16</td>\n",
       "      <td>37.568</td>\n",
       "      <td>62.0</td>\n",
       "      <td>0.000</td>\n",
       "      <td>0.360500</td>\n",
       "      <td>-1.88860</td>\n",
       "      <td>138</td>\n",
       "      <td>62</td>\n",
       "      <td>100.380</td>\n",
       "      <td>1</td>\n",
       "    </tr>\n",
       "    <tr>\n",
       "      <th>999</th>\n",
       "      <td>0.000194</td>\n",
       "      <td>0.000374</td>\n",
       "      <td>0.000131</td>\n",
       "      <td>0.000128</td>\n",
       "      <td>5.4161</td>\n",
       "      <td>32.00300</td>\n",
       "      <td>0.002724</td>\n",
       "      <td>0.000003</td>\n",
       "      <td>0.000419</td>\n",
       "      <td>86.32</td>\n",
       "      <td>35.631</td>\n",
       "      <td>62.0</td>\n",
       "      <td>0.000</td>\n",
       "      <td>0.760200</td>\n",
       "      <td>-1.43620</td>\n",
       "      <td>138</td>\n",
       "      <td>62</td>\n",
       "      <td>93.317</td>\n",
       "      <td>1</td>\n",
       "    </tr>\n",
       "  </tbody>\n",
       "</table>\n",
       "<p>1000 rows × 19 columns</p>\n",
       "</div>"
      ],
      "text/plain": [
       "      V1_size   V2_size   V3_size   V4_size  V5_size   V6_size   V7_size  \\\n",
       "0    0.000438  0.002101  0.000006  0.000003   6.5008  42.76100  0.016319   \n",
       "1    0.000388  0.000783  0.000130  0.000090   2.4140   3.95440  0.002615   \n",
       "2    0.000142  0.000174  0.000100  0.000147   1.3829   0.91272  0.000585   \n",
       "3    0.000645  0.001331  0.000145  0.000073   3.9211  21.45700  0.009911   \n",
       "4    0.000171  0.000218  0.000126  0.000053   2.6358   6.42960  0.000961   \n",
       "..        ...       ...       ...       ...      ...       ...       ...   \n",
       "995  0.000183  0.000288  0.000113  0.000166   2.2656   3.90820  0.001080   \n",
       "996  0.000411  0.000827  0.000111  0.000153   2.2146   3.09680  0.002736   \n",
       "997  0.000273  0.001040  0.000021  0.000027   8.5203  77.42500  0.010123   \n",
       "998  0.000189  0.000273  0.000117  0.000159   2.1823   3.61670  0.001037   \n",
       "999  0.000194  0.000374  0.000131  0.000128   5.4161  32.00300  0.002724   \n",
       "\n",
       "      V8_size   V9_size  V1_interval  V2_interval  V3_interval  V4_interval  \\\n",
       "0    0.000003  0.002136       759.62      477.050       1130.0        0.000   \n",
       "1    0.000000  0.000870        86.32       35.631         62.0        0.000   \n",
       "2    0.000000  0.000224       103.47       40.320        138.0       22.239   \n",
       "3    0.000007  0.001473        81.76       33.504         62.0        0.000   \n",
       "4    0.000003  0.000277        86.32       35.631         62.0        0.000   \n",
       "..        ...       ...          ...          ...          ...          ...   \n",
       "995  0.000000  0.000340        98.48       38.161         62.0        0.000   \n",
       "996  0.000003  0.000919       101.52       38.161        138.0        0.000   \n",
       "997  0.000003  0.001070       103.80       38.000        138.0        0.000   \n",
       "998  0.000004  0.000331        93.16       37.568         62.0        0.000   \n",
       "999  0.000003  0.000419        86.32       35.631         62.0        0.000   \n",
       "\n",
       "     V5_interval  V6_interval  V7_interval  V8_interval  V9_interval  classe  \n",
       "0      -0.505190     -1.74200         1130           61      895.730       1  \n",
       "1       0.760200     -1.43620          138           62       93.317       1  \n",
       "2      -0.036313     -1.95700          153           62      110.970       1  \n",
       "3       1.077900     -0.84623          138           62       88.295       1  \n",
       "4       0.760200     -1.43620          138           62       93.317       1  \n",
       "..           ...          ...          ...          ...          ...     ...  \n",
       "995     0.078866     -2.01360          138           62      105.550       1  \n",
       "996    -0.078866     -2.01360          138           62      108.390       1  \n",
       "997    -0.198000     -1.98030          138           62      110.470       1  \n",
       "998     0.360500     -1.88860          138           62      100.380       1  \n",
       "999     0.760200     -1.43620          138           62       93.317       1  \n",
       "\n",
       "[1000 rows x 19 columns]"
      ]
     },
     "execution_count": 142,
     "metadata": {},
     "output_type": "execute_result"
    }
   ],
   "source": [
    "df_train1.head(1000)"
   ]
  },
  {
   "cell_type": "code",
   "execution_count": null,
   "metadata": {},
   "outputs": [],
   "source": []
  },
  {
   "cell_type": "code",
   "execution_count": 143,
   "metadata": {},
   "outputs": [
    {
     "data": {
      "text/plain": [
       "1    0.533\n",
       "0    0.467\n",
       "Name: classe, dtype: float64"
      ]
     },
     "execution_count": 143,
     "metadata": {},
     "output_type": "execute_result"
    }
   ],
   "source": [
    "import seaborn as sns\n",
    "df_train1.classe.value_counts(normalize=True).round(3)"
   ]
  },
  {
   "cell_type": "code",
   "execution_count": 144,
   "metadata": {},
   "outputs": [],
   "source": [
    "df_train_noduplicates = df_train1.drop_duplicates()"
   ]
  },
  {
   "cell_type": "code",
   "execution_count": 145,
   "metadata": {},
   "outputs": [
    {
     "name": "stdout",
     "output_type": "stream",
     "text": [
      "Resultante com duplicados (26600, 19)\n",
      "Resultante sem duplicados (23181, 19)\n",
      "Total de valores duplicados: -3419\n"
     ]
    }
   ],
   "source": [
    "print(f'Resultante com duplicados {df_train1.shape}')\n",
    "print(f'Resultante sem duplicados {df_train_noduplicates.shape}')\n",
    "print(f'Total de valores duplicados: {df_train_noduplicates.shape[0]-df_train1.shape[0]}')"
   ]
  },
  {
   "cell_type": "code",
   "execution_count": 146,
   "metadata": {},
   "outputs": [],
   "source": [
    "y= df_train_noduplicates.classe.to_numpy()"
   ]
  },
  {
   "cell_type": "code",
   "execution_count": 147,
   "metadata": {},
   "outputs": [
    {
     "data": {
      "text/plain": [
       "array([1, 1, 1, ..., 1, 1, 1])"
      ]
     },
     "execution_count": 147,
     "metadata": {},
     "output_type": "execute_result"
    }
   ],
   "source": [
    "y"
   ]
  },
  {
   "cell_type": "code",
   "execution_count": 148,
   "metadata": {},
   "outputs": [
    {
     "name": "stdout",
     "output_type": "stream",
     "text": [
      "Counter({1: 14171, 0: 9010})\n"
     ]
    }
   ],
   "source": [
    "from collections import Counter\n",
    "print(Counter(y))"
   ]
  },
  {
   "cell_type": "markdown",
   "metadata": {},
   "source": [
    "### Balanceando"
   ]
  },
  {
   "cell_type": "code",
   "execution_count": 149,
   "metadata": {},
   "outputs": [
    {
     "name": "stdout",
     "output_type": "stream",
     "text": [
      "Counter({0: 9010, 1: 9010})\n"
     ]
    }
   ],
   "source": [
    "from imblearn.under_sampling import RandomUnderSampler\n",
    "df_train_noduplicates = df_train_noduplicates.drop(['classe'], axis=1)\n",
    "\n",
    "undersample = RandomUnderSampler(sampling_strategy='majority')\n",
    "X_balanced, y_balanced = undersample.fit_resample(df_train_noduplicates, y)\n",
    "from collections import Counter\n",
    "print(Counter(y_balanced))"
   ]
  },
  {
   "cell_type": "markdown",
   "metadata": {
    "colab": {
     "base_uri": "https://localhost:8080/",
     "height": 34
    },
    "colab_type": "code",
    "executionInfo": {
     "elapsed": 576,
     "status": "ok",
     "timestamp": 1596135384458,
     "user": {
      "displayName": "Filipe Alves Neto Verri",
      "photoUrl": "https://lh3.googleusercontent.com/a-/AOh14GiV7MMHmrkaugHXPDugQgeGecRd4s4T4ngvv5_A=s64",
      "userId": "07219587087217491568"
     },
     "user_tz": 180
    },
    "id": "mB6fuQG4Wyjr",
    "outputId": "95e3f970-ccae-48cf-ae1c-16d5a5e56eda"
   },
   "source": [
    "### Normalizando por padronização\n",
    "\n"
   ]
  },
  {
   "cell_type": "code",
   "execution_count": 150,
   "metadata": {},
   "outputs": [
    {
     "data": {
      "text/html": [
       "<div>\n",
       "<style scoped>\n",
       "    .dataframe tbody tr th:only-of-type {\n",
       "        vertical-align: middle;\n",
       "    }\n",
       "\n",
       "    .dataframe tbody tr th {\n",
       "        vertical-align: top;\n",
       "    }\n",
       "\n",
       "    .dataframe thead th {\n",
       "        text-align: right;\n",
       "    }\n",
       "</style>\n",
       "<table border=\"1\" class=\"dataframe\">\n",
       "  <thead>\n",
       "    <tr style=\"text-align: right;\">\n",
       "      <th></th>\n",
       "      <th>V1_size</th>\n",
       "      <th>V2_size</th>\n",
       "      <th>V3_size</th>\n",
       "      <th>V4_size</th>\n",
       "      <th>V5_size</th>\n",
       "      <th>V6_size</th>\n",
       "      <th>V7_size</th>\n",
       "      <th>V8_size</th>\n",
       "      <th>V9_size</th>\n",
       "      <th>V1_interval</th>\n",
       "      <th>V2_interval</th>\n",
       "      <th>V3_interval</th>\n",
       "      <th>V4_interval</th>\n",
       "      <th>V5_interval</th>\n",
       "      <th>V6_interval</th>\n",
       "      <th>V7_interval</th>\n",
       "      <th>V8_interval</th>\n",
       "      <th>V9_interval</th>\n",
       "    </tr>\n",
       "  </thead>\n",
       "  <tbody>\n",
       "    <tr>\n",
       "      <th>0</th>\n",
       "      <td>-0.059400</td>\n",
       "      <td>-0.039945</td>\n",
       "      <td>-0.011680</td>\n",
       "      <td>-0.060567</td>\n",
       "      <td>-0.479352</td>\n",
       "      <td>-0.585932</td>\n",
       "      <td>-0.036366</td>\n",
       "      <td>0.263475</td>\n",
       "      <td>-0.040440</td>\n",
       "      <td>-0.820614</td>\n",
       "      <td>-0.024218</td>\n",
       "      <td>-0.994866</td>\n",
       "      <td>-0.500539</td>\n",
       "      <td>1.469336</td>\n",
       "      <td>0.096846</td>\n",
       "      <td>0.513725</td>\n",
       "      <td>0.309770</td>\n",
       "      <td>-0.682679</td>\n",
       "    </tr>\n",
       "    <tr>\n",
       "      <th>1</th>\n",
       "      <td>0.008028</td>\n",
       "      <td>-0.018651</td>\n",
       "      <td>-0.008354</td>\n",
       "      <td>-0.000672</td>\n",
       "      <td>0.285885</td>\n",
       "      <td>0.000135</td>\n",
       "      <td>-0.021943</td>\n",
       "      <td>0.263475</td>\n",
       "      <td>-0.018018</td>\n",
       "      <td>-0.870009</td>\n",
       "      <td>-0.581182</td>\n",
       "      <td>-0.965931</td>\n",
       "      <td>-0.353305</td>\n",
       "      <td>2.016354</td>\n",
       "      <td>1.004850</td>\n",
       "      <td>0.513725</td>\n",
       "      <td>0.309770</td>\n",
       "      <td>-0.885268</td>\n",
       "    </tr>\n",
       "    <tr>\n",
       "      <th>2</th>\n",
       "      <td>-0.020340</td>\n",
       "      <td>-0.006503</td>\n",
       "      <td>-0.015291</td>\n",
       "      <td>-0.110243</td>\n",
       "      <td>2.466324</td>\n",
       "      <td>2.886089</td>\n",
       "      <td>-0.002510</td>\n",
       "      <td>0.307174</td>\n",
       "      <td>-0.006969</td>\n",
       "      <td>-0.703963</td>\n",
       "      <td>-0.297421</td>\n",
       "      <td>-0.991820</td>\n",
       "      <td>-0.485040</td>\n",
       "      <td>0.828827</td>\n",
       "      <td>-0.281279</td>\n",
       "      <td>0.027263</td>\n",
       "      <td>0.309770</td>\n",
       "      <td>-0.681221</td>\n",
       "    </tr>\n",
       "    <tr>\n",
       "      <th>3</th>\n",
       "      <td>0.226490</td>\n",
       "      <td>0.048873</td>\n",
       "      <td>-0.015547</td>\n",
       "      <td>-0.116704</td>\n",
       "      <td>0.329594</td>\n",
       "      <td>0.242897</td>\n",
       "      <td>0.033200</td>\n",
       "      <td>0.205210</td>\n",
       "      <td>0.053278</td>\n",
       "      <td>-0.782836</td>\n",
       "      <td>-0.487695</td>\n",
       "      <td>-0.933189</td>\n",
       "      <td>-0.186695</td>\n",
       "      <td>1.108518</td>\n",
       "      <td>-0.109604</td>\n",
       "      <td>-0.048170</td>\n",
       "      <td>0.309770</td>\n",
       "      <td>-0.792446</td>\n",
       "    </tr>\n",
       "    <tr>\n",
       "      <th>4</th>\n",
       "      <td>-0.045884</td>\n",
       "      <td>-0.033211</td>\n",
       "      <td>-0.013976</td>\n",
       "      <td>-0.095948</td>\n",
       "      <td>1.435247</td>\n",
       "      <td>1.461799</td>\n",
       "      <td>-0.030066</td>\n",
       "      <td>0.248909</td>\n",
       "      <td>-0.033608</td>\n",
       "      <td>0.706077</td>\n",
       "      <td>0.916634</td>\n",
       "      <td>1.085380</td>\n",
       "      <td>-0.438544</td>\n",
       "      <td>-0.026749</td>\n",
       "      <td>-0.445200</td>\n",
       "      <td>0.698457</td>\n",
       "      <td>0.348498</td>\n",
       "      <td>0.752408</td>\n",
       "    </tr>\n",
       "    <tr>\n",
       "      <th>...</th>\n",
       "      <td>...</td>\n",
       "      <td>...</td>\n",
       "      <td>...</td>\n",
       "      <td>...</td>\n",
       "      <td>...</td>\n",
       "      <td>...</td>\n",
       "      <td>...</td>\n",
       "      <td>...</td>\n",
       "      <td>...</td>\n",
       "      <td>...</td>\n",
       "      <td>...</td>\n",
       "      <td>...</td>\n",
       "      <td>...</td>\n",
       "      <td>...</td>\n",
       "      <td>...</td>\n",
       "      <td>...</td>\n",
       "      <td>...</td>\n",
       "      <td>...</td>\n",
       "    </tr>\n",
       "    <tr>\n",
       "      <th>18015</th>\n",
       "      <td>-0.062327</td>\n",
       "      <td>-0.040549</td>\n",
       "      <td>-0.015888</td>\n",
       "      <td>-0.117967</td>\n",
       "      <td>-1.035965</td>\n",
       "      <td>-0.909860</td>\n",
       "      <td>-0.036709</td>\n",
       "      <td>-0.581372</td>\n",
       "      <td>-0.041121</td>\n",
       "      <td>-1.282566</td>\n",
       "      <td>-1.208046</td>\n",
       "      <td>-1.122787</td>\n",
       "      <td>-0.500539</td>\n",
       "      <td>0.178158</td>\n",
       "      <td>-0.476705</td>\n",
       "      <td>-1.546042</td>\n",
       "      <td>-0.722965</td>\n",
       "      <td>-1.366795</td>\n",
       "    </tr>\n",
       "    <tr>\n",
       "      <th>18016</th>\n",
       "      <td>-0.062330</td>\n",
       "      <td>-0.040555</td>\n",
       "      <td>-0.015758</td>\n",
       "      <td>-0.118267</td>\n",
       "      <td>-1.294764</td>\n",
       "      <td>-0.931830</td>\n",
       "      <td>-0.036711</td>\n",
       "      <td>-0.508540</td>\n",
       "      <td>-0.041126</td>\n",
       "      <td>-1.355912</td>\n",
       "      <td>-1.343024</td>\n",
       "      <td>-1.238526</td>\n",
       "      <td>-0.500539</td>\n",
       "      <td>0.385929</td>\n",
       "      <td>-0.468697</td>\n",
       "      <td>-1.653802</td>\n",
       "      <td>-0.722965</td>\n",
       "      <td>-1.447994</td>\n",
       "    </tr>\n",
       "    <tr>\n",
       "      <th>18017</th>\n",
       "      <td>-0.062314</td>\n",
       "      <td>-0.040548</td>\n",
       "      <td>-0.015717</td>\n",
       "      <td>-0.115914</td>\n",
       "      <td>-0.805198</td>\n",
       "      <td>-0.803079</td>\n",
       "      <td>-0.036708</td>\n",
       "      <td>-0.574089</td>\n",
       "      <td>-0.041119</td>\n",
       "      <td>-1.313518</td>\n",
       "      <td>-1.217614</td>\n",
       "      <td>-1.238526</td>\n",
       "      <td>-0.500539</td>\n",
       "      <td>0.559331</td>\n",
       "      <td>-0.437759</td>\n",
       "      <td>-1.546042</td>\n",
       "      <td>-0.722965</td>\n",
       "      <td>-1.395536</td>\n",
       "    </tr>\n",
       "    <tr>\n",
       "      <th>18018</th>\n",
       "      <td>-0.061154</td>\n",
       "      <td>-0.040214</td>\n",
       "      <td>-0.015585</td>\n",
       "      <td>-0.113248</td>\n",
       "      <td>-0.184461</td>\n",
       "      <td>-0.219478</td>\n",
       "      <td>-0.036487</td>\n",
       "      <td>-0.590643</td>\n",
       "      <td>-0.040764</td>\n",
       "      <td>0.307153</td>\n",
       "      <td>1.247080</td>\n",
       "      <td>0.729027</td>\n",
       "      <td>1.142300</td>\n",
       "      <td>0.065765</td>\n",
       "      <td>-0.256626</td>\n",
       "      <td>0.658432</td>\n",
       "      <td>-0.632601</td>\n",
       "      <td>0.515708</td>\n",
       "    </tr>\n",
       "    <tr>\n",
       "      <th>18019</th>\n",
       "      <td>-0.057214</td>\n",
       "      <td>-0.039971</td>\n",
       "      <td>0.004397</td>\n",
       "      <td>0.157940</td>\n",
       "      <td>-1.257343</td>\n",
       "      <td>-0.816219</td>\n",
       "      <td>-0.036486</td>\n",
       "      <td>-0.588131</td>\n",
       "      <td>-0.040317</td>\n",
       "      <td>-1.248356</td>\n",
       "      <td>-1.201063</td>\n",
       "      <td>-1.198931</td>\n",
       "      <td>-0.485040</td>\n",
       "      <td>0.408475</td>\n",
       "      <td>-0.258862</td>\n",
       "      <td>-1.476767</td>\n",
       "      <td>-0.568055</td>\n",
       "      <td>-1.335380</td>\n",
       "    </tr>\n",
       "  </tbody>\n",
       "</table>\n",
       "<p>18020 rows × 18 columns</p>\n",
       "</div>"
      ],
      "text/plain": [
       "        V1_size   V2_size   V3_size   V4_size   V5_size   V6_size   V7_size  \\\n",
       "0     -0.059400 -0.039945 -0.011680 -0.060567 -0.479352 -0.585932 -0.036366   \n",
       "1      0.008028 -0.018651 -0.008354 -0.000672  0.285885  0.000135 -0.021943   \n",
       "2     -0.020340 -0.006503 -0.015291 -0.110243  2.466324  2.886089 -0.002510   \n",
       "3      0.226490  0.048873 -0.015547 -0.116704  0.329594  0.242897  0.033200   \n",
       "4     -0.045884 -0.033211 -0.013976 -0.095948  1.435247  1.461799 -0.030066   \n",
       "...         ...       ...       ...       ...       ...       ...       ...   \n",
       "18015 -0.062327 -0.040549 -0.015888 -0.117967 -1.035965 -0.909860 -0.036709   \n",
       "18016 -0.062330 -0.040555 -0.015758 -0.118267 -1.294764 -0.931830 -0.036711   \n",
       "18017 -0.062314 -0.040548 -0.015717 -0.115914 -0.805198 -0.803079 -0.036708   \n",
       "18018 -0.061154 -0.040214 -0.015585 -0.113248 -0.184461 -0.219478 -0.036487   \n",
       "18019 -0.057214 -0.039971  0.004397  0.157940 -1.257343 -0.816219 -0.036486   \n",
       "\n",
       "        V8_size   V9_size  V1_interval  V2_interval  V3_interval  V4_interval  \\\n",
       "0      0.263475 -0.040440    -0.820614    -0.024218    -0.994866    -0.500539   \n",
       "1      0.263475 -0.018018    -0.870009    -0.581182    -0.965931    -0.353305   \n",
       "2      0.307174 -0.006969    -0.703963    -0.297421    -0.991820    -0.485040   \n",
       "3      0.205210  0.053278    -0.782836    -0.487695    -0.933189    -0.186695   \n",
       "4      0.248909 -0.033608     0.706077     0.916634     1.085380    -0.438544   \n",
       "...         ...       ...          ...          ...          ...          ...   \n",
       "18015 -0.581372 -0.041121    -1.282566    -1.208046    -1.122787    -0.500539   \n",
       "18016 -0.508540 -0.041126    -1.355912    -1.343024    -1.238526    -0.500539   \n",
       "18017 -0.574089 -0.041119    -1.313518    -1.217614    -1.238526    -0.500539   \n",
       "18018 -0.590643 -0.040764     0.307153     1.247080     0.729027     1.142300   \n",
       "18019 -0.588131 -0.040317    -1.248356    -1.201063    -1.198931    -0.485040   \n",
       "\n",
       "       V5_interval  V6_interval  V7_interval  V8_interval  V9_interval  \n",
       "0         1.469336     0.096846     0.513725     0.309770    -0.682679  \n",
       "1         2.016354     1.004850     0.513725     0.309770    -0.885268  \n",
       "2         0.828827    -0.281279     0.027263     0.309770    -0.681221  \n",
       "3         1.108518    -0.109604    -0.048170     0.309770    -0.792446  \n",
       "4        -0.026749    -0.445200     0.698457     0.348498     0.752408  \n",
       "...            ...          ...          ...          ...          ...  \n",
       "18015     0.178158    -0.476705    -1.546042    -0.722965    -1.366795  \n",
       "18016     0.385929    -0.468697    -1.653802    -0.722965    -1.447994  \n",
       "18017     0.559331    -0.437759    -1.546042    -0.722965    -1.395536  \n",
       "18018     0.065765    -0.256626     0.658432    -0.632601     0.515708  \n",
       "18019     0.408475    -0.258862    -1.476767    -0.568055    -1.335380  \n",
       "\n",
       "[18020 rows x 18 columns]"
      ]
     },
     "execution_count": 150,
     "metadata": {},
     "output_type": "execute_result"
    }
   ],
   "source": [
    "from sklearn.preprocessing import MinMaxScaler, StandardScaler\n",
    "scaler = StandardScaler()\n",
    "Xstd = scaler.fit_transform(X_balanced)\n",
    "df_balanced_stand = pd.DataFrame(Xstd, columns=X_balanced.columns, index=X_balanced.index)\n",
    "df_balanced_stand"
   ]
  },
  {
   "cell_type": "code",
   "execution_count": 161,
   "metadata": {},
   "outputs": [
    {
     "name": "stdout",
     "output_type": "stream",
     "text": [
      "X:(18020, 18) y:(18020,) \n"
     ]
    }
   ],
   "source": [
    "X = df_balanced_stand\n",
    "y = y_balanced\n",
    "print(f'X:{X.shape} y:{y.shape} ')\n",
    "\n"
   ]
  },
  {
   "cell_type": "code",
   "execution_count": 163,
   "metadata": {},
   "outputs": [
    {
     "name": "stdout",
     "output_type": "stream",
     "text": [
      "X_train:(9010, 18) y_train:(9010,) \n",
      "Counter({1: 4505, 0: 4505})\n",
      "X_test:(9010, 18) y_test:(9010,) \n",
      "Counter({1: 4505, 0: 4505})\n"
     ]
    }
   ],
   "source": [
    "from sklearn.model_selection import train_test_split\n",
    "# split into train test sets\n",
    "#X_train, X_test, y_train, y_test = train_test_split(X, y, test_size=0.33)\n",
    "X_train, X_test, y_train, y_test = train_test_split(X, y, test_size=0.50, random_state=1, stratify=y)\n",
    "\n",
    "print(f'X_train:{X_train.shape} y_train:{y_train.shape} ')\n",
    "print(Counter(y_train))\n",
    "print(f'X_test:{X_test.shape} y_test:{y_test.shape} ')\n",
    "print(Counter(y_test))"
   ]
  },
  {
   "cell_type": "markdown",
   "metadata": {
    "colab": {},
    "colab_type": "code",
    "executionInfo": {
     "elapsed": 506,
     "status": "ok",
     "timestamp": 1596135405133,
     "user": {
      "displayName": "Filipe Alves Neto Verri",
      "photoUrl": "https://lh3.googleusercontent.com/a-/AOh14GiV7MMHmrkaugHXPDugQgeGecRd4s4T4ngvv5_A=s64",
      "userId": "07219587087217491568"
     },
     "user_tz": 180
    },
    "id": "PDwOJhnVzYn5"
   },
   "source": [
    "## Semente aleatória para reproducibilidade dos experimentos (reproducão dos experimentos)\n",
    "seed = 17"
   ]
  },
  {
   "cell_type": "code",
   "execution_count": 155,
   "metadata": {
    "colab": {},
    "colab_type": "code",
    "executionInfo": {
     "elapsed": 931,
     "status": "ok",
     "timestamp": 1596135531624,
     "user": {
      "displayName": "Filipe Alves Neto Verri",
      "photoUrl": "https://lh3.googleusercontent.com/a-/AOh14GiV7MMHmrkaugHXPDugQgeGecRd4s4T4ngvv5_A=s64",
      "userId": "07219587087217491568"
     },
     "user_tz": 180
    },
    "id": "F2Jj5yQMzeoB"
   },
   "outputs": [],
   "source": [
    "from sklearn.neighbors import KNeighborsClassifier\n",
    "from sklearn.tree import DecisionTreeClassifier\n",
    "from sklearn.naive_bayes import GaussianNB\n",
    "from sklearn.svm import SVC\n",
    "seed = 17\n",
    "from sklearn.pipeline import Pipeline\n",
    "\n",
    "from sklearn.impute import SimpleImputer\n",
    "from sklearn.preprocessing import MinMaxScaler, StandardScaler\n",
    "from sklearn.feature_selection import VarianceThreshold, SelectKBest\n",
    "from sklearn.decomposition import PCA\n",
    "\n",
    "from sklearn.model_selection import GridSearchCV, StratifiedKFold\n",
    "from sklearn.metrics import accuracy_score, precision_score, recall_score, f1_score\n",
    "from sklearn.metrics import make_scorer"
   ]
  },
  {
   "cell_type": "code",
   "execution_count": 156,
   "metadata": {
    "colab": {},
    "colab_type": "code",
    "executionInfo": {
     "elapsed": 548,
     "status": "ok",
     "timestamp": 1596137475127,
     "user": {
      "displayName": "Filipe Alves Neto Verri",
      "photoUrl": "https://lh3.googleusercontent.com/a-/AOh14GiV7MMHmrkaugHXPDugQgeGecRd4s4T4ngvv5_A=s64",
      "userId": "07219587087217491568"
     },
     "user_tz": 180
    },
    "id": "KfxgDLw00yh2"
   },
   "outputs": [],
   "source": [
    "scorer = make_scorer(accuracy_score) # Teste outras\n",
    "\n",
    "cv = StratifiedKFold(n_splits=10, shuffle=True, random_state=seed)\n",
    "\n",
    "gscv = StratifiedKFold(n_splits=3, shuffle=True, random_state=seed)\n",
    "\n",
    "algorithms = {\n",
    "    'tree':  GridSearchCV(\n",
    "        Pipeline([\n",
    "            #('imputer', SimpleImputer(strategy='mean')),\n",
    "            ('tree', DecisionTreeClassifier(random_state=seed))]), \n",
    "        param_grid={\n",
    "            'tree__max_depth': [3, 4, 5],\n",
    "            'tree__criterion': ['entropy', 'gini'],\n",
    "        },\n",
    "        scoring=scorer,\n",
    "        cv=gscv),\n",
    "    'bigtree':  GridSearchCV(\n",
    "        Pipeline([\n",
    "            #('imputer', SimpleImputer(strategy='mean')),\n",
    "            ('tree', DecisionTreeClassifier(max_depth=None, min_samples_split=2, random_state=seed))]), \n",
    "        param_grid={\n",
    "            'tree__criterion': ['entropy', 'gini'],\n",
    "        },\n",
    "        scoring=scorer,\n",
    "        cv=gscv),\n",
    "    'kNN':  GridSearchCV(\n",
    "        Pipeline([\n",
    "            #('imputer', SimpleImputer(strategy='mean')),\n",
    "            #('scaler', MinMaxScaler(feature_range=(0, 1))),\n",
    "            ('selector', VarianceThreshold()),\n",
    "            ('knn', KNeighborsClassifier())]), \n",
    "        param_grid={\n",
    "            'selector__threshold': [0, 0.01, 0.02, 0.03],\n",
    "            'knn__n_neighbors': [1, 3, 5],\n",
    "            'knn__p': [1, 2],\n",
    "        },\n",
    "        scoring=scorer,\n",
    "        cv=gscv),\n",
    "    'nb': GridSearchCV(\n",
    "        Pipeline([\n",
    "            #('imputer', SimpleImputer(strategy='mean')),\n",
    "            ('selector', SelectKBest()),\n",
    "            ('nb', GaussianNB())]), \n",
    "        param_grid={\n",
    "            'selector__k': [3, 5, 10],\n",
    "        },\n",
    "        scoring=scorer,\n",
    "        cv=gscv),\n",
    "    'svmlinear': GridSearchCV(\n",
    "        Pipeline([\n",
    "            #('imputer', SimpleImputer(strategy='mean')),\n",
    "            #('scaler', StandardScaler()),\n",
    "            ('pca', PCA()),\n",
    "            ('svm', SVC(kernel='linear', random_state=seed))]), \n",
    "        param_grid={\n",
    "            'pca__n_components': [2, 5, 10],\n",
    "            'svm__C': [1.0, 2.0],\n",
    "        },\n",
    "        scoring=scorer,\n",
    "        cv=gscv),\n",
    "    'svmrbf': GridSearchCV(\n",
    "        Pipeline([\n",
    "            #('imputer', SimpleImputer(strategy='mean')),\n",
    "            #('scaler', StandardScaler()),\n",
    "            ('pca', PCA(random_state=seed)),\n",
    "            ('svm', SVC(kernel='rbf', random_state=seed))]), \n",
    "        param_grid={\n",
    "            'pca__n_components': [2, 5, 10],\n",
    "            'svm__C': [1.0, 2.0],\n",
    "            'svm__gamma': [0.1, 1.0, 2.0],\n",
    "        },\n",
    "        scoring=scorer,\n",
    "        cv=gscv),\n",
    "}"
   ]
  },
  {
   "cell_type": "code",
   "execution_count": 157,
   "metadata": {},
   "outputs": [],
   "source": [
    "import time"
   ]
  },
  {
   "cell_type": "code",
   "execution_count": 159,
   "metadata": {
    "colab": {},
    "colab_type": "code",
    "executionInfo": {
     "elapsed": 15742,
     "status": "ok",
     "timestamp": 1596137490809,
     "user": {
      "displayName": "Filipe Alves Neto Verri",
      "photoUrl": "https://lh3.googleusercontent.com/a-/AOh14GiV7MMHmrkaugHXPDugQgeGecRd4s4T4ngvv5_A=s64",
      "userId": "07219587087217491568"
     },
     "user_tz": 180
    },
    "id": "Xpvrx3kqyUii"
   },
   "outputs": [
    {
     "name": "stdout",
     "output_type": "stream",
     "text": [
      "Train with algorithm 1: tree\n",
      "it took 2.1525657176971436 seconds.\n",
      "Train with algorithm 2: bigtree\n",
      "it took 0.7268269062042236 seconds.\n",
      "Train with algorithm 3: kNN\n",
      "it took 248.53992700576782 seconds.\n",
      "Train with algorithm 4: nb\n",
      "it took 0.739300012588501 seconds.\n",
      "Train with algorithm 5: svmlinear\n",
      "it took 58.26070713996887 seconds.\n",
      "Train with algorithm 6: svmrbf\n",
      "it took 261.29730772972107 seconds.\n"
     ]
    }
   ],
   "source": [
    "from sklearn.model_selection import cross_val_predict, cross_val_score\n",
    "# df_balanced_stand, y_balanced \n",
    "result = {}\n",
    "result_score = {}\n",
    "i = 1\n",
    "# X_train, X_test, y_train, y_test\n",
    "\n",
    "for alg, clf in algorithms.items():\n",
    "    start = time.time()\n",
    "    print(f'Train with algorithm {i}: {alg}')\n",
    "    i += 1\n",
    "    result[alg] = cross_val_predict(clf, X_train, y_train)\n",
    "    #result_score[alg] = cross_val_score(clf, X, y)\n",
    "    #print(result_score)\n",
    "    print(f\"it took {time.time() - start} seconds.\")"
   ]
  },
  {
   "cell_type": "markdown",
   "metadata": {},
   "source": [
    "### Testing with knn\n"
   ]
  },
  {
   "cell_type": "code",
   "execution_count": null,
   "metadata": {},
   "outputs": [],
   "source": [
    "import numpy as np\n",
    "from sklearn.model_selection import StratifiedKFold\n",
    "X = df_balanced_stand\n",
    "y = y_balanced\n",
    "skf = StratifiedKFold(n_splits=3)\n",
    "skf.get_n_splits(X, y)\n",
    "\n",
    "print(skf)\n",
    "\n",
    "knn3 = KNeighborsClassifier(n_neighbors=2, p=2) \n",
    "\n",
    "for train_index, test_index in skf.split(X, y):\n",
    "    print(\"TRAIN:\", train_index, f'shape {train_index.shape}' ,\"TEST:\", test_index,f'shape {test_index.shape}'  )\n",
    "    # spliting dataset\n",
    "    X_train, X_test = X[train_index], X[test_index]\n",
    "    y_train, y_test = y[train_index], y[test_index]\n",
    "    \n",
    "    print('Fitting data')\n",
    "    knn3.fit(X_train, y_train)\n",
    "    print('Predicting data')\n",
    "    ypredicted = knn3.predict(X_test)\n",
    "    print(np.count_nonzero(y_test == ypredicted), f\"out of {ypredicted.shape}\")\n",
    "\n"
   ]
  },
  {
   "cell_type": "code",
   "execution_count": 120,
   "metadata": {
    "colab": {
     "base_uri": "https://localhost:8080/",
     "height": 209
    },
    "colab_type": "code",
    "executionInfo": {
     "elapsed": 15073,
     "status": "ok",
     "timestamp": 1596137490810,
     "user": {
      "displayName": "Filipe Alves Neto Verri",
      "photoUrl": "https://lh3.googleusercontent.com/a-/AOh14GiV7MMHmrkaugHXPDugQgeGecRd4s4T4ngvv5_A=s64",
      "userId": "07219587087217491568"
     },
     "user_tz": 180
    },
    "id": "KMPeyps98u-h",
    "outputId": "9d71ea7e-ab66-446f-b7a2-a4505ff1d66a"
   },
   "outputs": [
    {
     "data": {
      "text/plain": [
       "(18020, 6)"
      ]
     },
     "execution_count": 120,
     "metadata": {},
     "output_type": "execute_result"
    }
   ],
   "source": [
    "result = pd.DataFrame.from_dict(result)\n",
    "result.shape\n"
   ]
  },
  {
   "cell_type": "code",
   "execution_count": 164,
   "metadata": {},
   "outputs": [
    {
     "ename": "AttributeError",
     "evalue": "'dict' object has no attribute 'columns'",
     "output_type": "error",
     "traceback": [
      "\u001b[0;31m---------------------------------------------------------------------------\u001b[0m",
      "\u001b[0;31mAttributeError\u001b[0m                            Traceback (most recent call last)",
      "\u001b[0;32m<ipython-input-164-def222836f7e>\u001b[0m in \u001b[0;36m<module>\u001b[0;34m\u001b[0m\n\u001b[1;32m     11\u001b[0m \u001b[0;32mfor\u001b[0m \u001b[0mi\u001b[0m \u001b[0;32min\u001b[0m \u001b[0mrange\u001b[0m\u001b[0;34m(\u001b[0m\u001b[0mlen\u001b[0m\u001b[0;34m(\u001b[0m\u001b[0malgorithms\u001b[0m\u001b[0;34m)\u001b[0m\u001b[0;34m)\u001b[0m\u001b[0;34m:\u001b[0m\u001b[0;34m\u001b[0m\u001b[0;34m\u001b[0m\u001b[0m\n\u001b[1;32m     12\u001b[0m     \u001b[0;32mfor\u001b[0m \u001b[0mj\u001b[0m \u001b[0;32min\u001b[0m \u001b[0mrange\u001b[0m\u001b[0;34m(\u001b[0m\u001b[0mi\u001b[0m \u001b[0;34m+\u001b[0m \u001b[0;36m1\u001b[0m\u001b[0;34m,\u001b[0m \u001b[0mlen\u001b[0m\u001b[0;34m(\u001b[0m\u001b[0malgorithms\u001b[0m\u001b[0;34m)\u001b[0m\u001b[0;34m)\u001b[0m\u001b[0;34m:\u001b[0m\u001b[0;34m\u001b[0m\u001b[0;34m\u001b[0m\u001b[0m\n\u001b[0;32m---> 13\u001b[0;31m         \u001b[0mcorrerrors\u001b[0m\u001b[0;34m[\u001b[0m\u001b[0mi\u001b[0m\u001b[0;34m,\u001b[0m \u001b[0mj\u001b[0m\u001b[0;34m]\u001b[0m \u001b[0;34m=\u001b[0m \u001b[0mphi\u001b[0m\u001b[0;34m(\u001b[0m\u001b[0mresult\u001b[0m\u001b[0;34m[\u001b[0m\u001b[0mresult\u001b[0m\u001b[0;34m.\u001b[0m\u001b[0mcolumns\u001b[0m\u001b[0;34m[\u001b[0m\u001b[0mi\u001b[0m\u001b[0;34m]\u001b[0m\u001b[0;34m]\u001b[0m\u001b[0;34m,\u001b[0m \u001b[0mresult\u001b[0m\u001b[0;34m[\u001b[0m\u001b[0mresult\u001b[0m\u001b[0;34m.\u001b[0m\u001b[0mcolumns\u001b[0m\u001b[0;34m[\u001b[0m\u001b[0mj\u001b[0m\u001b[0;34m]\u001b[0m\u001b[0;34m]\u001b[0m\u001b[0;34m,\u001b[0m \u001b[0my_balanced\u001b[0m\u001b[0;34m)\u001b[0m\u001b[0;34m\u001b[0m\u001b[0;34m\u001b[0m\u001b[0m\n\u001b[0m\u001b[1;32m     14\u001b[0m         \u001b[0mcorrerrors\u001b[0m\u001b[0;34m[\u001b[0m\u001b[0mj\u001b[0m\u001b[0;34m,\u001b[0m \u001b[0mi\u001b[0m\u001b[0;34m]\u001b[0m \u001b[0;34m=\u001b[0m \u001b[0mcorrerrors\u001b[0m\u001b[0;34m[\u001b[0m\u001b[0mi\u001b[0m\u001b[0;34m,\u001b[0m \u001b[0mj\u001b[0m\u001b[0;34m]\u001b[0m\u001b[0;34m\u001b[0m\u001b[0;34m\u001b[0m\u001b[0m\n\u001b[1;32m     15\u001b[0m \u001b[0;34m\u001b[0m\u001b[0m\n",
      "\u001b[0;31mAttributeError\u001b[0m: 'dict' object has no attribute 'columns'"
     ]
    }
   ],
   "source": [
    "def phi(a, b, expected):\n",
    "    errors = np.logical_or(a != expected, b != expected)\n",
    "    try:\n",
    "        return np.count_nonzero(np.logical_and(a == b, errors)) / np.count_nonzero(errors)\n",
    "    except:\n",
    "        return 0\n",
    "\n",
    "# X_balanced, y_balanced\n",
    "correrrors = np.ones((len(algorithms), len(algorithms)))\n",
    "\n",
    "for i in range(len(algorithms)):\n",
    "    for j in range(i + 1, len(algorithms)):\n",
    "        correrrors[i, j] = phi(result[result.columns[i]], result[result.columns[j]], y_balanced)\n",
    "        correrrors[j, i] = correrrors[i, j]    \n",
    "        \n",
    "print(correrrors)"
   ]
  },
  {
   "cell_type": "code",
   "execution_count": 122,
   "metadata": {},
   "outputs": [
    {
     "data": {
      "image/png": "[encoded data removed]",
      "text/plain": [
       "<Figure size 432x288 with 1 Axes>"
      ]
     },
     "metadata": {
      "needs_background": "light"
     },
     "output_type": "display_data"
    }
   ],
   "source": [
    "import matplotlib.pyplot as plt\n",
    "\n",
    "\n",
    "fig, ax = plt.subplots()\n",
    "im = ax.imshow(correrrors)\n",
    "\n",
    "ax.set_xticks(np.arange(len(result.columns)))\n",
    "ax.set_yticks(np.arange(len(result.columns)))\n",
    "ax.set_xticklabels(result.columns)\n",
    "ax.set_yticklabels(result.columns)\n",
    "\n",
    "plt.setp(ax.get_xticklabels(), rotation=45, ha=\"right\",\n",
    "         rotation_mode=\"anchor\")\n",
    "\n",
    "for i in range(len(result.columns)):\n",
    "    for j in range(len(result.columns)):\n",
    "        text = ax.text(j, i, round(correrrors[i, j], 1),\n",
    "                       ha=\"center\", va=\"center\", color=\"w\")\n",
    "\n",
    "ax.set_title(\"Error correlation\")\n",
    "fig.tight_layout()\n",
    "plt.show()"
   ]
  },
  {
   "cell_type": "markdown",
   "metadata": {},
   "source": [
    "## Todos são melhores que a média?"
   ]
  },
  {
   "cell_type": "code",
   "execution_count": 123,
   "metadata": {},
   "outputs": [
    {
     "name": "stdout",
     "output_type": "stream",
     "text": [
      "0.5\n"
     ]
    }
   ],
   "source": [
    "# random classifier\n",
    "mode = lambda x: ss.mode(x).mode[0]\n",
    "random = np.mean(mode(y) == y)\n",
    "print(random)"
   ]
  },
  {
   "cell_type": "code",
   "execution_count": 124,
   "metadata": {},
   "outputs": [
    {
     "data": {
      "text/plain": [
       "tree         1.000000\n",
       "bigtree      1.000000\n",
       "kNN          0.999723\n",
       "nb           0.997614\n",
       "svmlinear    0.999945\n",
       "svmrbf       0.999723\n",
       "dtype: float64"
      ]
     },
     "execution_count": 124,
     "metadata": {},
     "output_type": "execute_result"
    }
   ],
   "source": [
    "result.apply(lambda ypred: np.mean(ypred == y_balanced))"
   ]
  },
  {
   "cell_type": "markdown",
   "metadata": {},
   "source": [
    "## Combinando classificadores"
   ]
  },
  {
   "cell_type": "code",
   "execution_count": 125,
   "metadata": {},
   "outputs": [],
   "source": [
    "result['kNN+tree+svmrbf'] = result.filter(['kNN', 'tree', 'svmrbf']).apply(mode, axis=1)\n",
    "result['nb+svmlinear+svmrbf'] = result.filter(['nb', 'svmlinear', 'svmrbf']).apply(mode, axis=1)\n",
    "result['kNN+bigtree+svmrbf'] = result.filter(['kNN', 'bigtree', 'svmrbf']).apply(mode, axis=1)"
   ]
  },
  {
   "cell_type": "code",
   "execution_count": 126,
   "metadata": {},
   "outputs": [
    {
     "data": {
      "text/plain": [
       "tree                   1.000000\n",
       "bigtree                1.000000\n",
       "kNN                    0.999723\n",
       "nb                     0.997614\n",
       "svmlinear              0.999945\n",
       "svmrbf                 0.999723\n",
       "kNN+tree+svmrbf        0.999778\n",
       "nb+svmlinear+svmrbf    0.999834\n",
       "kNN+bigtree+svmrbf     0.999778\n",
       "dtype: float64"
      ]
     },
     "execution_count": 126,
     "metadata": {},
     "output_type": "execute_result"
    }
   ],
   "source": [
    "result.apply(lambda ypred: np.mean(ypred == y_balanced))"
   ]
  },
  {
   "cell_type": "markdown",
   "metadata": {},
   "source": [
    "**nota**: podem existir outros casos de melhoras/pioras."
   ]
  },
  {
   "cell_type": "markdown",
   "metadata": {},
   "source": [
    "# Bagging, boosting, etc"
   ]
  },
  {
   "cell_type": "code",
   "execution_count": 129,
   "metadata": {},
   "outputs": [],
   "source": [
    "from sklearn.ensemble import RandomForestClassifier, ExtraTreesClassifier, BaggingClassifier, AdaBoostClassifier, GradientBoostingClassifier, VotingClassifier"
   ]
  },
  {
   "cell_type": "code",
   "execution_count": 130,
   "metadata": {},
   "outputs": [],
   "source": [
    "algorithms = {\n",
    "    'bagging':  \n",
    "        Pipeline([\n",
    "            ('imputer', SimpleImputer(strategy='mean')),\n",
    "            ('tree', BaggingClassifier(random_state=seed))]),\n",
    "    'forest':  \n",
    "        Pipeline([\n",
    "            ('imputer', SimpleImputer(strategy='mean')),\n",
    "            ('tree', RandomForestClassifier(random_state=seed))]),\n",
    "    #'kNN+tree+svmrbf':\n",
    "    #    VotingClassifier([ ])\n",
    "    # Testar outros\n",
    "}"
   ]
  },
  {
   "cell_type": "code",
   "execution_count": 131,
   "metadata": {},
   "outputs": [],
   "source": [
    "from sklearn.model_selection import cross_val_predict\n",
    "\n",
    "for alg, clf in algorithms.items():\n",
    "  result[alg] = cross_val_predict(clf, X, y, cv=cv)"
   ]
  },
  {
   "cell_type": "code",
   "execution_count": 132,
   "metadata": {},
   "outputs": [
    {
     "data": {
      "text/plain": [
       "tree                   1.000000\n",
       "bigtree                1.000000\n",
       "kNN                    0.999723\n",
       "nb                     0.997614\n",
       "svmlinear              0.999945\n",
       "svmrbf                 0.999723\n",
       "kNN+tree+svmrbf        0.999778\n",
       "nb+svmlinear+svmrbf    0.999834\n",
       "kNN+bigtree+svmrbf     0.999778\n",
       "bagging                1.000000\n",
       "forest                 1.000000\n",
       "dtype: float64"
      ]
     },
     "execution_count": 132,
     "metadata": {},
     "output_type": "execute_result"
    }
   ],
   "source": [
    "result.apply(lambda ypred: np.mean(ypred == y))"
   ]
  },
  {
   "cell_type": "markdown",
   "metadata": {},
   "source": [
    "### Rede neural\n",
    "X_train, X_test, y_train, y_test"
   ]
  },
  {
   "cell_type": "code",
   "execution_count": 189,
   "metadata": {},
   "outputs": [],
   "source": [
    "from sklearn.neural_network import MLPClassifier\n",
    "from skimage.transform import resize"
   ]
  },
  {
   "cell_type": "code",
   "execution_count": 190,
   "metadata": {},
   "outputs": [],
   "source": [
    "from sklearn.preprocessing import StandardScaler"
   ]
  },
  {
   "cell_type": "code",
   "execution_count": 191,
   "metadata": {},
   "outputs": [
    {
     "data": {
      "text/plain": [
       "MLPClassifier(early_stopping=True, hidden_layer_sizes=(30, 2), max_iter=1000,\n",
       "              random_state=17)"
      ]
     },
     "execution_count": 191,
     "metadata": {},
     "output_type": "execute_result"
    }
   ],
   "source": [
    "model = MLPClassifier(hidden_layer_sizes=(30, 2),\n",
    "                      activation='relu',\n",
    "                      solver='adam',\n",
    "                      max_iter=1000,\n",
    "                      random_state=17,\n",
    "                      early_stopping=True,\n",
    "                      validation_fraction=0.1)\n",
    "model.fit(X_train, y_train)"
   ]
  },
  {
   "cell_type": "code",
   "execution_count": 192,
   "metadata": {},
   "outputs": [],
   "source": [
    "from sklearn.metrics import accuracy_score"
   ]
  },
  {
   "cell_type": "code",
   "execution_count": 193,
   "metadata": {},
   "outputs": [],
   "source": [
    "ypredicted = model.predict(scaler.transform(X_test))"
   ]
  },
  {
   "cell_type": "code",
   "execution_count": 194,
   "metadata": {},
   "outputs": [
    {
     "name": "stdout",
     "output_type": "stream",
     "text": [
      "0.9693673695893452\n"
     ]
    }
   ],
   "source": [
    "print(accuracy_score(ypredicted, y_test))"
   ]
  },
  {
   "cell_type": "code",
   "execution_count": 187,
   "metadata": {},
   "outputs": [],
   "source": [
    "from sklearn.model_selection import cross_val_score"
   ]
  },
  {
   "cell_type": "code",
   "execution_count": 188,
   "metadata": {},
   "outputs": [
    {
     "name": "stdout",
     "output_type": "stream",
     "text": [
      "[0.99972253 0.99889012 0.99972253 0.99944506 0.99972253]\n"
     ]
    }
   ],
   "source": [
    "print(cross_val_score(model, X, y))"
   ]
  },
  {
   "cell_type": "code",
   "execution_count": null,
   "metadata": {},
   "outputs": [],
   "source": []
  }
 ],
 "metadata": {
  "colab": {
   "authorship_tag": "ABX9TyMfuXOITPqRU+OfypdQG86j",
   "name": "10 - Avaliação Preditivo.ipynb",
   "provenance": []
  },
  "kernelspec": {
   "display_name": "Python 3",
   "language": "python",
   "name": "python3"
  },
  "language_info": {
   "codemirror_mode": {
    "name": "ipython",
    "version": 3
   },
   "file_extension": ".py",
   "mimetype": "text/x-python",
   "name": "python",
   "nbconvert_exporter": "python",
   "pygments_lexer": "ipython3",
   "version": "3.8.5"
  }
 },
 "nbformat": 4,
 "nbformat_minor": 4
}

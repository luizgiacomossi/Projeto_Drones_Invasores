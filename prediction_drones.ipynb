{
 "cells": [
  {
   "cell_type": "markdown",
   "metadata": {
    "colab_type": "text",
    "id": "Yx-VxT_wzXi6"
   },
   "source": [
    "# Comitês"
   ]
  },
  {
   "cell_type": "code",
   "execution_count": 178,
   "metadata": {
    "colab": {},
    "colab_type": "code",
    "executionInfo": {
     "elapsed": 1673,
     "status": "ok",
     "timestamp": 1596135305774,
     "user": {
      "displayName": "Filipe Alves Neto Verri",
      "photoUrl": "https://lh3.googleusercontent.com/a-/AOh14GiV7MMHmrkaugHXPDugQgeGecRd4s4T4ngvv5_A=s64",
      "userId": "07219587087217491568"
     },
     "user_tz": 180
    },
    "id": "XOr-9WVsYEhE"
   },
   "outputs": [],
   "source": [
    "import numpy as np # Numpy: biblioteca para manipular vetores e matrizes\n",
    "import pandas as pd # Pandas: biblioteca para manipular tabelas\n",
    "import scipy.stats as ss"
   ]
  },
  {
   "cell_type": "code",
   "execution_count": 179,
   "metadata": {},
   "outputs": [
    {
     "name": "stdout",
     "output_type": "stream",
     "text": [
      "Tamanho df teste 4:  1063\n",
      "Tamanho df treino 4 :  10600\n",
      "Tamanho df teste 5:  1351\n",
      "Tamanho df treino 5 :  13513\n",
      "Tamanho df teste 6:  7\n",
      "Tamanho df treino 6 :  66\n"
     ]
    }
   ],
   "source": [
    "lista = ['V1_size','V2_size','V3_size','V4_size','V5_size','V6_size','V7_size','V8_size','V9_size','V1_interval','V2_interval','V3_interval','V4_interval','V5_interval','V6_interval','V7_interval','V8_interval','V9_interval','classe']\n",
    "\n",
    "test = []\n",
    "train = []\n",
    "\n",
    "for i in range(4,7):\n",
    "    test.append(pd.read_csv(f'./dataset/dataset{i}_teste.csv', sep = ',', names=lista)) \n",
    "    train.append(pd.read_csv(f'./dataset/dataset{i}_treino.csv', sep = ',', names=lista))\n",
    "    print(f\"Tamanho df teste {i}: \",len(test[-1]))\n",
    "    print(f\"Tamanho df treino {i} : \",len(train[-1]))\n",
    "\n",
    "frames = train + test\n",
    "df_train1 = pd.concat(frames)\n",
    " "
   ]
  },
  {
   "cell_type": "code",
   "execution_count": 180,
   "metadata": {
    "colab": {
     "base_uri": "https://localhost:8080/",
     "height": 34
    },
    "colab_type": "code",
    "executionInfo": {
     "elapsed": 4012,
     "status": "ok",
     "timestamp": 1596135309611,
     "user": {
      "displayName": "Filipe Alves Neto Verri",
      "photoUrl": "https://lh3.googleusercontent.com/a-/AOh14GiV7MMHmrkaugHXPDugQgeGecRd4s4T4ngvv5_A=s64",
      "userId": "07219587087217491568"
     },
     "user_tz": 180
    },
    "id": "16GH5n9j1T59",
    "outputId": "b9835c3e-4edb-467b-a6cd-3e76d2a08dbc"
   },
   "outputs": [
    {
     "name": "stdout",
     "output_type": "stream",
     "text": [
      "(26600, 19)\n"
     ]
    }
   ],
   "source": [
    "print(df_train1.shape)"
   ]
  },
  {
   "cell_type": "code",
   "execution_count": 181,
   "metadata": {},
   "outputs": [
    {
     "data": {
      "text/html": [
       "<div>\n",
       "<style scoped>\n",
       "    .dataframe tbody tr th:only-of-type {\n",
       "        vertical-align: middle;\n",
       "    }\n",
       "\n",
       "    .dataframe tbody tr th {\n",
       "        vertical-align: top;\n",
       "    }\n",
       "\n",
       "    .dataframe thead th {\n",
       "        text-align: right;\n",
       "    }\n",
       "</style>\n",
       "<table border=\"1\" class=\"dataframe\">\n",
       "  <thead>\n",
       "    <tr style=\"text-align: right;\">\n",
       "      <th></th>\n",
       "      <th>V1_size</th>\n",
       "      <th>V2_size</th>\n",
       "      <th>V3_size</th>\n",
       "      <th>V4_size</th>\n",
       "      <th>V5_size</th>\n",
       "      <th>V6_size</th>\n",
       "      <th>V7_size</th>\n",
       "      <th>V8_size</th>\n",
       "      <th>V9_size</th>\n",
       "      <th>V1_interval</th>\n",
       "      <th>V2_interval</th>\n",
       "      <th>V3_interval</th>\n",
       "      <th>V4_interval</th>\n",
       "      <th>V5_interval</th>\n",
       "      <th>V6_interval</th>\n",
       "      <th>V7_interval</th>\n",
       "      <th>V8_interval</th>\n",
       "      <th>V9_interval</th>\n",
       "      <th>classe</th>\n",
       "    </tr>\n",
       "  </thead>\n",
       "  <tbody>\n",
       "    <tr>\n",
       "      <th>0</th>\n",
       "      <td>0.000438</td>\n",
       "      <td>0.002101</td>\n",
       "      <td>0.000006</td>\n",
       "      <td>0.000003</td>\n",
       "      <td>6.5008</td>\n",
       "      <td>42.76100</td>\n",
       "      <td>0.016319</td>\n",
       "      <td>0.000003</td>\n",
       "      <td>0.002136</td>\n",
       "      <td>759.62</td>\n",
       "      <td>477.050</td>\n",
       "      <td>1130.0</td>\n",
       "      <td>0.000</td>\n",
       "      <td>-0.505190</td>\n",
       "      <td>-1.74200</td>\n",
       "      <td>1130</td>\n",
       "      <td>61</td>\n",
       "      <td>895.730</td>\n",
       "      <td>1</td>\n",
       "    </tr>\n",
       "    <tr>\n",
       "      <th>1</th>\n",
       "      <td>0.000388</td>\n",
       "      <td>0.000783</td>\n",
       "      <td>0.000130</td>\n",
       "      <td>0.000090</td>\n",
       "      <td>2.4140</td>\n",
       "      <td>3.95440</td>\n",
       "      <td>0.002615</td>\n",
       "      <td>0.000000</td>\n",
       "      <td>0.000870</td>\n",
       "      <td>86.32</td>\n",
       "      <td>35.631</td>\n",
       "      <td>62.0</td>\n",
       "      <td>0.000</td>\n",
       "      <td>0.760200</td>\n",
       "      <td>-1.43620</td>\n",
       "      <td>138</td>\n",
       "      <td>62</td>\n",
       "      <td>93.317</td>\n",
       "      <td>1</td>\n",
       "    </tr>\n",
       "    <tr>\n",
       "      <th>2</th>\n",
       "      <td>0.000142</td>\n",
       "      <td>0.000174</td>\n",
       "      <td>0.000100</td>\n",
       "      <td>0.000147</td>\n",
       "      <td>1.3829</td>\n",
       "      <td>0.91272</td>\n",
       "      <td>0.000585</td>\n",
       "      <td>0.000000</td>\n",
       "      <td>0.000224</td>\n",
       "      <td>103.47</td>\n",
       "      <td>40.320</td>\n",
       "      <td>138.0</td>\n",
       "      <td>22.239</td>\n",
       "      <td>-0.036313</td>\n",
       "      <td>-1.95700</td>\n",
       "      <td>153</td>\n",
       "      <td>62</td>\n",
       "      <td>110.970</td>\n",
       "      <td>1</td>\n",
       "    </tr>\n",
       "    <tr>\n",
       "      <th>3</th>\n",
       "      <td>0.000645</td>\n",
       "      <td>0.001331</td>\n",
       "      <td>0.000145</td>\n",
       "      <td>0.000073</td>\n",
       "      <td>3.9211</td>\n",
       "      <td>21.45700</td>\n",
       "      <td>0.009911</td>\n",
       "      <td>0.000007</td>\n",
       "      <td>0.001473</td>\n",
       "      <td>81.76</td>\n",
       "      <td>33.504</td>\n",
       "      <td>62.0</td>\n",
       "      <td>0.000</td>\n",
       "      <td>1.077900</td>\n",
       "      <td>-0.84623</td>\n",
       "      <td>138</td>\n",
       "      <td>62</td>\n",
       "      <td>88.295</td>\n",
       "      <td>1</td>\n",
       "    </tr>\n",
       "    <tr>\n",
       "      <th>4</th>\n",
       "      <td>0.000171</td>\n",
       "      <td>0.000218</td>\n",
       "      <td>0.000126</td>\n",
       "      <td>0.000053</td>\n",
       "      <td>2.6358</td>\n",
       "      <td>6.42960</td>\n",
       "      <td>0.000961</td>\n",
       "      <td>0.000003</td>\n",
       "      <td>0.000277</td>\n",
       "      <td>86.32</td>\n",
       "      <td>35.631</td>\n",
       "      <td>62.0</td>\n",
       "      <td>0.000</td>\n",
       "      <td>0.760200</td>\n",
       "      <td>-1.43620</td>\n",
       "      <td>138</td>\n",
       "      <td>62</td>\n",
       "      <td>93.317</td>\n",
       "      <td>1</td>\n",
       "    </tr>\n",
       "    <tr>\n",
       "      <th>...</th>\n",
       "      <td>...</td>\n",
       "      <td>...</td>\n",
       "      <td>...</td>\n",
       "      <td>...</td>\n",
       "      <td>...</td>\n",
       "      <td>...</td>\n",
       "      <td>...</td>\n",
       "      <td>...</td>\n",
       "      <td>...</td>\n",
       "      <td>...</td>\n",
       "      <td>...</td>\n",
       "      <td>...</td>\n",
       "      <td>...</td>\n",
       "      <td>...</td>\n",
       "      <td>...</td>\n",
       "      <td>...</td>\n",
       "      <td>...</td>\n",
       "      <td>...</td>\n",
       "      <td>...</td>\n",
       "    </tr>\n",
       "    <tr>\n",
       "      <th>995</th>\n",
       "      <td>0.000183</td>\n",
       "      <td>0.000288</td>\n",
       "      <td>0.000113</td>\n",
       "      <td>0.000166</td>\n",
       "      <td>2.2656</td>\n",
       "      <td>3.90820</td>\n",
       "      <td>0.001080</td>\n",
       "      <td>0.000000</td>\n",
       "      <td>0.000340</td>\n",
       "      <td>98.48</td>\n",
       "      <td>38.161</td>\n",
       "      <td>62.0</td>\n",
       "      <td>0.000</td>\n",
       "      <td>0.078866</td>\n",
       "      <td>-2.01360</td>\n",
       "      <td>138</td>\n",
       "      <td>62</td>\n",
       "      <td>105.550</td>\n",
       "      <td>1</td>\n",
       "    </tr>\n",
       "    <tr>\n",
       "      <th>996</th>\n",
       "      <td>0.000411</td>\n",
       "      <td>0.000827</td>\n",
       "      <td>0.000111</td>\n",
       "      <td>0.000153</td>\n",
       "      <td>2.2146</td>\n",
       "      <td>3.09680</td>\n",
       "      <td>0.002736</td>\n",
       "      <td>0.000003</td>\n",
       "      <td>0.000919</td>\n",
       "      <td>101.52</td>\n",
       "      <td>38.161</td>\n",
       "      <td>138.0</td>\n",
       "      <td>0.000</td>\n",
       "      <td>-0.078866</td>\n",
       "      <td>-2.01360</td>\n",
       "      <td>138</td>\n",
       "      <td>62</td>\n",
       "      <td>108.390</td>\n",
       "      <td>1</td>\n",
       "    </tr>\n",
       "    <tr>\n",
       "      <th>997</th>\n",
       "      <td>0.000273</td>\n",
       "      <td>0.001040</td>\n",
       "      <td>0.000021</td>\n",
       "      <td>0.000027</td>\n",
       "      <td>8.5203</td>\n",
       "      <td>77.42500</td>\n",
       "      <td>0.010123</td>\n",
       "      <td>0.000003</td>\n",
       "      <td>0.001070</td>\n",
       "      <td>103.80</td>\n",
       "      <td>38.000</td>\n",
       "      <td>138.0</td>\n",
       "      <td>0.000</td>\n",
       "      <td>-0.198000</td>\n",
       "      <td>-1.98030</td>\n",
       "      <td>138</td>\n",
       "      <td>62</td>\n",
       "      <td>110.470</td>\n",
       "      <td>1</td>\n",
       "    </tr>\n",
       "    <tr>\n",
       "      <th>998</th>\n",
       "      <td>0.000189</td>\n",
       "      <td>0.000273</td>\n",
       "      <td>0.000117</td>\n",
       "      <td>0.000159</td>\n",
       "      <td>2.1823</td>\n",
       "      <td>3.61670</td>\n",
       "      <td>0.001037</td>\n",
       "      <td>0.000004</td>\n",
       "      <td>0.000331</td>\n",
       "      <td>93.16</td>\n",
       "      <td>37.568</td>\n",
       "      <td>62.0</td>\n",
       "      <td>0.000</td>\n",
       "      <td>0.360500</td>\n",
       "      <td>-1.88860</td>\n",
       "      <td>138</td>\n",
       "      <td>62</td>\n",
       "      <td>100.380</td>\n",
       "      <td>1</td>\n",
       "    </tr>\n",
       "    <tr>\n",
       "      <th>999</th>\n",
       "      <td>0.000194</td>\n",
       "      <td>0.000374</td>\n",
       "      <td>0.000131</td>\n",
       "      <td>0.000128</td>\n",
       "      <td>5.4161</td>\n",
       "      <td>32.00300</td>\n",
       "      <td>0.002724</td>\n",
       "      <td>0.000003</td>\n",
       "      <td>0.000419</td>\n",
       "      <td>86.32</td>\n",
       "      <td>35.631</td>\n",
       "      <td>62.0</td>\n",
       "      <td>0.000</td>\n",
       "      <td>0.760200</td>\n",
       "      <td>-1.43620</td>\n",
       "      <td>138</td>\n",
       "      <td>62</td>\n",
       "      <td>93.317</td>\n",
       "      <td>1</td>\n",
       "    </tr>\n",
       "  </tbody>\n",
       "</table>\n",
       "<p>1000 rows × 19 columns</p>\n",
       "</div>"
      ],
      "text/plain": [
       "      V1_size   V2_size   V3_size   V4_size  V5_size   V6_size   V7_size  \\\n",
       "0    0.000438  0.002101  0.000006  0.000003   6.5008  42.76100  0.016319   \n",
       "1    0.000388  0.000783  0.000130  0.000090   2.4140   3.95440  0.002615   \n",
       "2    0.000142  0.000174  0.000100  0.000147   1.3829   0.91272  0.000585   \n",
       "3    0.000645  0.001331  0.000145  0.000073   3.9211  21.45700  0.009911   \n",
       "4    0.000171  0.000218  0.000126  0.000053   2.6358   6.42960  0.000961   \n",
       "..        ...       ...       ...       ...      ...       ...       ...   \n",
       "995  0.000183  0.000288  0.000113  0.000166   2.2656   3.90820  0.001080   \n",
       "996  0.000411  0.000827  0.000111  0.000153   2.2146   3.09680  0.002736   \n",
       "997  0.000273  0.001040  0.000021  0.000027   8.5203  77.42500  0.010123   \n",
       "998  0.000189  0.000273  0.000117  0.000159   2.1823   3.61670  0.001037   \n",
       "999  0.000194  0.000374  0.000131  0.000128   5.4161  32.00300  0.002724   \n",
       "\n",
       "      V8_size   V9_size  V1_interval  V2_interval  V3_interval  V4_interval  \\\n",
       "0    0.000003  0.002136       759.62      477.050       1130.0        0.000   \n",
       "1    0.000000  0.000870        86.32       35.631         62.0        0.000   \n",
       "2    0.000000  0.000224       103.47       40.320        138.0       22.239   \n",
       "3    0.000007  0.001473        81.76       33.504         62.0        0.000   \n",
       "4    0.000003  0.000277        86.32       35.631         62.0        0.000   \n",
       "..        ...       ...          ...          ...          ...          ...   \n",
       "995  0.000000  0.000340        98.48       38.161         62.0        0.000   \n",
       "996  0.000003  0.000919       101.52       38.161        138.0        0.000   \n",
       "997  0.000003  0.001070       103.80       38.000        138.0        0.000   \n",
       "998  0.000004  0.000331        93.16       37.568         62.0        0.000   \n",
       "999  0.000003  0.000419        86.32       35.631         62.0        0.000   \n",
       "\n",
       "     V5_interval  V6_interval  V7_interval  V8_interval  V9_interval  classe  \n",
       "0      -0.505190     -1.74200         1130           61      895.730       1  \n",
       "1       0.760200     -1.43620          138           62       93.317       1  \n",
       "2      -0.036313     -1.95700          153           62      110.970       1  \n",
       "3       1.077900     -0.84623          138           62       88.295       1  \n",
       "4       0.760200     -1.43620          138           62       93.317       1  \n",
       "..           ...          ...          ...          ...          ...     ...  \n",
       "995     0.078866     -2.01360          138           62      105.550       1  \n",
       "996    -0.078866     -2.01360          138           62      108.390       1  \n",
       "997    -0.198000     -1.98030          138           62      110.470       1  \n",
       "998     0.360500     -1.88860          138           62      100.380       1  \n",
       "999     0.760200     -1.43620          138           62       93.317       1  \n",
       "\n",
       "[1000 rows x 19 columns]"
      ]
     },
     "execution_count": 181,
     "metadata": {},
     "output_type": "execute_result"
    }
   ],
   "source": [
    "df_train1.head(1000)"
   ]
  },
  {
   "cell_type": "code",
   "execution_count": null,
   "metadata": {},
   "outputs": [],
   "source": []
  },
  {
   "cell_type": "code",
   "execution_count": 182,
   "metadata": {},
   "outputs": [
    {
     "data": {
      "text/plain": [
       "1    0.533\n",
       "0    0.467\n",
       "Name: classe, dtype: float64"
      ]
     },
     "execution_count": 182,
     "metadata": {},
     "output_type": "execute_result"
    }
   ],
   "source": [
    "import seaborn as sns\n",
    "df_train1.classe.value_counts(normalize=True).round(3)"
   ]
  },
  {
   "cell_type": "code",
   "execution_count": 183,
   "metadata": {},
   "outputs": [],
   "source": [
    "df_train_noduplicates = df_train1.drop_duplicates()"
   ]
  },
  {
   "cell_type": "code",
   "execution_count": 184,
   "metadata": {},
   "outputs": [
    {
     "name": "stdout",
     "output_type": "stream",
     "text": [
      "Resultante com duplicados (26600, 19)\n",
      "Resultante sem duplicados (23181, 19)\n",
      "Total de valores duplicados: -3419\n"
     ]
    }
   ],
   "source": [
    "print(f'Resultante com duplicados {df_train1.shape}')\n",
    "print(f'Resultante sem duplicados {df_train_noduplicates.shape}')\n",
    "print(f'Total de valores duplicados: {df_train_noduplicates.shape[0]-df_train1.shape[0]}')"
   ]
  },
  {
   "cell_type": "code",
   "execution_count": 185,
   "metadata": {},
   "outputs": [],
   "source": [
    "y= df_train_noduplicates.classe.to_numpy()"
   ]
  },
  {
   "cell_type": "code",
   "execution_count": 186,
   "metadata": {},
   "outputs": [
    {
     "data": {
      "text/plain": [
       "array([1, 1, 1, ..., 1, 1, 1])"
      ]
     },
     "execution_count": 186,
     "metadata": {},
     "output_type": "execute_result"
    }
   ],
   "source": [
    "y"
   ]
  },
  {
   "cell_type": "code",
   "execution_count": 187,
   "metadata": {},
   "outputs": [
    {
     "name": "stdout",
     "output_type": "stream",
     "text": [
      "Counter({1: 14171, 0: 9010})\n"
     ]
    }
   ],
   "source": [
    "from collections import Counter\n",
    "print(Counter(y))"
   ]
  },
  {
   "cell_type": "markdown",
   "metadata": {},
   "source": [
    "### Balanceando"
   ]
  },
  {
   "cell_type": "code",
   "execution_count": 188,
   "metadata": {},
   "outputs": [
    {
     "name": "stdout",
     "output_type": "stream",
     "text": [
      "Counter({0: 9010, 1: 9010})\n"
     ]
    }
   ],
   "source": [
    "from imblearn.under_sampling import RandomUnderSampler\n",
    "df_train_noduplicates = df_train_noduplicates.drop(['classe'], axis=1)\n",
    "\n",
    "undersample = RandomUnderSampler(sampling_strategy='majority')\n",
    "X_balanced, y_balanced = undersample.fit_resample(df_train_noduplicates, y)\n",
    "from collections import Counter\n",
    "print(Counter(y_balanced))"
   ]
  },
  {
   "cell_type": "markdown",
   "metadata": {
    "colab": {
     "base_uri": "https://localhost:8080/",
     "height": 34
    },
    "colab_type": "code",
    "executionInfo": {
     "elapsed": 576,
     "status": "ok",
     "timestamp": 1596135384458,
     "user": {
      "displayName": "Filipe Alves Neto Verri",
      "photoUrl": "https://lh3.googleusercontent.com/a-/AOh14GiV7MMHmrkaugHXPDugQgeGecRd4s4T4ngvv5_A=s64",
      "userId": "07219587087217491568"
     },
     "user_tz": 180
    },
    "id": "mB6fuQG4Wyjr",
    "outputId": "95e3f970-ccae-48cf-ae1c-16d5a5e56eda"
   },
   "source": [
    "### Normalizando por padronização\n",
    "\n"
   ]
  },
  {
   "cell_type": "code",
   "execution_count": 189,
   "metadata": {},
   "outputs": [
    {
     "data": {
      "text/html": [
       "<div>\n",
       "<style scoped>\n",
       "    .dataframe tbody tr th:only-of-type {\n",
       "        vertical-align: middle;\n",
       "    }\n",
       "\n",
       "    .dataframe tbody tr th {\n",
       "        vertical-align: top;\n",
       "    }\n",
       "\n",
       "    .dataframe thead th {\n",
       "        text-align: right;\n",
       "    }\n",
       "</style>\n",
       "<table border=\"1\" class=\"dataframe\">\n",
       "  <thead>\n",
       "    <tr style=\"text-align: right;\">\n",
       "      <th></th>\n",
       "      <th>V1_size</th>\n",
       "      <th>V2_size</th>\n",
       "      <th>V3_size</th>\n",
       "      <th>V4_size</th>\n",
       "      <th>V5_size</th>\n",
       "      <th>V6_size</th>\n",
       "      <th>V7_size</th>\n",
       "      <th>V8_size</th>\n",
       "      <th>V9_size</th>\n",
       "      <th>V1_interval</th>\n",
       "      <th>V2_interval</th>\n",
       "      <th>V3_interval</th>\n",
       "      <th>V4_interval</th>\n",
       "      <th>V5_interval</th>\n",
       "      <th>V6_interval</th>\n",
       "      <th>V7_interval</th>\n",
       "      <th>V8_interval</th>\n",
       "      <th>V9_interval</th>\n",
       "    </tr>\n",
       "  </thead>\n",
       "  <tbody>\n",
       "    <tr>\n",
       "      <th>0</th>\n",
       "      <td>-0.059395</td>\n",
       "      <td>-0.039940</td>\n",
       "      <td>-0.011665</td>\n",
       "      <td>-0.060443</td>\n",
       "      <td>-0.481651</td>\n",
       "      <td>-0.587463</td>\n",
       "      <td>-0.036360</td>\n",
       "      <td>0.262687</td>\n",
       "      <td>-0.040435</td>\n",
       "      <td>-0.823544</td>\n",
       "      <td>-0.027083</td>\n",
       "      <td>-0.996750</td>\n",
       "      <td>-0.502069</td>\n",
       "      <td>1.469716</td>\n",
       "      <td>0.096092</td>\n",
       "      <td>0.511857</td>\n",
       "      <td>0.309694</td>\n",
       "      <td>-0.685813</td>\n",
       "    </tr>\n",
       "    <tr>\n",
       "      <th>1</th>\n",
       "      <td>0.008033</td>\n",
       "      <td>-0.018646</td>\n",
       "      <td>-0.008339</td>\n",
       "      <td>-0.000551</td>\n",
       "      <td>0.281522</td>\n",
       "      <td>-0.003866</td>\n",
       "      <td>-0.021938</td>\n",
       "      <td>0.262687</td>\n",
       "      <td>-0.018013</td>\n",
       "      <td>-0.872977</td>\n",
       "      <td>-0.583985</td>\n",
       "      <td>-0.967817</td>\n",
       "      <td>-0.353845</td>\n",
       "      <td>2.016423</td>\n",
       "      <td>1.005890</td>\n",
       "      <td>0.511857</td>\n",
       "      <td>0.309694</td>\n",
       "      <td>-0.888569</td>\n",
       "    </tr>\n",
       "    <tr>\n",
       "      <th>2</th>\n",
       "      <td>-0.020335</td>\n",
       "      <td>-0.006498</td>\n",
       "      <td>-0.015276</td>\n",
       "      <td>-0.110116</td>\n",
       "      <td>2.456077</td>\n",
       "      <td>2.869927</td>\n",
       "      <td>-0.002505</td>\n",
       "      <td>0.306358</td>\n",
       "      <td>-0.006964</td>\n",
       "      <td>-0.706801</td>\n",
       "      <td>-0.300256</td>\n",
       "      <td>-0.993704</td>\n",
       "      <td>-0.486466</td>\n",
       "      <td>0.829571</td>\n",
       "      <td>-0.282779</td>\n",
       "      <td>0.024672</td>\n",
       "      <td>0.309694</td>\n",
       "      <td>-0.684354</td>\n",
       "    </tr>\n",
       "    <tr>\n",
       "      <th>3</th>\n",
       "      <td>0.226495</td>\n",
       "      <td>0.048878</td>\n",
       "      <td>-0.015532</td>\n",
       "      <td>-0.116576</td>\n",
       "      <td>0.325112</td>\n",
       "      <td>0.237873</td>\n",
       "      <td>0.033205</td>\n",
       "      <td>0.204459</td>\n",
       "      <td>0.053283</td>\n",
       "      <td>-0.785736</td>\n",
       "      <td>-0.490509</td>\n",
       "      <td>-0.935078</td>\n",
       "      <td>-0.186115</td>\n",
       "      <td>1.109103</td>\n",
       "      <td>-0.110765</td>\n",
       "      <td>-0.050872</td>\n",
       "      <td>0.309694</td>\n",
       "      <td>-0.795671</td>\n",
       "    </tr>\n",
       "    <tr>\n",
       "      <th>4</th>\n",
       "      <td>-0.045878</td>\n",
       "      <td>-0.033206</td>\n",
       "      <td>-0.013962</td>\n",
       "      <td>-0.095822</td>\n",
       "      <td>1.427782</td>\n",
       "      <td>1.451638</td>\n",
       "      <td>-0.030061</td>\n",
       "      <td>0.248130</td>\n",
       "      <td>-0.033603</td>\n",
       "      <td>0.704342</td>\n",
       "      <td>0.913665</td>\n",
       "      <td>1.083354</td>\n",
       "      <td>-0.439657</td>\n",
       "      <td>-0.025519</td>\n",
       "      <td>-0.447023</td>\n",
       "      <td>0.696864</td>\n",
       "      <td>0.348425</td>\n",
       "      <td>0.750464</td>\n",
       "    </tr>\n",
       "    <tr>\n",
       "      <th>...</th>\n",
       "      <td>...</td>\n",
       "      <td>...</td>\n",
       "      <td>...</td>\n",
       "      <td>...</td>\n",
       "      <td>...</td>\n",
       "      <td>...</td>\n",
       "      <td>...</td>\n",
       "      <td>...</td>\n",
       "      <td>...</td>\n",
       "      <td>...</td>\n",
       "      <td>...</td>\n",
       "      <td>...</td>\n",
       "      <td>...</td>\n",
       "      <td>...</td>\n",
       "      <td>...</td>\n",
       "      <td>...</td>\n",
       "      <td>...</td>\n",
       "      <td>...</td>\n",
       "    </tr>\n",
       "    <tr>\n",
       "      <th>18015</th>\n",
       "      <td>-0.061126</td>\n",
       "      <td>-0.040267</td>\n",
       "      <td>-0.015470</td>\n",
       "      <td>-0.111533</td>\n",
       "      <td>-0.830334</td>\n",
       "      <td>-0.708894</td>\n",
       "      <td>-0.036591</td>\n",
       "      <td>-0.591172</td>\n",
       "      <td>-0.040811</td>\n",
       "      <td>0.252859</td>\n",
       "      <td>1.231982</td>\n",
       "      <td>0.769663</td>\n",
       "      <td>0.527695</td>\n",
       "      <td>0.080055</td>\n",
       "      <td>-0.261181</td>\n",
       "      <td>0.662946</td>\n",
       "      <td>-0.632739</td>\n",
       "      <td>0.470712</td>\n",
       "    </tr>\n",
       "    <tr>\n",
       "      <th>18016</th>\n",
       "      <td>-0.061120</td>\n",
       "      <td>-0.040293</td>\n",
       "      <td>-0.015271</td>\n",
       "      <td>-0.108600</td>\n",
       "      <td>-0.949006</td>\n",
       "      <td>-0.762913</td>\n",
       "      <td>-0.036605</td>\n",
       "      <td>-0.594440</td>\n",
       "      <td>-0.040834</td>\n",
       "      <td>0.019955</td>\n",
       "      <td>1.546307</td>\n",
       "      <td>-1.200801</td>\n",
       "      <td>-0.408453</td>\n",
       "      <td>0.308749</td>\n",
       "      <td>-0.268965</td>\n",
       "      <td>0.718448</td>\n",
       "      <td>-0.632739</td>\n",
       "      <td>0.400682</td>\n",
       "    </tr>\n",
       "    <tr>\n",
       "      <th>18017</th>\n",
       "      <td>-0.062289</td>\n",
       "      <td>-0.040507</td>\n",
       "      <td>-0.015945</td>\n",
       "      <td>-0.119024</td>\n",
       "      <td>2.178058</td>\n",
       "      <td>2.525088</td>\n",
       "      <td>-0.036661</td>\n",
       "      <td>-0.581615</td>\n",
       "      <td>-0.041080</td>\n",
       "      <td>-1.248981</td>\n",
       "      <td>-1.235664</td>\n",
       "      <td>-1.124663</td>\n",
       "      <td>-0.502069</td>\n",
       "      <td>-0.346745</td>\n",
       "      <td>-0.356833</td>\n",
       "      <td>-1.550969</td>\n",
       "      <td>-0.723110</td>\n",
       "      <td>-1.340934</td>\n",
       "    </tr>\n",
       "    <tr>\n",
       "      <th>18018</th>\n",
       "      <td>-0.061838</td>\n",
       "      <td>-0.040360</td>\n",
       "      <td>-0.015918</td>\n",
       "      <td>-0.118604</td>\n",
       "      <td>-0.050644</td>\n",
       "      <td>-0.241498</td>\n",
       "      <td>-0.036605</td>\n",
       "      <td>-0.591863</td>\n",
       "      <td>-0.040926</td>\n",
       "      <td>0.646504</td>\n",
       "      <td>1.275477</td>\n",
       "      <td>1.116855</td>\n",
       "      <td>-0.502069</td>\n",
       "      <td>-0.068223</td>\n",
       "      <td>-0.231382</td>\n",
       "      <td>0.718448</td>\n",
       "      <td>-0.632739</td>\n",
       "      <td>0.787850</td>\n",
       "    </tr>\n",
       "    <tr>\n",
       "      <th>18019</th>\n",
       "      <td>-0.060778</td>\n",
       "      <td>-0.040259</td>\n",
       "      <td>-0.015446</td>\n",
       "      <td>-0.111090</td>\n",
       "      <td>-1.207548</td>\n",
       "      <td>-0.862022</td>\n",
       "      <td>-0.036622</td>\n",
       "      <td>-0.591434</td>\n",
       "      <td>-0.040786</td>\n",
       "      <td>0.207966</td>\n",
       "      <td>1.193671</td>\n",
       "      <td>0.800119</td>\n",
       "      <td>0.184458</td>\n",
       "      <td>0.093244</td>\n",
       "      <td>-0.263251</td>\n",
       "      <td>0.588943</td>\n",
       "      <td>-0.632739</td>\n",
       "      <td>0.426214</td>\n",
       "    </tr>\n",
       "  </tbody>\n",
       "</table>\n",
       "<p>18020 rows × 18 columns</p>\n",
       "</div>"
      ],
      "text/plain": [
       "        V1_size   V2_size   V3_size   V4_size   V5_size   V6_size   V7_size  \\\n",
       "0     -0.059395 -0.039940 -0.011665 -0.060443 -0.481651 -0.587463 -0.036360   \n",
       "1      0.008033 -0.018646 -0.008339 -0.000551  0.281522 -0.003866 -0.021938   \n",
       "2     -0.020335 -0.006498 -0.015276 -0.110116  2.456077  2.869927 -0.002505   \n",
       "3      0.226495  0.048878 -0.015532 -0.116576  0.325112  0.237873  0.033205   \n",
       "4     -0.045878 -0.033206 -0.013962 -0.095822  1.427782  1.451638 -0.030061   \n",
       "...         ...       ...       ...       ...       ...       ...       ...   \n",
       "18015 -0.061126 -0.040267 -0.015470 -0.111533 -0.830334 -0.708894 -0.036591   \n",
       "18016 -0.061120 -0.040293 -0.015271 -0.108600 -0.949006 -0.762913 -0.036605   \n",
       "18017 -0.062289 -0.040507 -0.015945 -0.119024  2.178058  2.525088 -0.036661   \n",
       "18018 -0.061838 -0.040360 -0.015918 -0.118604 -0.050644 -0.241498 -0.036605   \n",
       "18019 -0.060778 -0.040259 -0.015446 -0.111090 -1.207548 -0.862022 -0.036622   \n",
       "\n",
       "        V8_size   V9_size  V1_interval  V2_interval  V3_interval  V4_interval  \\\n",
       "0      0.262687 -0.040435    -0.823544    -0.027083    -0.996750    -0.502069   \n",
       "1      0.262687 -0.018013    -0.872977    -0.583985    -0.967817    -0.353845   \n",
       "2      0.306358 -0.006964    -0.706801    -0.300256    -0.993704    -0.486466   \n",
       "3      0.204459  0.053283    -0.785736    -0.490509    -0.935078    -0.186115   \n",
       "4      0.248130 -0.033603     0.704342     0.913665     1.083354    -0.439657   \n",
       "...         ...       ...          ...          ...          ...          ...   \n",
       "18015 -0.591172 -0.040811     0.252859     1.231982     0.769663     0.527695   \n",
       "18016 -0.594440 -0.040834     0.019955     1.546307    -1.200801    -0.408453   \n",
       "18017 -0.581615 -0.041080    -1.248981    -1.235664    -1.124663    -0.502069   \n",
       "18018 -0.591863 -0.040926     0.646504     1.275477     1.116855    -0.502069   \n",
       "18019 -0.591434 -0.040786     0.207966     1.193671     0.800119     0.184458   \n",
       "\n",
       "       V5_interval  V6_interval  V7_interval  V8_interval  V9_interval  \n",
       "0         1.469716     0.096092     0.511857     0.309694    -0.685813  \n",
       "1         2.016423     1.005890     0.511857     0.309694    -0.888569  \n",
       "2         0.829571    -0.282779     0.024672     0.309694    -0.684354  \n",
       "3         1.109103    -0.110765    -0.050872     0.309694    -0.795671  \n",
       "4        -0.025519    -0.447023     0.696864     0.348425     0.750464  \n",
       "...            ...          ...          ...          ...          ...  \n",
       "18015     0.080055    -0.261181     0.662946    -0.632739     0.470712  \n",
       "18016     0.308749    -0.268965     0.718448    -0.632739     0.400682  \n",
       "18017    -0.346745    -0.356833    -1.550969    -0.723110    -1.340934  \n",
       "18018    -0.068223    -0.231382     0.718448    -0.632739     0.787850  \n",
       "18019     0.093244    -0.263251     0.588943    -0.632739     0.426214  \n",
       "\n",
       "[18020 rows x 18 columns]"
      ]
     },
     "execution_count": 189,
     "metadata": {},
     "output_type": "execute_result"
    }
   ],
   "source": [
    "from sklearn.preprocessing import MinMaxScaler, StandardScaler\n",
    "scaler = StandardScaler()\n",
    "Xstd = scaler.fit_transform(X_balanced)\n",
    "df_balanced_stand = pd.DataFrame(Xstd, columns=X_balanced.columns, index=X_balanced.index)\n",
    "df_balanced_stand"
   ]
  },
  {
   "cell_type": "code",
   "execution_count": 190,
   "metadata": {},
   "outputs": [
    {
     "name": "stdout",
     "output_type": "stream",
     "text": [
      "X:(18020, 18) y:(18020,) \n"
     ]
    }
   ],
   "source": [
    "X = df_balanced_stand\n",
    "y = y_balanced\n",
    "print(f'X:{X.shape} y:{y.shape} ')"
   ]
  },
  {
   "cell_type": "code",
   "execution_count": 191,
   "metadata": {},
   "outputs": [
    {
     "name": "stdout",
     "output_type": "stream",
     "text": [
      "X_train:(7208, 18) y_train:(7208,) \n",
      "Counter({0: 3604, 1: 3604})\n",
      "X_test:(10812, 18) y_test:(10812,) \n",
      "Counter({0: 5406, 1: 5406})\n"
     ]
    }
   ],
   "source": [
    "from sklearn.model_selection import train_test_split\n",
    "# split into train test sets\n",
    "#X_train, X_test, y_train, y_test = train_test_split(X, y, test_size=0.33)\n",
    "X_train, X_test, y_train, y_test = train_test_split(X, y, test_size=0.6, random_state=1, stratify=y)\n",
    "\n",
    "print(f'X_train:{X_train.shape} y_train:{y_train.shape} ')\n",
    "print(Counter(y_train))\n",
    "print(f'X_test:{X_test.shape} y_test:{y_test.shape} ')\n",
    "print(Counter(y_test))"
   ]
  },
  {
   "cell_type": "markdown",
   "metadata": {},
   "source": [
    "### Testing with knn \n",
    "\n"
   ]
  },
  {
   "cell_type": "code",
   "execution_count": 195,
   "metadata": {},
   "outputs": [
    {
     "name": "stdout",
     "output_type": "stream",
     "text": [
      "Fitting data\n",
      "Predicting data\n",
      "10807 out of (10812,)\n",
      "0.9995375508694043\n"
     ]
    }
   ],
   "source": [
    "import numpy as np\n",
    "from sklearn.model_selection import StratifiedKFold\n",
    "\n",
    "#skf = StratifiedKFold(n_splits=3)\n",
    "#skf.get_n_splits(X, y)\n",
    "\n",
    "#print(skf)\n",
    "\n",
    "knn3 = KNeighborsClassifier(n_neighbors=3, p=1) \n",
    "\n",
    "#for train_index, test_index in skf.split(X, y):\n",
    "    #print(\"TRAIN:\", train_index, f'shape {train_index.shape}' ,\"TEST:\", test_index,f'shape {test_index.shape}'  )\n",
    "    # spliting dataset\n",
    "    #X_train, X_test = X[train_index], X[test_index]\n",
    "    #y_train, y_test = y[train_index], y[test_index]\n",
    "    \n",
    "print('Fitting data')\n",
    "knn3.fit(X_train, y_train)\n",
    "print('Predicting data')\n",
    "ypredicted = knn3.predict(X_test)\n",
    "print(np.count_nonzero(y_test == ypredicted), f\"out of {ypredicted.shape}\")\n",
    "print(accuracy_score(ypredicted, y_test))\n"
   ]
  },
  {
   "cell_type": "markdown",
   "metadata": {
    "colab": {},
    "colab_type": "code",
    "executionInfo": {
     "elapsed": 506,
     "status": "ok",
     "timestamp": 1596135405133,
     "user": {
      "displayName": "Filipe Alves Neto Verri",
      "photoUrl": "https://lh3.googleusercontent.com/a-/AOh14GiV7MMHmrkaugHXPDugQgeGecRd4s4T4ngvv5_A=s64",
      "userId": "07219587087217491568"
     },
     "user_tz": 180
    },
    "id": "PDwOJhnVzYn5"
   },
   "source": [
    "## Semente aleatória para reproducibilidade dos experimentos (reproducão dos experimentos)\n",
    "seed = 17"
   ]
  },
  {
   "cell_type": "code",
   "execution_count": 196,
   "metadata": {
    "colab": {},
    "colab_type": "code",
    "executionInfo": {
     "elapsed": 931,
     "status": "ok",
     "timestamp": 1596135531624,
     "user": {
      "displayName": "Filipe Alves Neto Verri",
      "photoUrl": "https://lh3.googleusercontent.com/a-/AOh14GiV7MMHmrkaugHXPDugQgeGecRd4s4T4ngvv5_A=s64",
      "userId": "07219587087217491568"
     },
     "user_tz": 180
    },
    "id": "F2Jj5yQMzeoB"
   },
   "outputs": [],
   "source": [
    "from sklearn.neighbors import KNeighborsClassifier\n",
    "from sklearn.tree import DecisionTreeClassifier\n",
    "from sklearn.naive_bayes import GaussianNB\n",
    "from sklearn.svm import SVC\n",
    "seed = 17\n",
    "from sklearn.pipeline import Pipeline\n",
    "\n",
    "from sklearn.impute import SimpleImputer\n",
    "from sklearn.preprocessing import MinMaxScaler, StandardScaler\n",
    "from sklearn.feature_selection import VarianceThreshold, SelectKBest\n",
    "from sklearn.decomposition import PCA\n",
    "\n",
    "from sklearn.model_selection import GridSearchCV, StratifiedKFold\n",
    "from sklearn.metrics import accuracy_score, precision_score, recall_score, f1_score\n",
    "from sklearn.metrics import make_scorer"
   ]
  },
  {
   "cell_type": "code",
   "execution_count": 198,
   "metadata": {
    "colab": {},
    "colab_type": "code",
    "executionInfo": {
     "elapsed": 548,
     "status": "ok",
     "timestamp": 1596137475127,
     "user": {
      "displayName": "Filipe Alves Neto Verri",
      "photoUrl": "https://lh3.googleusercontent.com/a-/AOh14GiV7MMHmrkaugHXPDugQgeGecRd4s4T4ngvv5_A=s64",
      "userId": "07219587087217491568"
     },
     "user_tz": 180
    },
    "id": "KfxgDLw00yh2"
   },
   "outputs": [],
   "source": [
    "scorer = make_scorer(accuracy_score) # Teste outras\n",
    "\n",
    "cv = StratifiedKFold(n_splits=10, shuffle=True, random_state=seed)\n",
    "\n",
    "gscv = StratifiedKFold(n_splits=3, shuffle=True, random_state=seed)\n",
    "\n",
    "algorithms = {\n",
    "    'tree':  GridSearchCV(\n",
    "        Pipeline([\n",
    "            #('imputer', SimpleImputer(strategy='mean')),\n",
    "            ('tree', DecisionTreeClassifier(random_state=seed))]), \n",
    "        param_grid={\n",
    "            'tree__max_depth': [3, 4, 5],\n",
    "            'tree__criterion': ['entropy', 'gini'],\n",
    "        },\n",
    "        scoring=scorer,\n",
    "        cv=gscv),\n",
    "    'bigtree':  GridSearchCV(\n",
    "        Pipeline([\n",
    "            #('imputer', SimpleImputer(strategy='mean')),\n",
    "            ('tree', DecisionTreeClassifier(max_depth=None, min_samples_split=2, random_state=seed))]), \n",
    "        param_grid={\n",
    "            'tree__criterion': ['entropy', 'gini'],\n",
    "        },\n",
    "        scoring=scorer,\n",
    "        cv=gscv),\n",
    "    'kNN':  GridSearchCV(\n",
    "        Pipeline([\n",
    "            #('imputer', SimpleImputer(strategy='mean')),\n",
    "            #('scaler', MinMaxScaler(feature_range=(0, 1))),\n",
    "            ('selector', VarianceThreshold()),\n",
    "            ('knn', KNeighborsClassifier())]), \n",
    "        param_grid={\n",
    "            'selector__threshold': [0, 0.01, 0.02, 0.03],\n",
    "            'knn__n_neighbors': [1, 3, 5],\n",
    "            'knn__p': [1, 2],\n",
    "        },\n",
    "        scoring=scorer,\n",
    "        cv=gscv),\n",
    "    'nb': GridSearchCV(\n",
    "        Pipeline([\n",
    "            #('imputer', SimpleImputer(strategy='mean')),\n",
    "            ('selector', SelectKBest()),\n",
    "            ('nb', GaussianNB())]), \n",
    "        param_grid={\n",
    "            'selector__k': [3, 5, 10],\n",
    "        },\n",
    "        scoring=scorer,\n",
    "        cv=gscv),\n",
    "    'svmlinear': GridSearchCV(\n",
    "        Pipeline([\n",
    "            #('imputer', SimpleImputer(strategy='mean')),\n",
    "            #('scaler', StandardScaler()),\n",
    "            ('pca', PCA()),\n",
    "            ('svm', SVC(kernel='linear', random_state=seed))]), \n",
    "        param_grid={\n",
    "            'pca__n_components': [2, 5, 10],\n",
    "            'svm__C': [1.0, 2.0],\n",
    "        },\n",
    "        scoring=scorer,\n",
    "        cv=gscv),\n",
    "    'svmrbf': GridSearchCV(\n",
    "        Pipeline([\n",
    "            #('imputer', SimpleImputer(strategy='mean')),\n",
    "            #('scaler', StandardScaler()),\n",
    "            ('pca', PCA(random_state=seed)),\n",
    "            ('svm', SVC(kernel='rbf', random_state=seed))]), \n",
    "        param_grid={\n",
    "            'pca__n_components': [2, 5, 10],\n",
    "            'svm__C': [1.0, 2.0],\n",
    "            'svm__gamma': [0.1, 1.0, 2.0],\n",
    "        },\n",
    "        scoring=scorer,\n",
    "        cv=gscv),\n",
    "}"
   ]
  },
  {
   "cell_type": "code",
   "execution_count": 199,
   "metadata": {},
   "outputs": [],
   "source": [
    "import time"
   ]
  },
  {
   "cell_type": "code",
   "execution_count": null,
   "metadata": {},
   "outputs": [
    {
     "name": "stdout",
     "output_type": "stream",
     "text": [
      "Train with algorithm 1: tree\n"
     ]
    },
    {
     "name": "stderr",
     "output_type": "stream",
     "text": [
      "[Parallel(n_jobs=-1)]: Using backend LokyBackend with 4 concurrent workers.\n",
      "[Parallel(n_jobs=-1)]: Done   5 out of   5 | elapsed:    5.6s finished\n",
      "[Parallel(n_jobs=-1)]: Using backend LokyBackend with 4 concurrent workers.\n"
     ]
    },
    {
     "name": "stdout",
     "output_type": "stream",
     "text": [
      "{'fit_time': array([0.49090672, 0.49635601, 0.49481177, 0.49963593, 0.28360009]), 'score_time': array([0.00294018, 0.00364804, 0.00336838, 0.004951  , 0.00213194]), 'test_score': array([0.99930652, 1.        , 1.        , 1.        , 1.        ])}\n",
      "it took 5.658105850219727 seconds.\n",
      "Train with algorithm 2: bigtree\n"
     ]
    },
    {
     "name": "stderr",
     "output_type": "stream",
     "text": [
      "[Parallel(n_jobs=-1)]: Done   5 out of   5 | elapsed:    0.4s finished\n",
      "[Parallel(n_jobs=-1)]: Using backend LokyBackend with 4 concurrent workers.\n"
     ]
    },
    {
     "name": "stdout",
     "output_type": "stream",
     "text": [
      "{'fit_time': array([0.15883303, 0.1746707 , 0.1714592 , 0.18693781, 0.16292095]), 'score_time': array([0.00427389, 0.01985216, 0.00479984, 0.01054525, 0.00266528]), 'test_score': array([0.99930652, 1.        , 1.        , 1.        , 1.        ])}\n",
      "it took 0.35564422607421875 seconds.\n",
      "Train with algorithm 3: kNN\n"
     ]
    },
    {
     "name": "stderr",
     "output_type": "stream",
     "text": [
      "[Parallel(n_jobs=-1)]: Done   5 out of   5 | elapsed:   46.0s finished\n",
      "[Parallel(n_jobs=-1)]: Using backend LokyBackend with 4 concurrent workers.\n"
     ]
    },
    {
     "name": "stdout",
     "output_type": "stream",
     "text": [
      "{'fit_time': array([30.42412996, 30.31065989, 30.01438785, 30.62735891, 14.9002099 ]), 'score_time': array([1.04106593, 0.85259628, 0.62546897, 0.88431478, 0.25960708]), 'test_score': array([0.99861304, 0.99861304, 0.99930652, 1.        , 0.99930604])}\n",
      "it took 45.97307586669922 seconds.\n",
      "Train with algorithm 4: nb\n"
     ]
    },
    {
     "name": "stderr",
     "output_type": "stream",
     "text": [
      "[Parallel(n_jobs=-1)]: Done   5 out of   5 | elapsed:    0.5s finished\n",
      "[Parallel(n_jobs=-1)]: Using backend LokyBackend with 4 concurrent workers.\n"
     ]
    },
    {
     "name": "stdout",
     "output_type": "stream",
     "text": [
      "{'fit_time': array([0.27415299, 0.27621794, 0.27603722, 0.24465108, 0.12654495]), 'score_time': array([0.00553918, 0.00443602, 0.00563002, 0.00285673, 0.0024941 ]), 'test_score': array([0.99861304, 0.99861304, 0.99514563, 0.99861207, 0.99791811])}\n",
      "it took 0.4595789909362793 seconds.\n",
      "Train with algorithm 5: svmlinear\n"
     ]
    },
    {
     "name": "stderr",
     "output_type": "stream",
     "text": [
      "[Parallel(n_jobs=-1)]: Done   5 out of   5 | elapsed:   15.6s finished\n",
      "[Parallel(n_jobs=-1)]: Using backend LokyBackend with 4 concurrent workers.\n"
     ]
    },
    {
     "name": "stdout",
     "output_type": "stream",
     "text": [
      "{'fit_time': array([10.86446404, 10.1575098 , 10.64403391, 10.67520094,  5.3830092 ]), 'score_time': array([0.00629401, 0.00835299, 0.00759721, 0.008075  , 0.00948095]), 'test_score': array([0.99930652, 1.        , 1.        , 1.        , 1.        ])}\n",
      "it took 15.590086936950684 seconds.\n",
      "Train with algorithm 6: svmrbf\n"
     ]
    }
   ],
   "source": [
    "from sklearn.model_selection import cross_val_predict, cross_val_score, cross_validate\n",
    "# df_balanced_stand, y_balanced \n",
    "result = {}\n",
    "result_score = {}\n",
    "i = 1\n",
    "# X_train, X_test, y_train, y_test\n",
    "\n",
    "for alg, clf in algorithms.items():\n",
    "    start = time.time()\n",
    "    print(f'Train with algorithm {i}: {alg}')\n",
    "    i += 1\n",
    "    result[alg] = cross_validate(clf, X_train, y_train, n_jobs= -1, verbose = 1)\n",
    "    #result_score[alg] = cross_val_score(clf, X, y)\n",
    "    print(result[alg])\n",
    "    print(f\"it took {time.time() - start} seconds.\")"
   ]
  },
  {
   "cell_type": "code",
   "execution_count": 159,
   "metadata": {
    "colab": {},
    "colab_type": "code",
    "executionInfo": {
     "elapsed": 15742,
     "status": "ok",
     "timestamp": 1596137490809,
     "user": {
      "displayName": "Filipe Alves Neto Verri",
      "photoUrl": "https://lh3.googleusercontent.com/a-/AOh14GiV7MMHmrkaugHXPDugQgeGecRd4s4T4ngvv5_A=s64",
      "userId": "07219587087217491568"
     },
     "user_tz": 180
    },
    "id": "Xpvrx3kqyUii"
   },
   "outputs": [
    {
     "name": "stdout",
     "output_type": "stream",
     "text": [
      "Train with algorithm 1: tree\n",
      "it took 2.1525657176971436 seconds.\n",
      "Train with algorithm 2: bigtree\n",
      "it took 0.7268269062042236 seconds.\n",
      "Train with algorithm 3: kNN\n",
      "it took 248.53992700576782 seconds.\n",
      "Train with algorithm 4: nb\n",
      "it took 0.739300012588501 seconds.\n",
      "Train with algorithm 5: svmlinear\n",
      "it took 58.26070713996887 seconds.\n",
      "Train with algorithm 6: svmrbf\n",
      "it took 261.29730772972107 seconds.\n"
     ]
    }
   ],
   "source": [
    "from sklearn.model_selection import cross_val_predict, cross_val_score\n",
    "# df_balanced_stand, y_balanced \n",
    "result = {}\n",
    "result_score = {}\n",
    "i = 1\n",
    "# X_train, X_test, y_train, y_test\n",
    "\n",
    "for alg, clf in algorithms.items():\n",
    "    start = time.time()\n",
    "    print(f'Train with algorithm {i}: {alg}')\n",
    "    i += 1\n",
    "    result[alg] = cross_val_predict(clf, X_train, y_train)\n",
    "    #result_score[alg] = cross_val_score(clf, X, y)\n",
    "    #print(result_score)\n",
    "    print(f\"it took {time.time() - start} seconds.\")"
   ]
  },
  {
   "cell_type": "code",
   "execution_count": 120,
   "metadata": {
    "colab": {
     "base_uri": "https://localhost:8080/",
     "height": 209
    },
    "colab_type": "code",
    "executionInfo": {
     "elapsed": 15073,
     "status": "ok",
     "timestamp": 1596137490810,
     "user": {
      "displayName": "Filipe Alves Neto Verri",
      "photoUrl": "https://lh3.googleusercontent.com/a-/AOh14GiV7MMHmrkaugHXPDugQgeGecRd4s4T4ngvv5_A=s64",
      "userId": "07219587087217491568"
     },
     "user_tz": 180
    },
    "id": "KMPeyps98u-h",
    "outputId": "9d71ea7e-ab66-446f-b7a2-a4505ff1d66a"
   },
   "outputs": [
    {
     "data": {
      "text/plain": [
       "(18020, 6)"
      ]
     },
     "execution_count": 120,
     "metadata": {},
     "output_type": "execute_result"
    }
   ],
   "source": [
    "result = pd.DataFrame.from_dict(result)\n",
    "result.shape\n"
   ]
  },
  {
   "cell_type": "code",
   "execution_count": 164,
   "metadata": {},
   "outputs": [
    {
     "ename": "AttributeError",
     "evalue": "'dict' object has no attribute 'columns'",
     "output_type": "error",
     "traceback": [
      "\u001b[0;31m---------------------------------------------------------------------------\u001b[0m",
      "\u001b[0;31mAttributeError\u001b[0m                            Traceback (most recent call last)",
      "\u001b[0;32m<ipython-input-164-def222836f7e>\u001b[0m in \u001b[0;36m<module>\u001b[0;34m\u001b[0m\n\u001b[1;32m     11\u001b[0m \u001b[0;32mfor\u001b[0m \u001b[0mi\u001b[0m \u001b[0;32min\u001b[0m \u001b[0mrange\u001b[0m\u001b[0;34m(\u001b[0m\u001b[0mlen\u001b[0m\u001b[0;34m(\u001b[0m\u001b[0malgorithms\u001b[0m\u001b[0;34m)\u001b[0m\u001b[0;34m)\u001b[0m\u001b[0;34m:\u001b[0m\u001b[0;34m\u001b[0m\u001b[0;34m\u001b[0m\u001b[0m\n\u001b[1;32m     12\u001b[0m     \u001b[0;32mfor\u001b[0m \u001b[0mj\u001b[0m \u001b[0;32min\u001b[0m \u001b[0mrange\u001b[0m\u001b[0;34m(\u001b[0m\u001b[0mi\u001b[0m \u001b[0;34m+\u001b[0m \u001b[0;36m1\u001b[0m\u001b[0;34m,\u001b[0m \u001b[0mlen\u001b[0m\u001b[0;34m(\u001b[0m\u001b[0malgorithms\u001b[0m\u001b[0;34m)\u001b[0m\u001b[0;34m)\u001b[0m\u001b[0;34m:\u001b[0m\u001b[0;34m\u001b[0m\u001b[0;34m\u001b[0m\u001b[0m\n\u001b[0;32m---> 13\u001b[0;31m         \u001b[0mcorrerrors\u001b[0m\u001b[0;34m[\u001b[0m\u001b[0mi\u001b[0m\u001b[0;34m,\u001b[0m \u001b[0mj\u001b[0m\u001b[0;34m]\u001b[0m \u001b[0;34m=\u001b[0m \u001b[0mphi\u001b[0m\u001b[0;34m(\u001b[0m\u001b[0mresult\u001b[0m\u001b[0;34m[\u001b[0m\u001b[0mresult\u001b[0m\u001b[0;34m.\u001b[0m\u001b[0mcolumns\u001b[0m\u001b[0;34m[\u001b[0m\u001b[0mi\u001b[0m\u001b[0;34m]\u001b[0m\u001b[0;34m]\u001b[0m\u001b[0;34m,\u001b[0m \u001b[0mresult\u001b[0m\u001b[0;34m[\u001b[0m\u001b[0mresult\u001b[0m\u001b[0;34m.\u001b[0m\u001b[0mcolumns\u001b[0m\u001b[0;34m[\u001b[0m\u001b[0mj\u001b[0m\u001b[0;34m]\u001b[0m\u001b[0;34m]\u001b[0m\u001b[0;34m,\u001b[0m \u001b[0my_balanced\u001b[0m\u001b[0;34m)\u001b[0m\u001b[0;34m\u001b[0m\u001b[0;34m\u001b[0m\u001b[0m\n\u001b[0m\u001b[1;32m     14\u001b[0m         \u001b[0mcorrerrors\u001b[0m\u001b[0;34m[\u001b[0m\u001b[0mj\u001b[0m\u001b[0;34m,\u001b[0m \u001b[0mi\u001b[0m\u001b[0;34m]\u001b[0m \u001b[0;34m=\u001b[0m \u001b[0mcorrerrors\u001b[0m\u001b[0;34m[\u001b[0m\u001b[0mi\u001b[0m\u001b[0;34m,\u001b[0m \u001b[0mj\u001b[0m\u001b[0;34m]\u001b[0m\u001b[0;34m\u001b[0m\u001b[0;34m\u001b[0m\u001b[0m\n\u001b[1;32m     15\u001b[0m \u001b[0;34m\u001b[0m\u001b[0m\n",
      "\u001b[0;31mAttributeError\u001b[0m: 'dict' object has no attribute 'columns'"
     ]
    }
   ],
   "source": [
    "def phi(a, b, expected):\n",
    "    errors = np.logical_or(a != expected, b != expected)\n",
    "    try:\n",
    "        return np.count_nonzero(np.logical_and(a == b, errors)) / np.count_nonzero(errors)\n",
    "    except:\n",
    "        return 0\n",
    "\n",
    "# X_balanced, y_balanced\n",
    "correrrors = np.ones((len(algorithms), len(algorithms)))\n",
    "\n",
    "for i in range(len(algorithms)):\n",
    "    for j in range(i + 1, len(algorithms)):\n",
    "        correrrors[i, j] = phi(result[result.columns[i]], result[result.columns[j]], y_balanced)\n",
    "        correrrors[j, i] = correrrors[i, j]    \n",
    "        \n",
    "print(correrrors)"
   ]
  },
  {
   "cell_type": "code",
   "execution_count": 122,
   "metadata": {},
   "outputs": [
    {
     "data": {
      "image/png": "[encoded data removed]",
      "text/plain": [
       "<Figure size 432x288 with 1 Axes>"
      ]
     },
     "metadata": {
      "needs_background": "light"
     },
     "output_type": "display_data"
    }
   ],
   "source": [
    "import matplotlib.pyplot as plt\n",
    "\n",
    "\n",
    "fig, ax = plt.subplots()\n",
    "im = ax.imshow(correrrors)\n",
    "\n",
    "ax.set_xticks(np.arange(len(result.columns)))\n",
    "ax.set_yticks(np.arange(len(result.columns)))\n",
    "ax.set_xticklabels(result.columns)\n",
    "ax.set_yticklabels(result.columns)\n",
    "\n",
    "plt.setp(ax.get_xticklabels(), rotation=45, ha=\"right\",\n",
    "         rotation_mode=\"anchor\")\n",
    "\n",
    "for i in range(len(result.columns)):\n",
    "    for j in range(len(result.columns)):\n",
    "        text = ax.text(j, i, round(correrrors[i, j], 1),\n",
    "                       ha=\"center\", va=\"center\", color=\"w\")\n",
    "\n",
    "ax.set_title(\"Error correlation\")\n",
    "fig.tight_layout()\n",
    "plt.show()"
   ]
  },
  {
   "cell_type": "markdown",
   "metadata": {},
   "source": [
    "## Todos são melhores que a média?"
   ]
  },
  {
   "cell_type": "code",
   "execution_count": 123,
   "metadata": {},
   "outputs": [
    {
     "name": "stdout",
     "output_type": "stream",
     "text": [
      "0.5\n"
     ]
    }
   ],
   "source": [
    "# random classifier\n",
    "mode = lambda x: ss.mode(x).mode[0]\n",
    "random = np.mean(mode(y) == y)\n",
    "print(random)"
   ]
  },
  {
   "cell_type": "code",
   "execution_count": 124,
   "metadata": {},
   "outputs": [
    {
     "data": {
      "text/plain": [
       "tree         1.000000\n",
       "bigtree      1.000000\n",
       "kNN          0.999723\n",
       "nb           0.997614\n",
       "svmlinear    0.999945\n",
       "svmrbf       0.999723\n",
       "dtype: float64"
      ]
     },
     "execution_count": 124,
     "metadata": {},
     "output_type": "execute_result"
    }
   ],
   "source": [
    "result.apply(lambda ypred: np.mean(ypred == y_balanced))"
   ]
  },
  {
   "cell_type": "markdown",
   "metadata": {},
   "source": [
    "## Combinando classificadores"
   ]
  },
  {
   "cell_type": "code",
   "execution_count": 125,
   "metadata": {},
   "outputs": [],
   "source": [
    "result['kNN+tree+svmrbf'] = result.filter(['kNN', 'tree', 'svmrbf']).apply(mode, axis=1)\n",
    "result['nb+svmlinear+svmrbf'] = result.filter(['nb', 'svmlinear', 'svmrbf']).apply(mode, axis=1)\n",
    "result['kNN+bigtree+svmrbf'] = result.filter(['kNN', 'bigtree', 'svmrbf']).apply(mode, axis=1)"
   ]
  },
  {
   "cell_type": "code",
   "execution_count": 126,
   "metadata": {},
   "outputs": [
    {
     "data": {
      "text/plain": [
       "tree                   1.000000\n",
       "bigtree                1.000000\n",
       "kNN                    0.999723\n",
       "nb                     0.997614\n",
       "svmlinear              0.999945\n",
       "svmrbf                 0.999723\n",
       "kNN+tree+svmrbf        0.999778\n",
       "nb+svmlinear+svmrbf    0.999834\n",
       "kNN+bigtree+svmrbf     0.999778\n",
       "dtype: float64"
      ]
     },
     "execution_count": 126,
     "metadata": {},
     "output_type": "execute_result"
    }
   ],
   "source": [
    "result.apply(lambda ypred: np.mean(ypred == y_balanced))"
   ]
  },
  {
   "cell_type": "markdown",
   "metadata": {},
   "source": [
    "**nota**: podem existir outros casos de melhoras/pioras."
   ]
  },
  {
   "cell_type": "markdown",
   "metadata": {},
   "source": [
    "# Bagging, boosting, etc"
   ]
  },
  {
   "cell_type": "code",
   "execution_count": 129,
   "metadata": {},
   "outputs": [],
   "source": [
    "from sklearn.ensemble import RandomForestClassifier, ExtraTreesClassifier, BaggingClassifier, AdaBoostClassifier, GradientBoostingClassifier, VotingClassifier"
   ]
  },
  {
   "cell_type": "code",
   "execution_count": 130,
   "metadata": {},
   "outputs": [],
   "source": [
    "algorithms = {\n",
    "    'bagging':  \n",
    "        Pipeline([\n",
    "            ('imputer', SimpleImputer(strategy='mean')),\n",
    "            ('tree', BaggingClassifier(random_state=seed))]),\n",
    "    'forest':  \n",
    "        Pipeline([\n",
    "            ('imputer', SimpleImputer(strategy='mean')),\n",
    "            ('tree', RandomForestClassifier(random_state=seed))]),\n",
    "    #'kNN+tree+svmrbf':\n",
    "    #    VotingClassifier([ ])\n",
    "    # Testar outros\n",
    "}"
   ]
  },
  {
   "cell_type": "code",
   "execution_count": 131,
   "metadata": {},
   "outputs": [],
   "source": [
    "from sklearn.model_selection import cross_val_predict\n",
    "\n",
    "for alg, clf in algorithms.items():\n",
    "  result[alg] = cross_val_predict(clf, X, y, cv=cv)"
   ]
  },
  {
   "cell_type": "code",
   "execution_count": 132,
   "metadata": {},
   "outputs": [
    {
     "data": {
      "text/plain": [
       "tree                   1.000000\n",
       "bigtree                1.000000\n",
       "kNN                    0.999723\n",
       "nb                     0.997614\n",
       "svmlinear              0.999945\n",
       "svmrbf                 0.999723\n",
       "kNN+tree+svmrbf        0.999778\n",
       "nb+svmlinear+svmrbf    0.999834\n",
       "kNN+bigtree+svmrbf     0.999778\n",
       "bagging                1.000000\n",
       "forest                 1.000000\n",
       "dtype: float64"
      ]
     },
     "execution_count": 132,
     "metadata": {},
     "output_type": "execute_result"
    }
   ],
   "source": [
    "result.apply(lambda ypred: np.mean(ypred == y))"
   ]
  },
  {
   "cell_type": "markdown",
   "metadata": {},
   "source": [
    "### Rede neural\n",
    "X_train, X_test, y_train, y_test"
   ]
  },
  {
   "cell_type": "code",
   "execution_count": 66,
   "metadata": {},
   "outputs": [],
   "source": [
    "from sklearn.neural_network import MLPClassifier\n",
    "from skimage.transform import resize"
   ]
  },
  {
   "cell_type": "code",
   "execution_count": 67,
   "metadata": {},
   "outputs": [],
   "source": [
    "from sklearn.preprocessing import StandardScaler"
   ]
  },
  {
   "cell_type": "code",
   "execution_count": 166,
   "metadata": {},
   "outputs": [
    {
     "data": {
      "text/plain": [
       "MLPClassifier(early_stopping=True, hidden_layer_sizes=(10, 2), max_iter=30,\n",
       "              random_state=17)"
      ]
     },
     "execution_count": 166,
     "metadata": {},
     "output_type": "execute_result"
    }
   ],
   "source": [
    "model = MLPClassifier(hidden_layer_sizes=(10, 2),\n",
    "                      activation='relu',\n",
    "                      solver='adam',\n",
    "                      max_iter=30,\n",
    "                      random_state=17,\n",
    "                      early_stopping=True,\n",
    "                      #verbose= True,\n",
    "                      validation_fraction=0.1)\n",
    "model.fit(X_train, y_train)"
   ]
  },
  {
   "cell_type": "code",
   "execution_count": 167,
   "metadata": {},
   "outputs": [],
   "source": [
    "from sklearn.metrics import accuracy_score"
   ]
  },
  {
   "cell_type": "code",
   "execution_count": 168,
   "metadata": {},
   "outputs": [],
   "source": [
    "ypredicted = model.predict(X_test)"
   ]
  },
  {
   "cell_type": "code",
   "execution_count": 169,
   "metadata": {},
   "outputs": [
    {
     "data": {
      "text/plain": [
       "array([0, 1, 0, ..., 1, 0, 0])"
      ]
     },
     "execution_count": 169,
     "metadata": {},
     "output_type": "execute_result"
    }
   ],
   "source": [
    "ypredicted"
   ]
  },
  {
   "cell_type": "code",
   "execution_count": 170,
   "metadata": {},
   "outputs": [
    {
     "data": {
      "text/plain": [
       "array([0, 1, 0, ..., 1, 0, 0])"
      ]
     },
     "execution_count": 170,
     "metadata": {},
     "output_type": "execute_result"
    }
   ],
   "source": [
    "y_test"
   ]
  },
  {
   "cell_type": "code",
   "execution_count": 171,
   "metadata": {},
   "outputs": [
    {
     "name": "stdout",
     "output_type": "stream",
     "text": [
      "0.9956529781724011\n"
     ]
    }
   ],
   "source": [
    "print(accuracy_score(ypredicted, y_test))"
   ]
  },
  {
   "cell_type": "code",
   "execution_count": 172,
   "metadata": {},
   "outputs": [],
   "source": [
    "from sklearn.model_selection import cross_val_score"
   ]
  },
  {
   "cell_type": "code",
   "execution_count": 173,
   "metadata": {},
   "outputs": [
    {
     "name": "stdout",
     "output_type": "stream",
     "text": [
      "[0.99750277 0.99528302 0.99916759 0.99667037 0.99500555]\n"
     ]
    }
   ],
   "source": [
    "print(cross_val_score(model, X, y))"
   ]
  },
  {
   "cell_type": "code",
   "execution_count": null,
   "metadata": {},
   "outputs": [],
   "source": []
  }
 ],
 "metadata": {
  "colab": {
   "authorship_tag": "ABX9TyMfuXOITPqRU+OfypdQG86j",
   "name": "10 - Avaliação Preditivo.ipynb",
   "provenance": []
  },
  "kernelspec": {
   "display_name": "Python 3",
   "language": "python",
   "name": "python3"
  },
  "language_info": {
   "codemirror_mode": {
    "name": "ipython",
    "version": 3
   },
   "file_extension": ".py",
   "mimetype": "text/x-python",
   "name": "python",
   "nbconvert_exporter": "python",
   "pygments_lexer": "ipython3",
   "version": "3.8.5"
  }
 },
 "nbformat": 4,
 "nbformat_minor": 4
}

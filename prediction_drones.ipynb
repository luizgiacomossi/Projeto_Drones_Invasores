{
 "cells": [
  {
   "cell_type": "code",
   "execution_count": 70,
   "metadata": {
    "colab": {},
    "colab_type": "code",
    "executionInfo": {
     "elapsed": 931,
     "status": "ok",
     "timestamp": 1596135531624,
     "user": {
      "displayName": "Filipe Alves Neto Verri",
      "photoUrl": "https://lh3.googleusercontent.com/a-/AOh14GiV7MMHmrkaugHXPDugQgeGecRd4s4T4ngvv5_A=s64",
      "userId": "07219587087217491568"
     },
     "user_tz": 180
    },
    "id": "F2Jj5yQMzeoB"
   },
   "outputs": [],
   "source": [
    "from sklearn.neighbors import KNeighborsClassifier\n",
    "from sklearn.tree import DecisionTreeClassifier\n",
    "from sklearn.naive_bayes import GaussianNB\n",
    "from sklearn.svm import SVC\n",
    "from sklearn.neural_network import MLPClassifier\n",
    "seed = 17\n",
    "from sklearn.pipeline import Pipeline\n",
    "\n",
    "from sklearn.impute import SimpleImputer\n",
    "from sklearn.preprocessing import MinMaxScaler, StandardScaler\n",
    "from sklearn.feature_selection import VarianceThreshold, SelectKBest\n",
    "from sklearn.decomposition import PCA\n",
    "\n",
    "from sklearn.model_selection import GridSearchCV, StratifiedKFold\n",
    "from sklearn.metrics import accuracy_score, precision_score, recall_score, f1_score\n",
    "from sklearn.metrics import make_scorer, precision_score"
   ]
  },
  {
   "cell_type": "markdown",
   "metadata": {
    "colab_type": "text",
    "id": "Yx-VxT_wzXi6"
   },
   "source": [
    "# Comitês"
   ]
  },
  {
   "cell_type": "code",
   "execution_count": 43,
   "metadata": {
    "colab": {},
    "colab_type": "code",
    "executionInfo": {
     "elapsed": 1673,
     "status": "ok",
     "timestamp": 1596135305774,
     "user": {
      "displayName": "Filipe Alves Neto Verri",
      "photoUrl": "https://lh3.googleusercontent.com/a-/AOh14GiV7MMHmrkaugHXPDugQgeGecRd4s4T4ngvv5_A=s64",
      "userId": "07219587087217491568"
     },
     "user_tz": 180
    },
    "id": "XOr-9WVsYEhE"
   },
   "outputs": [],
   "source": [
    "import numpy as np # Numpy: biblioteca para manipular vetores e matrizes\n",
    "import pandas as pd # Pandas: biblioteca para manipular tabelas\n",
    "import scipy.stats as ss\n",
    "from sklearn.metrics import confusion_matrix"
   ]
  },
  {
   "cell_type": "markdown",
   "metadata": {},
   "source": [
    "#### Carregando dataset UPLINK"
   ]
  },
  {
   "cell_type": "code",
   "execution_count": 44,
   "metadata": {},
   "outputs": [
    {
     "name": "stdout",
     "output_type": "stream",
     "text": [
      "Tamanho df teste 4:  1063\n",
      "Tamanho df treino 4 :  10600\n",
      "Tamanho df teste 5:  1351\n",
      "Tamanho df treino 5 :  13513\n",
      "Tamanho df teste 6:  7\n",
      "Tamanho df treino 6 :  66\n"
     ]
    }
   ],
   "source": [
    "lista = ['V1_size','V2_size','V3_size','V4_size','V5_size','V6_size','V7_size','V8_size','V9_size','V1_interval','V2_interval','V3_interval','V4_interval','V5_interval','V6_interval','V7_interval','V8_interval','V9_interval','classe']\n",
    "\n",
    "test = []\n",
    "train = []\n",
    "\n",
    "for i in range(4,7):\n",
    "    test.append(pd.read_csv(f'./dataset/dataset{i}_teste.csv', sep = ',', names=lista)) \n",
    "    train.append(pd.read_csv(f'./dataset/dataset{i}_treino.csv', sep = ',', names=lista))\n",
    "    print(f\"Tamanho df teste {i}: \",len(test[-1]))\n",
    "    print(f\"Tamanho df treino {i} : \",len(train[-1]))\n",
    "\n",
    "frames = train + test\n",
    "df_train1 = pd.concat(frames)\n",
    " "
   ]
  },
  {
   "cell_type": "code",
   "execution_count": 45,
   "metadata": {},
   "outputs": [
    {
     "name": "stdout",
     "output_type": "stream",
     "text": [
      "Tamanho df teste 4:  1063\n",
      "Tamanho df treino 4 :  10600\n",
      "Tamanho df teste 5:  1351\n",
      "Tamanho df treino 5 :  13513\n",
      "Tamanho df teste 6:  7\n",
      "Tamanho df treino 6 :  66\n"
     ]
    }
   ],
   "source": [
    "## TESTE DE SEPARAÇAO - APAGAR TUDO DPS\n",
    "lista = ['V1_size','V2_size','V3_size','V4_size','V5_size','V6_size','V7_size','V8_size','V9_size','V1_interval','V2_interval','V3_interval','V4_interval','V5_interval','V6_interval','V7_interval','V8_interval','V9_interval','classe']\n",
    "\n",
    "test = []\n",
    "train = []\n",
    "\n",
    "for i in range(4,7):\n",
    "    test.append(pd.read_csv(f'./dataset/dataset{i}_teste.csv', sep = ',', names=lista)) \n",
    "    train.append(pd.read_csv(f'./dataset/dataset{i}_treino.csv', sep = ',', names=lista))\n",
    "    print(f\"Tamanho df teste {i}: \",len(test[-1]))\n",
    "    print(f\"Tamanho df treino {i} : \",len(train[-1]))\n",
    "\n",
    "training_frame = train\n",
    "df_train1 = pd.concat(training_frame)\n",
    "testing_frame = test\n",
    "df_test1 = pd.concat(testing_frame)\n"
   ]
  },
  {
   "cell_type": "code",
   "execution_count": 46,
   "metadata": {
    "colab": {
     "base_uri": "https://localhost:8080/",
     "height": 34
    },
    "colab_type": "code",
    "executionInfo": {
     "elapsed": 4012,
     "status": "ok",
     "timestamp": 1596135309611,
     "user": {
      "displayName": "Filipe Alves Neto Verri",
      "photoUrl": "https://lh3.googleusercontent.com/a-/AOh14GiV7MMHmrkaugHXPDugQgeGecRd4s4T4ngvv5_A=s64",
      "userId": "07219587087217491568"
     },
     "user_tz": 180
    },
    "id": "16GH5n9j1T59",
    "outputId": "b9835c3e-4edb-467b-a6cd-3e76d2a08dbc"
   },
   "outputs": [
    {
     "name": "stdout",
     "output_type": "stream",
     "text": [
      "(24179, 19)\n"
     ]
    }
   ],
   "source": [
    "print(df_train1.shape)\n"
   ]
  },
  {
   "cell_type": "code",
   "execution_count": 47,
   "metadata": {},
   "outputs": [
    {
     "data": {
      "text/html": [
       "<div>\n",
       "<style scoped>\n",
       "    .dataframe tbody tr th:only-of-type {\n",
       "        vertical-align: middle;\n",
       "    }\n",
       "\n",
       "    .dataframe tbody tr th {\n",
       "        vertical-align: top;\n",
       "    }\n",
       "\n",
       "    .dataframe thead th {\n",
       "        text-align: right;\n",
       "    }\n",
       "</style>\n",
       "<table border=\"1\" class=\"dataframe\">\n",
       "  <thead>\n",
       "    <tr style=\"text-align: right;\">\n",
       "      <th></th>\n",
       "      <th>V1_size</th>\n",
       "      <th>V2_size</th>\n",
       "      <th>V3_size</th>\n",
       "      <th>V4_size</th>\n",
       "      <th>V5_size</th>\n",
       "      <th>V6_size</th>\n",
       "      <th>V7_size</th>\n",
       "      <th>V8_size</th>\n",
       "      <th>V9_size</th>\n",
       "      <th>V1_interval</th>\n",
       "      <th>V2_interval</th>\n",
       "      <th>V3_interval</th>\n",
       "      <th>V4_interval</th>\n",
       "      <th>V5_interval</th>\n",
       "      <th>V6_interval</th>\n",
       "      <th>V7_interval</th>\n",
       "      <th>V8_interval</th>\n",
       "      <th>V9_interval</th>\n",
       "      <th>classe</th>\n",
       "    </tr>\n",
       "  </thead>\n",
       "  <tbody>\n",
       "    <tr>\n",
       "      <th>3875</th>\n",
       "      <td>0.000266</td>\n",
       "      <td>0.000557</td>\n",
       "      <td>0.000134</td>\n",
       "      <td>0.000128</td>\n",
       "      <td>3.6357</td>\n",
       "      <td>12.1460</td>\n",
       "      <td>0.002609</td>\n",
       "      <td>0.000004</td>\n",
       "      <td>0.000614</td>\n",
       "      <td>87.84</td>\n",
       "      <td>36.183</td>\n",
       "      <td>62.0</td>\n",
       "      <td>0.000</td>\n",
       "      <td>0.665410</td>\n",
       "      <td>-1.5727</td>\n",
       "      <td>138</td>\n",
       "      <td>62</td>\n",
       "      <td>94.932</td>\n",
       "      <td>1</td>\n",
       "    </tr>\n",
       "    <tr>\n",
       "      <th>5678</th>\n",
       "      <td>0.008047</td>\n",
       "      <td>0.025189</td>\n",
       "      <td>0.001006</td>\n",
       "      <td>0.000214</td>\n",
       "      <td>3.9427</td>\n",
       "      <td>15.2420</td>\n",
       "      <td>0.152060</td>\n",
       "      <td>0.000218</td>\n",
       "      <td>0.026323</td>\n",
       "      <td>1308.20</td>\n",
       "      <td>332.240</td>\n",
       "      <td>1448.0</td>\n",
       "      <td>0.000</td>\n",
       "      <td>-2.081100</td>\n",
       "      <td>2.7906</td>\n",
       "      <td>1448</td>\n",
       "      <td>288</td>\n",
       "      <td>1349.400</td>\n",
       "      <td>0</td>\n",
       "    </tr>\n",
       "    <tr>\n",
       "      <th>4855</th>\n",
       "      <td>0.000172</td>\n",
       "      <td>0.000245</td>\n",
       "      <td>0.000135</td>\n",
       "      <td>0.000134</td>\n",
       "      <td>2.9102</td>\n",
       "      <td>8.1831</td>\n",
       "      <td>0.001160</td>\n",
       "      <td>0.000003</td>\n",
       "      <td>0.000298</td>\n",
       "      <td>87.37</td>\n",
       "      <td>37.336</td>\n",
       "      <td>62.0</td>\n",
       "      <td>0.000</td>\n",
       "      <td>0.790280</td>\n",
       "      <td>-1.3413</td>\n",
       "      <td>153</td>\n",
       "      <td>62</td>\n",
       "      <td>94.940</td>\n",
       "      <td>1</td>\n",
       "    </tr>\n",
       "    <tr>\n",
       "      <th>363</th>\n",
       "      <td>0.003337</td>\n",
       "      <td>0.006249</td>\n",
       "      <td>0.000243</td>\n",
       "      <td>0.000348</td>\n",
       "      <td>2.0229</td>\n",
       "      <td>6.2209</td>\n",
       "      <td>0.026625</td>\n",
       "      <td>0.000002</td>\n",
       "      <td>0.007056</td>\n",
       "      <td>820.00</td>\n",
       "      <td>665.420</td>\n",
       "      <td>1282.0</td>\n",
       "      <td>462.570</td>\n",
       "      <td>-0.154990</td>\n",
       "      <td>1.1107</td>\n",
       "      <td>1594</td>\n",
       "      <td>76</td>\n",
       "      <td>1053.900</td>\n",
       "      <td>1</td>\n",
       "    </tr>\n",
       "    <tr>\n",
       "      <th>5793</th>\n",
       "      <td>0.005490</td>\n",
       "      <td>0.007660</td>\n",
       "      <td>0.000854</td>\n",
       "      <td>0.001238</td>\n",
       "      <td>1.1497</td>\n",
       "      <td>2.7380</td>\n",
       "      <td>0.022366</td>\n",
       "      <td>0.000003</td>\n",
       "      <td>0.009393</td>\n",
       "      <td>116.16</td>\n",
       "      <td>53.200</td>\n",
       "      <td>88.0</td>\n",
       "      <td>17.791</td>\n",
       "      <td>1.013300</td>\n",
       "      <td>2.2346</td>\n",
       "      <td>224</td>\n",
       "      <td>76</td>\n",
       "      <td>127.650</td>\n",
       "      <td>1</td>\n",
       "    </tr>\n",
       "    <tr>\n",
       "      <th>...</th>\n",
       "      <td>...</td>\n",
       "      <td>...</td>\n",
       "      <td>...</td>\n",
       "      <td>...</td>\n",
       "      <td>...</td>\n",
       "      <td>...</td>\n",
       "      <td>...</td>\n",
       "      <td>...</td>\n",
       "      <td>...</td>\n",
       "      <td>...</td>\n",
       "      <td>...</td>\n",
       "      <td>...</td>\n",
       "      <td>...</td>\n",
       "      <td>...</td>\n",
       "      <td>...</td>\n",
       "      <td>...</td>\n",
       "      <td>...</td>\n",
       "      <td>...</td>\n",
       "      <td>...</td>\n",
       "    </tr>\n",
       "    <tr>\n",
       "      <th>9529</th>\n",
       "      <td>0.141930</td>\n",
       "      <td>0.485080</td>\n",
       "      <td>0.000443</td>\n",
       "      <td>0.000480</td>\n",
       "      <td>4.6668</td>\n",
       "      <td>24.1230</td>\n",
       "      <td>3.461400</td>\n",
       "      <td>0.000094</td>\n",
       "      <td>0.503080</td>\n",
       "      <td>910.94</td>\n",
       "      <td>682.890</td>\n",
       "      <td>708.0</td>\n",
       "      <td>720.540</td>\n",
       "      <td>0.083532</td>\n",
       "      <td>-1.9281</td>\n",
       "      <td>1676</td>\n",
       "      <td>222</td>\n",
       "      <td>1136.400</td>\n",
       "      <td>0</td>\n",
       "    </tr>\n",
       "    <tr>\n",
       "      <th>406</th>\n",
       "      <td>0.000149</td>\n",
       "      <td>0.000158</td>\n",
       "      <td>0.000122</td>\n",
       "      <td>0.000122</td>\n",
       "      <td>1.9872</td>\n",
       "      <td>4.0584</td>\n",
       "      <td>0.000688</td>\n",
       "      <td>0.000003</td>\n",
       "      <td>0.000217</td>\n",
       "      <td>87.37</td>\n",
       "      <td>37.336</td>\n",
       "      <td>62.0</td>\n",
       "      <td>0.000</td>\n",
       "      <td>0.790280</td>\n",
       "      <td>-1.3413</td>\n",
       "      <td>153</td>\n",
       "      <td>62</td>\n",
       "      <td>94.940</td>\n",
       "      <td>1</td>\n",
       "    </tr>\n",
       "    <tr>\n",
       "      <th>3102</th>\n",
       "      <td>0.002927</td>\n",
       "      <td>0.007105</td>\n",
       "      <td>0.000083</td>\n",
       "      <td>0.000111</td>\n",
       "      <td>2.7928</td>\n",
       "      <td>9.5531</td>\n",
       "      <td>0.029771</td>\n",
       "      <td>0.000008</td>\n",
       "      <td>0.007651</td>\n",
       "      <td>899.05</td>\n",
       "      <td>649.270</td>\n",
       "      <td>1338.0</td>\n",
       "      <td>266.870</td>\n",
       "      <td>-0.422600</td>\n",
       "      <td>1.2539</td>\n",
       "      <td>1590</td>\n",
       "      <td>76</td>\n",
       "      <td>1107.100</td>\n",
       "      <td>1</td>\n",
       "    </tr>\n",
       "    <tr>\n",
       "      <th>2191</th>\n",
       "      <td>0.001376</td>\n",
       "      <td>0.012914</td>\n",
       "      <td>0.000097</td>\n",
       "      <td>0.000133</td>\n",
       "      <td>9.7012</td>\n",
       "      <td>93.0490</td>\n",
       "      <td>0.129220</td>\n",
       "      <td>0.000000</td>\n",
       "      <td>0.012923</td>\n",
       "      <td>96.70</td>\n",
       "      <td>34.602</td>\n",
       "      <td>68.0</td>\n",
       "      <td>0.000</td>\n",
       "      <td>0.360500</td>\n",
       "      <td>-1.8886</td>\n",
       "      <td>138</td>\n",
       "      <td>68</td>\n",
       "      <td>102.650</td>\n",
       "      <td>1</td>\n",
       "    </tr>\n",
       "    <tr>\n",
       "      <th>263</th>\n",
       "      <td>0.003648</td>\n",
       "      <td>0.010895</td>\n",
       "      <td>0.000112</td>\n",
       "      <td>0.000163</td>\n",
       "      <td>4.1394</td>\n",
       "      <td>20.4960</td>\n",
       "      <td>0.062824</td>\n",
       "      <td>0.000002</td>\n",
       "      <td>0.011438</td>\n",
       "      <td>765.77</td>\n",
       "      <td>622.300</td>\n",
       "      <td>1270.0</td>\n",
       "      <td>373.620</td>\n",
       "      <td>-0.148600</td>\n",
       "      <td>1.0876</td>\n",
       "      <td>1522</td>\n",
       "      <td>76</td>\n",
       "      <td>984.780</td>\n",
       "      <td>1</td>\n",
       "    </tr>\n",
       "  </tbody>\n",
       "</table>\n",
       "<p>24179 rows × 19 columns</p>\n",
       "</div>"
      ],
      "text/plain": [
       "       V1_size   V2_size   V3_size   V4_size  V5_size  V6_size   V7_size  \\\n",
       "3875  0.000266  0.000557  0.000134  0.000128   3.6357  12.1460  0.002609   \n",
       "5678  0.008047  0.025189  0.001006  0.000214   3.9427  15.2420  0.152060   \n",
       "4855  0.000172  0.000245  0.000135  0.000134   2.9102   8.1831  0.001160   \n",
       "363   0.003337  0.006249  0.000243  0.000348   2.0229   6.2209  0.026625   \n",
       "5793  0.005490  0.007660  0.000854  0.001238   1.1497   2.7380  0.022366   \n",
       "...        ...       ...       ...       ...      ...      ...       ...   \n",
       "9529  0.141930  0.485080  0.000443  0.000480   4.6668  24.1230  3.461400   \n",
       "406   0.000149  0.000158  0.000122  0.000122   1.9872   4.0584  0.000688   \n",
       "3102  0.002927  0.007105  0.000083  0.000111   2.7928   9.5531  0.029771   \n",
       "2191  0.001376  0.012914  0.000097  0.000133   9.7012  93.0490  0.129220   \n",
       "263   0.003648  0.010895  0.000112  0.000163   4.1394  20.4960  0.062824   \n",
       "\n",
       "       V8_size   V9_size  V1_interval  V2_interval  V3_interval  V4_interval  \\\n",
       "3875  0.000004  0.000614        87.84       36.183         62.0        0.000   \n",
       "5678  0.000218  0.026323      1308.20      332.240       1448.0        0.000   \n",
       "4855  0.000003  0.000298        87.37       37.336         62.0        0.000   \n",
       "363   0.000002  0.007056       820.00      665.420       1282.0      462.570   \n",
       "5793  0.000003  0.009393       116.16       53.200         88.0       17.791   \n",
       "...        ...       ...          ...          ...          ...          ...   \n",
       "9529  0.000094  0.503080       910.94      682.890        708.0      720.540   \n",
       "406   0.000003  0.000217        87.37       37.336         62.0        0.000   \n",
       "3102  0.000008  0.007651       899.05      649.270       1338.0      266.870   \n",
       "2191  0.000000  0.012923        96.70       34.602         68.0        0.000   \n",
       "263   0.000002  0.011438       765.77      622.300       1270.0      373.620   \n",
       "\n",
       "      V5_interval  V6_interval  V7_interval  V8_interval  V9_interval  classe  \n",
       "3875     0.665410      -1.5727          138           62       94.932       1  \n",
       "5678    -2.081100       2.7906         1448          288     1349.400       0  \n",
       "4855     0.790280      -1.3413          153           62       94.940       1  \n",
       "363     -0.154990       1.1107         1594           76     1053.900       1  \n",
       "5793     1.013300       2.2346          224           76      127.650       1  \n",
       "...           ...          ...          ...          ...          ...     ...  \n",
       "9529     0.083532      -1.9281         1676          222     1136.400       0  \n",
       "406      0.790280      -1.3413          153           62       94.940       1  \n",
       "3102    -0.422600       1.2539         1590           76     1107.100       1  \n",
       "2191     0.360500      -1.8886          138           68      102.650       1  \n",
       "263     -0.148600       1.0876         1522           76      984.780       1  \n",
       "\n",
       "[24179 rows x 19 columns]"
      ]
     },
     "execution_count": 47,
     "metadata": {},
     "output_type": "execute_result"
    }
   ],
   "source": [
    "from sklearn.utils import shuffle\n",
    "\n",
    "df_train1 = shuffle(df_train1, random_state=17)\n",
    "df_train1"
   ]
  },
  {
   "cell_type": "code",
   "execution_count": 48,
   "metadata": {},
   "outputs": [
    {
     "data": {
      "text/plain": [
       "1    0.533\n",
       "0    0.467\n",
       "Name: classe, dtype: float64"
      ]
     },
     "execution_count": 48,
     "metadata": {},
     "output_type": "execute_result"
    }
   ],
   "source": [
    "import seaborn as sns\n",
    "df_train1.classe.value_counts(normalize=True).round(3)"
   ]
  },
  {
   "cell_type": "code",
   "execution_count": 49,
   "metadata": {},
   "outputs": [],
   "source": [
    "df_train_noduplicates = df_train1.drop_duplicates()\n",
    "df_test_noduplicates = df_test1.drop_duplicates()"
   ]
  },
  {
   "cell_type": "code",
   "execution_count": 50,
   "metadata": {},
   "outputs": [
    {
     "name": "stdout",
     "output_type": "stream",
     "text": [
      "Resultante com duplicados (24179, 19)\n",
      "Resultante sem duplicados (21353, 19)\n",
      "Total de valores duplicados: -2826\n"
     ]
    }
   ],
   "source": [
    "print(f'Resultante com duplicados {df_train1.shape}')\n",
    "print(f'Resultante sem duplicados {df_train_noduplicates.shape}')\n",
    "print(f'Total de valores duplicados: {df_train_noduplicates.shape[0]-df_train1.shape[0]}')"
   ]
  },
  {
   "cell_type": "code",
   "execution_count": 51,
   "metadata": {},
   "outputs": [],
   "source": [
    "y= df_train_noduplicates.classe.to_numpy()\n",
    "y_validation= df_test_noduplicates.classe.to_numpy()"
   ]
  },
  {
   "cell_type": "code",
   "execution_count": 60,
   "metadata": {},
   "outputs": [
    {
     "name": "stdout",
     "output_type": "stream",
     "text": [
      "Counter({1: 12892, 0: 8461})\n",
      "Counter({1: 1279, 0: 1111})\n"
     ]
    }
   ],
   "source": [
    "from collections import Counter\n",
    "print(Counter(y))\n",
    "X_nodupl = df_train_noduplicates\n",
    "X_nodupl = X_nodupl.drop(['classe'], axis=1)\n",
    "\n",
    "\n",
    "\n",
    "print(Counter(y_validation))\n",
    "df_validation = df_test_noduplicates.drop(['classe'], axis=1)\n",
    "X_validation = df_validation\n"
   ]
  },
  {
   "cell_type": "markdown",
   "metadata": {},
   "source": [
    "### Balanceando"
   ]
  },
  {
   "cell_type": "code",
   "execution_count": 61,
   "metadata": {},
   "outputs": [
    {
     "name": "stdout",
     "output_type": "stream",
     "text": [
      "Counter({0: 8461, 1: 8461})\n"
     ]
    }
   ],
   "source": [
    "from imblearn.under_sampling import RandomUnderSampler\n",
    "undersample = RandomUnderSampler(sampling_strategy='majority')\n",
    "X_balanced, y_balanced = undersample.fit_resample(X_nodupl, y)\n",
    "from collections import Counter\n",
    "print(Counter(y_balanced))"
   ]
  },
  {
   "cell_type": "markdown",
   "metadata": {
    "colab": {
     "base_uri": "https://localhost:8080/",
     "height": 34
    },
    "colab_type": "code",
    "executionInfo": {
     "elapsed": 576,
     "status": "ok",
     "timestamp": 1596135384458,
     "user": {
      "displayName": "Filipe Alves Neto Verri",
      "photoUrl": "https://lh3.googleusercontent.com/a-/AOh14GiV7MMHmrkaugHXPDugQgeGecRd4s4T4ngvv5_A=s64",
      "userId": "07219587087217491568"
     },
     "user_tz": 180
    },
    "id": "mB6fuQG4Wyjr",
    "outputId": "95e3f970-ccae-48cf-ae1c-16d5a5e56eda"
   },
   "source": [
    "### Normalizando por padronização\n",
    "\n"
   ]
  },
  {
   "cell_type": "code",
   "execution_count": 62,
   "metadata": {},
   "outputs": [],
   "source": [
    "from sklearn.preprocessing import MinMaxScaler, StandardScaler\n",
    "scaler = StandardScaler()\n",
    "Xstd = scaler.fit_transform(X_balanced)\n",
    "df_balanced_stand = pd.DataFrame(Xstd, columns=X_balanced.columns, index=X_balanced.index)"
   ]
  },
  {
   "cell_type": "code",
   "execution_count": 63,
   "metadata": {},
   "outputs": [],
   "source": [
    "Xstd_validation = scaler.fit_transform(X_validation)\n",
    "df_validation = pd.DataFrame(Xstd_validation, columns=X_validation.columns, index=X_validation.index)"
   ]
  },
  {
   "cell_type": "markdown",
   "metadata": {},
   "source": [
    "### Retirando as features \n"
   ]
  },
  {
   "cell_type": "markdown",
   "metadata": {},
   "source": [
    "### Com heuristica"
   ]
  },
  {
   "cell_type": "code",
   "execution_count": 64,
   "metadata": {},
   "outputs": [],
   "source": [
    "# training dataset\n",
    "df_features_selected = pd.DataFrame(df_balanced_stand, columns=X_balanced.columns, index=X_balanced.index)\n",
    "# \n",
    "df_features_selected = df_features_selected.drop(['V2_size','V3_size','V6_size','V7_size','V8_size','V2_interval','V4_interval','V5_interval','V8_interval'], axis=1)\n",
    "# validation dataset \n",
    "df_validation = df_validation.drop(['V2_size','V3_size','V6_size','V7_size','V8_size','V2_interval','V4_interval','V5_interval','V8_interval'], axis=1)"
   ]
  },
  {
   "cell_type": "code",
   "execution_count": 65,
   "metadata": {},
   "outputs": [
    {
     "data": {
      "text/html": [
       "<div>\n",
       "<style scoped>\n",
       "    .dataframe tbody tr th:only-of-type {\n",
       "        vertical-align: middle;\n",
       "    }\n",
       "\n",
       "    .dataframe tbody tr th {\n",
       "        vertical-align: top;\n",
       "    }\n",
       "\n",
       "    .dataframe thead th {\n",
       "        text-align: right;\n",
       "    }\n",
       "</style>\n",
       "<table border=\"1\" class=\"dataframe\">\n",
       "  <thead>\n",
       "    <tr style=\"text-align: right;\">\n",
       "      <th></th>\n",
       "      <th>V1_size</th>\n",
       "      <th>V4_size</th>\n",
       "      <th>V5_size</th>\n",
       "      <th>V9_size</th>\n",
       "      <th>V1_interval</th>\n",
       "      <th>V3_interval</th>\n",
       "      <th>V6_interval</th>\n",
       "      <th>V7_interval</th>\n",
       "      <th>V9_interval</th>\n",
       "    </tr>\n",
       "  </thead>\n",
       "  <tbody>\n",
       "    <tr>\n",
       "      <th>0</th>\n",
       "      <td>-0.062499</td>\n",
       "      <td>-0.113497</td>\n",
       "      <td>-0.053322</td>\n",
       "      <td>-0.041256</td>\n",
       "      <td>1.054716</td>\n",
       "      <td>0.869648</td>\n",
       "      <td>-0.150315</td>\n",
       "      <td>0.468175</td>\n",
       "      <td>0.891581</td>\n",
       "    </tr>\n",
       "    <tr>\n",
       "      <th>1</th>\n",
       "      <td>-0.065292</td>\n",
       "      <td>-0.116462</td>\n",
       "      <td>0.697672</td>\n",
       "      <td>-0.042304</td>\n",
       "      <td>1.334818</td>\n",
       "      <td>0.912304</td>\n",
       "      <td>2.727358</td>\n",
       "      <td>0.511336</td>\n",
       "      <td>1.096597</td>\n",
       "    </tr>\n",
       "    <tr>\n",
       "      <th>2</th>\n",
       "      <td>-0.064683</td>\n",
       "      <td>-0.096253</td>\n",
       "      <td>-0.813102</td>\n",
       "      <td>-0.042368</td>\n",
       "      <td>1.144396</td>\n",
       "      <td>0.912304</td>\n",
       "      <td>0.012891</td>\n",
       "      <td>0.511336</td>\n",
       "      <td>0.988799</td>\n",
       "    </tr>\n",
       "    <tr>\n",
       "      <th>3</th>\n",
       "      <td>-0.057342</td>\n",
       "      <td>0.049042</td>\n",
       "      <td>-0.696810</td>\n",
       "      <td>-0.040976</td>\n",
       "      <td>-1.002958</td>\n",
       "      <td>-0.958458</td>\n",
       "      <td>0.951805</td>\n",
       "      <td>-1.375406</td>\n",
       "      <td>-1.117089</td>\n",
       "    </tr>\n",
       "    <tr>\n",
       "      <th>4</th>\n",
       "      <td>-0.058819</td>\n",
       "      <td>-0.114059</td>\n",
       "      <td>1.013257</td>\n",
       "      <td>-0.038359</td>\n",
       "      <td>-0.757543</td>\n",
       "      <td>-0.988926</td>\n",
       "      <td>-0.334804</td>\n",
       "      <td>-0.217772</td>\n",
       "      <td>-0.721191</td>\n",
       "    </tr>\n",
       "    <tr>\n",
       "      <th>...</th>\n",
       "      <td>...</td>\n",
       "      <td>...</td>\n",
       "      <td>...</td>\n",
       "      <td>...</td>\n",
       "      <td>...</td>\n",
       "      <td>...</td>\n",
       "      <td>...</td>\n",
       "      <td>...</td>\n",
       "      <td>...</td>\n",
       "    </tr>\n",
       "    <tr>\n",
       "      <th>16917</th>\n",
       "      <td>-0.066342</td>\n",
       "      <td>-0.117695</td>\n",
       "      <td>-1.058356</td>\n",
       "      <td>-0.042716</td>\n",
       "      <td>-1.262504</td>\n",
       "      <td>-1.126034</td>\n",
       "      <td>-0.433809</td>\n",
       "      <td>-1.551131</td>\n",
       "      <td>-1.351344</td>\n",
       "    </tr>\n",
       "    <tr>\n",
       "      <th>16918</th>\n",
       "      <td>-0.065303</td>\n",
       "      <td>-0.110468</td>\n",
       "      <td>-0.690673</td>\n",
       "      <td>-0.042415</td>\n",
       "      <td>0.076455</td>\n",
       "      <td>-0.659867</td>\n",
       "      <td>-0.266824</td>\n",
       "      <td>0.717891</td>\n",
       "      <td>0.399286</td>\n",
       "    </tr>\n",
       "    <tr>\n",
       "      <th>16919</th>\n",
       "      <td>-0.066367</td>\n",
       "      <td>-0.117757</td>\n",
       "      <td>0.428665</td>\n",
       "      <td>-0.042710</td>\n",
       "      <td>-1.275684</td>\n",
       "      <td>-1.126034</td>\n",
       "      <td>-0.473700</td>\n",
       "      <td>-1.528010</td>\n",
       "      <td>-1.363108</td>\n",
       "    </tr>\n",
       "    <tr>\n",
       "      <th>16920</th>\n",
       "      <td>-0.066241</td>\n",
       "      <td>-0.114730</td>\n",
       "      <td>-0.809084</td>\n",
       "      <td>-0.042686</td>\n",
       "      <td>-1.296434</td>\n",
       "      <td>-1.241814</td>\n",
       "      <td>-0.477287</td>\n",
       "      <td>-1.551131</td>\n",
       "      <td>-1.379834</td>\n",
       "    </tr>\n",
       "    <tr>\n",
       "      <th>16921</th>\n",
       "      <td>-0.066373</td>\n",
       "      <td>-0.117835</td>\n",
       "      <td>-1.225994</td>\n",
       "      <td>-0.042729</td>\n",
       "      <td>-1.358123</td>\n",
       "      <td>-1.232674</td>\n",
       "      <td>-0.478046</td>\n",
       "      <td>-1.659033</td>\n",
       "      <td>-1.450698</td>\n",
       "    </tr>\n",
       "  </tbody>\n",
       "</table>\n",
       "<p>16922 rows × 9 columns</p>\n",
       "</div>"
      ],
      "text/plain": [
       "        V1_size   V4_size   V5_size   V9_size  V1_interval  V3_interval  \\\n",
       "0     -0.062499 -0.113497 -0.053322 -0.041256     1.054716     0.869648   \n",
       "1     -0.065292 -0.116462  0.697672 -0.042304     1.334818     0.912304   \n",
       "2     -0.064683 -0.096253 -0.813102 -0.042368     1.144396     0.912304   \n",
       "3     -0.057342  0.049042 -0.696810 -0.040976    -1.002958    -0.958458   \n",
       "4     -0.058819 -0.114059  1.013257 -0.038359    -0.757543    -0.988926   \n",
       "...         ...       ...       ...       ...          ...          ...   \n",
       "16917 -0.066342 -0.117695 -1.058356 -0.042716    -1.262504    -1.126034   \n",
       "16918 -0.065303 -0.110468 -0.690673 -0.042415     0.076455    -0.659867   \n",
       "16919 -0.066367 -0.117757  0.428665 -0.042710    -1.275684    -1.126034   \n",
       "16920 -0.066241 -0.114730 -0.809084 -0.042686    -1.296434    -1.241814   \n",
       "16921 -0.066373 -0.117835 -1.225994 -0.042729    -1.358123    -1.232674   \n",
       "\n",
       "       V6_interval  V7_interval  V9_interval  \n",
       "0        -0.150315     0.468175     0.891581  \n",
       "1         2.727358     0.511336     1.096597  \n",
       "2         0.012891     0.511336     0.988799  \n",
       "3         0.951805    -1.375406    -1.117089  \n",
       "4        -0.334804    -0.217772    -0.721191  \n",
       "...            ...          ...          ...  \n",
       "16917    -0.433809    -1.551131    -1.351344  \n",
       "16918    -0.266824     0.717891     0.399286  \n",
       "16919    -0.473700    -1.528010    -1.363108  \n",
       "16920    -0.477287    -1.551131    -1.379834  \n",
       "16921    -0.478046    -1.659033    -1.450698  \n",
       "\n",
       "[16922 rows x 9 columns]"
      ]
     },
     "execution_count": 65,
     "metadata": {},
     "output_type": "execute_result"
    }
   ],
   "source": [
    "df_features_selected"
   ]
  },
  {
   "cell_type": "code",
   "execution_count": 66,
   "metadata": {},
   "outputs": [],
   "source": [
    "#from sklearn.decomposition import PCA\n",
    "\n",
    "#pca = PCA(n_components= 5 )\n",
    "#df_features_selected = pca.fit_transform(df_balanced_stand)\n",
    "#print(pca)\n",
    "#print(pca.explained_variance_ratio_)\n",
    "#print(pca.singular_values_)\n"
   ]
  },
  {
   "cell_type": "code",
   "execution_count": 67,
   "metadata": {},
   "outputs": [
    {
     "name": "stdout",
     "output_type": "stream",
     "text": [
      "X:(16922, 9) y:(16922,) \n",
      "X_val:(2390, 9) y_val:(2390,) \n"
     ]
    }
   ],
   "source": [
    "# training dataset\n",
    "X = df_features_selected\n",
    "y = y_balanced\n",
    "print(f'X:{X.shape} y:{y.shape} ')\n",
    "#validation dataset\n",
    "X_validation = df_validation\n",
    "y_validation = y_validation\n",
    "print(f'X_val:{X_validation.shape} y_val:{y_validation.shape} ')\n"
   ]
  },
  {
   "cell_type": "code",
   "execution_count": 68,
   "metadata": {},
   "outputs": [
    {
     "name": "stdout",
     "output_type": "stream",
     "text": [
      "X_train:(8461, 9) y_train:(8461,) \n",
      "Counter({1: 4258, 0: 4203})\n",
      "X_test:(8461, 9) y_test:(8461,) \n",
      "Counter({0: 4258, 1: 4203})\n"
     ]
    }
   ],
   "source": [
    "from sklearn.model_selection import train_test_split\n",
    "# split into train test sets\n",
    "X_train, X_test, y_train, y_test = train_test_split(X, y, test_size=0.5, random_state=10)\n",
    "\n",
    "print(f'X_train:{X_train.shape} y_train:{y_train.shape} ')\n",
    "print(Counter(y_train))\n",
    "print(f'X_test:{X_test.shape} y_test:{y_test.shape} ')\n",
    "print(Counter(y_test))"
   ]
  },
  {
   "cell_type": "code",
   "execution_count": null,
   "metadata": {},
   "outputs": [],
   "source": []
  },
  {
   "cell_type": "markdown",
   "metadata": {},
   "source": [
    "### Testing with knn \n",
    "\n"
   ]
  },
  {
   "cell_type": "code",
   "execution_count": 71,
   "metadata": {},
   "outputs": [
    {
     "name": "stdout",
     "output_type": "stream",
     "text": [
      "Fitting data\n",
      "Predicting data\n",
      "8435 out of (8461,)\n"
     ]
    }
   ],
   "source": [
    "import numpy as np\n",
    "from sklearn.model_selection import StratifiedKFold\n",
    "\n",
    "knn3 = KNeighborsClassifier(n_neighbors=3) \n",
    "\n",
    "print('Fitting data')\n",
    "knn3.fit(X_train, y_train)\n",
    "print('Predicting data')\n",
    "ypredicted = knn3.predict(X_test)\n",
    "print(np.count_nonzero(y_test == ypredicted), f\"out of {ypredicted.shape}\")\n"
   ]
  },
  {
   "cell_type": "code",
   "execution_count": 72,
   "metadata": {},
   "outputs": [
    {
     "name": "stdout",
     "output_type": "stream",
     "text": [
      " KNN: acuracia: 0.9969270771776386  Precisão :0.9971448965024983\n"
     ]
    }
   ],
   "source": [
    "print(f' KNN: acuracia: {accuracy_score(ypredicted, y_test)}  Precisão :{precision_score(ypredicted, y_test)}')"
   ]
  },
  {
   "cell_type": "code",
   "execution_count": 73,
   "metadata": {},
   "outputs": [
    {
     "data": {
      "text/plain": [
       "array([[4244,   14],\n",
       "       [  12, 4191]])"
      ]
     },
     "execution_count": 73,
     "metadata": {},
     "output_type": "execute_result"
    }
   ],
   "source": [
    "confusion_matrix(y_test, ypredicted)"
   ]
  },
  {
   "cell_type": "code",
   "execution_count": 74,
   "metadata": {},
   "outputs": [],
   "source": [
    "ypredicted_validation = knn3.predict(X_validation)"
   ]
  },
  {
   "cell_type": "code",
   "execution_count": 75,
   "metadata": {},
   "outputs": [
    {
     "name": "stdout",
     "output_type": "stream",
     "text": [
      " KNN: acuracia: 0.9953974895397489  Precisão :0.9937451133698202\n"
     ]
    }
   ],
   "source": [
    "print(f' KNN: acuracia: {accuracy_score(ypredicted_validation, y_validation)}  Precisão :{precision_score(ypredicted_validation, y_validation)}')"
   ]
  },
  {
   "cell_type": "code",
   "execution_count": 76,
   "metadata": {},
   "outputs": [
    {
     "data": {
      "text/plain": [
       "array([[1108,    3],\n",
       "       [   8, 1271]])"
      ]
     },
     "execution_count": 76,
     "metadata": {},
     "output_type": "execute_result"
    }
   ],
   "source": [
    "confusion_matrix(y_validation, ypredicted_validation)"
   ]
  },
  {
   "cell_type": "markdown",
   "metadata": {
    "colab": {},
    "colab_type": "code",
    "executionInfo": {
     "elapsed": 506,
     "status": "ok",
     "timestamp": 1596135405133,
     "user": {
      "displayName": "Filipe Alves Neto Verri",
      "photoUrl": "https://lh3.googleusercontent.com/a-/AOh14GiV7MMHmrkaugHXPDugQgeGecRd4s4T4ngvv5_A=s64",
      "userId": "07219587087217491568"
     },
     "user_tz": 180
    },
    "id": "PDwOJhnVzYn5"
   },
   "source": [
    "## Semente aleatória para reproducibilidade dos experimentos (reproducão dos experimentos)\n",
    "seed = 17"
   ]
  },
  {
   "cell_type": "code",
   "execution_count": 77,
   "metadata": {
    "colab": {},
    "colab_type": "code",
    "executionInfo": {
     "elapsed": 548,
     "status": "ok",
     "timestamp": 1596137475127,
     "user": {
      "displayName": "Filipe Alves Neto Verri",
      "photoUrl": "https://lh3.googleusercontent.com/a-/AOh14GiV7MMHmrkaugHXPDugQgeGecRd4s4T4ngvv5_A=s64",
      "userId": "07219587087217491568"
     },
     "user_tz": 180
    },
    "id": "KfxgDLw00yh2"
   },
   "outputs": [],
   "source": [
    "scorer = make_scorer(precision_score) # Teste outras\n",
    "\n",
    "cv = StratifiedKFold(n_splits=10, shuffle=True, random_state=seed)\n",
    "\n",
    "gscv = StratifiedKFold(n_splits=3, shuffle=True, random_state=seed)\n",
    "\n",
    "algorithms = {\n",
    "    'NeuNet': GridSearchCV(\n",
    "        Pipeline([(\n",
    "            'nn', MLPClassifier( solver='adam', early_stopping=True, random_state=seed ))]), \n",
    "        param_grid={\n",
    "            'nn__activation': ['relu', 'tanh'],\n",
    "            'nn__hidden_layer_sizes': [(10, 2), (20, 2), (30, 2)],\n",
    "            'nn__validation_fraction': [0.1, 0.5, 0.6],\n",
    "        },\n",
    "        scoring=scorer,\n",
    "        cv=gscv),\n",
    "    \n",
    "    'tree':  GridSearchCV(\n",
    "        Pipeline([\n",
    "            #('imputer', SimpleImputer(strategy='mean')),\n",
    "            ('tree', DecisionTreeClassifier(random_state=seed))]), \n",
    "        param_grid={\n",
    "            'tree__max_depth': [2, 4, 5],\n",
    "            'tree__criterion': ['entropy', 'gini'],\n",
    "        },\n",
    "        scoring=scorer,\n",
    "        cv=gscv),\n",
    "    \n",
    "    'bigtree':  GridSearchCV(\n",
    "        Pipeline([\n",
    "            #('imputer', SimpleImputer(strategy='mean')),\n",
    "            ('tree', DecisionTreeClassifier(max_depth=None, min_samples_split=2, random_state=seed))]), \n",
    "        param_grid={\n",
    "            'tree__criterion': ['entropy', 'gini'],\n",
    "        },\n",
    "        scoring=scorer,\n",
    "        cv=gscv),\n",
    "    'kNN':  GridSearchCV(\n",
    "        Pipeline([\n",
    "            #('imputer', SimpleImputer(strategy='mean')),\n",
    "            #('scaler', MinMaxScaler(feature_range=(0, 1))),\n",
    "            ('selector', VarianceThreshold()),\n",
    "            ('knn', KNeighborsClassifier())]), \n",
    "        param_grid={\n",
    "            'selector__threshold': [0, 0.01, 0.02, 0.03],\n",
    "            'knn__n_neighbors': [1, 3, 5],\n",
    "            'knn__p': [1, 2],\n",
    "        },\n",
    "        scoring=scorer,\n",
    "        cv=gscv),\n",
    "    'nb': GridSearchCV(\n",
    "        Pipeline([\n",
    "            #('imputer', SimpleImputer(strategy='mean')),\n",
    "            ('selector', SelectKBest()),\n",
    "            ('nb', GaussianNB())]), \n",
    "        param_grid={\n",
    "            'selector__k': [3, 5, 10],\n",
    "        },\n",
    "        scoring=scorer,\n",
    "        cv=gscv),\n",
    "    'svmlinear': GridSearchCV(\n",
    "        Pipeline([\n",
    "            #('imputer', SimpleImputer(strategy='mean')),\n",
    "            #('scaler', StandardScaler()),\n",
    "            ('pca', PCA()),\n",
    "            ('svm', SVC(kernel='linear', random_state=seed))]), \n",
    "        param_grid={\n",
    "            'pca__n_components': [2, 5, 10],\n",
    "            'svm__C': [1.0, 2.0],\n",
    "        },\n",
    "        scoring=scorer,\n",
    "        cv=gscv),\n",
    "    'svmrbf': GridSearchCV(\n",
    "        Pipeline([\n",
    "            #('imputer', SimpleImputer(strategy='mean')),\n",
    "            #('scaler', StandardScaler()),\n",
    "            ('pca', PCA(random_state=seed)),\n",
    "            ('svm', SVC(kernel='rbf', random_state=seed))]), \n",
    "        param_grid={\n",
    "            'pca__n_components': [2, 5, 10],\n",
    "            'svm__C': [1.0, 2.0],\n",
    "            'svm__gamma': [0.1, 1.0, 2.0],\n",
    "        },\n",
    "        scoring=scorer,\n",
    "        cv=gscv),\n",
    "\n",
    "    \n",
    "}"
   ]
  },
  {
   "cell_type": "code",
   "execution_count": 78,
   "metadata": {},
   "outputs": [],
   "source": [
    "import time"
   ]
  },
  {
   "cell_type": "code",
   "execution_count": 79,
   "metadata": {},
   "outputs": [
    {
     "name": "stdout",
     "output_type": "stream",
     "text": [
      "Train with algorithm 1: NeuNet\n",
      "acuracia:0.9955088051057794 \n",
      "[0 1 1 ... 1 0 0]\n",
      "it took 107.07531785964966 seconds.\n",
      "Train with algorithm 2: tree\n",
      "acuracia:0.9984635385888193 \n",
      "[0 1 1 ... 1 0 0]\n",
      "it took 3.2786879539489746 seconds.\n",
      "Train with algorithm 3: bigtree\n",
      "acuracia:0.9986999172674624 \n",
      "[0 1 1 ... 1 0 0]\n",
      "it took 0.39666104316711426 seconds.\n",
      "Train with algorithm 4: kNN\n",
      "acuracia:0.9975180238742466 \n",
      "[0 1 1 ... 1 0 0]\n",
      "it took 13.663109064102173 seconds.\n",
      "Train with algorithm 5: nb\n",
      "acuracia:0.6914076350313202 \n",
      "[1 0 0 ... 1 1 0]\n",
      "it took 0.42445993423461914 seconds.\n",
      "Train with algorithm 6: svmlinear\n",
      "acuracia:0.7253279754166174 \n",
      "[1 0 0 ... 0 0 0]\n",
      "it took 18.32168698310852 seconds.\n",
      "Train with algorithm 7: svmrbf\n",
      "acuracia:0.9832171138163338 \n",
      "[0 1 1 ... 1 0 0]\n",
      "it took 35.76399207115173 seconds.\n"
     ]
    }
   ],
   "source": [
    "from sklearn.model_selection import cross_val_predict, cross_val_score, cross_validate\n",
    "# df_balanced_stand, y_balanced \n",
    "result = {}\n",
    "result_score = {}\n",
    "i = 1\n",
    "# X_train, X_test, y_train, y_test\n",
    "\n",
    "for alg, clf in algorithms.items():\n",
    "    start = time.time()\n",
    "    print(f'Train with algorithm {i}: {alg}')\n",
    "    i += 1\n",
    "    result[alg] = cross_val_predict(clf, X_train, y_train, n_jobs= -1,  cv=gscv)\n",
    "    #result_score[alg] = cross_val_score(clf, X, y)\n",
    "    print(f'acuracia:{accuracy_score(y_train,result[alg]) } ')\n",
    "    print(result[alg])\n",
    "    print(f\"it took {time.time() - start} seconds.\")"
   ]
  },
  {
   "cell_type": "code",
   "execution_count": 80,
   "metadata": {},
   "outputs": [
    {
     "name": "stdout",
     "output_type": "stream",
     "text": [
      "NeuNet:  precision:0.9936827328029949, accuracy_score: 0.9955088051057794  \n",
      "tree:  precision:0.9983564216952336, accuracy_score: 0.9984635385888193  \n",
      "bigtree:  precision:0.9985912185959145, accuracy_score: 0.9986999172674624  \n",
      "kNN:  precision:0.9957875029253452, accuracy_score: 0.9975180238742466  \n",
      "nb:  precision:0.7369784172661871, accuracy_score: 0.6914076350313202  \n",
      "svmlinear:  precision:0.8027551659361303, accuracy_score: 0.7253279754166174  \n",
      "svmrbf:  precision:0.9842352941176471, accuracy_score: 0.9832171138163338  \n"
     ]
    }
   ],
   "source": [
    "for alg, clf in algorithms.items():\n",
    "    print(f'{alg}:  precision:{precision_score(y_train,result[alg])}, accuracy_score: {accuracy_score(y_train,result[alg])}  ')"
   ]
  },
  {
   "cell_type": "code",
   "execution_count": 81,
   "metadata": {
    "colab": {
     "base_uri": "https://localhost:8080/",
     "height": 209
    },
    "colab_type": "code",
    "executionInfo": {
     "elapsed": 15073,
     "status": "ok",
     "timestamp": 1596137490810,
     "user": {
      "displayName": "Filipe Alves Neto Verri",
      "photoUrl": "https://lh3.googleusercontent.com/a-/AOh14GiV7MMHmrkaugHXPDugQgeGecRd4s4T4ngvv5_A=s64",
      "userId": "07219587087217491568"
     },
     "user_tz": 180
    },
    "id": "KMPeyps98u-h",
    "outputId": "9d71ea7e-ab66-446f-b7a2-a4505ff1d66a"
   },
   "outputs": [
    {
     "data": {
      "text/html": [
       "<div>\n",
       "<style scoped>\n",
       "    .dataframe tbody tr th:only-of-type {\n",
       "        vertical-align: middle;\n",
       "    }\n",
       "\n",
       "    .dataframe tbody tr th {\n",
       "        vertical-align: top;\n",
       "    }\n",
       "\n",
       "    .dataframe thead th {\n",
       "        text-align: right;\n",
       "    }\n",
       "</style>\n",
       "<table border=\"1\" class=\"dataframe\">\n",
       "  <thead>\n",
       "    <tr style=\"text-align: right;\">\n",
       "      <th></th>\n",
       "      <th>NeuNet</th>\n",
       "      <th>tree</th>\n",
       "      <th>bigtree</th>\n",
       "      <th>kNN</th>\n",
       "      <th>nb</th>\n",
       "      <th>svmlinear</th>\n",
       "      <th>svmrbf</th>\n",
       "    </tr>\n",
       "  </thead>\n",
       "  <tbody>\n",
       "    <tr>\n",
       "      <th>0</th>\n",
       "      <td>0</td>\n",
       "      <td>0</td>\n",
       "      <td>0</td>\n",
       "      <td>0</td>\n",
       "      <td>1</td>\n",
       "      <td>1</td>\n",
       "      <td>0</td>\n",
       "    </tr>\n",
       "    <tr>\n",
       "      <th>1</th>\n",
       "      <td>1</td>\n",
       "      <td>1</td>\n",
       "      <td>1</td>\n",
       "      <td>1</td>\n",
       "      <td>0</td>\n",
       "      <td>0</td>\n",
       "      <td>1</td>\n",
       "    </tr>\n",
       "    <tr>\n",
       "      <th>2</th>\n",
       "      <td>1</td>\n",
       "      <td>1</td>\n",
       "      <td>1</td>\n",
       "      <td>1</td>\n",
       "      <td>0</td>\n",
       "      <td>0</td>\n",
       "      <td>1</td>\n",
       "    </tr>\n",
       "    <tr>\n",
       "      <th>3</th>\n",
       "      <td>1</td>\n",
       "      <td>1</td>\n",
       "      <td>1</td>\n",
       "      <td>1</td>\n",
       "      <td>1</td>\n",
       "      <td>1</td>\n",
       "      <td>1</td>\n",
       "    </tr>\n",
       "    <tr>\n",
       "      <th>4</th>\n",
       "      <td>1</td>\n",
       "      <td>1</td>\n",
       "      <td>1</td>\n",
       "      <td>1</td>\n",
       "      <td>0</td>\n",
       "      <td>0</td>\n",
       "      <td>1</td>\n",
       "    </tr>\n",
       "    <tr>\n",
       "      <th>...</th>\n",
       "      <td>...</td>\n",
       "      <td>...</td>\n",
       "      <td>...</td>\n",
       "      <td>...</td>\n",
       "      <td>...</td>\n",
       "      <td>...</td>\n",
       "      <td>...</td>\n",
       "    </tr>\n",
       "    <tr>\n",
       "      <th>8456</th>\n",
       "      <td>0</td>\n",
       "      <td>0</td>\n",
       "      <td>0</td>\n",
       "      <td>0</td>\n",
       "      <td>0</td>\n",
       "      <td>0</td>\n",
       "      <td>0</td>\n",
       "    </tr>\n",
       "    <tr>\n",
       "      <th>8457</th>\n",
       "      <td>1</td>\n",
       "      <td>1</td>\n",
       "      <td>1</td>\n",
       "      <td>1</td>\n",
       "      <td>1</td>\n",
       "      <td>1</td>\n",
       "      <td>1</td>\n",
       "    </tr>\n",
       "    <tr>\n",
       "      <th>8458</th>\n",
       "      <td>1</td>\n",
       "      <td>1</td>\n",
       "      <td>1</td>\n",
       "      <td>1</td>\n",
       "      <td>1</td>\n",
       "      <td>0</td>\n",
       "      <td>1</td>\n",
       "    </tr>\n",
       "    <tr>\n",
       "      <th>8459</th>\n",
       "      <td>0</td>\n",
       "      <td>0</td>\n",
       "      <td>0</td>\n",
       "      <td>0</td>\n",
       "      <td>1</td>\n",
       "      <td>0</td>\n",
       "      <td>0</td>\n",
       "    </tr>\n",
       "    <tr>\n",
       "      <th>8460</th>\n",
       "      <td>0</td>\n",
       "      <td>0</td>\n",
       "      <td>0</td>\n",
       "      <td>0</td>\n",
       "      <td>0</td>\n",
       "      <td>0</td>\n",
       "      <td>0</td>\n",
       "    </tr>\n",
       "  </tbody>\n",
       "</table>\n",
       "<p>8461 rows × 7 columns</p>\n",
       "</div>"
      ],
      "text/plain": [
       "      NeuNet  tree  bigtree  kNN  nb  svmlinear  svmrbf\n",
       "0          0     0        0    0   1          1       0\n",
       "1          1     1        1    1   0          0       1\n",
       "2          1     1        1    1   0          0       1\n",
       "3          1     1        1    1   1          1       1\n",
       "4          1     1        1    1   0          0       1\n",
       "...      ...   ...      ...  ...  ..        ...     ...\n",
       "8456       0     0        0    0   0          0       0\n",
       "8457       1     1        1    1   1          1       1\n",
       "8458       1     1        1    1   1          0       1\n",
       "8459       0     0        0    0   1          0       0\n",
       "8460       0     0        0    0   0          0       0\n",
       "\n",
       "[8461 rows x 7 columns]"
      ]
     },
     "execution_count": 81,
     "metadata": {},
     "output_type": "execute_result"
    }
   ],
   "source": [
    "result = pd.DataFrame.from_dict(result)\n",
    "\n",
    "result"
   ]
  },
  {
   "cell_type": "code",
   "execution_count": 82,
   "metadata": {},
   "outputs": [
    {
     "name": "stdout",
     "output_type": "stream",
     "text": [
      "GridSearchCV(cv=StratifiedKFold(n_splits=3, random_state=17, shuffle=True),\n",
      "             estimator=Pipeline(steps=[('nn',\n",
      "                                        MLPClassifier(early_stopping=True,\n",
      "                                                      random_state=17))]),\n",
      "             param_grid={'nn__activation': ['relu', 'tanh'],\n",
      "                         'nn__hidden_layer_sizes': [(10, 2), (20, 2), (30, 2)],\n",
      "                         'nn__validation_fraction': [0.1, 0.5, 0.6]},\n",
      "             scoring=make_scorer(precision_score))\n",
      "GridSearchCV(cv=StratifiedKFold(n_splits=3, random_state=17, shuffle=True),\n",
      "             estimator=Pipeline(steps=[('tree',\n",
      "                                        DecisionTreeClassifier(random_state=17))]),\n",
      "             param_grid={'tree__criterion': ['entropy', 'gini'],\n",
      "                         'tree__max_depth': [2, 4, 5]},\n",
      "             scoring=make_scorer(precision_score))\n",
      "GridSearchCV(cv=StratifiedKFold(n_splits=3, random_state=17, shuffle=True),\n",
      "             estimator=Pipeline(steps=[('tree',\n",
      "                                        DecisionTreeClassifier(random_state=17))]),\n",
      "             param_grid={'tree__criterion': ['entropy', 'gini']},\n",
      "             scoring=make_scorer(precision_score))\n",
      "GridSearchCV(cv=StratifiedKFold(n_splits=3, random_state=17, shuffle=True),\n",
      "             estimator=Pipeline(steps=[('selector', VarianceThreshold()),\n",
      "                                       ('knn', KNeighborsClassifier())]),\n",
      "             param_grid={'knn__n_neighbors': [1, 3, 5], 'knn__p': [1, 2],\n",
      "                         'selector__threshold': [0, 0.01, 0.02, 0.03]},\n",
      "             scoring=make_scorer(precision_score))\n",
      "GridSearchCV(cv=StratifiedKFold(n_splits=3, random_state=17, shuffle=True),\n",
      "             estimator=Pipeline(steps=[('selector', SelectKBest()),\n",
      "                                       ('nb', GaussianNB())]),\n",
      "             param_grid={'selector__k': [3, 5, 10]},\n",
      "             scoring=make_scorer(precision_score))\n",
      "GridSearchCV(cv=StratifiedKFold(n_splits=3, random_state=17, shuffle=True),\n",
      "             estimator=Pipeline(steps=[('pca', PCA()),\n",
      "                                       ('svm',\n",
      "                                        SVC(kernel='linear',\n",
      "                                            random_state=17))]),\n",
      "             param_grid={'pca__n_components': [2, 5, 10], 'svm__C': [1.0, 2.0]},\n",
      "             scoring=make_scorer(precision_score))\n",
      "GridSearchCV(cv=StratifiedKFold(n_splits=3, random_state=17, shuffle=True),\n",
      "             estimator=Pipeline(steps=[('pca', PCA(random_state=17)),\n",
      "                                       ('svm', SVC(random_state=17))]),\n",
      "             param_grid={'pca__n_components': [2, 5, 10], 'svm__C': [1.0, 2.0],\n",
      "                         'svm__gamma': [0.1, 1.0, 2.0]},\n",
      "             scoring=make_scorer(precision_score))\n"
     ]
    }
   ],
   "source": [
    "for alg, clf in algorithms.items():\n",
    "    print(clf)"
   ]
  },
  {
   "cell_type": "code",
   "execution_count": 83,
   "metadata": {},
   "outputs": [
    {
     "name": "stdout",
     "output_type": "stream",
     "text": [
      "[[1.00000000e+00 6.25000000e-02 4.25531915e-02 9.25925926e-02\n",
      "  1.02974828e-02 1.15631692e-02 5.88235294e-02]\n",
      " [6.25000000e-02 1.00000000e+00 7.14285714e-01 1.33333333e-01\n",
      "  1.90912562e-03 2.14408233e-03 2.64900662e-02]\n",
      " [4.25531915e-02 7.14285714e-01 1.00000000e+00 1.42857143e-01\n",
      "  1.91058464e-03 2.57621297e-03 2.68456376e-02]\n",
      " [9.25925926e-02 1.33333333e-01 1.42857143e-01 1.00000000e+00\n",
      "  7.60456274e-04 2.56519880e-03 4.48717949e-02]\n",
      " [1.02974828e-02 1.90912562e-03 1.91058464e-03 7.60456274e-04\n",
      "  1.00000000e+00 5.54820416e-01 2.60901975e-02]\n",
      " [1.15631692e-02 2.14408233e-03 2.57621297e-03 2.56519880e-03\n",
      "  5.54820416e-01 1.00000000e+00 2.87859825e-02]\n",
      " [5.88235294e-02 2.64900662e-02 2.68456376e-02 4.48717949e-02\n",
      "  2.60901975e-02 2.87859825e-02 1.00000000e+00]]\n"
     ]
    }
   ],
   "source": [
    "def phi(a, b, expected):\n",
    "    errors = np.logical_or(a != expected, b != expected)\n",
    "    \n",
    "    return np.count_nonzero(np.logical_and(a == b, errors)) / np.count_nonzero(errors)\n",
    "\n",
    "\n",
    "# X_balanced, y_balanced\n",
    "correrrors = np.ones((len(algorithms), len(algorithms)))\n",
    "\n",
    "for i in range(len(algorithms)):\n",
    "    for j in range(i + 1, len(algorithms)):\n",
    "        correrrors[i, j] = phi(result[result.columns[i]], result[result.columns[j]], y_train)\n",
    "        correrrors[j, i] = correrrors[i, j]    \n",
    "        \n",
    "print(correrrors)"
   ]
  },
  {
   "cell_type": "code",
   "execution_count": 84,
   "metadata": {},
   "outputs": [
    {
     "data": {
      "image/png": "[encoded data removed]",
      "text/plain": [
       "<Figure size 432x288 with 1 Axes>"
      ]
     },
     "metadata": {
      "needs_background": "light"
     },
     "output_type": "display_data"
    }
   ],
   "source": [
    "import matplotlib.pyplot as plt\n",
    "\n",
    "\n",
    "fig, ax = plt.subplots()\n",
    "im = ax.imshow(correrrors)\n",
    "\n",
    "ax.set_xticks(np.arange(len(result.columns)))\n",
    "ax.set_yticks(np.arange(len(result.columns)))\n",
    "ax.set_xticklabels(result.columns)\n",
    "ax.set_yticklabels(result.columns)\n",
    "\n",
    "plt.setp(ax.get_xticklabels(), rotation=45, ha=\"right\",\n",
    "         rotation_mode=\"anchor\")\n",
    "\n",
    "for i in range(len(result.columns)):\n",
    "    for j in range(len(result.columns)):\n",
    "        text = ax.text(j, i, round(correrrors[i, j], 1),\n",
    "                       ha=\"center\", va=\"center\", color=\"w\")\n",
    "\n",
    "ax.set_title(\"Error correlation\")\n",
    "fig.tight_layout()\n",
    "plt.show()"
   ]
  },
  {
   "cell_type": "markdown",
   "metadata": {},
   "source": [
    "## Todos são melhores que a média?"
   ]
  },
  {
   "cell_type": "code",
   "execution_count": null,
   "metadata": {},
   "outputs": [],
   "source": [
    "# random classifier\n",
    "mode = lambda x: ss.mode(x).mode[0]\n",
    "random = np.mean(mode(y) == y)\n",
    "print(random)"
   ]
  },
  {
   "cell_type": "code",
   "execution_count": null,
   "metadata": {},
   "outputs": [],
   "source": [
    "result.apply(lambda ypred: np.mean(ypred == y))"
   ]
  },
  {
   "cell_type": "markdown",
   "metadata": {},
   "source": [
    "## Combinando classificadores"
   ]
  },
  {
   "cell_type": "code",
   "execution_count": null,
   "metadata": {},
   "outputs": [],
   "source": [
    "result['kNN+tree+svmrbf'] = result.filter(['kNN', 'tree', 'svmrbf']).apply(mode, axis=1)\n",
    "result['nb+svmlinear+svmrbf'] = result.filter(['nb', 'svmlinear', 'svmrbf']).apply(mode, axis=1)\n",
    "result['kNN+bigtree+svmrbf'] = result.filter(['kNN', 'bigtree', 'svmrbf']).apply(mode, axis=1)"
   ]
  },
  {
   "cell_type": "code",
   "execution_count": null,
   "metadata": {},
   "outputs": [],
   "source": [
    "result.apply(lambda ypred: np.mean(ypred == y_balanced))"
   ]
  },
  {
   "cell_type": "markdown",
   "metadata": {},
   "source": [
    "**nota**: podem existir outros casos de melhoras/pioras."
   ]
  },
  {
   "cell_type": "markdown",
   "metadata": {},
   "source": [
    "# Bagging, boosting, etc"
   ]
  },
  {
   "cell_type": "code",
   "execution_count": null,
   "metadata": {},
   "outputs": [],
   "source": [
    "from sklearn.ensemble import RandomForestClassifier, ExtraTreesClassifier, BaggingClassifier, AdaBoostClassifier, GradientBoostingClassifier, VotingClassifier"
   ]
  },
  {
   "cell_type": "code",
   "execution_count": null,
   "metadata": {},
   "outputs": [],
   "source": [
    "algorithms = {\n",
    "    'bagging':  \n",
    "        Pipeline([\n",
    "            ('imputer', SimpleImputer(strategy='mean')),\n",
    "            ('tree', BaggingClassifier(random_state=seed))]),\n",
    "    'forest':  \n",
    "        Pipeline([\n",
    "            ('imputer', SimpleImputer(strategy='mean')),\n",
    "            ('tree', RandomForestClassifier(random_state=seed))]),\n",
    "    #'kNN+tree+svmrbf':\n",
    "    #    VotingClassifier([ ])\n",
    "    # Testar outros\n",
    "}"
   ]
  },
  {
   "cell_type": "code",
   "execution_count": null,
   "metadata": {},
   "outputs": [],
   "source": [
    "from sklearn.model_selection import cross_val_predict\n",
    "\n",
    "for alg, clf in algorithms.items():\n",
    "  result[alg] = cross_val_predict(clf, X_train, y_train, cv=cv)"
   ]
  },
  {
   "cell_type": "code",
   "execution_count": null,
   "metadata": {},
   "outputs": [],
   "source": [
    "result.apply(lambda ypred: np.mean(ypred == y_train))"
   ]
  },
  {
   "cell_type": "markdown",
   "metadata": {},
   "source": [
    "### Rede neural\n",
    "X_train, X_test, y_train, y_test\n",
    "X_balanced_both, y_balanced_both"
   ]
  },
  {
   "cell_type": "code",
   "execution_count": 85,
   "metadata": {},
   "outputs": [],
   "source": [
    "from sklearn.neural_network import MLPClassifier"
   ]
  },
  {
   "cell_type": "code",
   "execution_count": 86,
   "metadata": {},
   "outputs": [],
   "source": [
    "from sklearn.preprocessing import StandardScaler"
   ]
  },
  {
   "cell_type": "code",
   "execution_count": 87,
   "metadata": {},
   "outputs": [],
   "source": [
    "model_NN = MLPClassifier(hidden_layer_sizes=(20, 2),\n",
    "                      activation='relu',\n",
    "                      solver='adam',\n",
    "                      max_iter=200,\n",
    "                      random_state=15,\n",
    "                      early_stopping=True,\n",
    "                      #verbose= True,\n",
    "                      validation_fraction=0.1)"
   ]
  },
  {
   "cell_type": "code",
   "execution_count": 88,
   "metadata": {},
   "outputs": [
    {
     "data": {
      "text/plain": [
       "MLPClassifier(early_stopping=True, hidden_layer_sizes=(20, 2), random_state=15)"
      ]
     },
     "execution_count": 88,
     "metadata": {},
     "output_type": "execute_result"
    }
   ],
   "source": [
    "model_NN.fit(X_train, y_train)"
   ]
  },
  {
   "cell_type": "code",
   "execution_count": 89,
   "metadata": {},
   "outputs": [],
   "source": [
    "from sklearn.metrics import accuracy_score, mean_absolute_error"
   ]
  },
  {
   "cell_type": "code",
   "execution_count": 90,
   "metadata": {},
   "outputs": [],
   "source": [
    "ypredicted = model_NN.predict(X_test)"
   ]
  },
  {
   "cell_type": "code",
   "execution_count": 91,
   "metadata": {},
   "outputs": [
    {
     "name": "stdout",
     "output_type": "stream",
     "text": [
      "0.9980975029726517\n"
     ]
    }
   ],
   "source": [
    "from sklearn.metrics import f1_score\n",
    "print(f1_score(ypredicted, y_test))"
   ]
  },
  {
   "cell_type": "code",
   "execution_count": 92,
   "metadata": {},
   "outputs": [
    {
     "name": "stdout",
     "output_type": "stream",
     "text": [
      "0.9981089705708545\n"
     ]
    }
   ],
   "source": [
    "print(accuracy_score(ypredicted, y_test))"
   ]
  },
  {
   "cell_type": "code",
   "execution_count": 93,
   "metadata": {},
   "outputs": [
    {
     "data": {
      "text/plain": [
       "array([[4248,   10],\n",
       "       [   6, 4197]])"
      ]
     },
     "execution_count": 93,
     "metadata": {},
     "output_type": "execute_result"
    }
   ],
   "source": [
    "confusion_matrix(y_test, ypredicted)"
   ]
  },
  {
   "cell_type": "code",
   "execution_count": 94,
   "metadata": {},
   "outputs": [
    {
     "data": {
      "text/plain": [
       "(4248, 10, 6, 4197)"
      ]
     },
     "execution_count": 94,
     "metadata": {},
     "output_type": "execute_result"
    }
   ],
   "source": [
    "tn, fp, fn, tp =  confusion_matrix(y_test, ypredicted).ravel()\n",
    "(tn, fp, fn, tp)"
   ]
  },
  {
   "cell_type": "code",
   "execution_count": 95,
   "metadata": {},
   "outputs": [
    {
     "data": {
      "text/plain": [
       "0.9976230092702638"
      ]
     },
     "execution_count": 95,
     "metadata": {},
     "output_type": "execute_result"
    }
   ],
   "source": [
    "precision = (tp)/(tp+fp)\n",
    "precision"
   ]
  },
  {
   "cell_type": "code",
   "execution_count": 96,
   "metadata": {},
   "outputs": [
    {
     "data": {
      "text/plain": [
       "0.9985724482512491"
      ]
     },
     "execution_count": 96,
     "metadata": {},
     "output_type": "execute_result"
    }
   ],
   "source": [
    "revocacao = tp/(tp+fn)\n",
    "revocacao"
   ]
  },
  {
   "cell_type": "code",
   "execution_count": 97,
   "metadata": {},
   "outputs": [
    {
     "data": {
      "text/plain": [
       "0.9976514795678723"
      ]
     },
     "execution_count": 97,
     "metadata": {},
     "output_type": "execute_result"
    }
   ],
   "source": [
    "especificidade = tn/(tn+fp)\n",
    "especificidade"
   ]
  },
  {
   "cell_type": "code",
   "execution_count": 98,
   "metadata": {},
   "outputs": [],
   "source": [
    "ypredicted_validation = model_NN.predict(X_validation)"
   ]
  },
  {
   "cell_type": "code",
   "execution_count": 99,
   "metadata": {},
   "outputs": [
    {
     "data": {
      "text/plain": [
       "array([[1111,    0],\n",
       "       [   5, 1274]])"
      ]
     },
     "execution_count": 99,
     "metadata": {},
     "output_type": "execute_result"
    }
   ],
   "source": [
    "confusion_matrix(y_validation, ypredicted_validation)"
   ]
  },
  {
   "cell_type": "code",
   "execution_count": 100,
   "metadata": {},
   "outputs": [
    {
     "data": {
      "text/plain": [
       "StratifiedKFold(n_splits=3, random_state=17, shuffle=True)"
      ]
     },
     "execution_count": 100,
     "metadata": {},
     "output_type": "execute_result"
    }
   ],
   "source": [
    "from sklearn.model_selection import cross_val_score, cross_validate\n",
    "from sklearn import metrics\n",
    "\n",
    "gscv = StratifiedKFold(n_splits=3, shuffle=True, random_state=seed)\n",
    "gscv"
   ]
  },
  {
   "cell_type": "code",
   "execution_count": 101,
   "metadata": {},
   "outputs": [],
   "source": [
    "scores = cross_validate(model_NN, X, y, n_jobs=-1, cv = 3, scoring='f1')"
   ]
  },
  {
   "cell_type": "code",
   "execution_count": 102,
   "metadata": {},
   "outputs": [
    {
     "data": {
      "text/plain": [
       "{'fit_time': array([3.49623108, 4.01251507, 3.43602014]),\n",
       " 'score_time': array([0.01055789, 0.00618076, 0.01037693]),\n",
       " 'test_score': array([0.9978746 , 0.99858206, 0.99646268])}"
      ]
     },
     "execution_count": 102,
     "metadata": {},
     "output_type": "execute_result"
    },
    {
     "name": "stdout",
     "output_type": "stream",
     "text": [
      "The history saving thread hit an unexpected error (OperationalError('database or disk is full')).History will not be written to the database.\n"
     ]
    }
   ],
   "source": [
    "scores"
   ]
  },
  {
   "cell_type": "code",
   "execution_count": 103,
   "metadata": {},
   "outputs": [
    {
     "name": "stdout",
     "output_type": "stream",
     "text": [
      "0.9976 precision with a standard deviation of 0.0009\n"
     ]
    }
   ],
   "source": [
    "print(\"%0.4f precision with a standard deviation of %0.4f\" % (scores['test_score'].mean(), scores['test_score'].std()))"
   ]
  },
  {
   "cell_type": "code",
   "execution_count": null,
   "metadata": {},
   "outputs": [],
   "source": [
    "scores = cross_validate(model_NN, X, y, n_jobs=-1, cv = 30, scoring='precision_macro')"
   ]
  },
  {
   "cell_type": "code",
   "execution_count": 105,
   "metadata": {},
   "outputs": [
    {
     "data": {
      "text/plain": [
       "{'fit_time': array([3.49623108, 4.01251507, 3.43602014]),\n",
       " 'score_time': array([0.01055789, 0.00618076, 0.01037693]),\n",
       " 'test_score': array([0.9978746 , 0.99858206, 0.99646268])}"
      ]
     },
     "execution_count": 105,
     "metadata": {},
     "output_type": "execute_result"
    }
   ],
   "source": [
    "scores"
   ]
  },
  {
   "cell_type": "code",
   "execution_count": null,
   "metadata": {},
   "outputs": [],
   "source": [
    "print(\"%0.4f precision with a standard deviation of %0.4f\" % (scores['test_score'].mean(), scores['test_score'].std()))"
   ]
  },
  {
   "cell_type": "code",
   "execution_count": null,
   "metadata": {},
   "outputs": [],
   "source": [
    "from sklearn.model_selection import cross_val_score\n",
    "from sklearn.model_selection import ShuffleSplit\n",
    "\n",
    "cv = ShuffleSplit(n_splits=10, test_size=0.6, random_state=0)\n",
    "scores = cross_validate(model_NN, X, y, cv=cv,scoring='precision',return_estimator=True)\n",
    "scores\n"
   ]
  },
  {
   "cell_type": "markdown",
   "metadata": {},
   "source": [
    "## Decision Tree"
   ]
  },
  {
   "cell_type": "code",
   "execution_count": 106,
   "metadata": {},
   "outputs": [],
   "source": [
    "from sklearn.model_selection import cross_val_score\n",
    "from sklearn.tree import DecisionTreeClassifier\n",
    "from sklearn import tree\n",
    "\n",
    "dt = DecisionTreeClassifier(random_state=0, max_depth = 2)\n",
    "decision_score = cross_val_score(dt, X, y, cv=10)"
   ]
  },
  {
   "cell_type": "code",
   "execution_count": 107,
   "metadata": {},
   "outputs": [
    {
     "data": {
      "text/plain": [
       "array([0.82988777, 0.84347312, 0.8356974 , 0.8463357 , 0.83865248,\n",
       "       0.95390071, 0.83333333, 0.82624113, 0.8356974 , 0.8321513 ])"
      ]
     },
     "execution_count": 107,
     "metadata": {},
     "output_type": "execute_result"
    }
   ],
   "source": [
    "decision_score"
   ]
  },
  {
   "cell_type": "code",
   "execution_count": 108,
   "metadata": {},
   "outputs": [],
   "source": [
    "d_tree = dt.fit(X_train,y_train)"
   ]
  },
  {
   "cell_type": "code",
   "execution_count": 109,
   "metadata": {},
   "outputs": [],
   "source": [
    "y_hat = d_tree.predict(X_test)"
   ]
  },
  {
   "cell_type": "code",
   "execution_count": 110,
   "metadata": {},
   "outputs": [
    {
     "data": {
      "text/plain": [
       "0.957570027183548"
      ]
     },
     "execution_count": 110,
     "metadata": {},
     "output_type": "execute_result"
    }
   ],
   "source": [
    "accuracy_score(y_hat,y_test)"
   ]
  },
  {
   "cell_type": "code",
   "execution_count": 111,
   "metadata": {},
   "outputs": [
    {
     "data": {
      "text/plain": [
       "array([[3963,  295],\n",
       "       [  64, 4139]])"
      ]
     },
     "execution_count": 111,
     "metadata": {},
     "output_type": "execute_result"
    }
   ],
   "source": [
    "confusion_matrix(y_test, y_hat)"
   ]
  },
  {
   "cell_type": "code",
   "execution_count": 112,
   "metadata": {},
   "outputs": [
    {
     "data": {
      "text/plain": [
       "[Text(334.8, 543.6, 'X[3] <= -0.042\\ngini = 0.5\\nsamples = 8461\\nvalue = [4203, 4258]'),\n",
       " Text(167.4, 326.16, 'X[4] <= 0.706\\ngini = 0.415\\nsamples = 5803\\nvalue = [1708, 4095]'),\n",
       " Text(83.7, 108.72000000000003, 'gini = 0.127\\nsamples = 4348\\nvalue = [297, 4051]'),\n",
       " Text(251.10000000000002, 108.72000000000003, 'gini = 0.059\\nsamples = 1455\\nvalue = [1411, 44]'),\n",
       " Text(502.20000000000005, 326.16, 'X[8] <= -1.283\\ngini = 0.115\\nsamples = 2658\\nvalue = [2495, 163]'),\n",
       " Text(418.5, 108.72000000000003, 'gini = 0.0\\nsamples = 139\\nvalue = [0, 139]'),\n",
       " Text(585.9, 108.72000000000003, 'gini = 0.019\\nsamples = 2519\\nvalue = [2495, 24]')]"
      ]
     },
     "execution_count": 112,
     "metadata": {},
     "output_type": "execute_result"
    },
    {
     "data": {
      "image/png": "[encoded data removed]",
      "text/plain": [
       "<Figure size 864x864 with 1 Axes>"
      ]
     },
     "metadata": {
      "needs_background": "light"
     },
     "output_type": "display_data"
    }
   ],
   "source": [
    "import matplotlib.pyplot as plt\n",
    "plt.figure(figsize=(12,12))  # set plot size (denoted in inches)\n",
    "tree.plot_tree(d_tree)  "
   ]
  },
  {
   "cell_type": "code",
   "execution_count": null,
   "metadata": {},
   "outputs": [],
   "source": []
  },
  {
   "cell_type": "code",
   "execution_count": null,
   "metadata": {},
   "outputs": [],
   "source": []
  }
 ],
 "metadata": {
  "colab": {
   "authorship_tag": "ABX9TyMfuXOITPqRU+OfypdQG86j",
   "name": "10 - Avaliação Preditivo.ipynb",
   "provenance": []
  },
  "kernelspec": {
   "display_name": "Python 3",
   "language": "python",
   "name": "python3"
  },
  "language_info": {
   "codemirror_mode": {
    "name": "ipython",
    "version": 3
   },
   "file_extension": ".py",
   "mimetype": "text/x-python",
   "name": "python",
   "nbconvert_exporter": "python",
   "pygments_lexer": "ipython3",
   "version": "3.8.5"
  }
 },
 "nbformat": 4,
 "nbformat_minor": 4
}

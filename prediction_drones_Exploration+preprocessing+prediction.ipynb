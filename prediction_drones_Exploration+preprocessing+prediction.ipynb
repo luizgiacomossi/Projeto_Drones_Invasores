{
 "cells": [
  {
   "cell_type": "code",
   "execution_count": 87,
   "metadata": {
    "colab": {},
    "colab_type": "code",
    "executionInfo": {
     "elapsed": 931,
     "status": "ok",
     "timestamp": 1596135531624,
     "user": {
      "displayName": "Filipe Alves Neto Verri",
      "photoUrl": "https://lh3.googleusercontent.com/a-/AOh14GiV7MMHmrkaugHXPDugQgeGecRd4s4T4ngvv5_A=s64",
      "userId": "07219587087217491568"
     },
     "user_tz": 180
    },
    "id": "F2Jj5yQMzeoB"
   },
   "outputs": [],
   "source": [
    "from sklearn.neighbors import KNeighborsClassifier\n",
    "from sklearn.tree import DecisionTreeClassifier\n",
    "from sklearn.naive_bayes import GaussianNB\n",
    "from sklearn.svm import SVC\n",
    "from sklearn.neural_network import MLPClassifier\n",
    "seed = 17\n",
    "from sklearn.pipeline import Pipeline\n",
    "\n",
    "from sklearn.impute import SimpleImputer\n",
    "from sklearn.preprocessing import MinMaxScaler, StandardScaler\n",
    "from sklearn.feature_selection import VarianceThreshold, SelectKBest\n",
    "from sklearn.decomposition import PCA\n",
    "\n",
    "from sklearn.model_selection import GridSearchCV, StratifiedKFold\n",
    "from sklearn.metrics import accuracy_score, precision_score, recall_score, f1_score\n",
    "from sklearn.metrics import make_scorer, precision_score\n",
    "\n",
    "import numpy as np # Numpy: biblioteca para manipular vetores e matrizes\n",
    "import pandas as pd # Pandas: biblioteca para manipular tabelas\n",
    "import scipy.stats as ss\n",
    "from sklearn.metrics import confusion_matrix\n",
    "\n",
    "from collections import Counter\n",
    "import seaborn as sns\n",
    "import time"
   ]
  },
  {
   "cell_type": "markdown",
   "metadata": {
    "colab_type": "text",
    "id": "Yx-VxT_wzXi6"
   },
   "source": [
    "# Detecção de Drones Invasores"
   ]
  },
  {
   "cell_type": "markdown",
   "metadata": {},
   "source": [
    "#### Carregando dataset UPLINK"
   ]
  },
  {
   "cell_type": "code",
   "execution_count": 88,
   "metadata": {},
   "outputs": [
    {
     "name": "stdout",
     "output_type": "stream",
     "text": [
      "Tamanho df teste 4:  1063\n",
      "Tamanho df treino 4 :  10600\n",
      "Tamanho df teste 5:  1351\n",
      "Tamanho df treino 5 :  13513\n",
      "Tamanho df teste 6:  7\n",
      "Tamanho df treino 6 :  66\n"
     ]
    }
   ],
   "source": [
    "lista = ['V1_size','V2_size','V3_size','V4_size','V5_size','V6_size','V7_size','V8_size','V9_size','V1_interval','V2_interval','V3_interval','V4_interval','V5_interval','V6_interval','V7_interval','V8_interval','V9_interval','classe']\n",
    "\n",
    "test = []\n",
    "train = []\n",
    "\n",
    "for i in range(4,7):\n",
    "    test.append(pd.read_csv(f'./dataset/dataset{i}_teste.csv', sep = ',', names=lista)) \n",
    "    train.append(pd.read_csv(f'./dataset/dataset{i}_treino.csv', sep = ',', names=lista))\n",
    "    print(f\"Tamanho df teste {i}: \",len(test[-1]))\n",
    "    print(f\"Tamanho df treino {i} : \",len(train[-1]))\n",
    "\n",
    "frames = train + test\n",
    "df_train1 = pd.concat(frames)"
   ]
  },
  {
   "cell_type": "code",
   "execution_count": 89,
   "metadata": {
    "colab": {
     "base_uri": "https://localhost:8080/",
     "height": 34
    },
    "colab_type": "code",
    "executionInfo": {
     "elapsed": 4012,
     "status": "ok",
     "timestamp": 1596135309611,
     "user": {
      "displayName": "Filipe Alves Neto Verri",
      "photoUrl": "https://lh3.googleusercontent.com/a-/AOh14GiV7MMHmrkaugHXPDugQgeGecRd4s4T4ngvv5_A=s64",
      "userId": "07219587087217491568"
     },
     "user_tz": 180
    },
    "id": "16GH5n9j1T59",
    "outputId": "b9835c3e-4edb-467b-a6cd-3e76d2a08dbc"
   },
   "outputs": [
    {
     "name": "stdout",
     "output_type": "stream",
     "text": [
      "(26600, 19)\n"
     ]
    }
   ],
   "source": [
    "print(df_train1.shape)"
   ]
  },
  {
   "cell_type": "code",
   "execution_count": 90,
   "metadata": {},
   "outputs": [
    {
     "data": {
      "text/html": [
       "<div>\n",
       "<style scoped>\n",
       "    .dataframe tbody tr th:only-of-type {\n",
       "        vertical-align: middle;\n",
       "    }\n",
       "\n",
       "    .dataframe tbody tr th {\n",
       "        vertical-align: top;\n",
       "    }\n",
       "\n",
       "    .dataframe thead th {\n",
       "        text-align: right;\n",
       "    }\n",
       "</style>\n",
       "<table border=\"1\" class=\"dataframe\">\n",
       "  <thead>\n",
       "    <tr style=\"text-align: right;\">\n",
       "      <th></th>\n",
       "      <th>V1_size</th>\n",
       "      <th>V2_size</th>\n",
       "      <th>V3_size</th>\n",
       "      <th>V4_size</th>\n",
       "      <th>V5_size</th>\n",
       "      <th>V6_size</th>\n",
       "      <th>V7_size</th>\n",
       "      <th>V8_size</th>\n",
       "      <th>V9_size</th>\n",
       "      <th>V1_interval</th>\n",
       "      <th>V2_interval</th>\n",
       "      <th>V3_interval</th>\n",
       "      <th>V4_interval</th>\n",
       "      <th>V5_interval</th>\n",
       "      <th>V6_interval</th>\n",
       "      <th>V7_interval</th>\n",
       "      <th>V8_interval</th>\n",
       "      <th>V9_interval</th>\n",
       "      <th>classe</th>\n",
       "    </tr>\n",
       "  </thead>\n",
       "  <tbody>\n",
       "    <tr>\n",
       "      <th>count</th>\n",
       "      <td>26600.000000</td>\n",
       "      <td>26600.000000</td>\n",
       "      <td>26600.000000</td>\n",
       "      <td>26600.000000</td>\n",
       "      <td>26600.000000</td>\n",
       "      <td>26600.000000</td>\n",
       "      <td>26600.000000</td>\n",
       "      <td>26600.000000</td>\n",
       "      <td>26600.000000</td>\n",
       "      <td>26600.000000</td>\n",
       "      <td>26600.000000</td>\n",
       "      <td>26600.000000</td>\n",
       "      <td>26600.000000</td>\n",
       "      <td>26600.000000</td>\n",
       "      <td>26600.000000</td>\n",
       "      <td>26600.000000</td>\n",
       "      <td>26600.000000</td>\n",
       "      <td>26600.000000</td>\n",
       "      <td>26600.000000</td>\n",
       "    </tr>\n",
       "    <tr>\n",
       "      <th>mean</th>\n",
       "      <td>0.141266</td>\n",
       "      <td>0.832086</td>\n",
       "      <td>0.009193</td>\n",
       "      <td>0.005372</td>\n",
       "      <td>4.011593</td>\n",
       "      <td>23.125526</td>\n",
       "      <td>7.508702</td>\n",
       "      <td>0.000078</td>\n",
       "      <td>0.844952</td>\n",
       "      <td>746.753970</td>\n",
       "      <td>351.672967</td>\n",
       "      <td>863.509718</td>\n",
       "      <td>97.516951</td>\n",
       "      <td>-0.505342</td>\n",
       "      <td>4.656437</td>\n",
       "      <td>1121.276617</td>\n",
       "      <td>167.100639</td>\n",
       "      <td>842.833428</td>\n",
       "      <td>0.532744</td>\n",
       "    </tr>\n",
       "    <tr>\n",
       "      <th>std</th>\n",
       "      <td>2.353076</td>\n",
       "      <td>21.394521</td>\n",
       "      <td>0.591686</td>\n",
       "      <td>0.048497</td>\n",
       "      <td>2.260586</td>\n",
       "      <td>23.724306</td>\n",
       "      <td>213.352046</td>\n",
       "      <td>0.000142</td>\n",
       "      <td>21.416791</td>\n",
       "      <td>514.239823</td>\n",
       "      <td>264.507727</td>\n",
       "      <td>657.756101</td>\n",
       "      <td>192.386003</td>\n",
       "      <td>2.234050</td>\n",
       "      <td>14.106052</td>\n",
       "      <td>658.179769</td>\n",
       "      <td>151.656506</td>\n",
       "      <td>550.832146</td>\n",
       "      <td>0.498936</td>\n",
       "    </tr>\n",
       "    <tr>\n",
       "      <th>min</th>\n",
       "      <td>0.000056</td>\n",
       "      <td>0.000044</td>\n",
       "      <td>0.000001</td>\n",
       "      <td>0.000000</td>\n",
       "      <td>-1.931900</td>\n",
       "      <td>-1.980700</td>\n",
       "      <td>0.000245</td>\n",
       "      <td>0.000000</td>\n",
       "      <td>0.000114</td>\n",
       "      <td>63.520000</td>\n",
       "      <td>0.200000</td>\n",
       "      <td>62.000000</td>\n",
       "      <td>0.000000</td>\n",
       "      <td>-9.702000</td>\n",
       "      <td>-2.019900</td>\n",
       "      <td>68.000000</td>\n",
       "      <td>61.000000</td>\n",
       "      <td>63.981000</td>\n",
       "      <td>0.000000</td>\n",
       "    </tr>\n",
       "    <tr>\n",
       "      <th>25%</th>\n",
       "      <td>0.001347</td>\n",
       "      <td>0.002471</td>\n",
       "      <td>0.000118</td>\n",
       "      <td>0.000077</td>\n",
       "      <td>2.323050</td>\n",
       "      <td>5.767325</td>\n",
       "      <td>0.016589</td>\n",
       "      <td>0.000002</td>\n",
       "      <td>0.002862</td>\n",
       "      <td>123.147500</td>\n",
       "      <td>40.376000</td>\n",
       "      <td>138.000000</td>\n",
       "      <td>0.000000</td>\n",
       "      <td>-1.015850</td>\n",
       "      <td>-1.272300</td>\n",
       "      <td>183.000000</td>\n",
       "      <td>76.000000</td>\n",
       "      <td>130.640000</td>\n",
       "      <td>0.000000</td>\n",
       "    </tr>\n",
       "    <tr>\n",
       "      <th>50%</th>\n",
       "      <td>0.003324</td>\n",
       "      <td>0.008194</td>\n",
       "      <td>0.000331</td>\n",
       "      <td>0.000177</td>\n",
       "      <td>3.463700</td>\n",
       "      <td>13.738000</td>\n",
       "      <td>0.047707</td>\n",
       "      <td>0.000006</td>\n",
       "      <td>0.009312</td>\n",
       "      <td>866.255000</td>\n",
       "      <td>359.490000</td>\n",
       "      <td>1166.000000</td>\n",
       "      <td>0.000000</td>\n",
       "      <td>-0.331555</td>\n",
       "      <td>1.175900</td>\n",
       "      <td>1502.000000</td>\n",
       "      <td>76.000000</td>\n",
       "      <td>1083.400000</td>\n",
       "      <td>1.000000</td>\n",
       "    </tr>\n",
       "    <tr>\n",
       "      <th>75%</th>\n",
       "      <td>0.012163</td>\n",
       "      <td>0.026665</td>\n",
       "      <td>0.000895</td>\n",
       "      <td>0.000813</td>\n",
       "      <td>5.484175</td>\n",
       "      <td>33.710000</td>\n",
       "      <td>0.151465</td>\n",
       "      <td>0.000121</td>\n",
       "      <td>0.028944</td>\n",
       "      <td>1141.125000</td>\n",
       "      <td>618.950000</td>\n",
       "      <td>1476.000000</td>\n",
       "      <td>112.680000</td>\n",
       "      <td>0.580743</td>\n",
       "      <td>2.248975</td>\n",
       "      <td>1610.000000</td>\n",
       "      <td>222.000000</td>\n",
       "      <td>1285.500000</td>\n",
       "      <td>1.000000</td>\n",
       "    </tr>\n",
       "    <tr>\n",
       "      <th>max</th>\n",
       "      <td>149.870000</td>\n",
       "      <td>1492.400000</td>\n",
       "      <td>68.171000</td>\n",
       "      <td>3.941900</td>\n",
       "      <td>9.849300</td>\n",
       "      <td>98.010000</td>\n",
       "      <td>14925.000000</td>\n",
       "      <td>0.008234</td>\n",
       "      <td>1492.500000</td>\n",
       "      <td>1675.700000</td>\n",
       "      <td>761.070000</td>\n",
       "      <td>1676.000000</td>\n",
       "      <td>1136.400000</td>\n",
       "      <td>9.849400</td>\n",
       "      <td>98.010000</td>\n",
       "      <td>3468.000000</td>\n",
       "      <td>1676.000000</td>\n",
       "      <td>1675.700000</td>\n",
       "      <td>1.000000</td>\n",
       "    </tr>\n",
       "  </tbody>\n",
       "</table>\n",
       "</div>"
      ],
      "text/plain": [
       "            V1_size       V2_size       V3_size       V4_size       V5_size  \\\n",
       "count  26600.000000  26600.000000  26600.000000  26600.000000  26600.000000   \n",
       "mean       0.141266      0.832086      0.009193      0.005372      4.011593   \n",
       "std        2.353076     21.394521      0.591686      0.048497      2.260586   \n",
       "min        0.000056      0.000044      0.000001      0.000000     -1.931900   \n",
       "25%        0.001347      0.002471      0.000118      0.000077      2.323050   \n",
       "50%        0.003324      0.008194      0.000331      0.000177      3.463700   \n",
       "75%        0.012163      0.026665      0.000895      0.000813      5.484175   \n",
       "max      149.870000   1492.400000     68.171000      3.941900      9.849300   \n",
       "\n",
       "            V6_size       V7_size       V8_size       V9_size   V1_interval  \\\n",
       "count  26600.000000  26600.000000  26600.000000  26600.000000  26600.000000   \n",
       "mean      23.125526      7.508702      0.000078      0.844952    746.753970   \n",
       "std       23.724306    213.352046      0.000142     21.416791    514.239823   \n",
       "min       -1.980700      0.000245      0.000000      0.000114     63.520000   \n",
       "25%        5.767325      0.016589      0.000002      0.002862    123.147500   \n",
       "50%       13.738000      0.047707      0.000006      0.009312    866.255000   \n",
       "75%       33.710000      0.151465      0.000121      0.028944   1141.125000   \n",
       "max       98.010000  14925.000000      0.008234   1492.500000   1675.700000   \n",
       "\n",
       "        V2_interval   V3_interval   V4_interval   V5_interval   V6_interval  \\\n",
       "count  26600.000000  26600.000000  26600.000000  26600.000000  26600.000000   \n",
       "mean     351.672967    863.509718     97.516951     -0.505342      4.656437   \n",
       "std      264.507727    657.756101    192.386003      2.234050     14.106052   \n",
       "min        0.200000     62.000000      0.000000     -9.702000     -2.019900   \n",
       "25%       40.376000    138.000000      0.000000     -1.015850     -1.272300   \n",
       "50%      359.490000   1166.000000      0.000000     -0.331555      1.175900   \n",
       "75%      618.950000   1476.000000    112.680000      0.580743      2.248975   \n",
       "max      761.070000   1676.000000   1136.400000      9.849400     98.010000   \n",
       "\n",
       "        V7_interval   V8_interval   V9_interval        classe  \n",
       "count  26600.000000  26600.000000  26600.000000  26600.000000  \n",
       "mean    1121.276617    167.100639    842.833428      0.532744  \n",
       "std      658.179769    151.656506    550.832146      0.498936  \n",
       "min       68.000000     61.000000     63.981000      0.000000  \n",
       "25%      183.000000     76.000000    130.640000      0.000000  \n",
       "50%     1502.000000     76.000000   1083.400000      1.000000  \n",
       "75%     1610.000000    222.000000   1285.500000      1.000000  \n",
       "max     3468.000000   1676.000000   1675.700000      1.000000  "
      ]
     },
     "execution_count": 90,
     "metadata": {},
     "output_type": "execute_result"
    }
   ],
   "source": [
    "from sklearn.utils import shuffle\n",
    "\n",
    "df_train1 = shuffle(df_train1, random_state=17)\n",
    "df_train1.describe()"
   ]
  },
  {
   "cell_type": "code",
   "execution_count": 91,
   "metadata": {},
   "outputs": [
    {
     "name": "stdout",
     "output_type": "stream",
     "text": [
      "Resultante com duplicados (26600, 19)\n",
      "Resultante sem duplicados (23181, 19)\n",
      "Total de valores duplicados: -3419\n",
      "Counter({1: 14171, 0: 9010})\n"
     ]
    }
   ],
   "source": [
    "# verifica duplicados\n",
    "df_train_noduplicates = df_train1.drop_duplicates()\n",
    "y= df_train_noduplicates.classe.to_numpy()\n",
    "\n",
    "print(f'Resultante com duplicados {df_train1.shape}')\n",
    "print(f'Resultante sem duplicados {df_train_noduplicates.shape}')\n",
    "print(f'Total de valores duplicados: {df_train_noduplicates.shape[0]-df_train1.shape[0]}')\n",
    "\n",
    "X_nodupl = df_train_noduplicates\n",
    "X_nodupl = X_nodupl.drop(['classe'], axis=1)\n",
    "\n",
    "\n",
    "\n",
    "print(Counter(y))\n"
   ]
  },
  {
   "cell_type": "code",
   "execution_count": 92,
   "metadata": {},
   "outputs": [],
   "source": [
    "# Substituindo valores nulos por media\n",
    "from sklearn.impute import SimpleImputer\n",
    "imp_mean = SimpleImputer(missing_values=0, strategy='mean')\n",
    "imp_mean = imp_mean.fit_transform(X_nodupl)\n",
    "X_nodupl = pd.DataFrame(imp_mean, columns=X_nodupl.columns, index=X_nodupl.index)\n"
   ]
  },
  {
   "cell_type": "code",
   "execution_count": 93,
   "metadata": {},
   "outputs": [
    {
     "name": "stdout",
     "output_type": "stream",
     "text": [
      "[pca] >Processing dataframe..\n",
      "[pca] >The PCA reduction is performed to capture [95.0%] explained variance using the [18] columns of the input data.\n",
      "[pca] >Fitting using PCA..\n",
      "[pca] >Computing loadings and PCs..\n",
      "[pca] >Computing explained variance..\n",
      "[pca] >Number of components is [3] that covers the [95.00%] explained variance.\n",
      "[pca] >Outlier detection using Hotelling T2 test with alpha=[0.05] and n_components=[3]\n"
     ]
    }
   ],
   "source": [
    "from sklearn.preprocessing import MinMaxScaler, StandardScaler\n",
    "# Normalização por amplitude utilizando Reescala\n",
    "from pca import pca\n",
    "\n",
    "scaler = MinMaxScaler()\n",
    "model = pca(detect_outliers=['ht2'], normalize=False)\n",
    "          \n",
    "\n",
    "## Com pca\n",
    "analisis_pca = model.fit_transform(X_nodupl)\n",
    "\n",
    "\n",
    "def variance_threshold_selector(data, threshold=0.5):\n",
    "    selector = VarianceThreshold(threshold)\n",
    "    selector.fit(data)\n",
    "    return data[data.columns[selector.get_support(indices=True)]]"
   ]
  },
  {
   "cell_type": "code",
   "execution_count": 94,
   "metadata": {},
   "outputs": [
    {
     "name": "stdout",
     "output_type": "stream",
     "text": [
      "        y_proba   y_score  y_bool\n",
      "454    0.300341  7.227262   False\n",
      "6798   0.145044  9.547552   False\n",
      "2812   0.676717  3.999697   False\n",
      "10244  0.717777  3.695693   False\n",
      "8926   0.822094  2.893469   False\n",
      "...         ...       ...     ...\n",
      "675    0.741750  3.516676   False\n",
      "406    0.298687  7.246090   False\n",
      "3102   0.718479  3.690475   False\n",
      "2191   0.297475  7.259948   False\n",
      "263    0.793890  3.118062   False\n",
      "\n",
      "[23181 rows x 3 columns]\n"
     ]
    }
   ],
   "source": [
    "print(analisis_pca['outliers'])"
   ]
  },
  {
   "cell_type": "code",
   "execution_count": 58,
   "metadata": {},
   "outputs": [
    {
     "name": "stdout",
     "output_type": "stream",
     "text": [
      "Identificados: 36 outliers\n"
     ]
    }
   ],
   "source": [
    "# RETIRANDO OUTLIERS\n",
    "\n",
    "# Select the outliers\n",
    "#Xoutliers = df_train_noduplicates[analisis_pca['outliers']['y_bool']]\n",
    "Xoutliers = df_train_noduplicates[analisis_pca['outliers']['y_bool']]\n",
    "Xoutliers.shape\n",
    "# Select the other set\n",
    "Xnormal = df_train_noduplicates[~analisis_pca['outliers']['y_bool']]\n",
    "print(f'Identificados: {Xoutliers.shape[0]} outliers')\n",
    "\n",
    "ynormal = df_train_noduplicates.classe.to_numpy()\n",
    "Xnormal = df_train_noduplicates.drop(['classe'], axis=1)\n"
   ]
  },
  {
   "cell_type": "code",
   "execution_count": 97,
   "metadata": {},
   "outputs": [],
   "source": []
  },
  {
   "cell_type": "code",
   "execution_count": 98,
   "metadata": {},
   "outputs": [],
   "source": [
    "# normalizando dataset sem outliers\n",
    "# Com normalização\n",
    "#normalizado = scaler.fit_transform(Xnormal)\n",
    "normalizado = scaler.fit_transform(X_nodupl)\n",
    "normalizado = pd.DataFrame(normalizado, columns=Xnormal.columns, index=Xnormal.index)"
   ]
  },
  {
   "cell_type": "code",
   "execution_count": 99,
   "metadata": {},
   "outputs": [
    {
     "name": "stdout",
     "output_type": "stream",
     "text": [
      "      PC      feature   loading  type\n",
      "0    PC1  V7_interval  0.540343  best\n",
      "1    PC2  V7_interval  0.683298  best\n",
      "2    PC3  V8_interval  0.517782  best\n",
      "3    PC4      V7_size  0.974858  best\n",
      "4    PC5  V4_interval  0.955319  best\n",
      "5    PC6  V8_interval  0.659070  best\n",
      "6    PC7  V2_interval -0.672747  best\n",
      "7    PC8      V6_size  0.990244  best\n",
      "8    PC9  V6_interval  0.739522  best\n",
      "9   PC10  V6_interval  0.668764  best\n",
      "10  PC11  V5_interval -0.995546  best\n",
      "11  PC12      V1_size  0.589615  best\n",
      "12  PC13      V3_size  0.663878  best\n",
      "13  PC14      V5_size  0.962186  best\n",
      "14  PC15      V1_size  0.675269  best\n",
      "15  PC16      V4_size  0.961631  best\n",
      "16  PC17      V9_size  0.679317  best\n",
      "17  PC18      V8_size  1.000000  best\n",
      "18  PC17      V2_size -0.673826  weak\n",
      "19  PC10  V1_interval  0.481785  weak\n",
      "20   PC1  V3_interval  0.531484  weak\n",
      "21  PC10  V9_interval -0.503661  weak\n"
     ]
    }
   ],
   "source": [
    "print(analisis_pca['topfeat'])"
   ]
  },
  {
   "cell_type": "code",
   "execution_count": 49,
   "metadata": {},
   "outputs": [
    {
     "data": {
      "image/png": "[encoded data removed]",
      "text/plain": [
       "<Figure size 720x576 with 1 Axes>"
      ]
     },
     "metadata": {
      "needs_background": "light"
     },
     "output_type": "display_data"
    },
    {
     "data": {
      "text/plain": [
       "(<Figure size 720x576 with 1 Axes>,\n",
       " <AxesSubplot:title={'center':'Cumulative explained variance\\n 3 Principal Components explain [95.0%] of the variance.'}, xlabel='Principle Component', ylabel='Percentage explained variance'>)"
      ]
     },
     "execution_count": 49,
     "metadata": {},
     "output_type": "execute_result"
    },
    {
     "data": {
      "text/plain": [
       "<Figure size 432x288 with 0 Axes>"
      ]
     },
     "metadata": {},
     "output_type": "display_data"
    }
   ],
   "source": [
    "model.plot()\n"
   ]
  },
  {
   "cell_type": "code",
   "execution_count": 50,
   "metadata": {},
   "outputs": [],
   "source": [
    "from sklearn.feature_selection import SelectKBest\n",
    "from sklearn.feature_selection import chi2\n",
    "\n",
    "chi2_features = SelectKBest(chi2, k = 3)\n",
    "x_Kbest_features = chi2_features.fit_transform(normalizado,ynormal)\n"
   ]
  },
  {
   "cell_type": "code",
   "execution_count": 101,
   "metadata": {},
   "outputs": [
    {
     "data": {
      "text/plain": [
       "V1_size        0.000197\n",
       "V2_size        0.000163\n",
       "V3_size        0.000043\n",
       "V4_size        0.000111\n",
       "V5_size        0.036291\n",
       "V6_size        0.054959\n",
       "V7_size        0.000162\n",
       "V8_size        0.000230\n",
       "V9_size        0.000164\n",
       "V1_interval    0.099641\n",
       "V2_interval    0.129503\n",
       "V3_interval    0.166970\n",
       "V4_interval    0.021103\n",
       "V5_interval    0.011304\n",
       "V6_interval    0.017157\n",
       "V7_interval    0.039650\n",
       "V8_interval    0.007857\n",
       "V9_interval    0.118169\n",
       "dtype: float64"
      ]
     },
     "execution_count": 101,
     "metadata": {},
     "output_type": "execute_result"
    }
   ],
   "source": [
    "normalizado.var()"
   ]
  },
  {
   "cell_type": "code",
   "execution_count": 102,
   "metadata": {},
   "outputs": [
    {
     "data": {
      "image/png": "[encoded data removed]",
      "text/plain": [
       "<Figure size 432x288 with 1 Axes>"
      ]
     },
     "metadata": {
      "needs_background": "light"
     },
     "output_type": "display_data"
    }
   ],
   "source": [
    "from matplotlib import pyplot\n",
    "pyplot.scatter(normalizado['V9_interval'], ynormal)\n",
    "pyplot.show()"
   ]
  },
  {
   "cell_type": "code",
   "execution_count": null,
   "metadata": {},
   "outputs": [],
   "source": []
  },
  {
   "cell_type": "code",
   "execution_count": 103,
   "metadata": {},
   "outputs": [
    {
     "data": {
      "text/html": [
       "<div>\n",
       "<style scoped>\n",
       "    .dataframe tbody tr th:only-of-type {\n",
       "        vertical-align: middle;\n",
       "    }\n",
       "\n",
       "    .dataframe tbody tr th {\n",
       "        vertical-align: top;\n",
       "    }\n",
       "\n",
       "    .dataframe thead th {\n",
       "        text-align: right;\n",
       "    }\n",
       "</style>\n",
       "<table border=\"1\" class=\"dataframe\">\n",
       "  <thead>\n",
       "    <tr style=\"text-align: right;\">\n",
       "      <th></th>\n",
       "      <th>V1_interval</th>\n",
       "      <th>V2_interval</th>\n",
       "      <th>V3_interval</th>\n",
       "      <th>V9_interval</th>\n",
       "    </tr>\n",
       "  </thead>\n",
       "  <tbody>\n",
       "    <tr>\n",
       "      <th>count</th>\n",
       "      <td>23181.000000</td>\n",
       "      <td>23181.000000</td>\n",
       "      <td>23181.000000</td>\n",
       "      <td>23181.000000</td>\n",
       "    </tr>\n",
       "    <tr>\n",
       "      <th>mean</th>\n",
       "      <td>0.397010</td>\n",
       "      <td>0.456952</td>\n",
       "      <td>0.475996</td>\n",
       "      <td>0.457080</td>\n",
       "    </tr>\n",
       "    <tr>\n",
       "      <th>std</th>\n",
       "      <td>0.315660</td>\n",
       "      <td>0.359866</td>\n",
       "      <td>0.408619</td>\n",
       "      <td>0.343758</td>\n",
       "    </tr>\n",
       "    <tr>\n",
       "      <th>min</th>\n",
       "      <td>0.000000</td>\n",
       "      <td>0.000000</td>\n",
       "      <td>0.000000</td>\n",
       "      <td>0.000000</td>\n",
       "    </tr>\n",
       "    <tr>\n",
       "      <th>25%</th>\n",
       "      <td>0.033818</td>\n",
       "      <td>0.051499</td>\n",
       "      <td>0.047088</td>\n",
       "      <td>0.038244</td>\n",
       "    </tr>\n",
       "    <tr>\n",
       "      <th>50%</th>\n",
       "      <td>0.481150</td>\n",
       "      <td>0.461537</td>\n",
       "      <td>0.568773</td>\n",
       "      <td>0.616745</td>\n",
       "    </tr>\n",
       "    <tr>\n",
       "      <th>75%</th>\n",
       "      <td>0.616544</td>\n",
       "      <td>0.826856</td>\n",
       "      <td>0.876084</td>\n",
       "      <td>0.734135</td>\n",
       "    </tr>\n",
       "    <tr>\n",
       "      <th>max</th>\n",
       "      <td>1.000000</td>\n",
       "      <td>1.000000</td>\n",
       "      <td>1.000000</td>\n",
       "      <td>1.000000</td>\n",
       "    </tr>\n",
       "  </tbody>\n",
       "</table>\n",
       "</div>"
      ],
      "text/plain": [
       "        V1_interval   V2_interval   V3_interval   V9_interval\n",
       "count  23181.000000  23181.000000  23181.000000  23181.000000\n",
       "mean       0.397010      0.456952      0.475996      0.457080\n",
       "std        0.315660      0.359866      0.408619      0.343758\n",
       "min        0.000000      0.000000      0.000000      0.000000\n",
       "25%        0.033818      0.051499      0.047088      0.038244\n",
       "50%        0.481150      0.461537      0.568773      0.616745\n",
       "75%        0.616544      0.826856      0.876084      0.734135\n",
       "max        1.000000      1.000000      1.000000      1.000000"
      ]
     },
     "execution_count": 103,
     "metadata": {},
     "output_type": "execute_result"
    }
   ],
   "source": [
    "normalizado = variance_threshold_selector(normalizado, 0.09) \n",
    "#normalizado = normalizado.drop(['V1_size','V2_size','V4_size','V5_size','V7_size','V8_size','V1_interval','V3_interval','V7_interval'], axis=1)\n",
    "normalizado.describe()"
   ]
  },
  {
   "cell_type": "code",
   "execution_count": 104,
   "metadata": {},
   "outputs": [],
   "source": [
    "normalizado.shape, ynormal.shape\n",
    "y=ynormal\n",
    "#normalizado.shape, y.shape"
   ]
  },
  {
   "cell_type": "markdown",
   "metadata": {},
   "source": [
    "### Balanceando"
   ]
  },
  {
   "cell_type": "code",
   "execution_count": 105,
   "metadata": {},
   "outputs": [
    {
     "name": "stdout",
     "output_type": "stream",
     "text": [
      "Counter({0: 9010, 1: 9010})\n"
     ]
    }
   ],
   "source": [
    "from imblearn.under_sampling import RandomUnderSampler\n",
    "undersample = RandomUnderSampler(sampling_strategy='majority')\n",
    "X_balanced, y_balanced = undersample.fit_resample(normalizado, y)\n",
    "from collections import Counter\n",
    "print(Counter(y_balanced))"
   ]
  },
  {
   "cell_type": "markdown",
   "metadata": {
    "colab": {
     "base_uri": "https://localhost:8080/",
     "height": 34
    },
    "colab_type": "code",
    "executionInfo": {
     "elapsed": 576,
     "status": "ok",
     "timestamp": 1596135384458,
     "user": {
      "displayName": "Filipe Alves Neto Verri",
      "photoUrl": "https://lh3.googleusercontent.com/a-/AOh14GiV7MMHmrkaugHXPDugQgeGecRd4s4T4ngvv5_A=s64",
      "userId": "07219587087217491568"
     },
     "user_tz": 180
    },
    "id": "mB6fuQG4Wyjr",
    "outputId": "95e3f970-ccae-48cf-ae1c-16d5a5e56eda"
   },
   "source": [
    "### Normalizando por padronização\n",
    "\n"
   ]
  },
  {
   "cell_type": "code",
   "execution_count": 20,
   "metadata": {},
   "outputs": [],
   "source": [
    "#from sklearn.preprocessing import MinMaxScaler, StandardScaler\n",
    "#scaler = StandardScaler()\n",
    "#Xstd = scaler.fit_transform(X_balanced)\n",
    "#df_balanced_stand = pd.DataFrame(Xstd, columns=X_balanced.columns, index=X_balanced.index)"
   ]
  },
  {
   "cell_type": "code",
   "execution_count": 21,
   "metadata": {},
   "outputs": [],
   "source": [
    "#Xstd_validation = scaler.fit_transform(X_validation)\n",
    "#df_validation = pd.DataFrame(Xstd_validation, columns=X_validation.columns, index=X_validation.index)"
   ]
  },
  {
   "cell_type": "code",
   "execution_count": 106,
   "metadata": {},
   "outputs": [
    {
     "name": "stdout",
     "output_type": "stream",
     "text": [
      "X:(18020, 4) y:(18020,) \n"
     ]
    }
   ],
   "source": [
    "# training dataset\n",
    "X = X_balanced\n",
    "y = y_balanced\n",
    "\n",
    "print(f'X:{X.shape} y:{y.shape} ')\n"
   ]
  },
  {
   "cell_type": "code",
   "execution_count": 107,
   "metadata": {},
   "outputs": [
    {
     "name": "stdout",
     "output_type": "stream",
     "text": [
      "X_train:(9010, 4) y_train:(9010,) \n",
      "Counter({0: 4530, 1: 4480})\n",
      "X_test:(9010, 4) y_test:(9010,) \n",
      "Counter({1: 4530, 0: 4480})\n"
     ]
    }
   ],
   "source": [
    "from sklearn.model_selection import train_test_split\n",
    "# split into train test sets\n",
    "X_train, X_test, y_train, y_test = train_test_split(X, y, test_size=0.5, random_state=seed)\n",
    "\n",
    "print(f'X_train:{X_train.shape} y_train:{y_train.shape} ')\n",
    "print(Counter(y_train))\n",
    "print(f'X_test:{X_test.shape} y_test:{y_test.shape} ')\n",
    "print(Counter(y_test))"
   ]
  },
  {
   "cell_type": "markdown",
   "metadata": {},
   "source": [
    "### Testing with knn \n",
    "\n"
   ]
  },
  {
   "cell_type": "code",
   "execution_count": 108,
   "metadata": {},
   "outputs": [
    {
     "name": "stdout",
     "output_type": "stream",
     "text": [
      "Fitting data\n",
      "Predicting data\n",
      "8913 out of (9010,)\n"
     ]
    }
   ],
   "source": [
    "import numpy as np\n",
    "from sklearn.model_selection import StratifiedKFold\n",
    "\n",
    "knn3 = KNeighborsClassifier(n_neighbors=2) \n",
    "\n",
    "print('Fitting data')\n",
    "knn3.fit(X_train, y_train)\n",
    "print('Predicting data')\n",
    "ypredicted = knn3.predict(X_test)\n",
    "print(np.count_nonzero(y_test == ypredicted), f\"out of {ypredicted.shape}\")\n"
   ]
  },
  {
   "cell_type": "code",
   "execution_count": 109,
   "metadata": {},
   "outputs": [
    {
     "name": "stdout",
     "output_type": "stream",
     "text": [
      " KNN: acuracia: 0.9892341842397336  Precisão :0.9856512141280354\n"
     ]
    }
   ],
   "source": [
    "print(f' KNN: acuracia: {accuracy_score(ypredicted, y_test)}  Precisão :{precision_score(ypredicted, y_test)}')"
   ]
  },
  {
   "cell_type": "code",
   "execution_count": 76,
   "metadata": {},
   "outputs": [
    {
     "data": {
      "text/plain": [
       "array([[4448,   32],\n",
       "       [  64, 4466]])"
      ]
     },
     "execution_count": 76,
     "metadata": {},
     "output_type": "execute_result"
    }
   ],
   "source": [
    "confusion_matrix(y_test, ypredicted)"
   ]
  },
  {
   "cell_type": "markdown",
   "metadata": {
    "colab": {},
    "colab_type": "code",
    "executionInfo": {
     "elapsed": 506,
     "status": "ok",
     "timestamp": 1596135405133,
     "user": {
      "displayName": "Filipe Alves Neto Verri",
      "photoUrl": "https://lh3.googleusercontent.com/a-/AOh14GiV7MMHmrkaugHXPDugQgeGecRd4s4T4ngvv5_A=s64",
      "userId": "07219587087217491568"
     },
     "user_tz": 180
    },
    "id": "PDwOJhnVzYn5"
   },
   "source": [
    "## Grid Seach em nas tecnicas de classificação\n",
    "### Redes neurais\n",
    "### Arvore de decisão\n",
    "### Bigtree\n",
    "### KNN\n",
    "### Naive Bayes\n",
    "### svmlinear\n",
    "### svmrbf\n"
   ]
  },
  {
   "cell_type": "code",
   "execution_count": 77,
   "metadata": {
    "colab": {},
    "colab_type": "code",
    "executionInfo": {
     "elapsed": 548,
     "status": "ok",
     "timestamp": 1596137475127,
     "user": {
      "displayName": "Filipe Alves Neto Verri",
      "photoUrl": "https://lh3.googleusercontent.com/a-/AOh14GiV7MMHmrkaugHXPDugQgeGecRd4s4T4ngvv5_A=s64",
      "userId": "07219587087217491568"
     },
     "user_tz": 180
    },
    "id": "KfxgDLw00yh2"
   },
   "outputs": [],
   "source": [
    "scorer = make_scorer(precision_score) # Teste outras\n",
    "\n",
    "cv = StratifiedKFold(n_splits=10, shuffle=True, random_state=seed)\n",
    "\n",
    "gscv = StratifiedKFold(n_splits=3, shuffle=True, random_state=seed)\n",
    "\n",
    "algorithms = {\n",
    "    'NeuNet': GridSearchCV(\n",
    "        Pipeline([(\n",
    "            'nn', MLPClassifier( solver='adam', early_stopping=True, random_state=seed,  max_iter=1000 ))]), \n",
    "        param_grid={\n",
    "            'nn__activation': ['relu', 'tanh'],\n",
    "            'nn__hidden_layer_sizes': [(30, 2), (35, 2)],\n",
    "            'nn__validation_fraction': [0.1, 0.5, 0.6],\n",
    "        },\n",
    "        scoring=scorer,\n",
    "        cv=gscv),\n",
    "    \n",
    "    'tree':  GridSearchCV(\n",
    "        Pipeline([\n",
    "            #('imputer', SimpleImputer(strategy='mean')),\n",
    "            ('tree', DecisionTreeClassifier(random_state=seed))]), \n",
    "        param_grid={\n",
    "            'tree__max_depth': [2, 4, 5],\n",
    "            'tree__criterion': ['entropy', 'gini'],\n",
    "        },\n",
    "        scoring=scorer,\n",
    "        cv=gscv),\n",
    "    \n",
    "    'bigtree':  GridSearchCV(\n",
    "        Pipeline([\n",
    "            #('imputer', SimpleImputer(strategy='mean')),\n",
    "            ('tree', DecisionTreeClassifier(max_depth=None, min_samples_split=2, random_state=seed))]), \n",
    "        param_grid={\n",
    "            'tree__criterion': ['entropy', 'gini'],\n",
    "        },\n",
    "        scoring=scorer,\n",
    "        cv=gscv),\n",
    "    'kNN':  GridSearchCV(\n",
    "        Pipeline([\n",
    "            #('imputer', SimpleImputer(strategy='mean')),\n",
    "            #('scaler', MinMaxScaler(feature_range=(0, 1))),\n",
    "            ('selector', VarianceThreshold()),\n",
    "            ('knn', KNeighborsClassifier())]), \n",
    "        param_grid={\n",
    "            'selector__threshold': [0, 0.01, 0.02, 0.03],\n",
    "            'knn__n_neighbors': [1, 3, 5],\n",
    "            'knn__p': [1, 2],\n",
    "        },\n",
    "        scoring=scorer,\n",
    "        cv=gscv),\n",
    "    'nb': GridSearchCV(\n",
    "        Pipeline([\n",
    "            #('imputer', SimpleImputer(strategy='mean')),\n",
    "            ('selector', SelectKBest()),\n",
    "            ('nb', GaussianNB())]), \n",
    "        param_grid={\n",
    "            'selector__k': [3, 5, 10],\n",
    "        },\n",
    "        scoring=scorer,\n",
    "        cv=gscv),\n",
    "    'svmlinear': GridSearchCV(\n",
    "        Pipeline([\n",
    "            #('imputer', SimpleImputer(strategy='mean')),\n",
    "            #('scaler', StandardScaler()),\n",
    "            #('pca', PCA()),\n",
    "            ('svm', SVC(kernel='linear', random_state=seed))]), \n",
    "        param_grid={\n",
    "            #'pca__n_components': [2, 5, 10],\n",
    "            'svm__C': [1.0, 2.0],\n",
    "        },\n",
    "        scoring=scorer,\n",
    "        cv=gscv),\n",
    "    'svmrbf': GridSearchCV(\n",
    "        Pipeline([\n",
    "            #('imputer', SimpleImputer(strategy='mean')),\n",
    "            #('scaler', StandardScaler()),\n",
    "            #('pca', PCA(random_state=seed)),\n",
    "            ('svm', SVC(kernel='rbf', random_state=seed))]), \n",
    "        param_grid={\n",
    "            #'pca__n_components': [2, 5, 10],\n",
    "            'svm__C': [1.0, 2.0],\n",
    "            'svm__gamma': [0.1, 1.0, 2.0],\n",
    "        },\n",
    "        scoring=scorer,\n",
    "        cv=gscv),\n",
    "\n",
    "    \n",
    "}"
   ]
  },
  {
   "cell_type": "code",
   "execution_count": 78,
   "metadata": {},
   "outputs": [
    {
     "name": "stdout",
     "output_type": "stream",
     "text": [
      "Training with algorithm 1: NeuNet\n",
      "acuracia:0.7457269700332964, precisão : 0.9227500965623793 \n",
      "it took 37.57 seconds.\n",
      "Training with algorithm 2: tree\n",
      "acuracia:0.9637069922308547, precisão : 0.9466551946655195 \n",
      "it took 5.35 seconds.\n",
      "Training with algorithm 3: bigtree\n",
      "acuracia:0.9855715871254163, precisão : 0.9848417298261257 \n",
      "it took 0.55 seconds.\n",
      "Training with algorithm 4: kNN\n",
      "acuracia:0.9912319644839068, precisão : 0.9888913574761165 \n",
      "it took 25.82 seconds.\n",
      "Training with algorithm 5: nb\n",
      "acuracia:0.6066592674805772, precisão : 0.6204323211528564 \n",
      "it took 0.84 seconds.\n",
      "Training with algorithm 6: svmlinear\n",
      "acuracia:0.9196448390677026, precisão : 0.897712833545108 \n",
      "it took 11.02 seconds.\n",
      "Training with algorithm 7: svmrbf\n",
      "acuracia:0.979023307436182, precisão : 0.9648970747562297 \n",
      "it took 34.73 seconds.\n"
     ]
    }
   ],
   "source": [
    "from sklearn.model_selection import cross_val_predict, cross_val_score, cross_validate\n",
    "# df_balanced_stand, y_balanced \n",
    "result = {}\n",
    "result_score = {}\n",
    "i = 1\n",
    "# X_train, X_test, y_train, y_test\n",
    "\n",
    "for alg, clf in algorithms.items():\n",
    "    start = time.time()\n",
    "    print(f'Training with algorithm {i}: {alg}')\n",
    "    i += 1\n",
    "    result[alg] = cross_val_predict(clf, X_train, y_train, n_jobs= -1,  cv=gscv)\n",
    "    #result_score[alg] = cross_val_score(clf, X, y)\n",
    "    print(f'acuracia:{accuracy_score(y_train,result[alg]) }, precisão : {precision_score(y_train,result[alg]) } ')\n",
    "    #print(result[alg])\n",
    "    print(f\"it took {time.time() - start:.2f} seconds.\")"
   ]
  },
  {
   "cell_type": "code",
   "execution_count": 79,
   "metadata": {},
   "outputs": [
    {
     "name": "stdout",
     "output_type": "stream",
     "text": [
      "NeuNet:  precision:0.9227500965623793, accuracy_score: 0.7457269700332964, f1_score: 0.6759088980053756  \n",
      "tree:  precision:0.9466551946655195, accuracy_score: 0.9637069922308547, f1_score: 0.9641800854419982  \n",
      "bigtree:  precision:0.9848417298261257, accuracy_score: 0.9855715871254163, f1_score: 0.9855007807271916  \n",
      "kNN:  precision:0.9888913574761165, accuracy_score: 0.9912319644839068, f1_score: 0.9912036521545485  \n",
      "nb:  precision:0.6204323211528564, accuracy_score: 0.6066592674805772, f1_score: 0.5763805880946689  \n",
      "svmlinear:  precision:0.897712833545108, accuracy_score: 0.9196448390677026, f1_score: 0.9213214518582916  \n",
      "svmrbf:  precision:0.9648970747562297, accuracy_score: 0.979023307436182, f1_score: 0.9792193512919186  \n"
     ]
    }
   ],
   "source": [
    "for alg, clf in algorithms.items():\n",
    "    print(f'{alg}:  precision:{precision_score(y_train,result[alg])}, accuracy_score: {accuracy_score(y_train,result[alg])}, f1_score: {f1_score(y_train,result[alg])}  ')"
   ]
  },
  {
   "cell_type": "code",
   "execution_count": 117,
   "metadata": {},
   "outputs": [
    {
     "name": "stdout",
     "output_type": "stream",
     "text": [
      "Training with algorithm 1: NeuNet\n",
      "{'fit_time': array([112.04108095, 119.67561698, 104.75211811]), 'score_time': array([0.0139811 , 0.01470327, 0.01229382]), 'test_score': array([0.99565217, 0.9938763 , 0.67086835])}\n",
      "it took 119.75746083259583 seconds.\n",
      "Training with algorithm 2: tree\n",
      "{'fit_time': array([1.35916185, 1.42963314, 1.36660886]), 'score_time': array([0.02398682, 0.00714684, 0.00801301]), 'test_score': array([0.95089431, 0.94983607, 0.94263616])}\n",
      "it took 1.4690921306610107 seconds.\n",
      "Training with algorithm 3: bigtree\n",
      "{'fit_time': array([0.48221803, 0.51970577, 0.52848387]), 'score_time': array([0.00931668, 0.00591111, 0.00450921]), 'test_score': array([0.98311258, 0.99228188, 0.98774023])}\n",
      "it took 0.5643537044525146 seconds.\n",
      "Training with algorithm 4: kNN\n",
      "{'fit_time': array([23.85956502, 23.88045216, 23.49767709]), 'score_time': array([0.33870482, 0.33629274, 0.42914414]), 'test_score': array([0.98779683, 0.99168053, 0.9897351 ])}\n",
      "it took 24.234888792037964 seconds.\n",
      "Training with algorithm 5: nb\n",
      "{'fit_time': array([0.12347078, 0.15578604, 0.14539289]), 'score_time': array([0.00754619, 0.00545979, 0.00563788]), 'test_score': array([0.61442598, 0.6344294 , 0.62190004])}\n",
      "it took 0.18566012382507324 seconds.\n",
      "Training with algorithm 6: svmlinear\n",
      "{'fit_time': array([19.47560787, 20.32068992, 20.03633404]), 'score_time': array([1.19987082, 0.95253825, 1.08427596]), 'test_score': array([0.90422444, 0.91159513, 0.89984152])}\n",
      "it took 21.296325206756592 seconds.\n",
      "Training with algorithm 7: svmrbf\n",
      "{'fit_time': array([59.29359007, 60.59832501, 59.61236095]), 'score_time': array([1.87305903, 1.34254789, 1.81083298]), 'test_score': array([0.97076023, 0.97076023, 0.96950032])}\n",
      "it took 61.95959210395813 seconds.\n"
     ]
    }
   ],
   "source": [
    "from sklearn.model_selection import cross_val_predict, cross_val_score, cross_validate\n",
    "# df_balanced_stand, y_balanced \n",
    "result = {}\n",
    "result_score = {}\n",
    "i = 1\n",
    "# X_train, X_test, y_train, y_test\n",
    "\n",
    "for alg, clf in algorithms.items():\n",
    "    start = time.time()\n",
    "    print(f'Training with algorithm {i}: {alg}')\n",
    "    i += 1\n",
    "    #result[alg] = cross_val_predict(clf, X, y, n_jobs= -1,  cv=gscv)\n",
    "    result_score[alg] = cross_validate(clf, X, y, n_jobs= -1,  cv=gscv, scoring = 'precision')\n",
    "    #print(f'acuracia:{accuracy_score(y_train,result[alg]) } ')\n",
    "    print(result_score[alg])\n",
    "    print(f\"it took {time.time() - start} seconds.\")"
   ]
  },
  {
   "cell_type": "code",
   "execution_count": 131,
   "metadata": {},
   "outputs": [
    {
     "name": "stdout",
     "output_type": "stream",
     "text": [
      "NeuNet: Resultado precisão:  [0.99565217 0.9938763  0.67086835] media:0.8868 std:0.1527 \n",
      "tree: Resultado precisão:  [0.95089431 0.94983607 0.94263616] media:0.9478 std:0.0037 \n",
      "bigtree: Resultado precisão:  [0.98311258 0.99228188 0.98774023] media:0.9877 std:0.0037 \n",
      "kNN: Resultado precisão:  [0.98779683 0.99168053 0.9897351 ] media:0.9897 std:0.0016 \n",
      "nb: Resultado precisão:  [0.61442598 0.6344294  0.62190004] media:0.6236 std:0.0083 \n",
      "svmlinear: Resultado precisão:  [0.90422444 0.91159513 0.89984152] media:0.9052 std:0.0048 \n",
      "svmrbf: Resultado precisão:  [0.97076023 0.97076023 0.96950032] media:0.9703 std:0.0006 \n"
     ]
    }
   ],
   "source": [
    "for alg, clf in algorithms.items():\n",
    "     print(f'{alg}: Resultado precisão:  {result_score[alg][\"test_score\"]} media:{result_score[alg][\"test_score\"].mean():.4f} std:{result_score[alg][\"test_score\"].std():0.4f} ')"
   ]
  },
  {
   "cell_type": "code",
   "execution_count": 112,
   "metadata": {},
   "outputs": [
    {
     "name": "stdout",
     "output_type": "stream",
     "text": [
      "NeuNet:  precision:0.8104158363225721, accuracy_score: 0.7593229744728079, f1_score: 0.737739614198464  \n",
      "tree:  precision:0.947767663632423, accuracy_score: 0.9586015538290789, f1_score: 0.9590963921482619  \n",
      "bigtree:  precision:0.9876912840984697, accuracy_score: 0.9881243063263041, f1_score: 0.988129576214777  \n",
      "kNN:  precision:0.9897316992381583, accuracy_score: 0.9922863485016649, f1_score: 0.9923064150107931  \n",
      "nb:  precision:0.6235039470333588, accuracy_score: 0.6076581576026637, f1_score: 0.5807637571157495  \n",
      "svmlinear:  precision:0.9052036681595222, accuracy_score: 0.9217536071032186, f1_score: 0.9233195562323254  \n",
      "svmrbf:  precision:0.9703399004113444, accuracy_score: 0.9822419533851277, f1_score: 0.982463831652784  \n"
     ]
    }
   ],
   "source": [
    "for alg, clf in algorithms.items():\n",
    "    print(f'{alg}:  precision:{precision_score(y,result[alg])}, accuracy_score: {accuracy_score(y,result[alg])}, f1_score: {f1_score(y,result[alg])}  ')"
   ]
  },
  {
   "cell_type": "code",
   "execution_count": 114,
   "metadata": {},
   "outputs": [
    {
     "data": {
      "text/plain": [
       "{'NeuNet': array([0, 0, 1, ..., 1, 0, 1]),\n",
       " 'tree': array([0, 0, 0, ..., 1, 1, 1]),\n",
       " 'bigtree': array([0, 0, 0, ..., 1, 1, 1]),\n",
       " 'kNN': array([0, 0, 0, ..., 1, 1, 1]),\n",
       " 'nb': array([0, 0, 1, ..., 1, 0, 1]),\n",
       " 'svmlinear': array([0, 0, 0, ..., 1, 1, 1]),\n",
       " 'svmrbf': array([0, 0, 0, ..., 1, 1, 1])}"
      ]
     },
     "execution_count": 114,
     "metadata": {},
     "output_type": "execute_result"
    }
   ],
   "source": []
  },
  {
   "cell_type": "code",
   "execution_count": 132,
   "metadata": {
    "colab": {
     "base_uri": "https://localhost:8080/",
     "height": 209
    },
    "colab_type": "code",
    "executionInfo": {
     "elapsed": 15073,
     "status": "ok",
     "timestamp": 1596137490810,
     "user": {
      "displayName": "Filipe Alves Neto Verri",
      "photoUrl": "https://lh3.googleusercontent.com/a-/AOh14GiV7MMHmrkaugHXPDugQgeGecRd4s4T4ngvv5_A=s64",
      "userId": "07219587087217491568"
     },
     "user_tz": 180
    },
    "id": "KMPeyps98u-h",
    "outputId": "9d71ea7e-ab66-446f-b7a2-a4505ff1d66a"
   },
   "outputs": [
    {
     "data": {
      "text/html": [
       "<div>\n",
       "<style scoped>\n",
       "    .dataframe tbody tr th:only-of-type {\n",
       "        vertical-align: middle;\n",
       "    }\n",
       "\n",
       "    .dataframe tbody tr th {\n",
       "        vertical-align: top;\n",
       "    }\n",
       "\n",
       "    .dataframe thead th {\n",
       "        text-align: right;\n",
       "    }\n",
       "</style>\n",
       "<table border=\"1\" class=\"dataframe\">\n",
       "  <thead>\n",
       "    <tr style=\"text-align: right;\">\n",
       "      <th></th>\n",
       "    </tr>\n",
       "  </thead>\n",
       "  <tbody>\n",
       "  </tbody>\n",
       "</table>\n",
       "</div>"
      ],
      "text/plain": [
       "Empty DataFrame\n",
       "Columns: []\n",
       "Index: []"
      ]
     },
     "execution_count": 132,
     "metadata": {},
     "output_type": "execute_result"
    }
   ],
   "source": [
    "result = pd.DataFrame.from_dict(result)\n",
    "\n",
    "result"
   ]
  },
  {
   "cell_type": "code",
   "execution_count": 714,
   "metadata": {},
   "outputs": [
    {
     "name": "stdout",
     "output_type": "stream",
     "text": [
      "GridSearchCV(cv=StratifiedKFold(n_splits=3, random_state=17, shuffle=True),\n",
      "             estimator=Pipeline(steps=[('nn',\n",
      "                                        MLPClassifier(early_stopping=True,\n",
      "                                                      max_iter=1000,\n",
      "                                                      random_state=17))]),\n",
      "             param_grid={'nn__activation': ['relu', 'tanh'],\n",
      "                         'nn__hidden_layer_sizes': [(30, 2), (35, 2)],\n",
      "                         'nn__validation_fraction': [0.1, 0.5, 0.6]},\n",
      "             scoring=make_scorer(precision_score))\n",
      "GridSearchCV(cv=StratifiedKFold(n_splits=3, random_state=17, shuffle=True),\n",
      "             estimator=Pipeline(steps=[('tree',\n",
      "                                        DecisionTreeClassifier(random_state=17))]),\n",
      "             param_grid={'tree__criterion': ['entropy', 'gini'],\n",
      "                         'tree__max_depth': [2, 4, 5]},\n",
      "             scoring=make_scorer(precision_score))\n",
      "GridSearchCV(cv=StratifiedKFold(n_splits=3, random_state=17, shuffle=True),\n",
      "             estimator=Pipeline(steps=[('tree',\n",
      "                                        DecisionTreeClassifier(random_state=17))]),\n",
      "             param_grid={'tree__criterion': ['entropy', 'gini']},\n",
      "             scoring=make_scorer(precision_score))\n",
      "GridSearchCV(cv=StratifiedKFold(n_splits=3, random_state=17, shuffle=True),\n",
      "             estimator=Pipeline(steps=[('selector', VarianceThreshold()),\n",
      "                                       ('knn', KNeighborsClassifier())]),\n",
      "             param_grid={'knn__n_neighbors': [1, 3, 5], 'knn__p': [1, 2],\n",
      "                         'selector__threshold': [0, 0.01, 0.02, 0.03]},\n",
      "             scoring=make_scorer(precision_score))\n",
      "GridSearchCV(cv=StratifiedKFold(n_splits=3, random_state=17, shuffle=True),\n",
      "             estimator=Pipeline(steps=[('selector', SelectKBest()),\n",
      "                                       ('nb', GaussianNB())]),\n",
      "             param_grid={'selector__k': [3, 5, 10]},\n",
      "             scoring=make_scorer(precision_score))\n",
      "GridSearchCV(cv=StratifiedKFold(n_splits=3, random_state=17, shuffle=True),\n",
      "             estimator=Pipeline(steps=[('svm',\n",
      "                                        SVC(kernel='linear',\n",
      "                                            random_state=17))]),\n",
      "             param_grid={'svm__C': [1.0, 2.0]},\n",
      "             scoring=make_scorer(precision_score))\n",
      "GridSearchCV(cv=StratifiedKFold(n_splits=3, random_state=17, shuffle=True),\n",
      "             estimator=Pipeline(steps=[('svm', SVC(random_state=17))]),\n",
      "             param_grid={'svm__C': [1.0, 2.0], 'svm__gamma': [0.1, 1.0, 2.0]},\n",
      "             scoring=make_scorer(precision_score))\n"
     ]
    }
   ],
   "source": [
    "for alg, clf in algorithms.items():\n",
    "    print(clf)"
   ]
  },
  {
   "cell_type": "code",
   "execution_count": 715,
   "metadata": {},
   "outputs": [
    {
     "name": "stdout",
     "output_type": "stream",
     "text": [
      "[[1.         0.0302521  0.02399077 0.01177829 0.57837456 0.09637625\n",
      "  0.01309365]\n",
      " [0.0302521  1.         0.14044213 0.12654746 0.01984712 0.13024987\n",
      "  0.34993271]\n",
      " [0.02399077 0.14044213 1.         0.37743191 0.01463692 0.07092199\n",
      "  0.23394495]\n",
      " [0.01177829 0.12654746 0.37743191 1.         0.00725359 0.05045872\n",
      "  0.25      ]\n",
      " [0.57837456 0.01984712 0.01463692 0.00725359 1.         0.10950932\n",
      "  0.00804661]\n",
      " [0.09637625 0.13024987 0.07092199 0.05045872 0.10950932 1.\n",
      "  0.11967419]\n",
      " [0.01309365 0.34993271 0.23394495 0.25       0.00804661 0.11967419\n",
      "  1.        ]]\n"
     ]
    }
   ],
   "source": [
    "def phi(a, b, expected):\n",
    "    errors = np.logical_or(a != expected, b != expected)\n",
    "    \n",
    "    return np.count_nonzero(np.logical_and(a == b, errors)) / np.count_nonzero(errors)\n",
    "\n",
    "\n",
    "# X_balanced, y_balanced\n",
    "correrrors = np.ones((len(algorithms), len(algorithms)))\n",
    "\n",
    "for i in range(len(algorithms)):\n",
    "    for j in range(i + 1, len(algorithms)):\n",
    "        correrrors[i, j] = phi(result[result.columns[i]], result[result.columns[j]], y)\n",
    "        correrrors[j, i] = correrrors[i, j]    \n",
    "        \n",
    "print(correrrors)"
   ]
  },
  {
   "cell_type": "code",
   "execution_count": 716,
   "metadata": {},
   "outputs": [
    {
     "data": {
      "image/png": "[encoded data removed]",
      "text/plain": [
       "<Figure size 432x288 with 1 Axes>"
      ]
     },
     "metadata": {
      "needs_background": "light"
     },
     "output_type": "display_data"
    }
   ],
   "source": [
    "import matplotlib.pyplot as plt\n",
    "\n",
    "\n",
    "fig, ax = plt.subplots()\n",
    "im = ax.imshow(correrrors)\n",
    "\n",
    "ax.set_xticks(np.arange(len(result.columns)))\n",
    "ax.set_yticks(np.arange(len(result.columns)))\n",
    "ax.set_xticklabels(result.columns)\n",
    "ax.set_yticklabels(result.columns)\n",
    "\n",
    "plt.setp(ax.get_xticklabels(), rotation=45, ha=\"right\",\n",
    "         rotation_mode=\"anchor\")\n",
    "\n",
    "for i in range(len(result.columns)):\n",
    "    for j in range(len(result.columns)):\n",
    "        text = ax.text(j, i, round(correrrors[i, j], 1),\n",
    "                       ha=\"center\", va=\"center\", color=\"w\")\n",
    "\n",
    "ax.set_title(\"Error correlation\")\n",
    "fig.tight_layout()\n",
    "plt.show()"
   ]
  },
  {
   "cell_type": "markdown",
   "metadata": {},
   "source": [
    "## Todos são melhores que a média?"
   ]
  },
  {
   "cell_type": "code",
   "execution_count": 717,
   "metadata": {},
   "outputs": [
    {
     "name": "stdout",
     "output_type": "stream",
     "text": [
      "0.5\n"
     ]
    }
   ],
   "source": [
    "# random classifier\n",
    "mode = lambda x: ss.mode(x).mode[0]\n",
    "random = np.mean(mode(y) == y)\n",
    "print(random)"
   ]
  },
  {
   "cell_type": "code",
   "execution_count": 718,
   "metadata": {},
   "outputs": [
    {
     "data": {
      "text/plain": [
       "NeuNet       0.765094\n",
       "tree         0.962764\n",
       "bigtree      0.988568\n",
       "kNN          0.991787\n",
       "nb           0.615205\n",
       "svmlinear    0.919256\n",
       "svmrbf       0.981576\n",
       "dtype: float64"
      ]
     },
     "execution_count": 718,
     "metadata": {},
     "output_type": "execute_result"
    }
   ],
   "source": [
    "result.apply(lambda ypred: np.mean(ypred == y))"
   ]
  },
  {
   "cell_type": "markdown",
   "metadata": {},
   "source": [
    "## Combinando classificadores"
   ]
  },
  {
   "cell_type": "code",
   "execution_count": 719,
   "metadata": {},
   "outputs": [],
   "source": [
    "result['kNN+tree+svmrbf'] = result.filter(['kNN', 'tree', 'svmrbf']).apply(mode, axis=1)\n",
    "result['nb+svmlinear+svmrbf'] = result.filter(['nb', 'svmlinear', 'svmrbf']).apply(mode, axis=1)\n",
    "result['kNN+bigtree+svmrbf'] = result.filter(['kNN', 'bigtree', 'svmrbf']).apply(mode, axis=1)"
   ]
  },
  {
   "cell_type": "code",
   "execution_count": 720,
   "metadata": {},
   "outputs": [
    {
     "data": {
      "text/plain": [
       "NeuNet                 0.765094\n",
       "tree                   0.962764\n",
       "bigtree                0.988568\n",
       "kNN                    0.991787\n",
       "nb                     0.615205\n",
       "svmlinear              0.919256\n",
       "svmrbf                 0.981576\n",
       "kNN+tree+svmrbf        0.984462\n",
       "nb+svmlinear+svmrbf    0.944895\n",
       "kNN+bigtree+svmrbf     0.992064\n",
       "dtype: float64"
      ]
     },
     "execution_count": 720,
     "metadata": {},
     "output_type": "execute_result"
    }
   ],
   "source": [
    "result.apply(lambda ypred: np.mean(ypred == y))"
   ]
  },
  {
   "cell_type": "markdown",
   "metadata": {},
   "source": [
    "**nota**: podem existir outros casos de melhoras/pioras."
   ]
  },
  {
   "cell_type": "markdown",
   "metadata": {},
   "source": [
    "# Bagging, boosting, etc"
   ]
  },
  {
   "cell_type": "code",
   "execution_count": 409,
   "metadata": {},
   "outputs": [],
   "source": [
    "from sklearn.ensemble import RandomForestClassifier, ExtraTreesClassifier, BaggingClassifier, AdaBoostClassifier, GradientBoostingClassifier, VotingClassifier"
   ]
  },
  {
   "cell_type": "code",
   "execution_count": 546,
   "metadata": {},
   "outputs": [],
   "source": [
    "algorithms = {\n",
    "    'bagging':  \n",
    "        Pipeline([\n",
    "            #('imputer', SimpleImputer(strategy='mean')),\n",
    "            ('tree', BaggingClassifier(random_state=seed))]),\n",
    "    'forest':  \n",
    "        Pipeline([\n",
    "            #('imputer', SimpleImputer(strategy='mean')),\n",
    "            ('tree', RandomForestClassifier(random_state=seed))]),\n",
    "    #'kNN+tree+svmrbf':\n",
    "    #    VotingClassifier([ ])\n",
    "    # Testar outros\n",
    "}"
   ]
  },
  {
   "cell_type": "code",
   "execution_count": 548,
   "metadata": {},
   "outputs": [],
   "source": [
    "from sklearn.model_selection import cross_val_predict\n",
    "\n",
    "for alg, clf in algorithms.items():\n",
    "  result[alg] = cross_val_predict(clf, X, y, cv=cv)"
   ]
  },
  {
   "cell_type": "code",
   "execution_count": 549,
   "metadata": {},
   "outputs": [
    {
     "data": {
      "text/plain": [
       "NeuNet                 0.963707\n",
       "tree                   0.984628\n",
       "bigtree                0.996115\n",
       "kNN                    0.993951\n",
       "nb                     0.670644\n",
       "svmlinear              0.962209\n",
       "svmrbf                 0.986848\n",
       "kNN+tree+svmrbf        0.993618\n",
       "nb+svmlinear+svmrbf    0.977358\n",
       "kNN+bigtree+svmrbf     0.995339\n",
       "bagging                0.996615\n",
       "forest                 0.998391\n",
       "dtype: float64"
      ]
     },
     "execution_count": 549,
     "metadata": {},
     "output_type": "execute_result"
    }
   ],
   "source": [
    "result.apply(lambda ypred: np.mean(ypred == y))"
   ]
  },
  {
   "cell_type": "code",
   "execution_count": 550,
   "metadata": {},
   "outputs": [
    {
     "data": {
      "text/html": [
       "<div>\n",
       "<style scoped>\n",
       "    .dataframe tbody tr th:only-of-type {\n",
       "        vertical-align: middle;\n",
       "    }\n",
       "\n",
       "    .dataframe tbody tr th {\n",
       "        vertical-align: top;\n",
       "    }\n",
       "\n",
       "    .dataframe thead th {\n",
       "        text-align: right;\n",
       "    }\n",
       "</style>\n",
       "<table border=\"1\" class=\"dataframe\">\n",
       "  <thead>\n",
       "    <tr style=\"text-align: right;\">\n",
       "      <th></th>\n",
       "      <th>NeuNet</th>\n",
       "      <th>tree</th>\n",
       "      <th>bigtree</th>\n",
       "      <th>kNN</th>\n",
       "      <th>nb</th>\n",
       "      <th>svmlinear</th>\n",
       "      <th>svmrbf</th>\n",
       "      <th>kNN+tree+svmrbf</th>\n",
       "      <th>nb+svmlinear+svmrbf</th>\n",
       "      <th>kNN+bigtree+svmrbf</th>\n",
       "      <th>bagging</th>\n",
       "      <th>forest</th>\n",
       "    </tr>\n",
       "  </thead>\n",
       "  <tbody>\n",
       "    <tr>\n",
       "      <th>0</th>\n",
       "      <td>0</td>\n",
       "      <td>0</td>\n",
       "      <td>0</td>\n",
       "      <td>0</td>\n",
       "      <td>0</td>\n",
       "      <td>0</td>\n",
       "      <td>0</td>\n",
       "      <td>0</td>\n",
       "      <td>0</td>\n",
       "      <td>0</td>\n",
       "      <td>0</td>\n",
       "      <td>0</td>\n",
       "    </tr>\n",
       "    <tr>\n",
       "      <th>1</th>\n",
       "      <td>0</td>\n",
       "      <td>0</td>\n",
       "      <td>0</td>\n",
       "      <td>0</td>\n",
       "      <td>0</td>\n",
       "      <td>0</td>\n",
       "      <td>0</td>\n",
       "      <td>0</td>\n",
       "      <td>0</td>\n",
       "      <td>0</td>\n",
       "      <td>0</td>\n",
       "      <td>0</td>\n",
       "    </tr>\n",
       "    <tr>\n",
       "      <th>2</th>\n",
       "      <td>0</td>\n",
       "      <td>0</td>\n",
       "      <td>0</td>\n",
       "      <td>0</td>\n",
       "      <td>1</td>\n",
       "      <td>0</td>\n",
       "      <td>0</td>\n",
       "      <td>0</td>\n",
       "      <td>0</td>\n",
       "      <td>0</td>\n",
       "      <td>0</td>\n",
       "      <td>0</td>\n",
       "    </tr>\n",
       "    <tr>\n",
       "      <th>3</th>\n",
       "      <td>0</td>\n",
       "      <td>0</td>\n",
       "      <td>0</td>\n",
       "      <td>0</td>\n",
       "      <td>1</td>\n",
       "      <td>0</td>\n",
       "      <td>0</td>\n",
       "      <td>0</td>\n",
       "      <td>0</td>\n",
       "      <td>0</td>\n",
       "      <td>0</td>\n",
       "      <td>0</td>\n",
       "    </tr>\n",
       "    <tr>\n",
       "      <th>4</th>\n",
       "      <td>0</td>\n",
       "      <td>0</td>\n",
       "      <td>0</td>\n",
       "      <td>0</td>\n",
       "      <td>1</td>\n",
       "      <td>0</td>\n",
       "      <td>0</td>\n",
       "      <td>0</td>\n",
       "      <td>0</td>\n",
       "      <td>0</td>\n",
       "      <td>0</td>\n",
       "      <td>0</td>\n",
       "    </tr>\n",
       "    <tr>\n",
       "      <th>...</th>\n",
       "      <td>...</td>\n",
       "      <td>...</td>\n",
       "      <td>...</td>\n",
       "      <td>...</td>\n",
       "      <td>...</td>\n",
       "      <td>...</td>\n",
       "      <td>...</td>\n",
       "      <td>...</td>\n",
       "      <td>...</td>\n",
       "      <td>...</td>\n",
       "      <td>...</td>\n",
       "      <td>...</td>\n",
       "    </tr>\n",
       "    <tr>\n",
       "      <th>18015</th>\n",
       "      <td>1</td>\n",
       "      <td>1</td>\n",
       "      <td>1</td>\n",
       "      <td>1</td>\n",
       "      <td>0</td>\n",
       "      <td>1</td>\n",
       "      <td>1</td>\n",
       "      <td>1</td>\n",
       "      <td>1</td>\n",
       "      <td>1</td>\n",
       "      <td>1</td>\n",
       "      <td>1</td>\n",
       "    </tr>\n",
       "    <tr>\n",
       "      <th>18016</th>\n",
       "      <td>1</td>\n",
       "      <td>1</td>\n",
       "      <td>1</td>\n",
       "      <td>1</td>\n",
       "      <td>1</td>\n",
       "      <td>1</td>\n",
       "      <td>1</td>\n",
       "      <td>1</td>\n",
       "      <td>1</td>\n",
       "      <td>1</td>\n",
       "      <td>1</td>\n",
       "      <td>1</td>\n",
       "    </tr>\n",
       "    <tr>\n",
       "      <th>18017</th>\n",
       "      <td>1</td>\n",
       "      <td>1</td>\n",
       "      <td>1</td>\n",
       "      <td>1</td>\n",
       "      <td>1</td>\n",
       "      <td>1</td>\n",
       "      <td>1</td>\n",
       "      <td>1</td>\n",
       "      <td>1</td>\n",
       "      <td>1</td>\n",
       "      <td>1</td>\n",
       "      <td>1</td>\n",
       "    </tr>\n",
       "    <tr>\n",
       "      <th>18018</th>\n",
       "      <td>1</td>\n",
       "      <td>1</td>\n",
       "      <td>1</td>\n",
       "      <td>1</td>\n",
       "      <td>0</td>\n",
       "      <td>1</td>\n",
       "      <td>1</td>\n",
       "      <td>1</td>\n",
       "      <td>1</td>\n",
       "      <td>1</td>\n",
       "      <td>1</td>\n",
       "      <td>1</td>\n",
       "    </tr>\n",
       "    <tr>\n",
       "      <th>18019</th>\n",
       "      <td>1</td>\n",
       "      <td>1</td>\n",
       "      <td>1</td>\n",
       "      <td>1</td>\n",
       "      <td>1</td>\n",
       "      <td>1</td>\n",
       "      <td>1</td>\n",
       "      <td>1</td>\n",
       "      <td>1</td>\n",
       "      <td>1</td>\n",
       "      <td>1</td>\n",
       "      <td>1</td>\n",
       "    </tr>\n",
       "  </tbody>\n",
       "</table>\n",
       "<p>18020 rows × 12 columns</p>\n",
       "</div>"
      ],
      "text/plain": [
       "       NeuNet  tree  bigtree  kNN  nb  svmlinear  svmrbf  kNN+tree+svmrbf  \\\n",
       "0           0     0        0    0   0          0       0                0   \n",
       "1           0     0        0    0   0          0       0                0   \n",
       "2           0     0        0    0   1          0       0                0   \n",
       "3           0     0        0    0   1          0       0                0   \n",
       "4           0     0        0    0   1          0       0                0   \n",
       "...       ...   ...      ...  ...  ..        ...     ...              ...   \n",
       "18015       1     1        1    1   0          1       1                1   \n",
       "18016       1     1        1    1   1          1       1                1   \n",
       "18017       1     1        1    1   1          1       1                1   \n",
       "18018       1     1        1    1   0          1       1                1   \n",
       "18019       1     1        1    1   1          1       1                1   \n",
       "\n",
       "       nb+svmlinear+svmrbf  kNN+bigtree+svmrbf  bagging  forest  \n",
       "0                        0                   0        0       0  \n",
       "1                        0                   0        0       0  \n",
       "2                        0                   0        0       0  \n",
       "3                        0                   0        0       0  \n",
       "4                        0                   0        0       0  \n",
       "...                    ...                 ...      ...     ...  \n",
       "18015                    1                   1        1       1  \n",
       "18016                    1                   1        1       1  \n",
       "18017                    1                   1        1       1  \n",
       "18018                    1                   1        1       1  \n",
       "18019                    1                   1        1       1  \n",
       "\n",
       "[18020 rows x 12 columns]"
      ]
     },
     "execution_count": 550,
     "metadata": {},
     "output_type": "execute_result"
    }
   ],
   "source": [
    "result"
   ]
  },
  {
   "cell_type": "markdown",
   "metadata": {},
   "source": [
    "### Rede neural\n",
    "X_train, X_test, y_train, y_test\n",
    "X_balanced_both, y_balanced_both"
   ]
  },
  {
   "cell_type": "code",
   "execution_count": 60,
   "metadata": {},
   "outputs": [],
   "source": [
    "from sklearn.neural_network import MLPClassifier\n",
    "from sklearn.metrics import accuracy_score, mean_absolute_error\n",
    "from sklearn.preprocessing import StandardScaler\n",
    "from sklearn.metrics import f1_score"
   ]
  },
  {
   "cell_type": "code",
   "execution_count": 61,
   "metadata": {},
   "outputs": [],
   "source": [
    "model_NN = MLPClassifier(hidden_layer_sizes=(30, 2),\n",
    "                      activation='relu',\n",
    "                      solver='adam',\n",
    "                      max_iter=1000,\n",
    "                      random_state=15,\n",
    "                      early_stopping=True,\n",
    "                      #verbose= True,\n",
    "                      validation_fraction=0.1)"
   ]
  },
  {
   "cell_type": "code",
   "execution_count": 62,
   "metadata": {},
   "outputs": [
    {
     "name": "stdout",
     "output_type": "stream",
     "text": [
      "precision:0.9706401766004416, accuracy_score: 0.9658157602663707, f1_score: 0.966161283234454  \n"
     ]
    }
   ],
   "source": [
    "model_NN.fit(X_train, y_train)\n",
    "ypredicted = model_NN.predict(X_test)\n",
    "print(f'precision:{precision_score(ypredicted,y_test)}, accuracy_score: {accuracy_score(ypredicted,y_test)}, f1_score: {f1_score(ypredicted,y_test)}  ')"
   ]
  },
  {
   "cell_type": "code",
   "execution_count": 63,
   "metadata": {},
   "outputs": [
    {
     "data": {
      "text/plain": [
       "array([[4305,  175],\n",
       "       [ 133, 4397]])"
      ]
     },
     "execution_count": 63,
     "metadata": {},
     "output_type": "execute_result"
    }
   ],
   "source": [
    "confusion_matrix(y_test, ypredicted)"
   ]
  },
  {
   "cell_type": "code",
   "execution_count": 64,
   "metadata": {},
   "outputs": [
    {
     "data": {
      "text/plain": [
       "(4305, 175, 133, 4397)"
      ]
     },
     "execution_count": 64,
     "metadata": {},
     "output_type": "execute_result"
    }
   ],
   "source": [
    "tn, fp, fn, tp =  confusion_matrix(y_test, ypredicted).ravel()\n",
    "(tn, fp, fn, tp)"
   ]
  },
  {
   "cell_type": "code",
   "execution_count": 65,
   "metadata": {},
   "outputs": [
    {
     "data": {
      "text/plain": [
       "0.9617235345581803"
      ]
     },
     "execution_count": 65,
     "metadata": {},
     "output_type": "execute_result"
    }
   ],
   "source": [
    "precision = (tp)/(tp+fp)\n",
    "precision"
   ]
  },
  {
   "cell_type": "code",
   "execution_count": 66,
   "metadata": {},
   "outputs": [
    {
     "data": {
      "text/plain": [
       "0.9706401766004416"
      ]
     },
     "execution_count": 66,
     "metadata": {},
     "output_type": "execute_result"
    }
   ],
   "source": [
    "revocacao = tp/(tp+fn)\n",
    "revocacao"
   ]
  },
  {
   "cell_type": "code",
   "execution_count": 67,
   "metadata": {},
   "outputs": [
    {
     "data": {
      "text/plain": [
       "0.9609375"
      ]
     },
     "execution_count": 67,
     "metadata": {},
     "output_type": "execute_result"
    }
   ],
   "source": [
    "especificidade = tn/(tn+fp)\n",
    "especificidade"
   ]
  },
  {
   "cell_type": "code",
   "execution_count": 68,
   "metadata": {},
   "outputs": [
    {
     "data": {
      "text/plain": [
       "array([[4305,  175],\n",
       "       [ 133, 4397]])"
      ]
     },
     "execution_count": 68,
     "metadata": {},
     "output_type": "execute_result"
    }
   ],
   "source": [
    "confusion_matrix(y_test, ypredicted)"
   ]
  },
  {
   "cell_type": "code",
   "execution_count": 69,
   "metadata": {},
   "outputs": [
    {
     "data": {
      "text/plain": [
       "0.9316663742274219"
      ]
     },
     "execution_count": 69,
     "metadata": {},
     "output_type": "execute_result"
    }
   ],
   "source": [
    "from sklearn.metrics import matthews_corrcoef\n",
    "matthews_corrcoef(y_test, ypredicted)"
   ]
  },
  {
   "cell_type": "code",
   "execution_count": 70,
   "metadata": {},
   "outputs": [
    {
     "data": {
      "text/plain": [
       "StratifiedKFold(n_splits=3, random_state=17, shuffle=True)"
      ]
     },
     "execution_count": 70,
     "metadata": {},
     "output_type": "execute_result"
    }
   ],
   "source": [
    "from sklearn.model_selection import cross_val_score, cross_validate\n",
    "from sklearn import metrics\n",
    "\n",
    "gscv = StratifiedKFold(n_splits=3, shuffle=True, random_state=seed)\n",
    "gscv"
   ]
  },
  {
   "cell_type": "code",
   "execution_count": 37,
   "metadata": {},
   "outputs": [],
   "source": [
    "scores = cross_validate(model_NN, X, y, n_jobs=-1, cv = gscv, scoring='precision')"
   ]
  },
  {
   "cell_type": "code",
   "execution_count": 38,
   "metadata": {},
   "outputs": [
    {
     "data": {
      "text/plain": [
       "{'fit_time': array([4.364856  , 3.86065626, 4.51753807]),\n",
       " 'score_time': array([0.00653696, 0.01131582, 0.0058341 ]),\n",
       " 'test_score': array([0.96038296, 0.95958279, 0.95993485])}"
      ]
     },
     "execution_count": 38,
     "metadata": {},
     "output_type": "execute_result"
    }
   ],
   "source": [
    "scores"
   ]
  },
  {
   "cell_type": "code",
   "execution_count": 39,
   "metadata": {},
   "outputs": [
    {
     "name": "stdout",
     "output_type": "stream",
     "text": [
      "0.9600 precision with a standard deviation of 0.0003\n"
     ]
    }
   ],
   "source": [
    "print(\"%0.4f precision with a standard deviation of %0.4f\" % (scores['test_score'].mean(), scores['test_score'].std()))"
   ]
  },
  {
   "cell_type": "code",
   "execution_count": 40,
   "metadata": {},
   "outputs": [],
   "source": [
    "scores = cross_validate(model_NN, X, y, n_jobs=-1, cv = 5, scoring='precision')"
   ]
  },
  {
   "cell_type": "code",
   "execution_count": 41,
   "metadata": {},
   "outputs": [
    {
     "data": {
      "text/plain": [
       "{'fit_time': array([4.85552001, 6.098423  , 4.97454309, 4.60470605, 5.5468049 ]),\n",
       " 'score_time': array([0.00491643, 0.00906086, 0.00933981, 0.00955391, 0.00555301]),\n",
       " 'test_score': array([0.96183206, 0.95276436, 0.95590637, 0.95892662, 0.96846112])}"
      ]
     },
     "execution_count": 41,
     "metadata": {},
     "output_type": "execute_result"
    }
   ],
   "source": [
    "scores"
   ]
  },
  {
   "cell_type": "code",
   "execution_count": 42,
   "metadata": {},
   "outputs": [
    {
     "name": "stdout",
     "output_type": "stream",
     "text": [
      "0.9596 precision with a standard deviation of 0.0054\n"
     ]
    }
   ],
   "source": [
    "print(\"%0.4f precision with a standard deviation of %0.4f\" % (scores['test_score'].mean(), scores['test_score'].std()))"
   ]
  },
  {
   "cell_type": "code",
   "execution_count": 43,
   "metadata": {},
   "outputs": [
    {
     "name": "stdout",
     "output_type": "stream",
     "text": [
      "0.9568 precision with a standard deviation of 0.0106\n"
     ]
    }
   ],
   "source": [
    "from sklearn.model_selection import cross_val_score\n",
    "from sklearn.model_selection import ShuffleSplit\n",
    "\n",
    "cv = ShuffleSplit(n_splits=10, test_size=0.6, random_state=0)\n",
    "scores = cross_validate(model_NN, X, y, cv=cv,scoring='precision', n_jobs=-1)\n",
    "\n",
    "print(\"%0.4f precision with a standard deviation of %0.4f\" % (scores['test_score'].mean(), scores['test_score'].std()))"
   ]
  },
  {
   "cell_type": "markdown",
   "metadata": {},
   "source": [
    "## Decision Tree"
   ]
  },
  {
   "cell_type": "code",
   "execution_count": 135,
   "metadata": {},
   "outputs": [],
   "source": [
    "from sklearn.model_selection import cross_val_score\n",
    "from sklearn.tree import DecisionTreeClassifier\n",
    "from sklearn import tree\n",
    "\n",
    "dt = DecisionTreeClassifier(random_state=0, max_depth = 3, criterion= \"gini\")\n",
    "decision_score = cross_val_score(dt, X, y, cv=10)"
   ]
  },
  {
   "cell_type": "code",
   "execution_count": 136,
   "metadata": {},
   "outputs": [
    {
     "name": "stdout",
     "output_type": "stream",
     "text": [
      "0.9725 precision with a standard deviation of 0.0043\n"
     ]
    }
   ],
   "source": [
    "print(\"%0.4f precision with a standard deviation of %0.4f\" % (decision_score.mean(), decision_score.std()))"
   ]
  },
  {
   "cell_type": "code",
   "execution_count": 137,
   "metadata": {},
   "outputs": [],
   "source": [
    "d_tree = dt.fit(X_train,y_train)"
   ]
  },
  {
   "cell_type": "code",
   "execution_count": 138,
   "metadata": {},
   "outputs": [],
   "source": [
    "y_hat = d_tree.predict(X_test)"
   ]
  },
  {
   "cell_type": "code",
   "execution_count": 139,
   "metadata": {},
   "outputs": [
    {
     "data": {
      "text/plain": [
       "0.96992230854606"
      ]
     },
     "execution_count": 139,
     "metadata": {},
     "output_type": "execute_result"
    }
   ],
   "source": [
    "accuracy_score(y_hat,y_test)"
   ]
  },
  {
   "cell_type": "code",
   "execution_count": 132,
   "metadata": {},
   "outputs": [
    {
     "data": {
      "text/plain": [
       "0.9767803577380292"
      ]
     },
     "execution_count": 132,
     "metadata": {},
     "output_type": "execute_result"
    }
   ],
   "source": [
    "f1_score(y_hat,y_test)"
   ]
  },
  {
   "cell_type": "code",
   "execution_count": 133,
   "metadata": {},
   "outputs": [
    {
     "data": {
      "text/plain": [
       "array([[4405,   75],\n",
       "       [ 134, 4396]])"
      ]
     },
     "execution_count": 133,
     "metadata": {},
     "output_type": "execute_result"
    }
   ],
   "source": [
    "confusion_matrix(y_test, y_hat)"
   ]
  },
  {
   "cell_type": "code",
   "execution_count": 134,
   "metadata": {},
   "outputs": [
    {
     "data": {
      "text/plain": [
       "[Text(265.8705882352941, 587.0880000000001, 'X[4] <= 0.066\\ngini = 0.5\\nsamples = 9010\\nvalue = [4530, 4480]'),\n",
       " Text(78.7764705882353, 456.624, 'X[3] <= 0.001\\ngini = 0.002\\nsamples = 2446\\nvalue = [2, 2444]'),\n",
       " Text(39.38823529411765, 326.1600000000001, 'gini = 0.0\\nsamples = 1\\nvalue = [1, 0]'),\n",
       " Text(118.16470588235295, 326.1600000000001, 'X[5] <= 0.727\\ngini = 0.001\\nsamples = 2445\\nvalue = [1, 2444]'),\n",
       " Text(78.7764705882353, 195.69600000000003, 'gini = 0.0\\nsamples = 2444\\nvalue = [0, 2444]'),\n",
       " Text(157.5529411764706, 195.69600000000003, 'gini = 0.0\\nsamples = 1\\nvalue = [1, 0]'),\n",
       " Text(452.964705882353, 456.624, 'X[3] <= 0.767\\ngini = 0.428\\nsamples = 6564\\nvalue = [4528, 2036]'),\n",
       " Text(315.1058823529412, 326.1600000000001, 'X[3] <= 0.713\\ngini = 0.066\\nsamples = 3944\\nvalue = [3809, 135]'),\n",
       " Text(236.3294117647059, 195.69600000000003, 'X[3] <= 0.675\\ngini = 0.013\\nsamples = 3519\\nvalue = [3496, 23]'),\n",
       " Text(196.94117647058823, 65.23200000000008, 'gini = 0.002\\nsamples = 3290\\nvalue = [3286, 4]'),\n",
       " Text(275.71764705882356, 65.23200000000008, 'gini = 0.152\\nsamples = 229\\nvalue = [210, 19]'),\n",
       " Text(393.88235294117646, 195.69600000000003, 'X[5] <= 0.405\\ngini = 0.388\\nsamples = 425\\nvalue = [313, 112]'),\n",
       " Text(354.49411764705883, 65.23200000000008, 'gini = 0.0\\nsamples = 48\\nvalue = [0, 48]'),\n",
       " Text(433.27058823529416, 65.23200000000008, 'gini = 0.282\\nsamples = 377\\nvalue = [313, 64]'),\n",
       " Text(590.8235294117648, 326.1600000000001, 'X[5] <= 0.454\\ngini = 0.398\\nsamples = 2620\\nvalue = [719, 1901]'),\n",
       " Text(551.4352941176471, 195.69600000000003, 'X[4] <= 0.312\\ngini = 0.103\\nsamples = 2010\\nvalue = [109, 1901]'),\n",
       " Text(512.0470588235295, 65.23200000000008, 'gini = 0.493\\nsamples = 77\\nvalue = [43, 34]'),\n",
       " Text(590.8235294117648, 65.23200000000008, 'gini = 0.066\\nsamples = 1933\\nvalue = [66, 1867]'),\n",
       " Text(630.2117647058824, 195.69600000000003, 'gini = 0.0\\nsamples = 610\\nvalue = [610, 0]')]"
      ]
     },
     "execution_count": 134,
     "metadata": {},
     "output_type": "execute_result"
    },
    {
     "data": {
      "image/png": "[encoded data removed]",
      "text/plain": [
       "<Figure size 864x864 with 1 Axes>"
      ]
     },
     "metadata": {
      "needs_background": "light"
     },
     "output_type": "display_data"
    }
   ],
   "source": [
    "import matplotlib.pyplot as plt\n",
    "plt.figure(figsize=(12,12))  # set plot size (denoted in inches)\n",
    "tree.plot_tree(d_tree)  "
   ]
  },
  {
   "cell_type": "code",
   "execution_count": null,
   "metadata": {},
   "outputs": [],
   "source": []
  },
  {
   "cell_type": "code",
   "execution_count": null,
   "metadata": {},
   "outputs": [],
   "source": []
  }
 ],
 "metadata": {
  "colab": {
   "authorship_tag": "ABX9TyMfuXOITPqRU+OfypdQG86j",
   "name": "10 - Avaliação Preditivo.ipynb",
   "provenance": []
  },
  "kernelspec": {
   "display_name": "Python 3",
   "language": "python",
   "name": "python3"
  },
  "language_info": {
   "codemirror_mode": {
    "name": "ipython",
    "version": 3
   },
   "file_extension": ".py",
   "mimetype": "text/x-python",
   "name": "python",
   "nbconvert_exporter": "python",
   "pygments_lexer": "ipython3",
   "version": "3.8.5"
  }
 },
 "nbformat": 4,
 "nbformat_minor": 4
}
